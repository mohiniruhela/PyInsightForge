{
 "cells": [
  {
   "cell_type": "markdown",
   "metadata": {},
   "source": [
    "\n",
    "# Plotly and Cufflinks"
   ]
  },
  {
   "cell_type": "markdown",
   "metadata": {},
   "source": [
    "Plotly is a library that allows you to create interactive plots that you can use in dashboards or websites (you can save them as html files or static images).\n",
    "\n",
    "## Installation\n",
    "\n",
    "In order for this all to work, you'll need to install plotly and cufflinks to call plots directly off of a pandas dataframe. These libraries are not currently available through **conda** but are available through **pip**. Install the libraries at your command line/terminal using:\n",
    "\n",
    "    pip install plotly\n",
    "    pip install cufflinks\n",
    "\n",
    "\n",
    "\n",
    "## Imports and Set-up"
   ]
  },
  {
   "cell_type": "code",
   "execution_count": 1,
   "metadata": {},
   "outputs": [],
   "source": [
    "import pandas as pd\n",
    "import numpy as np\n",
    "%matplotlib inline"
   ]
  },
  {
   "cell_type": "code",
   "execution_count": 2,
   "metadata": {},
   "outputs": [
    {
     "name": "stdout",
     "output_type": "stream",
     "text": [
      "5.9.0\n"
     ]
    }
   ],
   "source": [
    "from plotly import __version__\n",
    "from plotly.offline import download_plotlyjs, init_notebook_mode, plot, iplot\n",
    "\n",
    "print(__version__) # requires version >= 1.9.0"
   ]
  },
  {
   "cell_type": "code",
   "execution_count": 3,
   "metadata": {},
   "outputs": [],
   "source": [
    "import cufflinks as cf"
   ]
  },
  {
   "cell_type": "code",
   "execution_count": 4,
   "metadata": {},
   "outputs": [
    {
     "data": {
      "text/html": [
       "        <script type=\"text/javascript\">\n",
       "        window.PlotlyConfig = {MathJaxConfig: 'local'};\n",
       "        if (window.MathJax && window.MathJax.Hub && window.MathJax.Hub.Config) {window.MathJax.Hub.Config({SVG: {font: \"STIX-Web\"}});}\n",
       "        if (typeof require !== 'undefined') {\n",
       "        require.undef(\"plotly\");\n",
       "        requirejs.config({\n",
       "            paths: {\n",
       "                'plotly': ['https://cdn.plot.ly/plotly-2.12.1.min']\n",
       "            }\n",
       "        });\n",
       "        require(['plotly'], function(Plotly) {\n",
       "            window._Plotly = Plotly;\n",
       "        });\n",
       "        }\n",
       "        </script>\n",
       "        "
      ]
     },
     "metadata": {},
     "output_type": "display_data"
    }
   ],
   "source": [
    "# For Notebooks\n",
    "init_notebook_mode(connected=True)"
   ]
  },
  {
   "cell_type": "code",
   "execution_count": 5,
   "metadata": {},
   "outputs": [
    {
     "data": {
      "text/html": [
       "        <script type=\"text/javascript\">\n",
       "        window.PlotlyConfig = {MathJaxConfig: 'local'};\n",
       "        if (window.MathJax && window.MathJax.Hub && window.MathJax.Hub.Config) {window.MathJax.Hub.Config({SVG: {font: \"STIX-Web\"}});}\n",
       "        if (typeof require !== 'undefined') {\n",
       "        require.undef(\"plotly\");\n",
       "        requirejs.config({\n",
       "            paths: {\n",
       "                'plotly': ['https://cdn.plot.ly/plotly-2.12.1.min']\n",
       "            }\n",
       "        });\n",
       "        require(['plotly'], function(Plotly) {\n",
       "            window._Plotly = Plotly;\n",
       "        });\n",
       "        }\n",
       "        </script>\n",
       "        "
      ]
     },
     "metadata": {},
     "output_type": "display_data"
    }
   ],
   "source": [
    "# For offline use\n",
    "cf.go_offline()"
   ]
  },
  {
   "cell_type": "markdown",
   "metadata": {},
   "source": [
    "### Fake Data"
   ]
  },
  {
   "cell_type": "code",
   "execution_count": 6,
   "metadata": {},
   "outputs": [],
   "source": [
    "df = pd.DataFrame(np.random.randn(100,4),columns='A B C D'.split())"
   ]
  },
  {
   "cell_type": "code",
   "execution_count": 7,
   "metadata": {},
   "outputs": [
    {
     "data": {
      "text/html": [
       "<div>\n",
       "<style scoped>\n",
       "    .dataframe tbody tr th:only-of-type {\n",
       "        vertical-align: middle;\n",
       "    }\n",
       "\n",
       "    .dataframe tbody tr th {\n",
       "        vertical-align: top;\n",
       "    }\n",
       "\n",
       "    .dataframe thead th {\n",
       "        text-align: right;\n",
       "    }\n",
       "</style>\n",
       "<table border=\"1\" class=\"dataframe\">\n",
       "  <thead>\n",
       "    <tr style=\"text-align: right;\">\n",
       "      <th></th>\n",
       "      <th>A</th>\n",
       "      <th>B</th>\n",
       "      <th>C</th>\n",
       "      <th>D</th>\n",
       "    </tr>\n",
       "  </thead>\n",
       "  <tbody>\n",
       "    <tr>\n",
       "      <th>0</th>\n",
       "      <td>0.707954</td>\n",
       "      <td>0.133946</td>\n",
       "      <td>0.954439</td>\n",
       "      <td>0.002897</td>\n",
       "    </tr>\n",
       "    <tr>\n",
       "      <th>1</th>\n",
       "      <td>-0.378336</td>\n",
       "      <td>0.387915</td>\n",
       "      <td>-0.424284</td>\n",
       "      <td>-0.372560</td>\n",
       "    </tr>\n",
       "    <tr>\n",
       "      <th>2</th>\n",
       "      <td>0.885318</td>\n",
       "      <td>-1.081481</td>\n",
       "      <td>0.534407</td>\n",
       "      <td>0.546500</td>\n",
       "    </tr>\n",
       "    <tr>\n",
       "      <th>3</th>\n",
       "      <td>-0.950445</td>\n",
       "      <td>-0.242571</td>\n",
       "      <td>0.444698</td>\n",
       "      <td>-0.735602</td>\n",
       "    </tr>\n",
       "    <tr>\n",
       "      <th>4</th>\n",
       "      <td>0.722690</td>\n",
       "      <td>0.645443</td>\n",
       "      <td>-2.094675</td>\n",
       "      <td>0.680450</td>\n",
       "    </tr>\n",
       "  </tbody>\n",
       "</table>\n",
       "</div>"
      ],
      "text/plain": [
       "          A         B         C         D\n",
       "0  0.707954  0.133946  0.954439  0.002897\n",
       "1 -0.378336  0.387915 -0.424284 -0.372560\n",
       "2  0.885318 -1.081481  0.534407  0.546500\n",
       "3 -0.950445 -0.242571  0.444698 -0.735602\n",
       "4  0.722690  0.645443 -2.094675  0.680450"
      ]
     },
     "execution_count": 7,
     "metadata": {},
     "output_type": "execute_result"
    }
   ],
   "source": [
    "df.head()"
   ]
  },
  {
   "cell_type": "code",
   "execution_count": 8,
   "metadata": {},
   "outputs": [],
   "source": [
    "df2 = pd.DataFrame({'Category':['A','B','C'],'Values':[32,43,50]})"
   ]
  },
  {
   "cell_type": "code",
   "execution_count": 9,
   "metadata": {},
   "outputs": [
    {
     "data": {
      "text/html": [
       "<div>\n",
       "<style scoped>\n",
       "    .dataframe tbody tr th:only-of-type {\n",
       "        vertical-align: middle;\n",
       "    }\n",
       "\n",
       "    .dataframe tbody tr th {\n",
       "        vertical-align: top;\n",
       "    }\n",
       "\n",
       "    .dataframe thead th {\n",
       "        text-align: right;\n",
       "    }\n",
       "</style>\n",
       "<table border=\"1\" class=\"dataframe\">\n",
       "  <thead>\n",
       "    <tr style=\"text-align: right;\">\n",
       "      <th></th>\n",
       "      <th>Category</th>\n",
       "      <th>Values</th>\n",
       "    </tr>\n",
       "  </thead>\n",
       "  <tbody>\n",
       "    <tr>\n",
       "      <th>0</th>\n",
       "      <td>A</td>\n",
       "      <td>32</td>\n",
       "    </tr>\n",
       "    <tr>\n",
       "      <th>1</th>\n",
       "      <td>B</td>\n",
       "      <td>43</td>\n",
       "    </tr>\n",
       "    <tr>\n",
       "      <th>2</th>\n",
       "      <td>C</td>\n",
       "      <td>50</td>\n",
       "    </tr>\n",
       "  </tbody>\n",
       "</table>\n",
       "</div>"
      ],
      "text/plain": [
       "  Category  Values\n",
       "0        A      32\n",
       "1        B      43\n",
       "2        C      50"
      ]
     },
     "execution_count": 9,
     "metadata": {},
     "output_type": "execute_result"
    }
   ],
   "source": [
    "df2.head()"
   ]
  },
  {
   "cell_type": "markdown",
   "metadata": {},
   "source": [
    "## Using Cufflinks and iplot()\n",
    "\n",
    "* scatter\n",
    "* bar\n",
    "* box\n",
    "* spread\n",
    "* ratio\n",
    "* heatmap\n",
    "* surface\n",
    "* histogram\n",
    "* bubble"
   ]
  },
  {
   "cell_type": "markdown",
   "metadata": {},
   "source": [
    "## Scatter"
   ]
  },
  {
   "cell_type": "code",
   "execution_count": 10,
   "metadata": {},
   "outputs": [
    {
     "data": {
      "application/vnd.plotly.v1+json": {
       "config": {
        "linkText": "Export to plot.ly",
        "plotlyServerURL": "https://plot.ly",
        "showLink": true
       },
       "data": [
        {
         "line": {
          "color": "rgba(255, 153, 51, 1.0)",
          "dash": "solid",
          "shape": "linear",
          "width": 1.3
         },
         "marker": {
          "size": 10,
          "symbol": "circle"
         },
         "mode": "markers",
         "name": "B",
         "text": "",
         "type": "scatter",
         "x": [
          0.7079539021387217,
          -0.3783360900626558,
          0.8853180692065072,
          -0.9504446640592793,
          0.7226901789495682,
          0.9224382830904682,
          -1.106872373910298,
          -0.015512022601375831,
          -0.353185219997632,
          -1.6252717315486631,
          0.4379603431868372,
          -0.11202513204380407,
          -0.7774845199649303,
          -0.26404541257831904,
          1.7102975633384212,
          -0.618713812499301,
          0.12136353643424155,
          0.6458853926055258,
          0.3638258900788119,
          -0.7880221412791935,
          -0.061057152377792016,
          -1.4778008859699494,
          1.1870405477533919,
          -0.6048071947816758,
          0.07659232155588042,
          -0.15398130019507927,
          -0.36958333297065243,
          -0.9429809974689437,
          1.2305906665884294,
          -0.7959745429934965,
          -0.663281905003923,
          1.128362854729977,
          0.06415331933472061,
          -0.414839892068916,
          -1.3831532645195648,
          0.21399615389790222,
          0.43851694110182127,
          -0.4114009446497051,
          -0.3590980120744632,
          0.31201045815652223,
          -0.6634245849642328,
          0.7605528409235844,
          1.6068366897250939,
          0.273627723502373,
          -2.415782175331679,
          0.27033613277072394,
          -0.9372303352805079,
          -0.21038126785679548,
          -0.38618843428375854,
          1.487158644526282,
          1.2554315225588815,
          -0.618467760407867,
          -0.2987896850122946,
          1.666550161990266,
          -1.7014225673818364,
          -1.7418267036671515,
          -1.3832861553605915,
          0.5974236309246336,
          -0.44748732187681123,
          -0.2414535273223089,
          -0.3922456354520554,
          0.6240503922946212,
          -1.1446643412933704,
          3.0615893659439553,
          0.3213619292459653,
          -0.5180451015628634,
          -0.6663773615483357,
          -0.19494309232888837,
          0.4276932112345201,
          0.022091112323968924,
          -0.14442648374683745,
          0.7374385052891811,
          -0.6767684582551838,
          -0.14567377114486724,
          0.8037493806021632,
          -0.3001960688208521,
          2.0798140337654707,
          -0.2998140918327669,
          0.9325838464870018,
          1.80447023263451,
          0.058338735256817424,
          -0.18149754453367886,
          -0.6734820397467258,
          0.02879337648116921,
          -1.046693259350123,
          0.7348611862262173,
          -0.3096788977047204,
          0.9466045425894998,
          -0.5505270504726302,
          0.04573512621679498,
          2.3164513548805004,
          0.83936668723141,
          1.1409441716454916,
          -2.4982650892817837,
          0.7211867800358712,
          -0.6991293006245523,
          0.5251033671763228,
          1.391545946085124,
          -0.5865873066567011,
          1.3714225184623456
         ],
         "y": [
          0.13394584907567797,
          0.3879153265974429,
          -1.081481377423818,
          -0.24257147490927927,
          0.6454428756967521,
          0.9401443587964466,
          2.5443723124109896,
          -0.5918877531367807,
          0.5890569357834406,
          -0.814947995877355,
          -0.7305825948722581,
          1.1337331488996365,
          1.0504696105263363,
          0.5763859371801988,
          -0.697838112457501,
          -0.08208933003275574,
          -0.46178166108633467,
          -2.145738916473379,
          -0.830745986190214,
          0.6893633943869126,
          0.35902097452331505,
          0.09774310681059924,
          0.20815141104425233,
          0.33651036189190514,
          -0.3140974849551735,
          0.5118944152086332,
          -0.06948373723134914,
          0.4919985394877427,
          -0.46065848159580786,
          0.5384267925771766,
          0.02341032519984315,
          -0.28589435223142334,
          -0.23197753674200575,
          0.2108812073893951,
          0.7067447312268775,
          -0.061418659983730424,
          -0.8990785008586909,
          -0.5131739184457484,
          -0.3848750071650614,
          -0.6922519866549306,
          2.0218685506277967,
          0.9264143884674638,
          -0.2072472701213451,
          0.3272140258435058,
          -0.07644410431037132,
          -2.1530053141107635,
          0.1435065461309672,
          -0.4548392800761151,
          1.0218995489701463,
          1.8399929587701267,
          0.9582161447828299,
          -0.02525140285503517,
          0.6065418459764039,
          1.176592280057126,
          0.6966793603330663,
          -0.3225944077629017,
          0.05842342423158832,
          0.09438393670777477,
          0.9513555676012616,
          0.40260905248701456,
          -0.08406317167444576,
          1.2784482188078998,
          -1.2879427148628142,
          0.6175517189180135,
          -0.2224695502715256,
          0.33720074125190036,
          -0.15281272521416195,
          0.5201156847996458,
          1.177590444167989,
          -0.2689748870647838,
          1.265220873174324,
          2.9365354260876,
          1.4441809862857622,
          -2.1877702795672693,
          0.20837178474318227,
          0.39724384258536805,
          -0.3904530076814792,
          -0.9636530207146263,
          0.11001896281701239,
          0.18322824150561065,
          1.4605365576244245,
          0.2771608180778642,
          1.2537600257324881,
          0.7899949950161395,
          0.7554751869176336,
          0.43556657629043993,
          -0.9768266678432241,
          -1.3895601738886645,
          0.42494164448829674,
          -0.7087903247234564,
          0.6702014124044041,
          1.2838557969419582,
          -1.1343866915065046,
          -1.1627274402838177,
          -0.08897126049235626,
          -0.22655298182377334,
          -0.5204868023437481,
          0.7846852182745306,
          1.4067845224163147,
          0.4181597212708602
         ]
        }
       ],
       "layout": {
        "legend": {
         "bgcolor": "#F5F6F9",
         "font": {
          "color": "#4D5663"
         }
        },
        "paper_bgcolor": "#F5F6F9",
        "plot_bgcolor": "#F5F6F9",
        "template": {
         "data": {
          "bar": [
           {
            "error_x": {
             "color": "#2a3f5f"
            },
            "error_y": {
             "color": "#2a3f5f"
            },
            "marker": {
             "line": {
              "color": "#E5ECF6",
              "width": 0.5
             },
             "pattern": {
              "fillmode": "overlay",
              "size": 10,
              "solidity": 0.2
             }
            },
            "type": "bar"
           }
          ],
          "barpolar": [
           {
            "marker": {
             "line": {
              "color": "#E5ECF6",
              "width": 0.5
             },
             "pattern": {
              "fillmode": "overlay",
              "size": 10,
              "solidity": 0.2
             }
            },
            "type": "barpolar"
           }
          ],
          "carpet": [
           {
            "aaxis": {
             "endlinecolor": "#2a3f5f",
             "gridcolor": "white",
             "linecolor": "white",
             "minorgridcolor": "white",
             "startlinecolor": "#2a3f5f"
            },
            "baxis": {
             "endlinecolor": "#2a3f5f",
             "gridcolor": "white",
             "linecolor": "white",
             "minorgridcolor": "white",
             "startlinecolor": "#2a3f5f"
            },
            "type": "carpet"
           }
          ],
          "choropleth": [
           {
            "colorbar": {
             "outlinewidth": 0,
             "ticks": ""
            },
            "type": "choropleth"
           }
          ],
          "contour": [
           {
            "colorbar": {
             "outlinewidth": 0,
             "ticks": ""
            },
            "colorscale": [
             [
              0,
              "#0d0887"
             ],
             [
              0.1111111111111111,
              "#46039f"
             ],
             [
              0.2222222222222222,
              "#7201a8"
             ],
             [
              0.3333333333333333,
              "#9c179e"
             ],
             [
              0.4444444444444444,
              "#bd3786"
             ],
             [
              0.5555555555555556,
              "#d8576b"
             ],
             [
              0.6666666666666666,
              "#ed7953"
             ],
             [
              0.7777777777777778,
              "#fb9f3a"
             ],
             [
              0.8888888888888888,
              "#fdca26"
             ],
             [
              1,
              "#f0f921"
             ]
            ],
            "type": "contour"
           }
          ],
          "contourcarpet": [
           {
            "colorbar": {
             "outlinewidth": 0,
             "ticks": ""
            },
            "type": "contourcarpet"
           }
          ],
          "heatmap": [
           {
            "colorbar": {
             "outlinewidth": 0,
             "ticks": ""
            },
            "colorscale": [
             [
              0,
              "#0d0887"
             ],
             [
              0.1111111111111111,
              "#46039f"
             ],
             [
              0.2222222222222222,
              "#7201a8"
             ],
             [
              0.3333333333333333,
              "#9c179e"
             ],
             [
              0.4444444444444444,
              "#bd3786"
             ],
             [
              0.5555555555555556,
              "#d8576b"
             ],
             [
              0.6666666666666666,
              "#ed7953"
             ],
             [
              0.7777777777777778,
              "#fb9f3a"
             ],
             [
              0.8888888888888888,
              "#fdca26"
             ],
             [
              1,
              "#f0f921"
             ]
            ],
            "type": "heatmap"
           }
          ],
          "heatmapgl": [
           {
            "colorbar": {
             "outlinewidth": 0,
             "ticks": ""
            },
            "colorscale": [
             [
              0,
              "#0d0887"
             ],
             [
              0.1111111111111111,
              "#46039f"
             ],
             [
              0.2222222222222222,
              "#7201a8"
             ],
             [
              0.3333333333333333,
              "#9c179e"
             ],
             [
              0.4444444444444444,
              "#bd3786"
             ],
             [
              0.5555555555555556,
              "#d8576b"
             ],
             [
              0.6666666666666666,
              "#ed7953"
             ],
             [
              0.7777777777777778,
              "#fb9f3a"
             ],
             [
              0.8888888888888888,
              "#fdca26"
             ],
             [
              1,
              "#f0f921"
             ]
            ],
            "type": "heatmapgl"
           }
          ],
          "histogram": [
           {
            "marker": {
             "pattern": {
              "fillmode": "overlay",
              "size": 10,
              "solidity": 0.2
             }
            },
            "type": "histogram"
           }
          ],
          "histogram2d": [
           {
            "colorbar": {
             "outlinewidth": 0,
             "ticks": ""
            },
            "colorscale": [
             [
              0,
              "#0d0887"
             ],
             [
              0.1111111111111111,
              "#46039f"
             ],
             [
              0.2222222222222222,
              "#7201a8"
             ],
             [
              0.3333333333333333,
              "#9c179e"
             ],
             [
              0.4444444444444444,
              "#bd3786"
             ],
             [
              0.5555555555555556,
              "#d8576b"
             ],
             [
              0.6666666666666666,
              "#ed7953"
             ],
             [
              0.7777777777777778,
              "#fb9f3a"
             ],
             [
              0.8888888888888888,
              "#fdca26"
             ],
             [
              1,
              "#f0f921"
             ]
            ],
            "type": "histogram2d"
           }
          ],
          "histogram2dcontour": [
           {
            "colorbar": {
             "outlinewidth": 0,
             "ticks": ""
            },
            "colorscale": [
             [
              0,
              "#0d0887"
             ],
             [
              0.1111111111111111,
              "#46039f"
             ],
             [
              0.2222222222222222,
              "#7201a8"
             ],
             [
              0.3333333333333333,
              "#9c179e"
             ],
             [
              0.4444444444444444,
              "#bd3786"
             ],
             [
              0.5555555555555556,
              "#d8576b"
             ],
             [
              0.6666666666666666,
              "#ed7953"
             ],
             [
              0.7777777777777778,
              "#fb9f3a"
             ],
             [
              0.8888888888888888,
              "#fdca26"
             ],
             [
              1,
              "#f0f921"
             ]
            ],
            "type": "histogram2dcontour"
           }
          ],
          "mesh3d": [
           {
            "colorbar": {
             "outlinewidth": 0,
             "ticks": ""
            },
            "type": "mesh3d"
           }
          ],
          "parcoords": [
           {
            "line": {
             "colorbar": {
              "outlinewidth": 0,
              "ticks": ""
             }
            },
            "type": "parcoords"
           }
          ],
          "pie": [
           {
            "automargin": true,
            "type": "pie"
           }
          ],
          "scatter": [
           {
            "fillpattern": {
             "fillmode": "overlay",
             "size": 10,
             "solidity": 0.2
            },
            "type": "scatter"
           }
          ],
          "scatter3d": [
           {
            "line": {
             "colorbar": {
              "outlinewidth": 0,
              "ticks": ""
             }
            },
            "marker": {
             "colorbar": {
              "outlinewidth": 0,
              "ticks": ""
             }
            },
            "type": "scatter3d"
           }
          ],
          "scattercarpet": [
           {
            "marker": {
             "colorbar": {
              "outlinewidth": 0,
              "ticks": ""
             }
            },
            "type": "scattercarpet"
           }
          ],
          "scattergeo": [
           {
            "marker": {
             "colorbar": {
              "outlinewidth": 0,
              "ticks": ""
             }
            },
            "type": "scattergeo"
           }
          ],
          "scattergl": [
           {
            "marker": {
             "colorbar": {
              "outlinewidth": 0,
              "ticks": ""
             }
            },
            "type": "scattergl"
           }
          ],
          "scattermapbox": [
           {
            "marker": {
             "colorbar": {
              "outlinewidth": 0,
              "ticks": ""
             }
            },
            "type": "scattermapbox"
           }
          ],
          "scatterpolar": [
           {
            "marker": {
             "colorbar": {
              "outlinewidth": 0,
              "ticks": ""
             }
            },
            "type": "scatterpolar"
           }
          ],
          "scatterpolargl": [
           {
            "marker": {
             "colorbar": {
              "outlinewidth": 0,
              "ticks": ""
             }
            },
            "type": "scatterpolargl"
           }
          ],
          "scatterternary": [
           {
            "marker": {
             "colorbar": {
              "outlinewidth": 0,
              "ticks": ""
             }
            },
            "type": "scatterternary"
           }
          ],
          "surface": [
           {
            "colorbar": {
             "outlinewidth": 0,
             "ticks": ""
            },
            "colorscale": [
             [
              0,
              "#0d0887"
             ],
             [
              0.1111111111111111,
              "#46039f"
             ],
             [
              0.2222222222222222,
              "#7201a8"
             ],
             [
              0.3333333333333333,
              "#9c179e"
             ],
             [
              0.4444444444444444,
              "#bd3786"
             ],
             [
              0.5555555555555556,
              "#d8576b"
             ],
             [
              0.6666666666666666,
              "#ed7953"
             ],
             [
              0.7777777777777778,
              "#fb9f3a"
             ],
             [
              0.8888888888888888,
              "#fdca26"
             ],
             [
              1,
              "#f0f921"
             ]
            ],
            "type": "surface"
           }
          ],
          "table": [
           {
            "cells": {
             "fill": {
              "color": "#EBF0F8"
             },
             "line": {
              "color": "white"
             }
            },
            "header": {
             "fill": {
              "color": "#C8D4E3"
             },
             "line": {
              "color": "white"
             }
            },
            "type": "table"
           }
          ]
         },
         "layout": {
          "annotationdefaults": {
           "arrowcolor": "#2a3f5f",
           "arrowhead": 0,
           "arrowwidth": 1
          },
          "autotypenumbers": "strict",
          "coloraxis": {
           "colorbar": {
            "outlinewidth": 0,
            "ticks": ""
           }
          },
          "colorscale": {
           "diverging": [
            [
             0,
             "#8e0152"
            ],
            [
             0.1,
             "#c51b7d"
            ],
            [
             0.2,
             "#de77ae"
            ],
            [
             0.3,
             "#f1b6da"
            ],
            [
             0.4,
             "#fde0ef"
            ],
            [
             0.5,
             "#f7f7f7"
            ],
            [
             0.6,
             "#e6f5d0"
            ],
            [
             0.7,
             "#b8e186"
            ],
            [
             0.8,
             "#7fbc41"
            ],
            [
             0.9,
             "#4d9221"
            ],
            [
             1,
             "#276419"
            ]
           ],
           "sequential": [
            [
             0,
             "#0d0887"
            ],
            [
             0.1111111111111111,
             "#46039f"
            ],
            [
             0.2222222222222222,
             "#7201a8"
            ],
            [
             0.3333333333333333,
             "#9c179e"
            ],
            [
             0.4444444444444444,
             "#bd3786"
            ],
            [
             0.5555555555555556,
             "#d8576b"
            ],
            [
             0.6666666666666666,
             "#ed7953"
            ],
            [
             0.7777777777777778,
             "#fb9f3a"
            ],
            [
             0.8888888888888888,
             "#fdca26"
            ],
            [
             1,
             "#f0f921"
            ]
           ],
           "sequentialminus": [
            [
             0,
             "#0d0887"
            ],
            [
             0.1111111111111111,
             "#46039f"
            ],
            [
             0.2222222222222222,
             "#7201a8"
            ],
            [
             0.3333333333333333,
             "#9c179e"
            ],
            [
             0.4444444444444444,
             "#bd3786"
            ],
            [
             0.5555555555555556,
             "#d8576b"
            ],
            [
             0.6666666666666666,
             "#ed7953"
            ],
            [
             0.7777777777777778,
             "#fb9f3a"
            ],
            [
             0.8888888888888888,
             "#fdca26"
            ],
            [
             1,
             "#f0f921"
            ]
           ]
          },
          "colorway": [
           "#636efa",
           "#EF553B",
           "#00cc96",
           "#ab63fa",
           "#FFA15A",
           "#19d3f3",
           "#FF6692",
           "#B6E880",
           "#FF97FF",
           "#FECB52"
          ],
          "font": {
           "color": "#2a3f5f"
          },
          "geo": {
           "bgcolor": "white",
           "lakecolor": "white",
           "landcolor": "#E5ECF6",
           "showlakes": true,
           "showland": true,
           "subunitcolor": "white"
          },
          "hoverlabel": {
           "align": "left"
          },
          "hovermode": "closest",
          "mapbox": {
           "style": "light"
          },
          "paper_bgcolor": "white",
          "plot_bgcolor": "#E5ECF6",
          "polar": {
           "angularaxis": {
            "gridcolor": "white",
            "linecolor": "white",
            "ticks": ""
           },
           "bgcolor": "#E5ECF6",
           "radialaxis": {
            "gridcolor": "white",
            "linecolor": "white",
            "ticks": ""
           }
          },
          "scene": {
           "xaxis": {
            "backgroundcolor": "#E5ECF6",
            "gridcolor": "white",
            "gridwidth": 2,
            "linecolor": "white",
            "showbackground": true,
            "ticks": "",
            "zerolinecolor": "white"
           },
           "yaxis": {
            "backgroundcolor": "#E5ECF6",
            "gridcolor": "white",
            "gridwidth": 2,
            "linecolor": "white",
            "showbackground": true,
            "ticks": "",
            "zerolinecolor": "white"
           },
           "zaxis": {
            "backgroundcolor": "#E5ECF6",
            "gridcolor": "white",
            "gridwidth": 2,
            "linecolor": "white",
            "showbackground": true,
            "ticks": "",
            "zerolinecolor": "white"
           }
          },
          "shapedefaults": {
           "line": {
            "color": "#2a3f5f"
           }
          },
          "ternary": {
           "aaxis": {
            "gridcolor": "white",
            "linecolor": "white",
            "ticks": ""
           },
           "baxis": {
            "gridcolor": "white",
            "linecolor": "white",
            "ticks": ""
           },
           "bgcolor": "#E5ECF6",
           "caxis": {
            "gridcolor": "white",
            "linecolor": "white",
            "ticks": ""
           }
          },
          "title": {
           "x": 0.05
          },
          "xaxis": {
           "automargin": true,
           "gridcolor": "white",
           "linecolor": "white",
           "ticks": "",
           "title": {
            "standoff": 15
           },
           "zerolinecolor": "white",
           "zerolinewidth": 2
          },
          "yaxis": {
           "automargin": true,
           "gridcolor": "white",
           "linecolor": "white",
           "ticks": "",
           "title": {
            "standoff": 15
           },
           "zerolinecolor": "white",
           "zerolinewidth": 2
          }
         }
        },
        "title": {
         "font": {
          "color": "#4D5663"
         }
        },
        "xaxis": {
         "gridcolor": "#E1E5ED",
         "showgrid": true,
         "tickfont": {
          "color": "#4D5663"
         },
         "title": {
          "font": {
           "color": "#4D5663"
          },
          "text": ""
         },
         "zerolinecolor": "#E1E5ED"
        },
        "yaxis": {
         "gridcolor": "#E1E5ED",
         "showgrid": true,
         "tickfont": {
          "color": "#4D5663"
         },
         "title": {
          "font": {
           "color": "#4D5663"
          },
          "text": ""
         },
         "zerolinecolor": "#E1E5ED"
        }
       }
      },
      "text/html": [
       "<div>                            <div id=\"4651186c-f9e4-40b9-9bc5-ddb303047c6d\" class=\"plotly-graph-div\" style=\"height:525px; width:100%;\"></div>            <script type=\"text/javascript\">                require([\"plotly\"], function(Plotly) {                    window.PLOTLYENV=window.PLOTLYENV || {};\n",
       "                    window.PLOTLYENV.BASE_URL='https://plot.ly';                                    if (document.getElementById(\"4651186c-f9e4-40b9-9bc5-ddb303047c6d\")) {                    Plotly.newPlot(                        \"4651186c-f9e4-40b9-9bc5-ddb303047c6d\",                        [{\"line\":{\"color\":\"rgba(255, 153, 51, 1.0)\",\"dash\":\"solid\",\"shape\":\"linear\",\"width\":1.3},\"marker\":{\"size\":10,\"symbol\":\"circle\"},\"mode\":\"markers\",\"name\":\"B\",\"text\":\"\",\"x\":[0.7079539021387217,-0.3783360900626558,0.8853180692065072,-0.9504446640592793,0.7226901789495682,0.9224382830904682,-1.106872373910298,-0.015512022601375831,-0.353185219997632,-1.6252717315486631,0.4379603431868372,-0.11202513204380407,-0.7774845199649303,-0.26404541257831904,1.7102975633384212,-0.618713812499301,0.12136353643424155,0.6458853926055258,0.3638258900788119,-0.7880221412791935,-0.061057152377792016,-1.4778008859699494,1.1870405477533919,-0.6048071947816758,0.07659232155588042,-0.15398130019507927,-0.36958333297065243,-0.9429809974689437,1.2305906665884294,-0.7959745429934965,-0.663281905003923,1.128362854729977,0.06415331933472061,-0.414839892068916,-1.3831532645195648,0.21399615389790222,0.43851694110182127,-0.4114009446497051,-0.3590980120744632,0.31201045815652223,-0.6634245849642328,0.7605528409235844,1.6068366897250939,0.273627723502373,-2.415782175331679,0.27033613277072394,-0.9372303352805079,-0.21038126785679548,-0.38618843428375854,1.487158644526282,1.2554315225588815,-0.618467760407867,-0.2987896850122946,1.666550161990266,-1.7014225673818364,-1.7418267036671515,-1.3832861553605915,0.5974236309246336,-0.44748732187681123,-0.2414535273223089,-0.3922456354520554,0.6240503922946212,-1.1446643412933704,3.0615893659439553,0.3213619292459653,-0.5180451015628634,-0.6663773615483357,-0.19494309232888837,0.4276932112345201,0.022091112323968924,-0.14442648374683745,0.7374385052891811,-0.6767684582551838,-0.14567377114486724,0.8037493806021632,-0.3001960688208521,2.0798140337654707,-0.2998140918327669,0.9325838464870018,1.80447023263451,0.058338735256817424,-0.18149754453367886,-0.6734820397467258,0.02879337648116921,-1.046693259350123,0.7348611862262173,-0.3096788977047204,0.9466045425894998,-0.5505270504726302,0.04573512621679498,2.3164513548805004,0.83936668723141,1.1409441716454916,-2.4982650892817837,0.7211867800358712,-0.6991293006245523,0.5251033671763228,1.391545946085124,-0.5865873066567011,1.3714225184623456],\"y\":[0.13394584907567797,0.3879153265974429,-1.081481377423818,-0.24257147490927927,0.6454428756967521,0.9401443587964466,2.5443723124109896,-0.5918877531367807,0.5890569357834406,-0.814947995877355,-0.7305825948722581,1.1337331488996365,1.0504696105263363,0.5763859371801988,-0.697838112457501,-0.08208933003275574,-0.46178166108633467,-2.145738916473379,-0.830745986190214,0.6893633943869126,0.35902097452331505,0.09774310681059924,0.20815141104425233,0.33651036189190514,-0.3140974849551735,0.5118944152086332,-0.06948373723134914,0.4919985394877427,-0.46065848159580786,0.5384267925771766,0.02341032519984315,-0.28589435223142334,-0.23197753674200575,0.2108812073893951,0.7067447312268775,-0.061418659983730424,-0.8990785008586909,-0.5131739184457484,-0.3848750071650614,-0.6922519866549306,2.0218685506277967,0.9264143884674638,-0.2072472701213451,0.3272140258435058,-0.07644410431037132,-2.1530053141107635,0.1435065461309672,-0.4548392800761151,1.0218995489701463,1.8399929587701267,0.9582161447828299,-0.02525140285503517,0.6065418459764039,1.176592280057126,0.6966793603330663,-0.3225944077629017,0.05842342423158832,0.09438393670777477,0.9513555676012616,0.40260905248701456,-0.08406317167444576,1.2784482188078998,-1.2879427148628142,0.6175517189180135,-0.2224695502715256,0.33720074125190036,-0.15281272521416195,0.5201156847996458,1.177590444167989,-0.2689748870647838,1.265220873174324,2.9365354260876,1.4441809862857622,-2.1877702795672693,0.20837178474318227,0.39724384258536805,-0.3904530076814792,-0.9636530207146263,0.11001896281701239,0.18322824150561065,1.4605365576244245,0.2771608180778642,1.2537600257324881,0.7899949950161395,0.7554751869176336,0.43556657629043993,-0.9768266678432241,-1.3895601738886645,0.42494164448829674,-0.7087903247234564,0.6702014124044041,1.2838557969419582,-1.1343866915065046,-1.1627274402838177,-0.08897126049235626,-0.22655298182377334,-0.5204868023437481,0.7846852182745306,1.4067845224163147,0.4181597212708602],\"type\":\"scatter\"}],                        {\"legend\":{\"bgcolor\":\"#F5F6F9\",\"font\":{\"color\":\"#4D5663\"}},\"paper_bgcolor\":\"#F5F6F9\",\"plot_bgcolor\":\"#F5F6F9\",\"template\":{\"data\":{\"barpolar\":[{\"marker\":{\"line\":{\"color\":\"#E5ECF6\",\"width\":0.5},\"pattern\":{\"fillmode\":\"overlay\",\"size\":10,\"solidity\":0.2}},\"type\":\"barpolar\"}],\"bar\":[{\"error_x\":{\"color\":\"#2a3f5f\"},\"error_y\":{\"color\":\"#2a3f5f\"},\"marker\":{\"line\":{\"color\":\"#E5ECF6\",\"width\":0.5},\"pattern\":{\"fillmode\":\"overlay\",\"size\":10,\"solidity\":0.2}},\"type\":\"bar\"}],\"carpet\":[{\"aaxis\":{\"endlinecolor\":\"#2a3f5f\",\"gridcolor\":\"white\",\"linecolor\":\"white\",\"minorgridcolor\":\"white\",\"startlinecolor\":\"#2a3f5f\"},\"baxis\":{\"endlinecolor\":\"#2a3f5f\",\"gridcolor\":\"white\",\"linecolor\":\"white\",\"minorgridcolor\":\"white\",\"startlinecolor\":\"#2a3f5f\"},\"type\":\"carpet\"}],\"choropleth\":[{\"colorbar\":{\"outlinewidth\":0,\"ticks\":\"\"},\"type\":\"choropleth\"}],\"contourcarpet\":[{\"colorbar\":{\"outlinewidth\":0,\"ticks\":\"\"},\"type\":\"contourcarpet\"}],\"contour\":[{\"colorbar\":{\"outlinewidth\":0,\"ticks\":\"\"},\"colorscale\":[[0.0,\"#0d0887\"],[0.1111111111111111,\"#46039f\"],[0.2222222222222222,\"#7201a8\"],[0.3333333333333333,\"#9c179e\"],[0.4444444444444444,\"#bd3786\"],[0.5555555555555556,\"#d8576b\"],[0.6666666666666666,\"#ed7953\"],[0.7777777777777778,\"#fb9f3a\"],[0.8888888888888888,\"#fdca26\"],[1.0,\"#f0f921\"]],\"type\":\"contour\"}],\"heatmapgl\":[{\"colorbar\":{\"outlinewidth\":0,\"ticks\":\"\"},\"colorscale\":[[0.0,\"#0d0887\"],[0.1111111111111111,\"#46039f\"],[0.2222222222222222,\"#7201a8\"],[0.3333333333333333,\"#9c179e\"],[0.4444444444444444,\"#bd3786\"],[0.5555555555555556,\"#d8576b\"],[0.6666666666666666,\"#ed7953\"],[0.7777777777777778,\"#fb9f3a\"],[0.8888888888888888,\"#fdca26\"],[1.0,\"#f0f921\"]],\"type\":\"heatmapgl\"}],\"heatmap\":[{\"colorbar\":{\"outlinewidth\":0,\"ticks\":\"\"},\"colorscale\":[[0.0,\"#0d0887\"],[0.1111111111111111,\"#46039f\"],[0.2222222222222222,\"#7201a8\"],[0.3333333333333333,\"#9c179e\"],[0.4444444444444444,\"#bd3786\"],[0.5555555555555556,\"#d8576b\"],[0.6666666666666666,\"#ed7953\"],[0.7777777777777778,\"#fb9f3a\"],[0.8888888888888888,\"#fdca26\"],[1.0,\"#f0f921\"]],\"type\":\"heatmap\"}],\"histogram2dcontour\":[{\"colorbar\":{\"outlinewidth\":0,\"ticks\":\"\"},\"colorscale\":[[0.0,\"#0d0887\"],[0.1111111111111111,\"#46039f\"],[0.2222222222222222,\"#7201a8\"],[0.3333333333333333,\"#9c179e\"],[0.4444444444444444,\"#bd3786\"],[0.5555555555555556,\"#d8576b\"],[0.6666666666666666,\"#ed7953\"],[0.7777777777777778,\"#fb9f3a\"],[0.8888888888888888,\"#fdca26\"],[1.0,\"#f0f921\"]],\"type\":\"histogram2dcontour\"}],\"histogram2d\":[{\"colorbar\":{\"outlinewidth\":0,\"ticks\":\"\"},\"colorscale\":[[0.0,\"#0d0887\"],[0.1111111111111111,\"#46039f\"],[0.2222222222222222,\"#7201a8\"],[0.3333333333333333,\"#9c179e\"],[0.4444444444444444,\"#bd3786\"],[0.5555555555555556,\"#d8576b\"],[0.6666666666666666,\"#ed7953\"],[0.7777777777777778,\"#fb9f3a\"],[0.8888888888888888,\"#fdca26\"],[1.0,\"#f0f921\"]],\"type\":\"histogram2d\"}],\"histogram\":[{\"marker\":{\"pattern\":{\"fillmode\":\"overlay\",\"size\":10,\"solidity\":0.2}},\"type\":\"histogram\"}],\"mesh3d\":[{\"colorbar\":{\"outlinewidth\":0,\"ticks\":\"\"},\"type\":\"mesh3d\"}],\"parcoords\":[{\"line\":{\"colorbar\":{\"outlinewidth\":0,\"ticks\":\"\"}},\"type\":\"parcoords\"}],\"pie\":[{\"automargin\":true,\"type\":\"pie\"}],\"scatter3d\":[{\"line\":{\"colorbar\":{\"outlinewidth\":0,\"ticks\":\"\"}},\"marker\":{\"colorbar\":{\"outlinewidth\":0,\"ticks\":\"\"}},\"type\":\"scatter3d\"}],\"scattercarpet\":[{\"marker\":{\"colorbar\":{\"outlinewidth\":0,\"ticks\":\"\"}},\"type\":\"scattercarpet\"}],\"scattergeo\":[{\"marker\":{\"colorbar\":{\"outlinewidth\":0,\"ticks\":\"\"}},\"type\":\"scattergeo\"}],\"scattergl\":[{\"marker\":{\"colorbar\":{\"outlinewidth\":0,\"ticks\":\"\"}},\"type\":\"scattergl\"}],\"scattermapbox\":[{\"marker\":{\"colorbar\":{\"outlinewidth\":0,\"ticks\":\"\"}},\"type\":\"scattermapbox\"}],\"scatterpolargl\":[{\"marker\":{\"colorbar\":{\"outlinewidth\":0,\"ticks\":\"\"}},\"type\":\"scatterpolargl\"}],\"scatterpolar\":[{\"marker\":{\"colorbar\":{\"outlinewidth\":0,\"ticks\":\"\"}},\"type\":\"scatterpolar\"}],\"scatter\":[{\"fillpattern\":{\"fillmode\":\"overlay\",\"size\":10,\"solidity\":0.2},\"type\":\"scatter\"}],\"scatterternary\":[{\"marker\":{\"colorbar\":{\"outlinewidth\":0,\"ticks\":\"\"}},\"type\":\"scatterternary\"}],\"surface\":[{\"colorbar\":{\"outlinewidth\":0,\"ticks\":\"\"},\"colorscale\":[[0.0,\"#0d0887\"],[0.1111111111111111,\"#46039f\"],[0.2222222222222222,\"#7201a8\"],[0.3333333333333333,\"#9c179e\"],[0.4444444444444444,\"#bd3786\"],[0.5555555555555556,\"#d8576b\"],[0.6666666666666666,\"#ed7953\"],[0.7777777777777778,\"#fb9f3a\"],[0.8888888888888888,\"#fdca26\"],[1.0,\"#f0f921\"]],\"type\":\"surface\"}],\"table\":[{\"cells\":{\"fill\":{\"color\":\"#EBF0F8\"},\"line\":{\"color\":\"white\"}},\"header\":{\"fill\":{\"color\":\"#C8D4E3\"},\"line\":{\"color\":\"white\"}},\"type\":\"table\"}]},\"layout\":{\"annotationdefaults\":{\"arrowcolor\":\"#2a3f5f\",\"arrowhead\":0,\"arrowwidth\":1},\"autotypenumbers\":\"strict\",\"coloraxis\":{\"colorbar\":{\"outlinewidth\":0,\"ticks\":\"\"}},\"colorscale\":{\"diverging\":[[0,\"#8e0152\"],[0.1,\"#c51b7d\"],[0.2,\"#de77ae\"],[0.3,\"#f1b6da\"],[0.4,\"#fde0ef\"],[0.5,\"#f7f7f7\"],[0.6,\"#e6f5d0\"],[0.7,\"#b8e186\"],[0.8,\"#7fbc41\"],[0.9,\"#4d9221\"],[1,\"#276419\"]],\"sequential\":[[0.0,\"#0d0887\"],[0.1111111111111111,\"#46039f\"],[0.2222222222222222,\"#7201a8\"],[0.3333333333333333,\"#9c179e\"],[0.4444444444444444,\"#bd3786\"],[0.5555555555555556,\"#d8576b\"],[0.6666666666666666,\"#ed7953\"],[0.7777777777777778,\"#fb9f3a\"],[0.8888888888888888,\"#fdca26\"],[1.0,\"#f0f921\"]],\"sequentialminus\":[[0.0,\"#0d0887\"],[0.1111111111111111,\"#46039f\"],[0.2222222222222222,\"#7201a8\"],[0.3333333333333333,\"#9c179e\"],[0.4444444444444444,\"#bd3786\"],[0.5555555555555556,\"#d8576b\"],[0.6666666666666666,\"#ed7953\"],[0.7777777777777778,\"#fb9f3a\"],[0.8888888888888888,\"#fdca26\"],[1.0,\"#f0f921\"]]},\"colorway\":[\"#636efa\",\"#EF553B\",\"#00cc96\",\"#ab63fa\",\"#FFA15A\",\"#19d3f3\",\"#FF6692\",\"#B6E880\",\"#FF97FF\",\"#FECB52\"],\"font\":{\"color\":\"#2a3f5f\"},\"geo\":{\"bgcolor\":\"white\",\"lakecolor\":\"white\",\"landcolor\":\"#E5ECF6\",\"showlakes\":true,\"showland\":true,\"subunitcolor\":\"white\"},\"hoverlabel\":{\"align\":\"left\"},\"hovermode\":\"closest\",\"mapbox\":{\"style\":\"light\"},\"paper_bgcolor\":\"white\",\"plot_bgcolor\":\"#E5ECF6\",\"polar\":{\"angularaxis\":{\"gridcolor\":\"white\",\"linecolor\":\"white\",\"ticks\":\"\"},\"bgcolor\":\"#E5ECF6\",\"radialaxis\":{\"gridcolor\":\"white\",\"linecolor\":\"white\",\"ticks\":\"\"}},\"scene\":{\"xaxis\":{\"backgroundcolor\":\"#E5ECF6\",\"gridcolor\":\"white\",\"gridwidth\":2,\"linecolor\":\"white\",\"showbackground\":true,\"ticks\":\"\",\"zerolinecolor\":\"white\"},\"yaxis\":{\"backgroundcolor\":\"#E5ECF6\",\"gridcolor\":\"white\",\"gridwidth\":2,\"linecolor\":\"white\",\"showbackground\":true,\"ticks\":\"\",\"zerolinecolor\":\"white\"},\"zaxis\":{\"backgroundcolor\":\"#E5ECF6\",\"gridcolor\":\"white\",\"gridwidth\":2,\"linecolor\":\"white\",\"showbackground\":true,\"ticks\":\"\",\"zerolinecolor\":\"white\"}},\"shapedefaults\":{\"line\":{\"color\":\"#2a3f5f\"}},\"ternary\":{\"aaxis\":{\"gridcolor\":\"white\",\"linecolor\":\"white\",\"ticks\":\"\"},\"baxis\":{\"gridcolor\":\"white\",\"linecolor\":\"white\",\"ticks\":\"\"},\"bgcolor\":\"#E5ECF6\",\"caxis\":{\"gridcolor\":\"white\",\"linecolor\":\"white\",\"ticks\":\"\"}},\"title\":{\"x\":0.05},\"xaxis\":{\"automargin\":true,\"gridcolor\":\"white\",\"linecolor\":\"white\",\"ticks\":\"\",\"title\":{\"standoff\":15},\"zerolinecolor\":\"white\",\"zerolinewidth\":2},\"yaxis\":{\"automargin\":true,\"gridcolor\":\"white\",\"linecolor\":\"white\",\"ticks\":\"\",\"title\":{\"standoff\":15},\"zerolinecolor\":\"white\",\"zerolinewidth\":2}}},\"title\":{\"font\":{\"color\":\"#4D5663\"}},\"xaxis\":{\"gridcolor\":\"#E1E5ED\",\"showgrid\":true,\"tickfont\":{\"color\":\"#4D5663\"},\"title\":{\"font\":{\"color\":\"#4D5663\"},\"text\":\"\"},\"zerolinecolor\":\"#E1E5ED\"},\"yaxis\":{\"gridcolor\":\"#E1E5ED\",\"showgrid\":true,\"tickfont\":{\"color\":\"#4D5663\"},\"title\":{\"font\":{\"color\":\"#4D5663\"},\"text\":\"\"},\"zerolinecolor\":\"#E1E5ED\"}},                        {\"showLink\": true, \"linkText\": \"Export to plot.ly\", \"plotlyServerURL\": \"https://plot.ly\", \"responsive\": true}                    ).then(function(){\n",
       "                            \n",
       "var gd = document.getElementById('4651186c-f9e4-40b9-9bc5-ddb303047c6d');\n",
       "var x = new MutationObserver(function (mutations, observer) {{\n",
       "        var display = window.getComputedStyle(gd).display;\n",
       "        if (!display || display === 'none') {{\n",
       "            console.log([gd, 'removed!']);\n",
       "            Plotly.purge(gd);\n",
       "            observer.disconnect();\n",
       "        }}\n",
       "}});\n",
       "\n",
       "// Listen for the removal of the full notebook cells\n",
       "var notebookContainer = gd.closest('#notebook-container');\n",
       "if (notebookContainer) {{\n",
       "    x.observe(notebookContainer, {childList: true});\n",
       "}}\n",
       "\n",
       "// Listen for the clearing of the current output cell\n",
       "var outputEl = gd.closest('.output');\n",
       "if (outputEl) {{\n",
       "    x.observe(outputEl, {childList: true});\n",
       "}}\n",
       "\n",
       "                        })                };                });            </script>        </div>"
      ]
     },
     "metadata": {},
     "output_type": "display_data"
    }
   ],
   "source": [
    "df.iplot(kind='scatter',x='A',y='B',mode='markers',size=10)"
   ]
  },
  {
   "cell_type": "markdown",
   "metadata": {},
   "source": [
    "## Bar Plots"
   ]
  },
  {
   "cell_type": "code",
   "execution_count": 11,
   "metadata": {},
   "outputs": [
    {
     "data": {
      "application/vnd.plotly.v1+json": {
       "config": {
        "linkText": "Export to plot.ly",
        "plotlyServerURL": "https://plot.ly",
        "showLink": true
       },
       "data": [
        {
         "marker": {
          "color": "rgba(255, 153, 51, 0.6)",
          "line": {
           "color": "rgba(255, 153, 51, 1.0)",
           "width": 1
          }
         },
         "name": "Values",
         "orientation": "v",
         "text": "",
         "type": "bar",
         "x": [
          "A",
          "B",
          "C"
         ],
         "y": [
          32,
          43,
          50
         ]
        }
       ],
       "layout": {
        "legend": {
         "bgcolor": "#F5F6F9",
         "font": {
          "color": "#4D5663"
         }
        },
        "paper_bgcolor": "#F5F6F9",
        "plot_bgcolor": "#F5F6F9",
        "template": {
         "data": {
          "bar": [
           {
            "error_x": {
             "color": "#2a3f5f"
            },
            "error_y": {
             "color": "#2a3f5f"
            },
            "marker": {
             "line": {
              "color": "#E5ECF6",
              "width": 0.5
             },
             "pattern": {
              "fillmode": "overlay",
              "size": 10,
              "solidity": 0.2
             }
            },
            "type": "bar"
           }
          ],
          "barpolar": [
           {
            "marker": {
             "line": {
              "color": "#E5ECF6",
              "width": 0.5
             },
             "pattern": {
              "fillmode": "overlay",
              "size": 10,
              "solidity": 0.2
             }
            },
            "type": "barpolar"
           }
          ],
          "carpet": [
           {
            "aaxis": {
             "endlinecolor": "#2a3f5f",
             "gridcolor": "white",
             "linecolor": "white",
             "minorgridcolor": "white",
             "startlinecolor": "#2a3f5f"
            },
            "baxis": {
             "endlinecolor": "#2a3f5f",
             "gridcolor": "white",
             "linecolor": "white",
             "minorgridcolor": "white",
             "startlinecolor": "#2a3f5f"
            },
            "type": "carpet"
           }
          ],
          "choropleth": [
           {
            "colorbar": {
             "outlinewidth": 0,
             "ticks": ""
            },
            "type": "choropleth"
           }
          ],
          "contour": [
           {
            "colorbar": {
             "outlinewidth": 0,
             "ticks": ""
            },
            "colorscale": [
             [
              0,
              "#0d0887"
             ],
             [
              0.1111111111111111,
              "#46039f"
             ],
             [
              0.2222222222222222,
              "#7201a8"
             ],
             [
              0.3333333333333333,
              "#9c179e"
             ],
             [
              0.4444444444444444,
              "#bd3786"
             ],
             [
              0.5555555555555556,
              "#d8576b"
             ],
             [
              0.6666666666666666,
              "#ed7953"
             ],
             [
              0.7777777777777778,
              "#fb9f3a"
             ],
             [
              0.8888888888888888,
              "#fdca26"
             ],
             [
              1,
              "#f0f921"
             ]
            ],
            "type": "contour"
           }
          ],
          "contourcarpet": [
           {
            "colorbar": {
             "outlinewidth": 0,
             "ticks": ""
            },
            "type": "contourcarpet"
           }
          ],
          "heatmap": [
           {
            "colorbar": {
             "outlinewidth": 0,
             "ticks": ""
            },
            "colorscale": [
             [
              0,
              "#0d0887"
             ],
             [
              0.1111111111111111,
              "#46039f"
             ],
             [
              0.2222222222222222,
              "#7201a8"
             ],
             [
              0.3333333333333333,
              "#9c179e"
             ],
             [
              0.4444444444444444,
              "#bd3786"
             ],
             [
              0.5555555555555556,
              "#d8576b"
             ],
             [
              0.6666666666666666,
              "#ed7953"
             ],
             [
              0.7777777777777778,
              "#fb9f3a"
             ],
             [
              0.8888888888888888,
              "#fdca26"
             ],
             [
              1,
              "#f0f921"
             ]
            ],
            "type": "heatmap"
           }
          ],
          "heatmapgl": [
           {
            "colorbar": {
             "outlinewidth": 0,
             "ticks": ""
            },
            "colorscale": [
             [
              0,
              "#0d0887"
             ],
             [
              0.1111111111111111,
              "#46039f"
             ],
             [
              0.2222222222222222,
              "#7201a8"
             ],
             [
              0.3333333333333333,
              "#9c179e"
             ],
             [
              0.4444444444444444,
              "#bd3786"
             ],
             [
              0.5555555555555556,
              "#d8576b"
             ],
             [
              0.6666666666666666,
              "#ed7953"
             ],
             [
              0.7777777777777778,
              "#fb9f3a"
             ],
             [
              0.8888888888888888,
              "#fdca26"
             ],
             [
              1,
              "#f0f921"
             ]
            ],
            "type": "heatmapgl"
           }
          ],
          "histogram": [
           {
            "marker": {
             "pattern": {
              "fillmode": "overlay",
              "size": 10,
              "solidity": 0.2
             }
            },
            "type": "histogram"
           }
          ],
          "histogram2d": [
           {
            "colorbar": {
             "outlinewidth": 0,
             "ticks": ""
            },
            "colorscale": [
             [
              0,
              "#0d0887"
             ],
             [
              0.1111111111111111,
              "#46039f"
             ],
             [
              0.2222222222222222,
              "#7201a8"
             ],
             [
              0.3333333333333333,
              "#9c179e"
             ],
             [
              0.4444444444444444,
              "#bd3786"
             ],
             [
              0.5555555555555556,
              "#d8576b"
             ],
             [
              0.6666666666666666,
              "#ed7953"
             ],
             [
              0.7777777777777778,
              "#fb9f3a"
             ],
             [
              0.8888888888888888,
              "#fdca26"
             ],
             [
              1,
              "#f0f921"
             ]
            ],
            "type": "histogram2d"
           }
          ],
          "histogram2dcontour": [
           {
            "colorbar": {
             "outlinewidth": 0,
             "ticks": ""
            },
            "colorscale": [
             [
              0,
              "#0d0887"
             ],
             [
              0.1111111111111111,
              "#46039f"
             ],
             [
              0.2222222222222222,
              "#7201a8"
             ],
             [
              0.3333333333333333,
              "#9c179e"
             ],
             [
              0.4444444444444444,
              "#bd3786"
             ],
             [
              0.5555555555555556,
              "#d8576b"
             ],
             [
              0.6666666666666666,
              "#ed7953"
             ],
             [
              0.7777777777777778,
              "#fb9f3a"
             ],
             [
              0.8888888888888888,
              "#fdca26"
             ],
             [
              1,
              "#f0f921"
             ]
            ],
            "type": "histogram2dcontour"
           }
          ],
          "mesh3d": [
           {
            "colorbar": {
             "outlinewidth": 0,
             "ticks": ""
            },
            "type": "mesh3d"
           }
          ],
          "parcoords": [
           {
            "line": {
             "colorbar": {
              "outlinewidth": 0,
              "ticks": ""
             }
            },
            "type": "parcoords"
           }
          ],
          "pie": [
           {
            "automargin": true,
            "type": "pie"
           }
          ],
          "scatter": [
           {
            "fillpattern": {
             "fillmode": "overlay",
             "size": 10,
             "solidity": 0.2
            },
            "type": "scatter"
           }
          ],
          "scatter3d": [
           {
            "line": {
             "colorbar": {
              "outlinewidth": 0,
              "ticks": ""
             }
            },
            "marker": {
             "colorbar": {
              "outlinewidth": 0,
              "ticks": ""
             }
            },
            "type": "scatter3d"
           }
          ],
          "scattercarpet": [
           {
            "marker": {
             "colorbar": {
              "outlinewidth": 0,
              "ticks": ""
             }
            },
            "type": "scattercarpet"
           }
          ],
          "scattergeo": [
           {
            "marker": {
             "colorbar": {
              "outlinewidth": 0,
              "ticks": ""
             }
            },
            "type": "scattergeo"
           }
          ],
          "scattergl": [
           {
            "marker": {
             "colorbar": {
              "outlinewidth": 0,
              "ticks": ""
             }
            },
            "type": "scattergl"
           }
          ],
          "scattermapbox": [
           {
            "marker": {
             "colorbar": {
              "outlinewidth": 0,
              "ticks": ""
             }
            },
            "type": "scattermapbox"
           }
          ],
          "scatterpolar": [
           {
            "marker": {
             "colorbar": {
              "outlinewidth": 0,
              "ticks": ""
             }
            },
            "type": "scatterpolar"
           }
          ],
          "scatterpolargl": [
           {
            "marker": {
             "colorbar": {
              "outlinewidth": 0,
              "ticks": ""
             }
            },
            "type": "scatterpolargl"
           }
          ],
          "scatterternary": [
           {
            "marker": {
             "colorbar": {
              "outlinewidth": 0,
              "ticks": ""
             }
            },
            "type": "scatterternary"
           }
          ],
          "surface": [
           {
            "colorbar": {
             "outlinewidth": 0,
             "ticks": ""
            },
            "colorscale": [
             [
              0,
              "#0d0887"
             ],
             [
              0.1111111111111111,
              "#46039f"
             ],
             [
              0.2222222222222222,
              "#7201a8"
             ],
             [
              0.3333333333333333,
              "#9c179e"
             ],
             [
              0.4444444444444444,
              "#bd3786"
             ],
             [
              0.5555555555555556,
              "#d8576b"
             ],
             [
              0.6666666666666666,
              "#ed7953"
             ],
             [
              0.7777777777777778,
              "#fb9f3a"
             ],
             [
              0.8888888888888888,
              "#fdca26"
             ],
             [
              1,
              "#f0f921"
             ]
            ],
            "type": "surface"
           }
          ],
          "table": [
           {
            "cells": {
             "fill": {
              "color": "#EBF0F8"
             },
             "line": {
              "color": "white"
             }
            },
            "header": {
             "fill": {
              "color": "#C8D4E3"
             },
             "line": {
              "color": "white"
             }
            },
            "type": "table"
           }
          ]
         },
         "layout": {
          "annotationdefaults": {
           "arrowcolor": "#2a3f5f",
           "arrowhead": 0,
           "arrowwidth": 1
          },
          "autotypenumbers": "strict",
          "coloraxis": {
           "colorbar": {
            "outlinewidth": 0,
            "ticks": ""
           }
          },
          "colorscale": {
           "diverging": [
            [
             0,
             "#8e0152"
            ],
            [
             0.1,
             "#c51b7d"
            ],
            [
             0.2,
             "#de77ae"
            ],
            [
             0.3,
             "#f1b6da"
            ],
            [
             0.4,
             "#fde0ef"
            ],
            [
             0.5,
             "#f7f7f7"
            ],
            [
             0.6,
             "#e6f5d0"
            ],
            [
             0.7,
             "#b8e186"
            ],
            [
             0.8,
             "#7fbc41"
            ],
            [
             0.9,
             "#4d9221"
            ],
            [
             1,
             "#276419"
            ]
           ],
           "sequential": [
            [
             0,
             "#0d0887"
            ],
            [
             0.1111111111111111,
             "#46039f"
            ],
            [
             0.2222222222222222,
             "#7201a8"
            ],
            [
             0.3333333333333333,
             "#9c179e"
            ],
            [
             0.4444444444444444,
             "#bd3786"
            ],
            [
             0.5555555555555556,
             "#d8576b"
            ],
            [
             0.6666666666666666,
             "#ed7953"
            ],
            [
             0.7777777777777778,
             "#fb9f3a"
            ],
            [
             0.8888888888888888,
             "#fdca26"
            ],
            [
             1,
             "#f0f921"
            ]
           ],
           "sequentialminus": [
            [
             0,
             "#0d0887"
            ],
            [
             0.1111111111111111,
             "#46039f"
            ],
            [
             0.2222222222222222,
             "#7201a8"
            ],
            [
             0.3333333333333333,
             "#9c179e"
            ],
            [
             0.4444444444444444,
             "#bd3786"
            ],
            [
             0.5555555555555556,
             "#d8576b"
            ],
            [
             0.6666666666666666,
             "#ed7953"
            ],
            [
             0.7777777777777778,
             "#fb9f3a"
            ],
            [
             0.8888888888888888,
             "#fdca26"
            ],
            [
             1,
             "#f0f921"
            ]
           ]
          },
          "colorway": [
           "#636efa",
           "#EF553B",
           "#00cc96",
           "#ab63fa",
           "#FFA15A",
           "#19d3f3",
           "#FF6692",
           "#B6E880",
           "#FF97FF",
           "#FECB52"
          ],
          "font": {
           "color": "#2a3f5f"
          },
          "geo": {
           "bgcolor": "white",
           "lakecolor": "white",
           "landcolor": "#E5ECF6",
           "showlakes": true,
           "showland": true,
           "subunitcolor": "white"
          },
          "hoverlabel": {
           "align": "left"
          },
          "hovermode": "closest",
          "mapbox": {
           "style": "light"
          },
          "paper_bgcolor": "white",
          "plot_bgcolor": "#E5ECF6",
          "polar": {
           "angularaxis": {
            "gridcolor": "white",
            "linecolor": "white",
            "ticks": ""
           },
           "bgcolor": "#E5ECF6",
           "radialaxis": {
            "gridcolor": "white",
            "linecolor": "white",
            "ticks": ""
           }
          },
          "scene": {
           "xaxis": {
            "backgroundcolor": "#E5ECF6",
            "gridcolor": "white",
            "gridwidth": 2,
            "linecolor": "white",
            "showbackground": true,
            "ticks": "",
            "zerolinecolor": "white"
           },
           "yaxis": {
            "backgroundcolor": "#E5ECF6",
            "gridcolor": "white",
            "gridwidth": 2,
            "linecolor": "white",
            "showbackground": true,
            "ticks": "",
            "zerolinecolor": "white"
           },
           "zaxis": {
            "backgroundcolor": "#E5ECF6",
            "gridcolor": "white",
            "gridwidth": 2,
            "linecolor": "white",
            "showbackground": true,
            "ticks": "",
            "zerolinecolor": "white"
           }
          },
          "shapedefaults": {
           "line": {
            "color": "#2a3f5f"
           }
          },
          "ternary": {
           "aaxis": {
            "gridcolor": "white",
            "linecolor": "white",
            "ticks": ""
           },
           "baxis": {
            "gridcolor": "white",
            "linecolor": "white",
            "ticks": ""
           },
           "bgcolor": "#E5ECF6",
           "caxis": {
            "gridcolor": "white",
            "linecolor": "white",
            "ticks": ""
           }
          },
          "title": {
           "x": 0.05
          },
          "xaxis": {
           "automargin": true,
           "gridcolor": "white",
           "linecolor": "white",
           "ticks": "",
           "title": {
            "standoff": 15
           },
           "zerolinecolor": "white",
           "zerolinewidth": 2
          },
          "yaxis": {
           "automargin": true,
           "gridcolor": "white",
           "linecolor": "white",
           "ticks": "",
           "title": {
            "standoff": 15
           },
           "zerolinecolor": "white",
           "zerolinewidth": 2
          }
         }
        },
        "title": {
         "font": {
          "color": "#4D5663"
         }
        },
        "xaxis": {
         "gridcolor": "#E1E5ED",
         "showgrid": true,
         "tickfont": {
          "color": "#4D5663"
         },
         "title": {
          "font": {
           "color": "#4D5663"
          },
          "text": ""
         },
         "zerolinecolor": "#E1E5ED"
        },
        "yaxis": {
         "gridcolor": "#E1E5ED",
         "showgrid": true,
         "tickfont": {
          "color": "#4D5663"
         },
         "title": {
          "font": {
           "color": "#4D5663"
          },
          "text": ""
         },
         "zerolinecolor": "#E1E5ED"
        }
       }
      },
      "text/html": [
       "<div>                            <div id=\"947b55c5-e23e-4200-95f0-71440a54a66d\" class=\"plotly-graph-div\" style=\"height:525px; width:100%;\"></div>            <script type=\"text/javascript\">                require([\"plotly\"], function(Plotly) {                    window.PLOTLYENV=window.PLOTLYENV || {};\n",
       "                    window.PLOTLYENV.BASE_URL='https://plot.ly';                                    if (document.getElementById(\"947b55c5-e23e-4200-95f0-71440a54a66d\")) {                    Plotly.newPlot(                        \"947b55c5-e23e-4200-95f0-71440a54a66d\",                        [{\"marker\":{\"color\":\"rgba(255, 153, 51, 0.6)\",\"line\":{\"color\":\"rgba(255, 153, 51, 1.0)\",\"width\":1}},\"name\":\"Values\",\"orientation\":\"v\",\"text\":\"\",\"x\":[\"A\",\"B\",\"C\"],\"y\":[32,43,50],\"type\":\"bar\"}],                        {\"legend\":{\"bgcolor\":\"#F5F6F9\",\"font\":{\"color\":\"#4D5663\"}},\"paper_bgcolor\":\"#F5F6F9\",\"plot_bgcolor\":\"#F5F6F9\",\"template\":{\"data\":{\"barpolar\":[{\"marker\":{\"line\":{\"color\":\"#E5ECF6\",\"width\":0.5},\"pattern\":{\"fillmode\":\"overlay\",\"size\":10,\"solidity\":0.2}},\"type\":\"barpolar\"}],\"bar\":[{\"error_x\":{\"color\":\"#2a3f5f\"},\"error_y\":{\"color\":\"#2a3f5f\"},\"marker\":{\"line\":{\"color\":\"#E5ECF6\",\"width\":0.5},\"pattern\":{\"fillmode\":\"overlay\",\"size\":10,\"solidity\":0.2}},\"type\":\"bar\"}],\"carpet\":[{\"aaxis\":{\"endlinecolor\":\"#2a3f5f\",\"gridcolor\":\"white\",\"linecolor\":\"white\",\"minorgridcolor\":\"white\",\"startlinecolor\":\"#2a3f5f\"},\"baxis\":{\"endlinecolor\":\"#2a3f5f\",\"gridcolor\":\"white\",\"linecolor\":\"white\",\"minorgridcolor\":\"white\",\"startlinecolor\":\"#2a3f5f\"},\"type\":\"carpet\"}],\"choropleth\":[{\"colorbar\":{\"outlinewidth\":0,\"ticks\":\"\"},\"type\":\"choropleth\"}],\"contourcarpet\":[{\"colorbar\":{\"outlinewidth\":0,\"ticks\":\"\"},\"type\":\"contourcarpet\"}],\"contour\":[{\"colorbar\":{\"outlinewidth\":0,\"ticks\":\"\"},\"colorscale\":[[0.0,\"#0d0887\"],[0.1111111111111111,\"#46039f\"],[0.2222222222222222,\"#7201a8\"],[0.3333333333333333,\"#9c179e\"],[0.4444444444444444,\"#bd3786\"],[0.5555555555555556,\"#d8576b\"],[0.6666666666666666,\"#ed7953\"],[0.7777777777777778,\"#fb9f3a\"],[0.8888888888888888,\"#fdca26\"],[1.0,\"#f0f921\"]],\"type\":\"contour\"}],\"heatmapgl\":[{\"colorbar\":{\"outlinewidth\":0,\"ticks\":\"\"},\"colorscale\":[[0.0,\"#0d0887\"],[0.1111111111111111,\"#46039f\"],[0.2222222222222222,\"#7201a8\"],[0.3333333333333333,\"#9c179e\"],[0.4444444444444444,\"#bd3786\"],[0.5555555555555556,\"#d8576b\"],[0.6666666666666666,\"#ed7953\"],[0.7777777777777778,\"#fb9f3a\"],[0.8888888888888888,\"#fdca26\"],[1.0,\"#f0f921\"]],\"type\":\"heatmapgl\"}],\"heatmap\":[{\"colorbar\":{\"outlinewidth\":0,\"ticks\":\"\"},\"colorscale\":[[0.0,\"#0d0887\"],[0.1111111111111111,\"#46039f\"],[0.2222222222222222,\"#7201a8\"],[0.3333333333333333,\"#9c179e\"],[0.4444444444444444,\"#bd3786\"],[0.5555555555555556,\"#d8576b\"],[0.6666666666666666,\"#ed7953\"],[0.7777777777777778,\"#fb9f3a\"],[0.8888888888888888,\"#fdca26\"],[1.0,\"#f0f921\"]],\"type\":\"heatmap\"}],\"histogram2dcontour\":[{\"colorbar\":{\"outlinewidth\":0,\"ticks\":\"\"},\"colorscale\":[[0.0,\"#0d0887\"],[0.1111111111111111,\"#46039f\"],[0.2222222222222222,\"#7201a8\"],[0.3333333333333333,\"#9c179e\"],[0.4444444444444444,\"#bd3786\"],[0.5555555555555556,\"#d8576b\"],[0.6666666666666666,\"#ed7953\"],[0.7777777777777778,\"#fb9f3a\"],[0.8888888888888888,\"#fdca26\"],[1.0,\"#f0f921\"]],\"type\":\"histogram2dcontour\"}],\"histogram2d\":[{\"colorbar\":{\"outlinewidth\":0,\"ticks\":\"\"},\"colorscale\":[[0.0,\"#0d0887\"],[0.1111111111111111,\"#46039f\"],[0.2222222222222222,\"#7201a8\"],[0.3333333333333333,\"#9c179e\"],[0.4444444444444444,\"#bd3786\"],[0.5555555555555556,\"#d8576b\"],[0.6666666666666666,\"#ed7953\"],[0.7777777777777778,\"#fb9f3a\"],[0.8888888888888888,\"#fdca26\"],[1.0,\"#f0f921\"]],\"type\":\"histogram2d\"}],\"histogram\":[{\"marker\":{\"pattern\":{\"fillmode\":\"overlay\",\"size\":10,\"solidity\":0.2}},\"type\":\"histogram\"}],\"mesh3d\":[{\"colorbar\":{\"outlinewidth\":0,\"ticks\":\"\"},\"type\":\"mesh3d\"}],\"parcoords\":[{\"line\":{\"colorbar\":{\"outlinewidth\":0,\"ticks\":\"\"}},\"type\":\"parcoords\"}],\"pie\":[{\"automargin\":true,\"type\":\"pie\"}],\"scatter3d\":[{\"line\":{\"colorbar\":{\"outlinewidth\":0,\"ticks\":\"\"}},\"marker\":{\"colorbar\":{\"outlinewidth\":0,\"ticks\":\"\"}},\"type\":\"scatter3d\"}],\"scattercarpet\":[{\"marker\":{\"colorbar\":{\"outlinewidth\":0,\"ticks\":\"\"}},\"type\":\"scattercarpet\"}],\"scattergeo\":[{\"marker\":{\"colorbar\":{\"outlinewidth\":0,\"ticks\":\"\"}},\"type\":\"scattergeo\"}],\"scattergl\":[{\"marker\":{\"colorbar\":{\"outlinewidth\":0,\"ticks\":\"\"}},\"type\":\"scattergl\"}],\"scattermapbox\":[{\"marker\":{\"colorbar\":{\"outlinewidth\":0,\"ticks\":\"\"}},\"type\":\"scattermapbox\"}],\"scatterpolargl\":[{\"marker\":{\"colorbar\":{\"outlinewidth\":0,\"ticks\":\"\"}},\"type\":\"scatterpolargl\"}],\"scatterpolar\":[{\"marker\":{\"colorbar\":{\"outlinewidth\":0,\"ticks\":\"\"}},\"type\":\"scatterpolar\"}],\"scatter\":[{\"fillpattern\":{\"fillmode\":\"overlay\",\"size\":10,\"solidity\":0.2},\"type\":\"scatter\"}],\"scatterternary\":[{\"marker\":{\"colorbar\":{\"outlinewidth\":0,\"ticks\":\"\"}},\"type\":\"scatterternary\"}],\"surface\":[{\"colorbar\":{\"outlinewidth\":0,\"ticks\":\"\"},\"colorscale\":[[0.0,\"#0d0887\"],[0.1111111111111111,\"#46039f\"],[0.2222222222222222,\"#7201a8\"],[0.3333333333333333,\"#9c179e\"],[0.4444444444444444,\"#bd3786\"],[0.5555555555555556,\"#d8576b\"],[0.6666666666666666,\"#ed7953\"],[0.7777777777777778,\"#fb9f3a\"],[0.8888888888888888,\"#fdca26\"],[1.0,\"#f0f921\"]],\"type\":\"surface\"}],\"table\":[{\"cells\":{\"fill\":{\"color\":\"#EBF0F8\"},\"line\":{\"color\":\"white\"}},\"header\":{\"fill\":{\"color\":\"#C8D4E3\"},\"line\":{\"color\":\"white\"}},\"type\":\"table\"}]},\"layout\":{\"annotationdefaults\":{\"arrowcolor\":\"#2a3f5f\",\"arrowhead\":0,\"arrowwidth\":1},\"autotypenumbers\":\"strict\",\"coloraxis\":{\"colorbar\":{\"outlinewidth\":0,\"ticks\":\"\"}},\"colorscale\":{\"diverging\":[[0,\"#8e0152\"],[0.1,\"#c51b7d\"],[0.2,\"#de77ae\"],[0.3,\"#f1b6da\"],[0.4,\"#fde0ef\"],[0.5,\"#f7f7f7\"],[0.6,\"#e6f5d0\"],[0.7,\"#b8e186\"],[0.8,\"#7fbc41\"],[0.9,\"#4d9221\"],[1,\"#276419\"]],\"sequential\":[[0.0,\"#0d0887\"],[0.1111111111111111,\"#46039f\"],[0.2222222222222222,\"#7201a8\"],[0.3333333333333333,\"#9c179e\"],[0.4444444444444444,\"#bd3786\"],[0.5555555555555556,\"#d8576b\"],[0.6666666666666666,\"#ed7953\"],[0.7777777777777778,\"#fb9f3a\"],[0.8888888888888888,\"#fdca26\"],[1.0,\"#f0f921\"]],\"sequentialminus\":[[0.0,\"#0d0887\"],[0.1111111111111111,\"#46039f\"],[0.2222222222222222,\"#7201a8\"],[0.3333333333333333,\"#9c179e\"],[0.4444444444444444,\"#bd3786\"],[0.5555555555555556,\"#d8576b\"],[0.6666666666666666,\"#ed7953\"],[0.7777777777777778,\"#fb9f3a\"],[0.8888888888888888,\"#fdca26\"],[1.0,\"#f0f921\"]]},\"colorway\":[\"#636efa\",\"#EF553B\",\"#00cc96\",\"#ab63fa\",\"#FFA15A\",\"#19d3f3\",\"#FF6692\",\"#B6E880\",\"#FF97FF\",\"#FECB52\"],\"font\":{\"color\":\"#2a3f5f\"},\"geo\":{\"bgcolor\":\"white\",\"lakecolor\":\"white\",\"landcolor\":\"#E5ECF6\",\"showlakes\":true,\"showland\":true,\"subunitcolor\":\"white\"},\"hoverlabel\":{\"align\":\"left\"},\"hovermode\":\"closest\",\"mapbox\":{\"style\":\"light\"},\"paper_bgcolor\":\"white\",\"plot_bgcolor\":\"#E5ECF6\",\"polar\":{\"angularaxis\":{\"gridcolor\":\"white\",\"linecolor\":\"white\",\"ticks\":\"\"},\"bgcolor\":\"#E5ECF6\",\"radialaxis\":{\"gridcolor\":\"white\",\"linecolor\":\"white\",\"ticks\":\"\"}},\"scene\":{\"xaxis\":{\"backgroundcolor\":\"#E5ECF6\",\"gridcolor\":\"white\",\"gridwidth\":2,\"linecolor\":\"white\",\"showbackground\":true,\"ticks\":\"\",\"zerolinecolor\":\"white\"},\"yaxis\":{\"backgroundcolor\":\"#E5ECF6\",\"gridcolor\":\"white\",\"gridwidth\":2,\"linecolor\":\"white\",\"showbackground\":true,\"ticks\":\"\",\"zerolinecolor\":\"white\"},\"zaxis\":{\"backgroundcolor\":\"#E5ECF6\",\"gridcolor\":\"white\",\"gridwidth\":2,\"linecolor\":\"white\",\"showbackground\":true,\"ticks\":\"\",\"zerolinecolor\":\"white\"}},\"shapedefaults\":{\"line\":{\"color\":\"#2a3f5f\"}},\"ternary\":{\"aaxis\":{\"gridcolor\":\"white\",\"linecolor\":\"white\",\"ticks\":\"\"},\"baxis\":{\"gridcolor\":\"white\",\"linecolor\":\"white\",\"ticks\":\"\"},\"bgcolor\":\"#E5ECF6\",\"caxis\":{\"gridcolor\":\"white\",\"linecolor\":\"white\",\"ticks\":\"\"}},\"title\":{\"x\":0.05},\"xaxis\":{\"automargin\":true,\"gridcolor\":\"white\",\"linecolor\":\"white\",\"ticks\":\"\",\"title\":{\"standoff\":15},\"zerolinecolor\":\"white\",\"zerolinewidth\":2},\"yaxis\":{\"automargin\":true,\"gridcolor\":\"white\",\"linecolor\":\"white\",\"ticks\":\"\",\"title\":{\"standoff\":15},\"zerolinecolor\":\"white\",\"zerolinewidth\":2}}},\"title\":{\"font\":{\"color\":\"#4D5663\"}},\"xaxis\":{\"gridcolor\":\"#E1E5ED\",\"showgrid\":true,\"tickfont\":{\"color\":\"#4D5663\"},\"title\":{\"font\":{\"color\":\"#4D5663\"},\"text\":\"\"},\"zerolinecolor\":\"#E1E5ED\"},\"yaxis\":{\"gridcolor\":\"#E1E5ED\",\"showgrid\":true,\"tickfont\":{\"color\":\"#4D5663\"},\"title\":{\"font\":{\"color\":\"#4D5663\"},\"text\":\"\"},\"zerolinecolor\":\"#E1E5ED\"}},                        {\"showLink\": true, \"linkText\": \"Export to plot.ly\", \"plotlyServerURL\": \"https://plot.ly\", \"responsive\": true}                    ).then(function(){\n",
       "                            \n",
       "var gd = document.getElementById('947b55c5-e23e-4200-95f0-71440a54a66d');\n",
       "var x = new MutationObserver(function (mutations, observer) {{\n",
       "        var display = window.getComputedStyle(gd).display;\n",
       "        if (!display || display === 'none') {{\n",
       "            console.log([gd, 'removed!']);\n",
       "            Plotly.purge(gd);\n",
       "            observer.disconnect();\n",
       "        }}\n",
       "}});\n",
       "\n",
       "// Listen for the removal of the full notebook cells\n",
       "var notebookContainer = gd.closest('#notebook-container');\n",
       "if (notebookContainer) {{\n",
       "    x.observe(notebookContainer, {childList: true});\n",
       "}}\n",
       "\n",
       "// Listen for the clearing of the current output cell\n",
       "var outputEl = gd.closest('.output');\n",
       "if (outputEl) {{\n",
       "    x.observe(outputEl, {childList: true});\n",
       "}}\n",
       "\n",
       "                        })                };                });            </script>        </div>"
      ]
     },
     "metadata": {},
     "output_type": "display_data"
    }
   ],
   "source": [
    "df2.iplot(kind='bar',x='Category',y='Values')"
   ]
  },
  {
   "cell_type": "code",
   "execution_count": 12,
   "metadata": {},
   "outputs": [
    {
     "data": {
      "application/vnd.plotly.v1+json": {
       "config": {
        "linkText": "Export to plot.ly",
        "plotlyServerURL": "https://plot.ly",
        "showLink": true
       },
       "data": [
        {
         "marker": {
          "color": "rgba(255, 153, 51, 0.6)",
          "line": {
           "color": "rgba(255, 153, 51, 1.0)",
           "width": 1
          }
         },
         "name": "None",
         "orientation": "v",
         "text": "",
         "type": "bar",
         "x": [
          "A",
          "B",
          "C",
          "D"
         ],
         "y": [
          100,
          100,
          100,
          100
         ]
        }
       ],
       "layout": {
        "legend": {
         "bgcolor": "#F5F6F9",
         "font": {
          "color": "#4D5663"
         }
        },
        "paper_bgcolor": "#F5F6F9",
        "plot_bgcolor": "#F5F6F9",
        "template": {
         "data": {
          "bar": [
           {
            "error_x": {
             "color": "#2a3f5f"
            },
            "error_y": {
             "color": "#2a3f5f"
            },
            "marker": {
             "line": {
              "color": "#E5ECF6",
              "width": 0.5
             },
             "pattern": {
              "fillmode": "overlay",
              "size": 10,
              "solidity": 0.2
             }
            },
            "type": "bar"
           }
          ],
          "barpolar": [
           {
            "marker": {
             "line": {
              "color": "#E5ECF6",
              "width": 0.5
             },
             "pattern": {
              "fillmode": "overlay",
              "size": 10,
              "solidity": 0.2
             }
            },
            "type": "barpolar"
           }
          ],
          "carpet": [
           {
            "aaxis": {
             "endlinecolor": "#2a3f5f",
             "gridcolor": "white",
             "linecolor": "white",
             "minorgridcolor": "white",
             "startlinecolor": "#2a3f5f"
            },
            "baxis": {
             "endlinecolor": "#2a3f5f",
             "gridcolor": "white",
             "linecolor": "white",
             "minorgridcolor": "white",
             "startlinecolor": "#2a3f5f"
            },
            "type": "carpet"
           }
          ],
          "choropleth": [
           {
            "colorbar": {
             "outlinewidth": 0,
             "ticks": ""
            },
            "type": "choropleth"
           }
          ],
          "contour": [
           {
            "colorbar": {
             "outlinewidth": 0,
             "ticks": ""
            },
            "colorscale": [
             [
              0,
              "#0d0887"
             ],
             [
              0.1111111111111111,
              "#46039f"
             ],
             [
              0.2222222222222222,
              "#7201a8"
             ],
             [
              0.3333333333333333,
              "#9c179e"
             ],
             [
              0.4444444444444444,
              "#bd3786"
             ],
             [
              0.5555555555555556,
              "#d8576b"
             ],
             [
              0.6666666666666666,
              "#ed7953"
             ],
             [
              0.7777777777777778,
              "#fb9f3a"
             ],
             [
              0.8888888888888888,
              "#fdca26"
             ],
             [
              1,
              "#f0f921"
             ]
            ],
            "type": "contour"
           }
          ],
          "contourcarpet": [
           {
            "colorbar": {
             "outlinewidth": 0,
             "ticks": ""
            },
            "type": "contourcarpet"
           }
          ],
          "heatmap": [
           {
            "colorbar": {
             "outlinewidth": 0,
             "ticks": ""
            },
            "colorscale": [
             [
              0,
              "#0d0887"
             ],
             [
              0.1111111111111111,
              "#46039f"
             ],
             [
              0.2222222222222222,
              "#7201a8"
             ],
             [
              0.3333333333333333,
              "#9c179e"
             ],
             [
              0.4444444444444444,
              "#bd3786"
             ],
             [
              0.5555555555555556,
              "#d8576b"
             ],
             [
              0.6666666666666666,
              "#ed7953"
             ],
             [
              0.7777777777777778,
              "#fb9f3a"
             ],
             [
              0.8888888888888888,
              "#fdca26"
             ],
             [
              1,
              "#f0f921"
             ]
            ],
            "type": "heatmap"
           }
          ],
          "heatmapgl": [
           {
            "colorbar": {
             "outlinewidth": 0,
             "ticks": ""
            },
            "colorscale": [
             [
              0,
              "#0d0887"
             ],
             [
              0.1111111111111111,
              "#46039f"
             ],
             [
              0.2222222222222222,
              "#7201a8"
             ],
             [
              0.3333333333333333,
              "#9c179e"
             ],
             [
              0.4444444444444444,
              "#bd3786"
             ],
             [
              0.5555555555555556,
              "#d8576b"
             ],
             [
              0.6666666666666666,
              "#ed7953"
             ],
             [
              0.7777777777777778,
              "#fb9f3a"
             ],
             [
              0.8888888888888888,
              "#fdca26"
             ],
             [
              1,
              "#f0f921"
             ]
            ],
            "type": "heatmapgl"
           }
          ],
          "histogram": [
           {
            "marker": {
             "pattern": {
              "fillmode": "overlay",
              "size": 10,
              "solidity": 0.2
             }
            },
            "type": "histogram"
           }
          ],
          "histogram2d": [
           {
            "colorbar": {
             "outlinewidth": 0,
             "ticks": ""
            },
            "colorscale": [
             [
              0,
              "#0d0887"
             ],
             [
              0.1111111111111111,
              "#46039f"
             ],
             [
              0.2222222222222222,
              "#7201a8"
             ],
             [
              0.3333333333333333,
              "#9c179e"
             ],
             [
              0.4444444444444444,
              "#bd3786"
             ],
             [
              0.5555555555555556,
              "#d8576b"
             ],
             [
              0.6666666666666666,
              "#ed7953"
             ],
             [
              0.7777777777777778,
              "#fb9f3a"
             ],
             [
              0.8888888888888888,
              "#fdca26"
             ],
             [
              1,
              "#f0f921"
             ]
            ],
            "type": "histogram2d"
           }
          ],
          "histogram2dcontour": [
           {
            "colorbar": {
             "outlinewidth": 0,
             "ticks": ""
            },
            "colorscale": [
             [
              0,
              "#0d0887"
             ],
             [
              0.1111111111111111,
              "#46039f"
             ],
             [
              0.2222222222222222,
              "#7201a8"
             ],
             [
              0.3333333333333333,
              "#9c179e"
             ],
             [
              0.4444444444444444,
              "#bd3786"
             ],
             [
              0.5555555555555556,
              "#d8576b"
             ],
             [
              0.6666666666666666,
              "#ed7953"
             ],
             [
              0.7777777777777778,
              "#fb9f3a"
             ],
             [
              0.8888888888888888,
              "#fdca26"
             ],
             [
              1,
              "#f0f921"
             ]
            ],
            "type": "histogram2dcontour"
           }
          ],
          "mesh3d": [
           {
            "colorbar": {
             "outlinewidth": 0,
             "ticks": ""
            },
            "type": "mesh3d"
           }
          ],
          "parcoords": [
           {
            "line": {
             "colorbar": {
              "outlinewidth": 0,
              "ticks": ""
             }
            },
            "type": "parcoords"
           }
          ],
          "pie": [
           {
            "automargin": true,
            "type": "pie"
           }
          ],
          "scatter": [
           {
            "fillpattern": {
             "fillmode": "overlay",
             "size": 10,
             "solidity": 0.2
            },
            "type": "scatter"
           }
          ],
          "scatter3d": [
           {
            "line": {
             "colorbar": {
              "outlinewidth": 0,
              "ticks": ""
             }
            },
            "marker": {
             "colorbar": {
              "outlinewidth": 0,
              "ticks": ""
             }
            },
            "type": "scatter3d"
           }
          ],
          "scattercarpet": [
           {
            "marker": {
             "colorbar": {
              "outlinewidth": 0,
              "ticks": ""
             }
            },
            "type": "scattercarpet"
           }
          ],
          "scattergeo": [
           {
            "marker": {
             "colorbar": {
              "outlinewidth": 0,
              "ticks": ""
             }
            },
            "type": "scattergeo"
           }
          ],
          "scattergl": [
           {
            "marker": {
             "colorbar": {
              "outlinewidth": 0,
              "ticks": ""
             }
            },
            "type": "scattergl"
           }
          ],
          "scattermapbox": [
           {
            "marker": {
             "colorbar": {
              "outlinewidth": 0,
              "ticks": ""
             }
            },
            "type": "scattermapbox"
           }
          ],
          "scatterpolar": [
           {
            "marker": {
             "colorbar": {
              "outlinewidth": 0,
              "ticks": ""
             }
            },
            "type": "scatterpolar"
           }
          ],
          "scatterpolargl": [
           {
            "marker": {
             "colorbar": {
              "outlinewidth": 0,
              "ticks": ""
             }
            },
            "type": "scatterpolargl"
           }
          ],
          "scatterternary": [
           {
            "marker": {
             "colorbar": {
              "outlinewidth": 0,
              "ticks": ""
             }
            },
            "type": "scatterternary"
           }
          ],
          "surface": [
           {
            "colorbar": {
             "outlinewidth": 0,
             "ticks": ""
            },
            "colorscale": [
             [
              0,
              "#0d0887"
             ],
             [
              0.1111111111111111,
              "#46039f"
             ],
             [
              0.2222222222222222,
              "#7201a8"
             ],
             [
              0.3333333333333333,
              "#9c179e"
             ],
             [
              0.4444444444444444,
              "#bd3786"
             ],
             [
              0.5555555555555556,
              "#d8576b"
             ],
             [
              0.6666666666666666,
              "#ed7953"
             ],
             [
              0.7777777777777778,
              "#fb9f3a"
             ],
             [
              0.8888888888888888,
              "#fdca26"
             ],
             [
              1,
              "#f0f921"
             ]
            ],
            "type": "surface"
           }
          ],
          "table": [
           {
            "cells": {
             "fill": {
              "color": "#EBF0F8"
             },
             "line": {
              "color": "white"
             }
            },
            "header": {
             "fill": {
              "color": "#C8D4E3"
             },
             "line": {
              "color": "white"
             }
            },
            "type": "table"
           }
          ]
         },
         "layout": {
          "annotationdefaults": {
           "arrowcolor": "#2a3f5f",
           "arrowhead": 0,
           "arrowwidth": 1
          },
          "autotypenumbers": "strict",
          "coloraxis": {
           "colorbar": {
            "outlinewidth": 0,
            "ticks": ""
           }
          },
          "colorscale": {
           "diverging": [
            [
             0,
             "#8e0152"
            ],
            [
             0.1,
             "#c51b7d"
            ],
            [
             0.2,
             "#de77ae"
            ],
            [
             0.3,
             "#f1b6da"
            ],
            [
             0.4,
             "#fde0ef"
            ],
            [
             0.5,
             "#f7f7f7"
            ],
            [
             0.6,
             "#e6f5d0"
            ],
            [
             0.7,
             "#b8e186"
            ],
            [
             0.8,
             "#7fbc41"
            ],
            [
             0.9,
             "#4d9221"
            ],
            [
             1,
             "#276419"
            ]
           ],
           "sequential": [
            [
             0,
             "#0d0887"
            ],
            [
             0.1111111111111111,
             "#46039f"
            ],
            [
             0.2222222222222222,
             "#7201a8"
            ],
            [
             0.3333333333333333,
             "#9c179e"
            ],
            [
             0.4444444444444444,
             "#bd3786"
            ],
            [
             0.5555555555555556,
             "#d8576b"
            ],
            [
             0.6666666666666666,
             "#ed7953"
            ],
            [
             0.7777777777777778,
             "#fb9f3a"
            ],
            [
             0.8888888888888888,
             "#fdca26"
            ],
            [
             1,
             "#f0f921"
            ]
           ],
           "sequentialminus": [
            [
             0,
             "#0d0887"
            ],
            [
             0.1111111111111111,
             "#46039f"
            ],
            [
             0.2222222222222222,
             "#7201a8"
            ],
            [
             0.3333333333333333,
             "#9c179e"
            ],
            [
             0.4444444444444444,
             "#bd3786"
            ],
            [
             0.5555555555555556,
             "#d8576b"
            ],
            [
             0.6666666666666666,
             "#ed7953"
            ],
            [
             0.7777777777777778,
             "#fb9f3a"
            ],
            [
             0.8888888888888888,
             "#fdca26"
            ],
            [
             1,
             "#f0f921"
            ]
           ]
          },
          "colorway": [
           "#636efa",
           "#EF553B",
           "#00cc96",
           "#ab63fa",
           "#FFA15A",
           "#19d3f3",
           "#FF6692",
           "#B6E880",
           "#FF97FF",
           "#FECB52"
          ],
          "font": {
           "color": "#2a3f5f"
          },
          "geo": {
           "bgcolor": "white",
           "lakecolor": "white",
           "landcolor": "#E5ECF6",
           "showlakes": true,
           "showland": true,
           "subunitcolor": "white"
          },
          "hoverlabel": {
           "align": "left"
          },
          "hovermode": "closest",
          "mapbox": {
           "style": "light"
          },
          "paper_bgcolor": "white",
          "plot_bgcolor": "#E5ECF6",
          "polar": {
           "angularaxis": {
            "gridcolor": "white",
            "linecolor": "white",
            "ticks": ""
           },
           "bgcolor": "#E5ECF6",
           "radialaxis": {
            "gridcolor": "white",
            "linecolor": "white",
            "ticks": ""
           }
          },
          "scene": {
           "xaxis": {
            "backgroundcolor": "#E5ECF6",
            "gridcolor": "white",
            "gridwidth": 2,
            "linecolor": "white",
            "showbackground": true,
            "ticks": "",
            "zerolinecolor": "white"
           },
           "yaxis": {
            "backgroundcolor": "#E5ECF6",
            "gridcolor": "white",
            "gridwidth": 2,
            "linecolor": "white",
            "showbackground": true,
            "ticks": "",
            "zerolinecolor": "white"
           },
           "zaxis": {
            "backgroundcolor": "#E5ECF6",
            "gridcolor": "white",
            "gridwidth": 2,
            "linecolor": "white",
            "showbackground": true,
            "ticks": "",
            "zerolinecolor": "white"
           }
          },
          "shapedefaults": {
           "line": {
            "color": "#2a3f5f"
           }
          },
          "ternary": {
           "aaxis": {
            "gridcolor": "white",
            "linecolor": "white",
            "ticks": ""
           },
           "baxis": {
            "gridcolor": "white",
            "linecolor": "white",
            "ticks": ""
           },
           "bgcolor": "#E5ECF6",
           "caxis": {
            "gridcolor": "white",
            "linecolor": "white",
            "ticks": ""
           }
          },
          "title": {
           "x": 0.05
          },
          "xaxis": {
           "automargin": true,
           "gridcolor": "white",
           "linecolor": "white",
           "ticks": "",
           "title": {
            "standoff": 15
           },
           "zerolinecolor": "white",
           "zerolinewidth": 2
          },
          "yaxis": {
           "automargin": true,
           "gridcolor": "white",
           "linecolor": "white",
           "ticks": "",
           "title": {
            "standoff": 15
           },
           "zerolinecolor": "white",
           "zerolinewidth": 2
          }
         }
        },
        "title": {
         "font": {
          "color": "#4D5663"
         }
        },
        "xaxis": {
         "gridcolor": "#E1E5ED",
         "showgrid": true,
         "tickfont": {
          "color": "#4D5663"
         },
         "title": {
          "font": {
           "color": "#4D5663"
          },
          "text": ""
         },
         "zerolinecolor": "#E1E5ED"
        },
        "yaxis": {
         "gridcolor": "#E1E5ED",
         "showgrid": true,
         "tickfont": {
          "color": "#4D5663"
         },
         "title": {
          "font": {
           "color": "#4D5663"
          },
          "text": ""
         },
         "zerolinecolor": "#E1E5ED"
        }
       }
      },
      "text/html": [
       "<div>                            <div id=\"c9bdf87f-7e60-4893-a627-3e1ab036521d\" class=\"plotly-graph-div\" style=\"height:525px; width:100%;\"></div>            <script type=\"text/javascript\">                require([\"plotly\"], function(Plotly) {                    window.PLOTLYENV=window.PLOTLYENV || {};\n",
       "                    window.PLOTLYENV.BASE_URL='https://plot.ly';                                    if (document.getElementById(\"c9bdf87f-7e60-4893-a627-3e1ab036521d\")) {                    Plotly.newPlot(                        \"c9bdf87f-7e60-4893-a627-3e1ab036521d\",                        [{\"marker\":{\"color\":\"rgba(255, 153, 51, 0.6)\",\"line\":{\"color\":\"rgba(255, 153, 51, 1.0)\",\"width\":1}},\"name\":\"None\",\"orientation\":\"v\",\"text\":\"\",\"x\":[\"A\",\"B\",\"C\",\"D\"],\"y\":[100,100,100,100],\"type\":\"bar\"}],                        {\"legend\":{\"bgcolor\":\"#F5F6F9\",\"font\":{\"color\":\"#4D5663\"}},\"paper_bgcolor\":\"#F5F6F9\",\"plot_bgcolor\":\"#F5F6F9\",\"template\":{\"data\":{\"barpolar\":[{\"marker\":{\"line\":{\"color\":\"#E5ECF6\",\"width\":0.5},\"pattern\":{\"fillmode\":\"overlay\",\"size\":10,\"solidity\":0.2}},\"type\":\"barpolar\"}],\"bar\":[{\"error_x\":{\"color\":\"#2a3f5f\"},\"error_y\":{\"color\":\"#2a3f5f\"},\"marker\":{\"line\":{\"color\":\"#E5ECF6\",\"width\":0.5},\"pattern\":{\"fillmode\":\"overlay\",\"size\":10,\"solidity\":0.2}},\"type\":\"bar\"}],\"carpet\":[{\"aaxis\":{\"endlinecolor\":\"#2a3f5f\",\"gridcolor\":\"white\",\"linecolor\":\"white\",\"minorgridcolor\":\"white\",\"startlinecolor\":\"#2a3f5f\"},\"baxis\":{\"endlinecolor\":\"#2a3f5f\",\"gridcolor\":\"white\",\"linecolor\":\"white\",\"minorgridcolor\":\"white\",\"startlinecolor\":\"#2a3f5f\"},\"type\":\"carpet\"}],\"choropleth\":[{\"colorbar\":{\"outlinewidth\":0,\"ticks\":\"\"},\"type\":\"choropleth\"}],\"contourcarpet\":[{\"colorbar\":{\"outlinewidth\":0,\"ticks\":\"\"},\"type\":\"contourcarpet\"}],\"contour\":[{\"colorbar\":{\"outlinewidth\":0,\"ticks\":\"\"},\"colorscale\":[[0.0,\"#0d0887\"],[0.1111111111111111,\"#46039f\"],[0.2222222222222222,\"#7201a8\"],[0.3333333333333333,\"#9c179e\"],[0.4444444444444444,\"#bd3786\"],[0.5555555555555556,\"#d8576b\"],[0.6666666666666666,\"#ed7953\"],[0.7777777777777778,\"#fb9f3a\"],[0.8888888888888888,\"#fdca26\"],[1.0,\"#f0f921\"]],\"type\":\"contour\"}],\"heatmapgl\":[{\"colorbar\":{\"outlinewidth\":0,\"ticks\":\"\"},\"colorscale\":[[0.0,\"#0d0887\"],[0.1111111111111111,\"#46039f\"],[0.2222222222222222,\"#7201a8\"],[0.3333333333333333,\"#9c179e\"],[0.4444444444444444,\"#bd3786\"],[0.5555555555555556,\"#d8576b\"],[0.6666666666666666,\"#ed7953\"],[0.7777777777777778,\"#fb9f3a\"],[0.8888888888888888,\"#fdca26\"],[1.0,\"#f0f921\"]],\"type\":\"heatmapgl\"}],\"heatmap\":[{\"colorbar\":{\"outlinewidth\":0,\"ticks\":\"\"},\"colorscale\":[[0.0,\"#0d0887\"],[0.1111111111111111,\"#46039f\"],[0.2222222222222222,\"#7201a8\"],[0.3333333333333333,\"#9c179e\"],[0.4444444444444444,\"#bd3786\"],[0.5555555555555556,\"#d8576b\"],[0.6666666666666666,\"#ed7953\"],[0.7777777777777778,\"#fb9f3a\"],[0.8888888888888888,\"#fdca26\"],[1.0,\"#f0f921\"]],\"type\":\"heatmap\"}],\"histogram2dcontour\":[{\"colorbar\":{\"outlinewidth\":0,\"ticks\":\"\"},\"colorscale\":[[0.0,\"#0d0887\"],[0.1111111111111111,\"#46039f\"],[0.2222222222222222,\"#7201a8\"],[0.3333333333333333,\"#9c179e\"],[0.4444444444444444,\"#bd3786\"],[0.5555555555555556,\"#d8576b\"],[0.6666666666666666,\"#ed7953\"],[0.7777777777777778,\"#fb9f3a\"],[0.8888888888888888,\"#fdca26\"],[1.0,\"#f0f921\"]],\"type\":\"histogram2dcontour\"}],\"histogram2d\":[{\"colorbar\":{\"outlinewidth\":0,\"ticks\":\"\"},\"colorscale\":[[0.0,\"#0d0887\"],[0.1111111111111111,\"#46039f\"],[0.2222222222222222,\"#7201a8\"],[0.3333333333333333,\"#9c179e\"],[0.4444444444444444,\"#bd3786\"],[0.5555555555555556,\"#d8576b\"],[0.6666666666666666,\"#ed7953\"],[0.7777777777777778,\"#fb9f3a\"],[0.8888888888888888,\"#fdca26\"],[1.0,\"#f0f921\"]],\"type\":\"histogram2d\"}],\"histogram\":[{\"marker\":{\"pattern\":{\"fillmode\":\"overlay\",\"size\":10,\"solidity\":0.2}},\"type\":\"histogram\"}],\"mesh3d\":[{\"colorbar\":{\"outlinewidth\":0,\"ticks\":\"\"},\"type\":\"mesh3d\"}],\"parcoords\":[{\"line\":{\"colorbar\":{\"outlinewidth\":0,\"ticks\":\"\"}},\"type\":\"parcoords\"}],\"pie\":[{\"automargin\":true,\"type\":\"pie\"}],\"scatter3d\":[{\"line\":{\"colorbar\":{\"outlinewidth\":0,\"ticks\":\"\"}},\"marker\":{\"colorbar\":{\"outlinewidth\":0,\"ticks\":\"\"}},\"type\":\"scatter3d\"}],\"scattercarpet\":[{\"marker\":{\"colorbar\":{\"outlinewidth\":0,\"ticks\":\"\"}},\"type\":\"scattercarpet\"}],\"scattergeo\":[{\"marker\":{\"colorbar\":{\"outlinewidth\":0,\"ticks\":\"\"}},\"type\":\"scattergeo\"}],\"scattergl\":[{\"marker\":{\"colorbar\":{\"outlinewidth\":0,\"ticks\":\"\"}},\"type\":\"scattergl\"}],\"scattermapbox\":[{\"marker\":{\"colorbar\":{\"outlinewidth\":0,\"ticks\":\"\"}},\"type\":\"scattermapbox\"}],\"scatterpolargl\":[{\"marker\":{\"colorbar\":{\"outlinewidth\":0,\"ticks\":\"\"}},\"type\":\"scatterpolargl\"}],\"scatterpolar\":[{\"marker\":{\"colorbar\":{\"outlinewidth\":0,\"ticks\":\"\"}},\"type\":\"scatterpolar\"}],\"scatter\":[{\"fillpattern\":{\"fillmode\":\"overlay\",\"size\":10,\"solidity\":0.2},\"type\":\"scatter\"}],\"scatterternary\":[{\"marker\":{\"colorbar\":{\"outlinewidth\":0,\"ticks\":\"\"}},\"type\":\"scatterternary\"}],\"surface\":[{\"colorbar\":{\"outlinewidth\":0,\"ticks\":\"\"},\"colorscale\":[[0.0,\"#0d0887\"],[0.1111111111111111,\"#46039f\"],[0.2222222222222222,\"#7201a8\"],[0.3333333333333333,\"#9c179e\"],[0.4444444444444444,\"#bd3786\"],[0.5555555555555556,\"#d8576b\"],[0.6666666666666666,\"#ed7953\"],[0.7777777777777778,\"#fb9f3a\"],[0.8888888888888888,\"#fdca26\"],[1.0,\"#f0f921\"]],\"type\":\"surface\"}],\"table\":[{\"cells\":{\"fill\":{\"color\":\"#EBF0F8\"},\"line\":{\"color\":\"white\"}},\"header\":{\"fill\":{\"color\":\"#C8D4E3\"},\"line\":{\"color\":\"white\"}},\"type\":\"table\"}]},\"layout\":{\"annotationdefaults\":{\"arrowcolor\":\"#2a3f5f\",\"arrowhead\":0,\"arrowwidth\":1},\"autotypenumbers\":\"strict\",\"coloraxis\":{\"colorbar\":{\"outlinewidth\":0,\"ticks\":\"\"}},\"colorscale\":{\"diverging\":[[0,\"#8e0152\"],[0.1,\"#c51b7d\"],[0.2,\"#de77ae\"],[0.3,\"#f1b6da\"],[0.4,\"#fde0ef\"],[0.5,\"#f7f7f7\"],[0.6,\"#e6f5d0\"],[0.7,\"#b8e186\"],[0.8,\"#7fbc41\"],[0.9,\"#4d9221\"],[1,\"#276419\"]],\"sequential\":[[0.0,\"#0d0887\"],[0.1111111111111111,\"#46039f\"],[0.2222222222222222,\"#7201a8\"],[0.3333333333333333,\"#9c179e\"],[0.4444444444444444,\"#bd3786\"],[0.5555555555555556,\"#d8576b\"],[0.6666666666666666,\"#ed7953\"],[0.7777777777777778,\"#fb9f3a\"],[0.8888888888888888,\"#fdca26\"],[1.0,\"#f0f921\"]],\"sequentialminus\":[[0.0,\"#0d0887\"],[0.1111111111111111,\"#46039f\"],[0.2222222222222222,\"#7201a8\"],[0.3333333333333333,\"#9c179e\"],[0.4444444444444444,\"#bd3786\"],[0.5555555555555556,\"#d8576b\"],[0.6666666666666666,\"#ed7953\"],[0.7777777777777778,\"#fb9f3a\"],[0.8888888888888888,\"#fdca26\"],[1.0,\"#f0f921\"]]},\"colorway\":[\"#636efa\",\"#EF553B\",\"#00cc96\",\"#ab63fa\",\"#FFA15A\",\"#19d3f3\",\"#FF6692\",\"#B6E880\",\"#FF97FF\",\"#FECB52\"],\"font\":{\"color\":\"#2a3f5f\"},\"geo\":{\"bgcolor\":\"white\",\"lakecolor\":\"white\",\"landcolor\":\"#E5ECF6\",\"showlakes\":true,\"showland\":true,\"subunitcolor\":\"white\"},\"hoverlabel\":{\"align\":\"left\"},\"hovermode\":\"closest\",\"mapbox\":{\"style\":\"light\"},\"paper_bgcolor\":\"white\",\"plot_bgcolor\":\"#E5ECF6\",\"polar\":{\"angularaxis\":{\"gridcolor\":\"white\",\"linecolor\":\"white\",\"ticks\":\"\"},\"bgcolor\":\"#E5ECF6\",\"radialaxis\":{\"gridcolor\":\"white\",\"linecolor\":\"white\",\"ticks\":\"\"}},\"scene\":{\"xaxis\":{\"backgroundcolor\":\"#E5ECF6\",\"gridcolor\":\"white\",\"gridwidth\":2,\"linecolor\":\"white\",\"showbackground\":true,\"ticks\":\"\",\"zerolinecolor\":\"white\"},\"yaxis\":{\"backgroundcolor\":\"#E5ECF6\",\"gridcolor\":\"white\",\"gridwidth\":2,\"linecolor\":\"white\",\"showbackground\":true,\"ticks\":\"\",\"zerolinecolor\":\"white\"},\"zaxis\":{\"backgroundcolor\":\"#E5ECF6\",\"gridcolor\":\"white\",\"gridwidth\":2,\"linecolor\":\"white\",\"showbackground\":true,\"ticks\":\"\",\"zerolinecolor\":\"white\"}},\"shapedefaults\":{\"line\":{\"color\":\"#2a3f5f\"}},\"ternary\":{\"aaxis\":{\"gridcolor\":\"white\",\"linecolor\":\"white\",\"ticks\":\"\"},\"baxis\":{\"gridcolor\":\"white\",\"linecolor\":\"white\",\"ticks\":\"\"},\"bgcolor\":\"#E5ECF6\",\"caxis\":{\"gridcolor\":\"white\",\"linecolor\":\"white\",\"ticks\":\"\"}},\"title\":{\"x\":0.05},\"xaxis\":{\"automargin\":true,\"gridcolor\":\"white\",\"linecolor\":\"white\",\"ticks\":\"\",\"title\":{\"standoff\":15},\"zerolinecolor\":\"white\",\"zerolinewidth\":2},\"yaxis\":{\"automargin\":true,\"gridcolor\":\"white\",\"linecolor\":\"white\",\"ticks\":\"\",\"title\":{\"standoff\":15},\"zerolinecolor\":\"white\",\"zerolinewidth\":2}}},\"title\":{\"font\":{\"color\":\"#4D5663\"}},\"xaxis\":{\"gridcolor\":\"#E1E5ED\",\"showgrid\":true,\"tickfont\":{\"color\":\"#4D5663\"},\"title\":{\"font\":{\"color\":\"#4D5663\"},\"text\":\"\"},\"zerolinecolor\":\"#E1E5ED\"},\"yaxis\":{\"gridcolor\":\"#E1E5ED\",\"showgrid\":true,\"tickfont\":{\"color\":\"#4D5663\"},\"title\":{\"font\":{\"color\":\"#4D5663\"},\"text\":\"\"},\"zerolinecolor\":\"#E1E5ED\"}},                        {\"showLink\": true, \"linkText\": \"Export to plot.ly\", \"plotlyServerURL\": \"https://plot.ly\", \"responsive\": true}                    ).then(function(){\n",
       "                            \n",
       "var gd = document.getElementById('c9bdf87f-7e60-4893-a627-3e1ab036521d');\n",
       "var x = new MutationObserver(function (mutations, observer) {{\n",
       "        var display = window.getComputedStyle(gd).display;\n",
       "        if (!display || display === 'none') {{\n",
       "            console.log([gd, 'removed!']);\n",
       "            Plotly.purge(gd);\n",
       "            observer.disconnect();\n",
       "        }}\n",
       "}});\n",
       "\n",
       "// Listen for the removal of the full notebook cells\n",
       "var notebookContainer = gd.closest('#notebook-container');\n",
       "if (notebookContainer) {{\n",
       "    x.observe(notebookContainer, {childList: true});\n",
       "}}\n",
       "\n",
       "// Listen for the clearing of the current output cell\n",
       "var outputEl = gd.closest('.output');\n",
       "if (outputEl) {{\n",
       "    x.observe(outputEl, {childList: true});\n",
       "}}\n",
       "\n",
       "                        })                };                });            </script>        </div>"
      ]
     },
     "metadata": {},
     "output_type": "display_data"
    }
   ],
   "source": [
    "df.count().iplot(kind='bar')"
   ]
  },
  {
   "cell_type": "markdown",
   "metadata": {},
   "source": [
    "## Boxplots"
   ]
  },
  {
   "cell_type": "code",
   "execution_count": 13,
   "metadata": {},
   "outputs": [
    {
     "data": {
      "application/vnd.plotly.v1+json": {
       "config": {
        "linkText": "Export to plot.ly",
        "plotlyServerURL": "https://plot.ly",
        "showLink": true
       },
       "data": [
        {
         "boxpoints": false,
         "line": {
          "width": 1.3
         },
         "marker": {
          "color": "rgba(255, 153, 51, 1.0)"
         },
         "name": "A",
         "orientation": "v",
         "type": "box",
         "y": [
          0.7079539021387217,
          -0.3783360900626558,
          0.8853180692065072,
          -0.9504446640592793,
          0.7226901789495682,
          0.9224382830904682,
          -1.106872373910298,
          -0.015512022601375831,
          -0.353185219997632,
          -1.6252717315486631,
          0.4379603431868372,
          -0.11202513204380407,
          -0.7774845199649303,
          -0.26404541257831904,
          1.7102975633384212,
          -0.618713812499301,
          0.12136353643424155,
          0.6458853926055258,
          0.3638258900788119,
          -0.7880221412791935,
          -0.061057152377792016,
          -1.4778008859699494,
          1.1870405477533919,
          -0.6048071947816758,
          0.07659232155588042,
          -0.15398130019507927,
          -0.36958333297065243,
          -0.9429809974689437,
          1.2305906665884294,
          -0.7959745429934965,
          -0.663281905003923,
          1.128362854729977,
          0.06415331933472061,
          -0.414839892068916,
          -1.3831532645195648,
          0.21399615389790222,
          0.43851694110182127,
          -0.4114009446497051,
          -0.3590980120744632,
          0.31201045815652223,
          -0.6634245849642328,
          0.7605528409235844,
          1.6068366897250939,
          0.273627723502373,
          -2.415782175331679,
          0.27033613277072394,
          -0.9372303352805079,
          -0.21038126785679548,
          -0.38618843428375854,
          1.487158644526282,
          1.2554315225588815,
          -0.618467760407867,
          -0.2987896850122946,
          1.666550161990266,
          -1.7014225673818364,
          -1.7418267036671515,
          -1.3832861553605915,
          0.5974236309246336,
          -0.44748732187681123,
          -0.2414535273223089,
          -0.3922456354520554,
          0.6240503922946212,
          -1.1446643412933704,
          3.0615893659439553,
          0.3213619292459653,
          -0.5180451015628634,
          -0.6663773615483357,
          -0.19494309232888837,
          0.4276932112345201,
          0.022091112323968924,
          -0.14442648374683745,
          0.7374385052891811,
          -0.6767684582551838,
          -0.14567377114486724,
          0.8037493806021632,
          -0.3001960688208521,
          2.0798140337654707,
          -0.2998140918327669,
          0.9325838464870018,
          1.80447023263451,
          0.058338735256817424,
          -0.18149754453367886,
          -0.6734820397467258,
          0.02879337648116921,
          -1.046693259350123,
          0.7348611862262173,
          -0.3096788977047204,
          0.9466045425894998,
          -0.5505270504726302,
          0.04573512621679498,
          2.3164513548805004,
          0.83936668723141,
          1.1409441716454916,
          -2.4982650892817837,
          0.7211867800358712,
          -0.6991293006245523,
          0.5251033671763228,
          1.391545946085124,
          -0.5865873066567011,
          1.3714225184623456
         ]
        },
        {
         "boxpoints": false,
         "line": {
          "width": 1.3
         },
         "marker": {
          "color": "rgba(55, 128, 191, 1.0)"
         },
         "name": "B",
         "orientation": "v",
         "type": "box",
         "y": [
          0.13394584907567797,
          0.3879153265974429,
          -1.081481377423818,
          -0.24257147490927927,
          0.6454428756967521,
          0.9401443587964466,
          2.5443723124109896,
          -0.5918877531367807,
          0.5890569357834406,
          -0.814947995877355,
          -0.7305825948722581,
          1.1337331488996365,
          1.0504696105263363,
          0.5763859371801988,
          -0.697838112457501,
          -0.08208933003275574,
          -0.46178166108633467,
          -2.145738916473379,
          -0.830745986190214,
          0.6893633943869126,
          0.35902097452331505,
          0.09774310681059924,
          0.20815141104425233,
          0.33651036189190514,
          -0.3140974849551735,
          0.5118944152086332,
          -0.06948373723134914,
          0.4919985394877427,
          -0.46065848159580786,
          0.5384267925771766,
          0.02341032519984315,
          -0.28589435223142334,
          -0.23197753674200575,
          0.2108812073893951,
          0.7067447312268775,
          -0.061418659983730424,
          -0.8990785008586909,
          -0.5131739184457484,
          -0.3848750071650614,
          -0.6922519866549306,
          2.0218685506277967,
          0.9264143884674638,
          -0.2072472701213451,
          0.3272140258435058,
          -0.07644410431037132,
          -2.1530053141107635,
          0.1435065461309672,
          -0.4548392800761151,
          1.0218995489701463,
          1.8399929587701267,
          0.9582161447828299,
          -0.02525140285503517,
          0.6065418459764039,
          1.176592280057126,
          0.6966793603330663,
          -0.3225944077629017,
          0.05842342423158832,
          0.09438393670777477,
          0.9513555676012616,
          0.40260905248701456,
          -0.08406317167444576,
          1.2784482188078998,
          -1.2879427148628142,
          0.6175517189180135,
          -0.2224695502715256,
          0.33720074125190036,
          -0.15281272521416195,
          0.5201156847996458,
          1.177590444167989,
          -0.2689748870647838,
          1.265220873174324,
          2.9365354260876,
          1.4441809862857622,
          -2.1877702795672693,
          0.20837178474318227,
          0.39724384258536805,
          -0.3904530076814792,
          -0.9636530207146263,
          0.11001896281701239,
          0.18322824150561065,
          1.4605365576244245,
          0.2771608180778642,
          1.2537600257324881,
          0.7899949950161395,
          0.7554751869176336,
          0.43556657629043993,
          -0.9768266678432241,
          -1.3895601738886645,
          0.42494164448829674,
          -0.7087903247234564,
          0.6702014124044041,
          1.2838557969419582,
          -1.1343866915065046,
          -1.1627274402838177,
          -0.08897126049235626,
          -0.22655298182377334,
          -0.5204868023437481,
          0.7846852182745306,
          1.4067845224163147,
          0.4181597212708602
         ]
        },
        {
         "boxpoints": false,
         "line": {
          "width": 1.3
         },
         "marker": {
          "color": "rgba(50, 171, 96, 1.0)"
         },
         "name": "C",
         "orientation": "v",
         "type": "box",
         "y": [
          0.9544388332900968,
          -0.424283667999744,
          0.5344067996801082,
          0.4446976921913389,
          -2.0946753922597856,
          -2.6352303152411816,
          1.3553640815461017,
          -1.0086332911432925,
          0.3463043135866738,
          -1.5833974639534012,
          0.4290614466117463,
          1.954956323343894,
          0.7439774351633861,
          -2.7493119789735196,
          0.5099082557954903,
          0.3547596111803849,
          0.14313147123969847,
          -0.8087711632296254,
          0.08345326443533112,
          -0.3834734014912079,
          0.24594049130118634,
          0.2786280104684821,
          -1.7416143682290075,
          -0.2659267981073192,
          0.31770129963053756,
          1.6617575869201693,
          -0.4723055945097514,
          1.436103280920271,
          0.009914970298162448,
          0.39931996580080253,
          -0.45801422505694706,
          -0.15383284274757975,
          -0.43836465261431073,
          -0.8923335138912839,
          0.4018328497961101,
          0.12140093434727962,
          0.4514107932426172,
          -1.0867016374406038,
          0.17142193912628317,
          -0.4335119287318956,
          2.100403794271881,
          0.6239533610141301,
          0.7055190045529518,
          1.8036629815220069,
          -1.1547301499507638,
          0.1900311783664892,
          0.22092014925160713,
          1.3989593028132228,
          1.0504968729911623,
          -0.513364292705173,
          1.0255562771608107,
          0.2624572033889872,
          0.4566232823726221,
          -0.19079000115757536,
          1.8462813298577203,
          1.251607726468402,
          0.2980606315525532,
          -1.4544411450701082,
          0.663567397191952,
          0.19123793238329748,
          -0.5815918107889682,
          -1.0939691931508027,
          -1.0624470467612068,
          -0.46109933286267474,
          0.38979593028191295,
          -1.597140237894351,
          0.9605071497671269,
          -0.8494466830561063,
          0.5230153647595339,
          1.1508085324800563,
          0.903364008149754,
          0.4480843627438729,
          0.6632758543571257,
          0.023803658875025047,
          0.02319874950136764,
          -1.125526139617164,
          0.12419022634453221,
          0.23730776159929173,
          1.5489899689154762,
          0.03130958451229701,
          -1.2965618584179228,
          0.9819753675192283,
          -0.7964035536391842,
          -0.8581021076919145,
          1.1749231007199057,
          -0.3669008152070355,
          -1.2907881145028595,
          -1.790325529056441,
          0.865208915053357,
          -0.7865752952458198,
          -1.1598886176496148,
          0.46819249833938253,
          0.058867885744585874,
          -0.5303826334876658,
          -0.31976631347573486,
          -1.0645352803801837,
          1.3835637290031737,
          1.2455672502492108,
          -0.08667009671414692,
          0.48831235634911707
         ]
        },
        {
         "boxpoints": false,
         "line": {
          "width": 1.3
         },
         "marker": {
          "color": "rgba(128, 0, 128, 1.0)"
         },
         "name": "D",
         "orientation": "v",
         "type": "box",
         "y": [
          0.0028966318541667375,
          -0.37256044786306486,
          0.5465001925835189,
          -0.7356023347243454,
          0.680449633921941,
          0.9349389467150292,
          -0.674846779770036,
          0.18787791926237893,
          0.6986327751015071,
          -0.7858734747323144,
          0.8456498382216053,
          -0.6635883725464942,
          -1.2351417929634139,
          0.8146540586469663,
          -0.6205025026218609,
          -0.7133278026151951,
          1.3917389381256131,
          0.021635337049237036,
          0.6400006811374448,
          -0.3325713572001876,
          0.004078352490983123,
          -0.4266099668296702,
          1.2651636919708535,
          1.1225511446351406,
          -0.9081482892306695,
          0.542103761054079,
          -0.6937355198133868,
          0.3293477234360022,
          -1.563402072277211,
          -0.9493432661539069,
          1.9359834972400098,
          0.10934538504869766,
          -1.8262488047477234,
          1.5619273346468168,
          -1.4654657935564543,
          -1.5122514951766852,
          0.5782756437825113,
          0.2791743575456333,
          -0.5462309905287872,
          -0.6957116955164216,
          -1.5872659719310778,
          -0.39314868025006194,
          -1.1010871200049415,
          -0.06833394412756601,
          -0.17544545189857072,
          -0.2591737126286258,
          -0.21030106282353597,
          -0.06915638948763411,
          0.8305217754573968,
          0.24287909558830198,
          -0.904504007355387,
          -0.04089608984752918,
          0.6084749198972826,
          -0.5313281489763707,
          0.4394400209179841,
          -1.5443508641206696,
          -0.019887010016447035,
          -0.971986960468257,
          -0.6976847820195744,
          -0.6036156027322129,
          -0.40947587407572256,
          0.754517492312806,
          -0.42330851925586005,
          -0.2545668633668377,
          1.764871477912864,
          -0.07127859764789808,
          -0.42928306329171556,
          0.30545530672413473,
          -0.015280046834923223,
          1.164260906077144,
          0.48837236287797225,
          -1.2631731938889572,
          0.5338188895360726,
          1.4849394806760563,
          -0.43905860011321335,
          -0.1603182103708747,
          0.5513989953591896,
          0.1647489859566107,
          -0.19975523906922127,
          1.0383547246648683,
          0.02036897643463616,
          -1.2666864343441102,
          1.3853439259794993,
          -1.1568211198789184,
          -1.0591336404756195,
          -1.4829009659380807,
          -0.6575349885122139,
          0.6710201314163354,
          0.4113732272144532,
          -1.6911394161248332,
          0.08957247648877317,
          1.8305547256931156,
          -1.3675750052379576,
          -0.5101905909175083,
          0.06598666574641024,
          -0.9824571184877936,
          -0.34510898227098513,
          -0.2416695907298087,
          1.3358362566385846,
          0.6967897049923447
         ]
        }
       ],
       "layout": {
        "legend": {
         "bgcolor": "#F5F6F9",
         "font": {
          "color": "#4D5663"
         }
        },
        "paper_bgcolor": "#F5F6F9",
        "plot_bgcolor": "#F5F6F9",
        "template": {
         "data": {
          "bar": [
           {
            "error_x": {
             "color": "#2a3f5f"
            },
            "error_y": {
             "color": "#2a3f5f"
            },
            "marker": {
             "line": {
              "color": "#E5ECF6",
              "width": 0.5
             },
             "pattern": {
              "fillmode": "overlay",
              "size": 10,
              "solidity": 0.2
             }
            },
            "type": "bar"
           }
          ],
          "barpolar": [
           {
            "marker": {
             "line": {
              "color": "#E5ECF6",
              "width": 0.5
             },
             "pattern": {
              "fillmode": "overlay",
              "size": 10,
              "solidity": 0.2
             }
            },
            "type": "barpolar"
           }
          ],
          "carpet": [
           {
            "aaxis": {
             "endlinecolor": "#2a3f5f",
             "gridcolor": "white",
             "linecolor": "white",
             "minorgridcolor": "white",
             "startlinecolor": "#2a3f5f"
            },
            "baxis": {
             "endlinecolor": "#2a3f5f",
             "gridcolor": "white",
             "linecolor": "white",
             "minorgridcolor": "white",
             "startlinecolor": "#2a3f5f"
            },
            "type": "carpet"
           }
          ],
          "choropleth": [
           {
            "colorbar": {
             "outlinewidth": 0,
             "ticks": ""
            },
            "type": "choropleth"
           }
          ],
          "contour": [
           {
            "colorbar": {
             "outlinewidth": 0,
             "ticks": ""
            },
            "colorscale": [
             [
              0,
              "#0d0887"
             ],
             [
              0.1111111111111111,
              "#46039f"
             ],
             [
              0.2222222222222222,
              "#7201a8"
             ],
             [
              0.3333333333333333,
              "#9c179e"
             ],
             [
              0.4444444444444444,
              "#bd3786"
             ],
             [
              0.5555555555555556,
              "#d8576b"
             ],
             [
              0.6666666666666666,
              "#ed7953"
             ],
             [
              0.7777777777777778,
              "#fb9f3a"
             ],
             [
              0.8888888888888888,
              "#fdca26"
             ],
             [
              1,
              "#f0f921"
             ]
            ],
            "type": "contour"
           }
          ],
          "contourcarpet": [
           {
            "colorbar": {
             "outlinewidth": 0,
             "ticks": ""
            },
            "type": "contourcarpet"
           }
          ],
          "heatmap": [
           {
            "colorbar": {
             "outlinewidth": 0,
             "ticks": ""
            },
            "colorscale": [
             [
              0,
              "#0d0887"
             ],
             [
              0.1111111111111111,
              "#46039f"
             ],
             [
              0.2222222222222222,
              "#7201a8"
             ],
             [
              0.3333333333333333,
              "#9c179e"
             ],
             [
              0.4444444444444444,
              "#bd3786"
             ],
             [
              0.5555555555555556,
              "#d8576b"
             ],
             [
              0.6666666666666666,
              "#ed7953"
             ],
             [
              0.7777777777777778,
              "#fb9f3a"
             ],
             [
              0.8888888888888888,
              "#fdca26"
             ],
             [
              1,
              "#f0f921"
             ]
            ],
            "type": "heatmap"
           }
          ],
          "heatmapgl": [
           {
            "colorbar": {
             "outlinewidth": 0,
             "ticks": ""
            },
            "colorscale": [
             [
              0,
              "#0d0887"
             ],
             [
              0.1111111111111111,
              "#46039f"
             ],
             [
              0.2222222222222222,
              "#7201a8"
             ],
             [
              0.3333333333333333,
              "#9c179e"
             ],
             [
              0.4444444444444444,
              "#bd3786"
             ],
             [
              0.5555555555555556,
              "#d8576b"
             ],
             [
              0.6666666666666666,
              "#ed7953"
             ],
             [
              0.7777777777777778,
              "#fb9f3a"
             ],
             [
              0.8888888888888888,
              "#fdca26"
             ],
             [
              1,
              "#f0f921"
             ]
            ],
            "type": "heatmapgl"
           }
          ],
          "histogram": [
           {
            "marker": {
             "pattern": {
              "fillmode": "overlay",
              "size": 10,
              "solidity": 0.2
             }
            },
            "type": "histogram"
           }
          ],
          "histogram2d": [
           {
            "colorbar": {
             "outlinewidth": 0,
             "ticks": ""
            },
            "colorscale": [
             [
              0,
              "#0d0887"
             ],
             [
              0.1111111111111111,
              "#46039f"
             ],
             [
              0.2222222222222222,
              "#7201a8"
             ],
             [
              0.3333333333333333,
              "#9c179e"
             ],
             [
              0.4444444444444444,
              "#bd3786"
             ],
             [
              0.5555555555555556,
              "#d8576b"
             ],
             [
              0.6666666666666666,
              "#ed7953"
             ],
             [
              0.7777777777777778,
              "#fb9f3a"
             ],
             [
              0.8888888888888888,
              "#fdca26"
             ],
             [
              1,
              "#f0f921"
             ]
            ],
            "type": "histogram2d"
           }
          ],
          "histogram2dcontour": [
           {
            "colorbar": {
             "outlinewidth": 0,
             "ticks": ""
            },
            "colorscale": [
             [
              0,
              "#0d0887"
             ],
             [
              0.1111111111111111,
              "#46039f"
             ],
             [
              0.2222222222222222,
              "#7201a8"
             ],
             [
              0.3333333333333333,
              "#9c179e"
             ],
             [
              0.4444444444444444,
              "#bd3786"
             ],
             [
              0.5555555555555556,
              "#d8576b"
             ],
             [
              0.6666666666666666,
              "#ed7953"
             ],
             [
              0.7777777777777778,
              "#fb9f3a"
             ],
             [
              0.8888888888888888,
              "#fdca26"
             ],
             [
              1,
              "#f0f921"
             ]
            ],
            "type": "histogram2dcontour"
           }
          ],
          "mesh3d": [
           {
            "colorbar": {
             "outlinewidth": 0,
             "ticks": ""
            },
            "type": "mesh3d"
           }
          ],
          "parcoords": [
           {
            "line": {
             "colorbar": {
              "outlinewidth": 0,
              "ticks": ""
             }
            },
            "type": "parcoords"
           }
          ],
          "pie": [
           {
            "automargin": true,
            "type": "pie"
           }
          ],
          "scatter": [
           {
            "fillpattern": {
             "fillmode": "overlay",
             "size": 10,
             "solidity": 0.2
            },
            "type": "scatter"
           }
          ],
          "scatter3d": [
           {
            "line": {
             "colorbar": {
              "outlinewidth": 0,
              "ticks": ""
             }
            },
            "marker": {
             "colorbar": {
              "outlinewidth": 0,
              "ticks": ""
             }
            },
            "type": "scatter3d"
           }
          ],
          "scattercarpet": [
           {
            "marker": {
             "colorbar": {
              "outlinewidth": 0,
              "ticks": ""
             }
            },
            "type": "scattercarpet"
           }
          ],
          "scattergeo": [
           {
            "marker": {
             "colorbar": {
              "outlinewidth": 0,
              "ticks": ""
             }
            },
            "type": "scattergeo"
           }
          ],
          "scattergl": [
           {
            "marker": {
             "colorbar": {
              "outlinewidth": 0,
              "ticks": ""
             }
            },
            "type": "scattergl"
           }
          ],
          "scattermapbox": [
           {
            "marker": {
             "colorbar": {
              "outlinewidth": 0,
              "ticks": ""
             }
            },
            "type": "scattermapbox"
           }
          ],
          "scatterpolar": [
           {
            "marker": {
             "colorbar": {
              "outlinewidth": 0,
              "ticks": ""
             }
            },
            "type": "scatterpolar"
           }
          ],
          "scatterpolargl": [
           {
            "marker": {
             "colorbar": {
              "outlinewidth": 0,
              "ticks": ""
             }
            },
            "type": "scatterpolargl"
           }
          ],
          "scatterternary": [
           {
            "marker": {
             "colorbar": {
              "outlinewidth": 0,
              "ticks": ""
             }
            },
            "type": "scatterternary"
           }
          ],
          "surface": [
           {
            "colorbar": {
             "outlinewidth": 0,
             "ticks": ""
            },
            "colorscale": [
             [
              0,
              "#0d0887"
             ],
             [
              0.1111111111111111,
              "#46039f"
             ],
             [
              0.2222222222222222,
              "#7201a8"
             ],
             [
              0.3333333333333333,
              "#9c179e"
             ],
             [
              0.4444444444444444,
              "#bd3786"
             ],
             [
              0.5555555555555556,
              "#d8576b"
             ],
             [
              0.6666666666666666,
              "#ed7953"
             ],
             [
              0.7777777777777778,
              "#fb9f3a"
             ],
             [
              0.8888888888888888,
              "#fdca26"
             ],
             [
              1,
              "#f0f921"
             ]
            ],
            "type": "surface"
           }
          ],
          "table": [
           {
            "cells": {
             "fill": {
              "color": "#EBF0F8"
             },
             "line": {
              "color": "white"
             }
            },
            "header": {
             "fill": {
              "color": "#C8D4E3"
             },
             "line": {
              "color": "white"
             }
            },
            "type": "table"
           }
          ]
         },
         "layout": {
          "annotationdefaults": {
           "arrowcolor": "#2a3f5f",
           "arrowhead": 0,
           "arrowwidth": 1
          },
          "autotypenumbers": "strict",
          "coloraxis": {
           "colorbar": {
            "outlinewidth": 0,
            "ticks": ""
           }
          },
          "colorscale": {
           "diverging": [
            [
             0,
             "#8e0152"
            ],
            [
             0.1,
             "#c51b7d"
            ],
            [
             0.2,
             "#de77ae"
            ],
            [
             0.3,
             "#f1b6da"
            ],
            [
             0.4,
             "#fde0ef"
            ],
            [
             0.5,
             "#f7f7f7"
            ],
            [
             0.6,
             "#e6f5d0"
            ],
            [
             0.7,
             "#b8e186"
            ],
            [
             0.8,
             "#7fbc41"
            ],
            [
             0.9,
             "#4d9221"
            ],
            [
             1,
             "#276419"
            ]
           ],
           "sequential": [
            [
             0,
             "#0d0887"
            ],
            [
             0.1111111111111111,
             "#46039f"
            ],
            [
             0.2222222222222222,
             "#7201a8"
            ],
            [
             0.3333333333333333,
             "#9c179e"
            ],
            [
             0.4444444444444444,
             "#bd3786"
            ],
            [
             0.5555555555555556,
             "#d8576b"
            ],
            [
             0.6666666666666666,
             "#ed7953"
            ],
            [
             0.7777777777777778,
             "#fb9f3a"
            ],
            [
             0.8888888888888888,
             "#fdca26"
            ],
            [
             1,
             "#f0f921"
            ]
           ],
           "sequentialminus": [
            [
             0,
             "#0d0887"
            ],
            [
             0.1111111111111111,
             "#46039f"
            ],
            [
             0.2222222222222222,
             "#7201a8"
            ],
            [
             0.3333333333333333,
             "#9c179e"
            ],
            [
             0.4444444444444444,
             "#bd3786"
            ],
            [
             0.5555555555555556,
             "#d8576b"
            ],
            [
             0.6666666666666666,
             "#ed7953"
            ],
            [
             0.7777777777777778,
             "#fb9f3a"
            ],
            [
             0.8888888888888888,
             "#fdca26"
            ],
            [
             1,
             "#f0f921"
            ]
           ]
          },
          "colorway": [
           "#636efa",
           "#EF553B",
           "#00cc96",
           "#ab63fa",
           "#FFA15A",
           "#19d3f3",
           "#FF6692",
           "#B6E880",
           "#FF97FF",
           "#FECB52"
          ],
          "font": {
           "color": "#2a3f5f"
          },
          "geo": {
           "bgcolor": "white",
           "lakecolor": "white",
           "landcolor": "#E5ECF6",
           "showlakes": true,
           "showland": true,
           "subunitcolor": "white"
          },
          "hoverlabel": {
           "align": "left"
          },
          "hovermode": "closest",
          "mapbox": {
           "style": "light"
          },
          "paper_bgcolor": "white",
          "plot_bgcolor": "#E5ECF6",
          "polar": {
           "angularaxis": {
            "gridcolor": "white",
            "linecolor": "white",
            "ticks": ""
           },
           "bgcolor": "#E5ECF6",
           "radialaxis": {
            "gridcolor": "white",
            "linecolor": "white",
            "ticks": ""
           }
          },
          "scene": {
           "xaxis": {
            "backgroundcolor": "#E5ECF6",
            "gridcolor": "white",
            "gridwidth": 2,
            "linecolor": "white",
            "showbackground": true,
            "ticks": "",
            "zerolinecolor": "white"
           },
           "yaxis": {
            "backgroundcolor": "#E5ECF6",
            "gridcolor": "white",
            "gridwidth": 2,
            "linecolor": "white",
            "showbackground": true,
            "ticks": "",
            "zerolinecolor": "white"
           },
           "zaxis": {
            "backgroundcolor": "#E5ECF6",
            "gridcolor": "white",
            "gridwidth": 2,
            "linecolor": "white",
            "showbackground": true,
            "ticks": "",
            "zerolinecolor": "white"
           }
          },
          "shapedefaults": {
           "line": {
            "color": "#2a3f5f"
           }
          },
          "ternary": {
           "aaxis": {
            "gridcolor": "white",
            "linecolor": "white",
            "ticks": ""
           },
           "baxis": {
            "gridcolor": "white",
            "linecolor": "white",
            "ticks": ""
           },
           "bgcolor": "#E5ECF6",
           "caxis": {
            "gridcolor": "white",
            "linecolor": "white",
            "ticks": ""
           }
          },
          "title": {
           "x": 0.05
          },
          "xaxis": {
           "automargin": true,
           "gridcolor": "white",
           "linecolor": "white",
           "ticks": "",
           "title": {
            "standoff": 15
           },
           "zerolinecolor": "white",
           "zerolinewidth": 2
          },
          "yaxis": {
           "automargin": true,
           "gridcolor": "white",
           "linecolor": "white",
           "ticks": "",
           "title": {
            "standoff": 15
           },
           "zerolinecolor": "white",
           "zerolinewidth": 2
          }
         }
        },
        "title": {
         "font": {
          "color": "#4D5663"
         }
        },
        "xaxis": {
         "gridcolor": "#E1E5ED",
         "showgrid": true,
         "tickfont": {
          "color": "#4D5663"
         },
         "title": {
          "font": {
           "color": "#4D5663"
          },
          "text": ""
         },
         "zerolinecolor": "#E1E5ED"
        },
        "yaxis": {
         "gridcolor": "#E1E5ED",
         "showgrid": true,
         "tickfont": {
          "color": "#4D5663"
         },
         "title": {
          "font": {
           "color": "#4D5663"
          },
          "text": ""
         },
         "zerolinecolor": "#E1E5ED"
        }
       }
      },
      "text/html": [
       "<div>                            <div id=\"396c9ffb-fd19-4c62-bbe5-5e617917feef\" class=\"plotly-graph-div\" style=\"height:525px; width:100%;\"></div>            <script type=\"text/javascript\">                require([\"plotly\"], function(Plotly) {                    window.PLOTLYENV=window.PLOTLYENV || {};\n",
       "                    window.PLOTLYENV.BASE_URL='https://plot.ly';                                    if (document.getElementById(\"396c9ffb-fd19-4c62-bbe5-5e617917feef\")) {                    Plotly.newPlot(                        \"396c9ffb-fd19-4c62-bbe5-5e617917feef\",                        [{\"boxpoints\":false,\"line\":{\"width\":1.3},\"marker\":{\"color\":\"rgba(255, 153, 51, 1.0)\"},\"name\":\"A\",\"orientation\":\"v\",\"y\":[0.7079539021387217,-0.3783360900626558,0.8853180692065072,-0.9504446640592793,0.7226901789495682,0.9224382830904682,-1.106872373910298,-0.015512022601375831,-0.353185219997632,-1.6252717315486631,0.4379603431868372,-0.11202513204380407,-0.7774845199649303,-0.26404541257831904,1.7102975633384212,-0.618713812499301,0.12136353643424155,0.6458853926055258,0.3638258900788119,-0.7880221412791935,-0.061057152377792016,-1.4778008859699494,1.1870405477533919,-0.6048071947816758,0.07659232155588042,-0.15398130019507927,-0.36958333297065243,-0.9429809974689437,1.2305906665884294,-0.7959745429934965,-0.663281905003923,1.128362854729977,0.06415331933472061,-0.414839892068916,-1.3831532645195648,0.21399615389790222,0.43851694110182127,-0.4114009446497051,-0.3590980120744632,0.31201045815652223,-0.6634245849642328,0.7605528409235844,1.6068366897250939,0.273627723502373,-2.415782175331679,0.27033613277072394,-0.9372303352805079,-0.21038126785679548,-0.38618843428375854,1.487158644526282,1.2554315225588815,-0.618467760407867,-0.2987896850122946,1.666550161990266,-1.7014225673818364,-1.7418267036671515,-1.3832861553605915,0.5974236309246336,-0.44748732187681123,-0.2414535273223089,-0.3922456354520554,0.6240503922946212,-1.1446643412933704,3.0615893659439553,0.3213619292459653,-0.5180451015628634,-0.6663773615483357,-0.19494309232888837,0.4276932112345201,0.022091112323968924,-0.14442648374683745,0.7374385052891811,-0.6767684582551838,-0.14567377114486724,0.8037493806021632,-0.3001960688208521,2.0798140337654707,-0.2998140918327669,0.9325838464870018,1.80447023263451,0.058338735256817424,-0.18149754453367886,-0.6734820397467258,0.02879337648116921,-1.046693259350123,0.7348611862262173,-0.3096788977047204,0.9466045425894998,-0.5505270504726302,0.04573512621679498,2.3164513548805004,0.83936668723141,1.1409441716454916,-2.4982650892817837,0.7211867800358712,-0.6991293006245523,0.5251033671763228,1.391545946085124,-0.5865873066567011,1.3714225184623456],\"type\":\"box\"},{\"boxpoints\":false,\"line\":{\"width\":1.3},\"marker\":{\"color\":\"rgba(55, 128, 191, 1.0)\"},\"name\":\"B\",\"orientation\":\"v\",\"y\":[0.13394584907567797,0.3879153265974429,-1.081481377423818,-0.24257147490927927,0.6454428756967521,0.9401443587964466,2.5443723124109896,-0.5918877531367807,0.5890569357834406,-0.814947995877355,-0.7305825948722581,1.1337331488996365,1.0504696105263363,0.5763859371801988,-0.697838112457501,-0.08208933003275574,-0.46178166108633467,-2.145738916473379,-0.830745986190214,0.6893633943869126,0.35902097452331505,0.09774310681059924,0.20815141104425233,0.33651036189190514,-0.3140974849551735,0.5118944152086332,-0.06948373723134914,0.4919985394877427,-0.46065848159580786,0.5384267925771766,0.02341032519984315,-0.28589435223142334,-0.23197753674200575,0.2108812073893951,0.7067447312268775,-0.061418659983730424,-0.8990785008586909,-0.5131739184457484,-0.3848750071650614,-0.6922519866549306,2.0218685506277967,0.9264143884674638,-0.2072472701213451,0.3272140258435058,-0.07644410431037132,-2.1530053141107635,0.1435065461309672,-0.4548392800761151,1.0218995489701463,1.8399929587701267,0.9582161447828299,-0.02525140285503517,0.6065418459764039,1.176592280057126,0.6966793603330663,-0.3225944077629017,0.05842342423158832,0.09438393670777477,0.9513555676012616,0.40260905248701456,-0.08406317167444576,1.2784482188078998,-1.2879427148628142,0.6175517189180135,-0.2224695502715256,0.33720074125190036,-0.15281272521416195,0.5201156847996458,1.177590444167989,-0.2689748870647838,1.265220873174324,2.9365354260876,1.4441809862857622,-2.1877702795672693,0.20837178474318227,0.39724384258536805,-0.3904530076814792,-0.9636530207146263,0.11001896281701239,0.18322824150561065,1.4605365576244245,0.2771608180778642,1.2537600257324881,0.7899949950161395,0.7554751869176336,0.43556657629043993,-0.9768266678432241,-1.3895601738886645,0.42494164448829674,-0.7087903247234564,0.6702014124044041,1.2838557969419582,-1.1343866915065046,-1.1627274402838177,-0.08897126049235626,-0.22655298182377334,-0.5204868023437481,0.7846852182745306,1.4067845224163147,0.4181597212708602],\"type\":\"box\"},{\"boxpoints\":false,\"line\":{\"width\":1.3},\"marker\":{\"color\":\"rgba(50, 171, 96, 1.0)\"},\"name\":\"C\",\"orientation\":\"v\",\"y\":[0.9544388332900968,-0.424283667999744,0.5344067996801082,0.4446976921913389,-2.0946753922597856,-2.6352303152411816,1.3553640815461017,-1.0086332911432925,0.3463043135866738,-1.5833974639534012,0.4290614466117463,1.954956323343894,0.7439774351633861,-2.7493119789735196,0.5099082557954903,0.3547596111803849,0.14313147123969847,-0.8087711632296254,0.08345326443533112,-0.3834734014912079,0.24594049130118634,0.2786280104684821,-1.7416143682290075,-0.2659267981073192,0.31770129963053756,1.6617575869201693,-0.4723055945097514,1.436103280920271,0.009914970298162448,0.39931996580080253,-0.45801422505694706,-0.15383284274757975,-0.43836465261431073,-0.8923335138912839,0.4018328497961101,0.12140093434727962,0.4514107932426172,-1.0867016374406038,0.17142193912628317,-0.4335119287318956,2.100403794271881,0.6239533610141301,0.7055190045529518,1.8036629815220069,-1.1547301499507638,0.1900311783664892,0.22092014925160713,1.3989593028132228,1.0504968729911623,-0.513364292705173,1.0255562771608107,0.2624572033889872,0.4566232823726221,-0.19079000115757536,1.8462813298577203,1.251607726468402,0.2980606315525532,-1.4544411450701082,0.663567397191952,0.19123793238329748,-0.5815918107889682,-1.0939691931508027,-1.0624470467612068,-0.46109933286267474,0.38979593028191295,-1.597140237894351,0.9605071497671269,-0.8494466830561063,0.5230153647595339,1.1508085324800563,0.903364008149754,0.4480843627438729,0.6632758543571257,0.023803658875025047,0.02319874950136764,-1.125526139617164,0.12419022634453221,0.23730776159929173,1.5489899689154762,0.03130958451229701,-1.2965618584179228,0.9819753675192283,-0.7964035536391842,-0.8581021076919145,1.1749231007199057,-0.3669008152070355,-1.2907881145028595,-1.790325529056441,0.865208915053357,-0.7865752952458198,-1.1598886176496148,0.46819249833938253,0.058867885744585874,-0.5303826334876658,-0.31976631347573486,-1.0645352803801837,1.3835637290031737,1.2455672502492108,-0.08667009671414692,0.48831235634911707],\"type\":\"box\"},{\"boxpoints\":false,\"line\":{\"width\":1.3},\"marker\":{\"color\":\"rgba(128, 0, 128, 1.0)\"},\"name\":\"D\",\"orientation\":\"v\",\"y\":[0.0028966318541667375,-0.37256044786306486,0.5465001925835189,-0.7356023347243454,0.680449633921941,0.9349389467150292,-0.674846779770036,0.18787791926237893,0.6986327751015071,-0.7858734747323144,0.8456498382216053,-0.6635883725464942,-1.2351417929634139,0.8146540586469663,-0.6205025026218609,-0.7133278026151951,1.3917389381256131,0.021635337049237036,0.6400006811374448,-0.3325713572001876,0.004078352490983123,-0.4266099668296702,1.2651636919708535,1.1225511446351406,-0.9081482892306695,0.542103761054079,-0.6937355198133868,0.3293477234360022,-1.563402072277211,-0.9493432661539069,1.9359834972400098,0.10934538504869766,-1.8262488047477234,1.5619273346468168,-1.4654657935564543,-1.5122514951766852,0.5782756437825113,0.2791743575456333,-0.5462309905287872,-0.6957116955164216,-1.5872659719310778,-0.39314868025006194,-1.1010871200049415,-0.06833394412756601,-0.17544545189857072,-0.2591737126286258,-0.21030106282353597,-0.06915638948763411,0.8305217754573968,0.24287909558830198,-0.904504007355387,-0.04089608984752918,0.6084749198972826,-0.5313281489763707,0.4394400209179841,-1.5443508641206696,-0.019887010016447035,-0.971986960468257,-0.6976847820195744,-0.6036156027322129,-0.40947587407572256,0.754517492312806,-0.42330851925586005,-0.2545668633668377,1.764871477912864,-0.07127859764789808,-0.42928306329171556,0.30545530672413473,-0.015280046834923223,1.164260906077144,0.48837236287797225,-1.2631731938889572,0.5338188895360726,1.4849394806760563,-0.43905860011321335,-0.1603182103708747,0.5513989953591896,0.1647489859566107,-0.19975523906922127,1.0383547246648683,0.02036897643463616,-1.2666864343441102,1.3853439259794993,-1.1568211198789184,-1.0591336404756195,-1.4829009659380807,-0.6575349885122139,0.6710201314163354,0.4113732272144532,-1.6911394161248332,0.08957247648877317,1.8305547256931156,-1.3675750052379576,-0.5101905909175083,0.06598666574641024,-0.9824571184877936,-0.34510898227098513,-0.2416695907298087,1.3358362566385846,0.6967897049923447],\"type\":\"box\"}],                        {\"legend\":{\"bgcolor\":\"#F5F6F9\",\"font\":{\"color\":\"#4D5663\"}},\"paper_bgcolor\":\"#F5F6F9\",\"plot_bgcolor\":\"#F5F6F9\",\"template\":{\"data\":{\"barpolar\":[{\"marker\":{\"line\":{\"color\":\"#E5ECF6\",\"width\":0.5},\"pattern\":{\"fillmode\":\"overlay\",\"size\":10,\"solidity\":0.2}},\"type\":\"barpolar\"}],\"bar\":[{\"error_x\":{\"color\":\"#2a3f5f\"},\"error_y\":{\"color\":\"#2a3f5f\"},\"marker\":{\"line\":{\"color\":\"#E5ECF6\",\"width\":0.5},\"pattern\":{\"fillmode\":\"overlay\",\"size\":10,\"solidity\":0.2}},\"type\":\"bar\"}],\"carpet\":[{\"aaxis\":{\"endlinecolor\":\"#2a3f5f\",\"gridcolor\":\"white\",\"linecolor\":\"white\",\"minorgridcolor\":\"white\",\"startlinecolor\":\"#2a3f5f\"},\"baxis\":{\"endlinecolor\":\"#2a3f5f\",\"gridcolor\":\"white\",\"linecolor\":\"white\",\"minorgridcolor\":\"white\",\"startlinecolor\":\"#2a3f5f\"},\"type\":\"carpet\"}],\"choropleth\":[{\"colorbar\":{\"outlinewidth\":0,\"ticks\":\"\"},\"type\":\"choropleth\"}],\"contourcarpet\":[{\"colorbar\":{\"outlinewidth\":0,\"ticks\":\"\"},\"type\":\"contourcarpet\"}],\"contour\":[{\"colorbar\":{\"outlinewidth\":0,\"ticks\":\"\"},\"colorscale\":[[0.0,\"#0d0887\"],[0.1111111111111111,\"#46039f\"],[0.2222222222222222,\"#7201a8\"],[0.3333333333333333,\"#9c179e\"],[0.4444444444444444,\"#bd3786\"],[0.5555555555555556,\"#d8576b\"],[0.6666666666666666,\"#ed7953\"],[0.7777777777777778,\"#fb9f3a\"],[0.8888888888888888,\"#fdca26\"],[1.0,\"#f0f921\"]],\"type\":\"contour\"}],\"heatmapgl\":[{\"colorbar\":{\"outlinewidth\":0,\"ticks\":\"\"},\"colorscale\":[[0.0,\"#0d0887\"],[0.1111111111111111,\"#46039f\"],[0.2222222222222222,\"#7201a8\"],[0.3333333333333333,\"#9c179e\"],[0.4444444444444444,\"#bd3786\"],[0.5555555555555556,\"#d8576b\"],[0.6666666666666666,\"#ed7953\"],[0.7777777777777778,\"#fb9f3a\"],[0.8888888888888888,\"#fdca26\"],[1.0,\"#f0f921\"]],\"type\":\"heatmapgl\"}],\"heatmap\":[{\"colorbar\":{\"outlinewidth\":0,\"ticks\":\"\"},\"colorscale\":[[0.0,\"#0d0887\"],[0.1111111111111111,\"#46039f\"],[0.2222222222222222,\"#7201a8\"],[0.3333333333333333,\"#9c179e\"],[0.4444444444444444,\"#bd3786\"],[0.5555555555555556,\"#d8576b\"],[0.6666666666666666,\"#ed7953\"],[0.7777777777777778,\"#fb9f3a\"],[0.8888888888888888,\"#fdca26\"],[1.0,\"#f0f921\"]],\"type\":\"heatmap\"}],\"histogram2dcontour\":[{\"colorbar\":{\"outlinewidth\":0,\"ticks\":\"\"},\"colorscale\":[[0.0,\"#0d0887\"],[0.1111111111111111,\"#46039f\"],[0.2222222222222222,\"#7201a8\"],[0.3333333333333333,\"#9c179e\"],[0.4444444444444444,\"#bd3786\"],[0.5555555555555556,\"#d8576b\"],[0.6666666666666666,\"#ed7953\"],[0.7777777777777778,\"#fb9f3a\"],[0.8888888888888888,\"#fdca26\"],[1.0,\"#f0f921\"]],\"type\":\"histogram2dcontour\"}],\"histogram2d\":[{\"colorbar\":{\"outlinewidth\":0,\"ticks\":\"\"},\"colorscale\":[[0.0,\"#0d0887\"],[0.1111111111111111,\"#46039f\"],[0.2222222222222222,\"#7201a8\"],[0.3333333333333333,\"#9c179e\"],[0.4444444444444444,\"#bd3786\"],[0.5555555555555556,\"#d8576b\"],[0.6666666666666666,\"#ed7953\"],[0.7777777777777778,\"#fb9f3a\"],[0.8888888888888888,\"#fdca26\"],[1.0,\"#f0f921\"]],\"type\":\"histogram2d\"}],\"histogram\":[{\"marker\":{\"pattern\":{\"fillmode\":\"overlay\",\"size\":10,\"solidity\":0.2}},\"type\":\"histogram\"}],\"mesh3d\":[{\"colorbar\":{\"outlinewidth\":0,\"ticks\":\"\"},\"type\":\"mesh3d\"}],\"parcoords\":[{\"line\":{\"colorbar\":{\"outlinewidth\":0,\"ticks\":\"\"}},\"type\":\"parcoords\"}],\"pie\":[{\"automargin\":true,\"type\":\"pie\"}],\"scatter3d\":[{\"line\":{\"colorbar\":{\"outlinewidth\":0,\"ticks\":\"\"}},\"marker\":{\"colorbar\":{\"outlinewidth\":0,\"ticks\":\"\"}},\"type\":\"scatter3d\"}],\"scattercarpet\":[{\"marker\":{\"colorbar\":{\"outlinewidth\":0,\"ticks\":\"\"}},\"type\":\"scattercarpet\"}],\"scattergeo\":[{\"marker\":{\"colorbar\":{\"outlinewidth\":0,\"ticks\":\"\"}},\"type\":\"scattergeo\"}],\"scattergl\":[{\"marker\":{\"colorbar\":{\"outlinewidth\":0,\"ticks\":\"\"}},\"type\":\"scattergl\"}],\"scattermapbox\":[{\"marker\":{\"colorbar\":{\"outlinewidth\":0,\"ticks\":\"\"}},\"type\":\"scattermapbox\"}],\"scatterpolargl\":[{\"marker\":{\"colorbar\":{\"outlinewidth\":0,\"ticks\":\"\"}},\"type\":\"scatterpolargl\"}],\"scatterpolar\":[{\"marker\":{\"colorbar\":{\"outlinewidth\":0,\"ticks\":\"\"}},\"type\":\"scatterpolar\"}],\"scatter\":[{\"fillpattern\":{\"fillmode\":\"overlay\",\"size\":10,\"solidity\":0.2},\"type\":\"scatter\"}],\"scatterternary\":[{\"marker\":{\"colorbar\":{\"outlinewidth\":0,\"ticks\":\"\"}},\"type\":\"scatterternary\"}],\"surface\":[{\"colorbar\":{\"outlinewidth\":0,\"ticks\":\"\"},\"colorscale\":[[0.0,\"#0d0887\"],[0.1111111111111111,\"#46039f\"],[0.2222222222222222,\"#7201a8\"],[0.3333333333333333,\"#9c179e\"],[0.4444444444444444,\"#bd3786\"],[0.5555555555555556,\"#d8576b\"],[0.6666666666666666,\"#ed7953\"],[0.7777777777777778,\"#fb9f3a\"],[0.8888888888888888,\"#fdca26\"],[1.0,\"#f0f921\"]],\"type\":\"surface\"}],\"table\":[{\"cells\":{\"fill\":{\"color\":\"#EBF0F8\"},\"line\":{\"color\":\"white\"}},\"header\":{\"fill\":{\"color\":\"#C8D4E3\"},\"line\":{\"color\":\"white\"}},\"type\":\"table\"}]},\"layout\":{\"annotationdefaults\":{\"arrowcolor\":\"#2a3f5f\",\"arrowhead\":0,\"arrowwidth\":1},\"autotypenumbers\":\"strict\",\"coloraxis\":{\"colorbar\":{\"outlinewidth\":0,\"ticks\":\"\"}},\"colorscale\":{\"diverging\":[[0,\"#8e0152\"],[0.1,\"#c51b7d\"],[0.2,\"#de77ae\"],[0.3,\"#f1b6da\"],[0.4,\"#fde0ef\"],[0.5,\"#f7f7f7\"],[0.6,\"#e6f5d0\"],[0.7,\"#b8e186\"],[0.8,\"#7fbc41\"],[0.9,\"#4d9221\"],[1,\"#276419\"]],\"sequential\":[[0.0,\"#0d0887\"],[0.1111111111111111,\"#46039f\"],[0.2222222222222222,\"#7201a8\"],[0.3333333333333333,\"#9c179e\"],[0.4444444444444444,\"#bd3786\"],[0.5555555555555556,\"#d8576b\"],[0.6666666666666666,\"#ed7953\"],[0.7777777777777778,\"#fb9f3a\"],[0.8888888888888888,\"#fdca26\"],[1.0,\"#f0f921\"]],\"sequentialminus\":[[0.0,\"#0d0887\"],[0.1111111111111111,\"#46039f\"],[0.2222222222222222,\"#7201a8\"],[0.3333333333333333,\"#9c179e\"],[0.4444444444444444,\"#bd3786\"],[0.5555555555555556,\"#d8576b\"],[0.6666666666666666,\"#ed7953\"],[0.7777777777777778,\"#fb9f3a\"],[0.8888888888888888,\"#fdca26\"],[1.0,\"#f0f921\"]]},\"colorway\":[\"#636efa\",\"#EF553B\",\"#00cc96\",\"#ab63fa\",\"#FFA15A\",\"#19d3f3\",\"#FF6692\",\"#B6E880\",\"#FF97FF\",\"#FECB52\"],\"font\":{\"color\":\"#2a3f5f\"},\"geo\":{\"bgcolor\":\"white\",\"lakecolor\":\"white\",\"landcolor\":\"#E5ECF6\",\"showlakes\":true,\"showland\":true,\"subunitcolor\":\"white\"},\"hoverlabel\":{\"align\":\"left\"},\"hovermode\":\"closest\",\"mapbox\":{\"style\":\"light\"},\"paper_bgcolor\":\"white\",\"plot_bgcolor\":\"#E5ECF6\",\"polar\":{\"angularaxis\":{\"gridcolor\":\"white\",\"linecolor\":\"white\",\"ticks\":\"\"},\"bgcolor\":\"#E5ECF6\",\"radialaxis\":{\"gridcolor\":\"white\",\"linecolor\":\"white\",\"ticks\":\"\"}},\"scene\":{\"xaxis\":{\"backgroundcolor\":\"#E5ECF6\",\"gridcolor\":\"white\",\"gridwidth\":2,\"linecolor\":\"white\",\"showbackground\":true,\"ticks\":\"\",\"zerolinecolor\":\"white\"},\"yaxis\":{\"backgroundcolor\":\"#E5ECF6\",\"gridcolor\":\"white\",\"gridwidth\":2,\"linecolor\":\"white\",\"showbackground\":true,\"ticks\":\"\",\"zerolinecolor\":\"white\"},\"zaxis\":{\"backgroundcolor\":\"#E5ECF6\",\"gridcolor\":\"white\",\"gridwidth\":2,\"linecolor\":\"white\",\"showbackground\":true,\"ticks\":\"\",\"zerolinecolor\":\"white\"}},\"shapedefaults\":{\"line\":{\"color\":\"#2a3f5f\"}},\"ternary\":{\"aaxis\":{\"gridcolor\":\"white\",\"linecolor\":\"white\",\"ticks\":\"\"},\"baxis\":{\"gridcolor\":\"white\",\"linecolor\":\"white\",\"ticks\":\"\"},\"bgcolor\":\"#E5ECF6\",\"caxis\":{\"gridcolor\":\"white\",\"linecolor\":\"white\",\"ticks\":\"\"}},\"title\":{\"x\":0.05},\"xaxis\":{\"automargin\":true,\"gridcolor\":\"white\",\"linecolor\":\"white\",\"ticks\":\"\",\"title\":{\"standoff\":15},\"zerolinecolor\":\"white\",\"zerolinewidth\":2},\"yaxis\":{\"automargin\":true,\"gridcolor\":\"white\",\"linecolor\":\"white\",\"ticks\":\"\",\"title\":{\"standoff\":15},\"zerolinecolor\":\"white\",\"zerolinewidth\":2}}},\"title\":{\"font\":{\"color\":\"#4D5663\"}},\"xaxis\":{\"gridcolor\":\"#E1E5ED\",\"showgrid\":true,\"tickfont\":{\"color\":\"#4D5663\"},\"title\":{\"font\":{\"color\":\"#4D5663\"},\"text\":\"\"},\"zerolinecolor\":\"#E1E5ED\"},\"yaxis\":{\"gridcolor\":\"#E1E5ED\",\"showgrid\":true,\"tickfont\":{\"color\":\"#4D5663\"},\"title\":{\"font\":{\"color\":\"#4D5663\"},\"text\":\"\"},\"zerolinecolor\":\"#E1E5ED\"}},                        {\"showLink\": true, \"linkText\": \"Export to plot.ly\", \"plotlyServerURL\": \"https://plot.ly\", \"responsive\": true}                    ).then(function(){\n",
       "                            \n",
       "var gd = document.getElementById('396c9ffb-fd19-4c62-bbe5-5e617917feef');\n",
       "var x = new MutationObserver(function (mutations, observer) {{\n",
       "        var display = window.getComputedStyle(gd).display;\n",
       "        if (!display || display === 'none') {{\n",
       "            console.log([gd, 'removed!']);\n",
       "            Plotly.purge(gd);\n",
       "            observer.disconnect();\n",
       "        }}\n",
       "}});\n",
       "\n",
       "// Listen for the removal of the full notebook cells\n",
       "var notebookContainer = gd.closest('#notebook-container');\n",
       "if (notebookContainer) {{\n",
       "    x.observe(notebookContainer, {childList: true});\n",
       "}}\n",
       "\n",
       "// Listen for the clearing of the current output cell\n",
       "var outputEl = gd.closest('.output');\n",
       "if (outputEl) {{\n",
       "    x.observe(outputEl, {childList: true});\n",
       "}}\n",
       "\n",
       "                        })                };                });            </script>        </div>"
      ]
     },
     "metadata": {},
     "output_type": "display_data"
    }
   ],
   "source": [
    "df.iplot(kind='box')"
   ]
  },
  {
   "cell_type": "markdown",
   "metadata": {},
   "source": [
    "## 3d Surface"
   ]
  },
  {
   "cell_type": "code",
   "execution_count": 14,
   "metadata": {},
   "outputs": [
    {
     "data": {
      "application/vnd.plotly.v1+json": {
       "config": {
        "linkText": "Export to plot.ly",
        "plotlyServerURL": "https://plot.ly",
        "showLink": true
       },
       "data": [
        {
         "colorscale": [
          [
           0,
           "rgb(165,0,38)"
          ],
          [
           0.1,
           "rgb(215,48,39)"
          ],
          [
           0.2,
           "rgb(244,109,67)"
          ],
          [
           0.3,
           "rgb(253,174,97)"
          ],
          [
           0.4,
           "rgb(254,224,144)"
          ],
          [
           0.5,
           "rgb(255,255,191)"
          ],
          [
           0.6,
           "rgb(224,243,248)"
          ],
          [
           0.7,
           "rgb(171,217,233)"
          ],
          [
           0.8,
           "rgb(116,173,209)"
          ],
          [
           0.9,
           "rgb(69,117,180)"
          ],
          [
           1,
           "rgb(49,54,149)"
          ]
         ],
         "type": "surface",
         "x": [
          0,
          1,
          2,
          3,
          4
         ],
         "y": [
          "x",
          "y",
          "z"
         ],
         "z": [
          [
           1,
           2,
           3,
           4,
           5
          ],
          [
           10,
           20,
           30,
           20,
           10
          ],
          [
           5,
           4,
           3,
           2,
           1
          ]
         ]
        }
       ],
       "layout": {
        "legend": {
         "bgcolor": "#F5F6F9",
         "font": {
          "color": "#4D5663"
         }
        },
        "paper_bgcolor": "#F5F6F9",
        "plot_bgcolor": "#F5F6F9",
        "template": {
         "data": {
          "bar": [
           {
            "error_x": {
             "color": "#2a3f5f"
            },
            "error_y": {
             "color": "#2a3f5f"
            },
            "marker": {
             "line": {
              "color": "#E5ECF6",
              "width": 0.5
             },
             "pattern": {
              "fillmode": "overlay",
              "size": 10,
              "solidity": 0.2
             }
            },
            "type": "bar"
           }
          ],
          "barpolar": [
           {
            "marker": {
             "line": {
              "color": "#E5ECF6",
              "width": 0.5
             },
             "pattern": {
              "fillmode": "overlay",
              "size": 10,
              "solidity": 0.2
             }
            },
            "type": "barpolar"
           }
          ],
          "carpet": [
           {
            "aaxis": {
             "endlinecolor": "#2a3f5f",
             "gridcolor": "white",
             "linecolor": "white",
             "minorgridcolor": "white",
             "startlinecolor": "#2a3f5f"
            },
            "baxis": {
             "endlinecolor": "#2a3f5f",
             "gridcolor": "white",
             "linecolor": "white",
             "minorgridcolor": "white",
             "startlinecolor": "#2a3f5f"
            },
            "type": "carpet"
           }
          ],
          "choropleth": [
           {
            "colorbar": {
             "outlinewidth": 0,
             "ticks": ""
            },
            "type": "choropleth"
           }
          ],
          "contour": [
           {
            "colorbar": {
             "outlinewidth": 0,
             "ticks": ""
            },
            "colorscale": [
             [
              0,
              "#0d0887"
             ],
             [
              0.1111111111111111,
              "#46039f"
             ],
             [
              0.2222222222222222,
              "#7201a8"
             ],
             [
              0.3333333333333333,
              "#9c179e"
             ],
             [
              0.4444444444444444,
              "#bd3786"
             ],
             [
              0.5555555555555556,
              "#d8576b"
             ],
             [
              0.6666666666666666,
              "#ed7953"
             ],
             [
              0.7777777777777778,
              "#fb9f3a"
             ],
             [
              0.8888888888888888,
              "#fdca26"
             ],
             [
              1,
              "#f0f921"
             ]
            ],
            "type": "contour"
           }
          ],
          "contourcarpet": [
           {
            "colorbar": {
             "outlinewidth": 0,
             "ticks": ""
            },
            "type": "contourcarpet"
           }
          ],
          "heatmap": [
           {
            "colorbar": {
             "outlinewidth": 0,
             "ticks": ""
            },
            "colorscale": [
             [
              0,
              "#0d0887"
             ],
             [
              0.1111111111111111,
              "#46039f"
             ],
             [
              0.2222222222222222,
              "#7201a8"
             ],
             [
              0.3333333333333333,
              "#9c179e"
             ],
             [
              0.4444444444444444,
              "#bd3786"
             ],
             [
              0.5555555555555556,
              "#d8576b"
             ],
             [
              0.6666666666666666,
              "#ed7953"
             ],
             [
              0.7777777777777778,
              "#fb9f3a"
             ],
             [
              0.8888888888888888,
              "#fdca26"
             ],
             [
              1,
              "#f0f921"
             ]
            ],
            "type": "heatmap"
           }
          ],
          "heatmapgl": [
           {
            "colorbar": {
             "outlinewidth": 0,
             "ticks": ""
            },
            "colorscale": [
             [
              0,
              "#0d0887"
             ],
             [
              0.1111111111111111,
              "#46039f"
             ],
             [
              0.2222222222222222,
              "#7201a8"
             ],
             [
              0.3333333333333333,
              "#9c179e"
             ],
             [
              0.4444444444444444,
              "#bd3786"
             ],
             [
              0.5555555555555556,
              "#d8576b"
             ],
             [
              0.6666666666666666,
              "#ed7953"
             ],
             [
              0.7777777777777778,
              "#fb9f3a"
             ],
             [
              0.8888888888888888,
              "#fdca26"
             ],
             [
              1,
              "#f0f921"
             ]
            ],
            "type": "heatmapgl"
           }
          ],
          "histogram": [
           {
            "marker": {
             "pattern": {
              "fillmode": "overlay",
              "size": 10,
              "solidity": 0.2
             }
            },
            "type": "histogram"
           }
          ],
          "histogram2d": [
           {
            "colorbar": {
             "outlinewidth": 0,
             "ticks": ""
            },
            "colorscale": [
             [
              0,
              "#0d0887"
             ],
             [
              0.1111111111111111,
              "#46039f"
             ],
             [
              0.2222222222222222,
              "#7201a8"
             ],
             [
              0.3333333333333333,
              "#9c179e"
             ],
             [
              0.4444444444444444,
              "#bd3786"
             ],
             [
              0.5555555555555556,
              "#d8576b"
             ],
             [
              0.6666666666666666,
              "#ed7953"
             ],
             [
              0.7777777777777778,
              "#fb9f3a"
             ],
             [
              0.8888888888888888,
              "#fdca26"
             ],
             [
              1,
              "#f0f921"
             ]
            ],
            "type": "histogram2d"
           }
          ],
          "histogram2dcontour": [
           {
            "colorbar": {
             "outlinewidth": 0,
             "ticks": ""
            },
            "colorscale": [
             [
              0,
              "#0d0887"
             ],
             [
              0.1111111111111111,
              "#46039f"
             ],
             [
              0.2222222222222222,
              "#7201a8"
             ],
             [
              0.3333333333333333,
              "#9c179e"
             ],
             [
              0.4444444444444444,
              "#bd3786"
             ],
             [
              0.5555555555555556,
              "#d8576b"
             ],
             [
              0.6666666666666666,
              "#ed7953"
             ],
             [
              0.7777777777777778,
              "#fb9f3a"
             ],
             [
              0.8888888888888888,
              "#fdca26"
             ],
             [
              1,
              "#f0f921"
             ]
            ],
            "type": "histogram2dcontour"
           }
          ],
          "mesh3d": [
           {
            "colorbar": {
             "outlinewidth": 0,
             "ticks": ""
            },
            "type": "mesh3d"
           }
          ],
          "parcoords": [
           {
            "line": {
             "colorbar": {
              "outlinewidth": 0,
              "ticks": ""
             }
            },
            "type": "parcoords"
           }
          ],
          "pie": [
           {
            "automargin": true,
            "type": "pie"
           }
          ],
          "scatter": [
           {
            "fillpattern": {
             "fillmode": "overlay",
             "size": 10,
             "solidity": 0.2
            },
            "type": "scatter"
           }
          ],
          "scatter3d": [
           {
            "line": {
             "colorbar": {
              "outlinewidth": 0,
              "ticks": ""
             }
            },
            "marker": {
             "colorbar": {
              "outlinewidth": 0,
              "ticks": ""
             }
            },
            "type": "scatter3d"
           }
          ],
          "scattercarpet": [
           {
            "marker": {
             "colorbar": {
              "outlinewidth": 0,
              "ticks": ""
             }
            },
            "type": "scattercarpet"
           }
          ],
          "scattergeo": [
           {
            "marker": {
             "colorbar": {
              "outlinewidth": 0,
              "ticks": ""
             }
            },
            "type": "scattergeo"
           }
          ],
          "scattergl": [
           {
            "marker": {
             "colorbar": {
              "outlinewidth": 0,
              "ticks": ""
             }
            },
            "type": "scattergl"
           }
          ],
          "scattermapbox": [
           {
            "marker": {
             "colorbar": {
              "outlinewidth": 0,
              "ticks": ""
             }
            },
            "type": "scattermapbox"
           }
          ],
          "scatterpolar": [
           {
            "marker": {
             "colorbar": {
              "outlinewidth": 0,
              "ticks": ""
             }
            },
            "type": "scatterpolar"
           }
          ],
          "scatterpolargl": [
           {
            "marker": {
             "colorbar": {
              "outlinewidth": 0,
              "ticks": ""
             }
            },
            "type": "scatterpolargl"
           }
          ],
          "scatterternary": [
           {
            "marker": {
             "colorbar": {
              "outlinewidth": 0,
              "ticks": ""
             }
            },
            "type": "scatterternary"
           }
          ],
          "surface": [
           {
            "colorbar": {
             "outlinewidth": 0,
             "ticks": ""
            },
            "colorscale": [
             [
              0,
              "#0d0887"
             ],
             [
              0.1111111111111111,
              "#46039f"
             ],
             [
              0.2222222222222222,
              "#7201a8"
             ],
             [
              0.3333333333333333,
              "#9c179e"
             ],
             [
              0.4444444444444444,
              "#bd3786"
             ],
             [
              0.5555555555555556,
              "#d8576b"
             ],
             [
              0.6666666666666666,
              "#ed7953"
             ],
             [
              0.7777777777777778,
              "#fb9f3a"
             ],
             [
              0.8888888888888888,
              "#fdca26"
             ],
             [
              1,
              "#f0f921"
             ]
            ],
            "type": "surface"
           }
          ],
          "table": [
           {
            "cells": {
             "fill": {
              "color": "#EBF0F8"
             },
             "line": {
              "color": "white"
             }
            },
            "header": {
             "fill": {
              "color": "#C8D4E3"
             },
             "line": {
              "color": "white"
             }
            },
            "type": "table"
           }
          ]
         },
         "layout": {
          "annotationdefaults": {
           "arrowcolor": "#2a3f5f",
           "arrowhead": 0,
           "arrowwidth": 1
          },
          "autotypenumbers": "strict",
          "coloraxis": {
           "colorbar": {
            "outlinewidth": 0,
            "ticks": ""
           }
          },
          "colorscale": {
           "diverging": [
            [
             0,
             "#8e0152"
            ],
            [
             0.1,
             "#c51b7d"
            ],
            [
             0.2,
             "#de77ae"
            ],
            [
             0.3,
             "#f1b6da"
            ],
            [
             0.4,
             "#fde0ef"
            ],
            [
             0.5,
             "#f7f7f7"
            ],
            [
             0.6,
             "#e6f5d0"
            ],
            [
             0.7,
             "#b8e186"
            ],
            [
             0.8,
             "#7fbc41"
            ],
            [
             0.9,
             "#4d9221"
            ],
            [
             1,
             "#276419"
            ]
           ],
           "sequential": [
            [
             0,
             "#0d0887"
            ],
            [
             0.1111111111111111,
             "#46039f"
            ],
            [
             0.2222222222222222,
             "#7201a8"
            ],
            [
             0.3333333333333333,
             "#9c179e"
            ],
            [
             0.4444444444444444,
             "#bd3786"
            ],
            [
             0.5555555555555556,
             "#d8576b"
            ],
            [
             0.6666666666666666,
             "#ed7953"
            ],
            [
             0.7777777777777778,
             "#fb9f3a"
            ],
            [
             0.8888888888888888,
             "#fdca26"
            ],
            [
             1,
             "#f0f921"
            ]
           ],
           "sequentialminus": [
            [
             0,
             "#0d0887"
            ],
            [
             0.1111111111111111,
             "#46039f"
            ],
            [
             0.2222222222222222,
             "#7201a8"
            ],
            [
             0.3333333333333333,
             "#9c179e"
            ],
            [
             0.4444444444444444,
             "#bd3786"
            ],
            [
             0.5555555555555556,
             "#d8576b"
            ],
            [
             0.6666666666666666,
             "#ed7953"
            ],
            [
             0.7777777777777778,
             "#fb9f3a"
            ],
            [
             0.8888888888888888,
             "#fdca26"
            ],
            [
             1,
             "#f0f921"
            ]
           ]
          },
          "colorway": [
           "#636efa",
           "#EF553B",
           "#00cc96",
           "#ab63fa",
           "#FFA15A",
           "#19d3f3",
           "#FF6692",
           "#B6E880",
           "#FF97FF",
           "#FECB52"
          ],
          "font": {
           "color": "#2a3f5f"
          },
          "geo": {
           "bgcolor": "white",
           "lakecolor": "white",
           "landcolor": "#E5ECF6",
           "showlakes": true,
           "showland": true,
           "subunitcolor": "white"
          },
          "hoverlabel": {
           "align": "left"
          },
          "hovermode": "closest",
          "mapbox": {
           "style": "light"
          },
          "paper_bgcolor": "white",
          "plot_bgcolor": "#E5ECF6",
          "polar": {
           "angularaxis": {
            "gridcolor": "white",
            "linecolor": "white",
            "ticks": ""
           },
           "bgcolor": "#E5ECF6",
           "radialaxis": {
            "gridcolor": "white",
            "linecolor": "white",
            "ticks": ""
           }
          },
          "scene": {
           "xaxis": {
            "backgroundcolor": "#E5ECF6",
            "gridcolor": "white",
            "gridwidth": 2,
            "linecolor": "white",
            "showbackground": true,
            "ticks": "",
            "zerolinecolor": "white"
           },
           "yaxis": {
            "backgroundcolor": "#E5ECF6",
            "gridcolor": "white",
            "gridwidth": 2,
            "linecolor": "white",
            "showbackground": true,
            "ticks": "",
            "zerolinecolor": "white"
           },
           "zaxis": {
            "backgroundcolor": "#E5ECF6",
            "gridcolor": "white",
            "gridwidth": 2,
            "linecolor": "white",
            "showbackground": true,
            "ticks": "",
            "zerolinecolor": "white"
           }
          },
          "shapedefaults": {
           "line": {
            "color": "#2a3f5f"
           }
          },
          "ternary": {
           "aaxis": {
            "gridcolor": "white",
            "linecolor": "white",
            "ticks": ""
           },
           "baxis": {
            "gridcolor": "white",
            "linecolor": "white",
            "ticks": ""
           },
           "bgcolor": "#E5ECF6",
           "caxis": {
            "gridcolor": "white",
            "linecolor": "white",
            "ticks": ""
           }
          },
          "title": {
           "x": 0.05
          },
          "xaxis": {
           "automargin": true,
           "gridcolor": "white",
           "linecolor": "white",
           "ticks": "",
           "title": {
            "standoff": 15
           },
           "zerolinecolor": "white",
           "zerolinewidth": 2
          },
          "yaxis": {
           "automargin": true,
           "gridcolor": "white",
           "linecolor": "white",
           "ticks": "",
           "title": {
            "standoff": 15
           },
           "zerolinecolor": "white",
           "zerolinewidth": 2
          }
         }
        },
        "title": {
         "font": {
          "color": "#4D5663"
         }
        },
        "xaxis": {
         "gridcolor": "#E1E5ED",
         "showgrid": true,
         "tickfont": {
          "color": "#4D5663"
         },
         "title": {
          "font": {
           "color": "#4D5663"
          },
          "text": ""
         },
         "zerolinecolor": "#E1E5ED"
        },
        "yaxis": {
         "gridcolor": "#E1E5ED",
         "showgrid": true,
         "tickfont": {
          "color": "#4D5663"
         },
         "title": {
          "font": {
           "color": "#4D5663"
          },
          "text": ""
         },
         "zerolinecolor": "#E1E5ED"
        }
       }
      },
      "text/html": [
       "<div>                            <div id=\"5379872a-afa5-45bc-9221-d0433406b21f\" class=\"plotly-graph-div\" style=\"height:525px; width:100%;\"></div>            <script type=\"text/javascript\">                require([\"plotly\"], function(Plotly) {                    window.PLOTLYENV=window.PLOTLYENV || {};\n",
       "                    window.PLOTLYENV.BASE_URL='https://plot.ly';                                    if (document.getElementById(\"5379872a-afa5-45bc-9221-d0433406b21f\")) {                    Plotly.newPlot(                        \"5379872a-afa5-45bc-9221-d0433406b21f\",                        [{\"colorscale\":[[0.0,\"rgb(165,0,38)\"],[0.1,\"rgb(215,48,39)\"],[0.2,\"rgb(244,109,67)\"],[0.3,\"rgb(253,174,97)\"],[0.4,\"rgb(254,224,144)\"],[0.5,\"rgb(255,255,191)\"],[0.6,\"rgb(224,243,248)\"],[0.7,\"rgb(171,217,233)\"],[0.8,\"rgb(116,173,209)\"],[0.9,\"rgb(69,117,180)\"],[1.0,\"rgb(49,54,149)\"]],\"x\":[0,1,2,3,4],\"y\":[\"x\",\"y\",\"z\"],\"z\":[[1,2,3,4,5],[10,20,30,20,10],[5,4,3,2,1]],\"type\":\"surface\"}],                        {\"legend\":{\"bgcolor\":\"#F5F6F9\",\"font\":{\"color\":\"#4D5663\"}},\"paper_bgcolor\":\"#F5F6F9\",\"plot_bgcolor\":\"#F5F6F9\",\"template\":{\"data\":{\"barpolar\":[{\"marker\":{\"line\":{\"color\":\"#E5ECF6\",\"width\":0.5},\"pattern\":{\"fillmode\":\"overlay\",\"size\":10,\"solidity\":0.2}},\"type\":\"barpolar\"}],\"bar\":[{\"error_x\":{\"color\":\"#2a3f5f\"},\"error_y\":{\"color\":\"#2a3f5f\"},\"marker\":{\"line\":{\"color\":\"#E5ECF6\",\"width\":0.5},\"pattern\":{\"fillmode\":\"overlay\",\"size\":10,\"solidity\":0.2}},\"type\":\"bar\"}],\"carpet\":[{\"aaxis\":{\"endlinecolor\":\"#2a3f5f\",\"gridcolor\":\"white\",\"linecolor\":\"white\",\"minorgridcolor\":\"white\",\"startlinecolor\":\"#2a3f5f\"},\"baxis\":{\"endlinecolor\":\"#2a3f5f\",\"gridcolor\":\"white\",\"linecolor\":\"white\",\"minorgridcolor\":\"white\",\"startlinecolor\":\"#2a3f5f\"},\"type\":\"carpet\"}],\"choropleth\":[{\"colorbar\":{\"outlinewidth\":0,\"ticks\":\"\"},\"type\":\"choropleth\"}],\"contourcarpet\":[{\"colorbar\":{\"outlinewidth\":0,\"ticks\":\"\"},\"type\":\"contourcarpet\"}],\"contour\":[{\"colorbar\":{\"outlinewidth\":0,\"ticks\":\"\"},\"colorscale\":[[0.0,\"#0d0887\"],[0.1111111111111111,\"#46039f\"],[0.2222222222222222,\"#7201a8\"],[0.3333333333333333,\"#9c179e\"],[0.4444444444444444,\"#bd3786\"],[0.5555555555555556,\"#d8576b\"],[0.6666666666666666,\"#ed7953\"],[0.7777777777777778,\"#fb9f3a\"],[0.8888888888888888,\"#fdca26\"],[1.0,\"#f0f921\"]],\"type\":\"contour\"}],\"heatmapgl\":[{\"colorbar\":{\"outlinewidth\":0,\"ticks\":\"\"},\"colorscale\":[[0.0,\"#0d0887\"],[0.1111111111111111,\"#46039f\"],[0.2222222222222222,\"#7201a8\"],[0.3333333333333333,\"#9c179e\"],[0.4444444444444444,\"#bd3786\"],[0.5555555555555556,\"#d8576b\"],[0.6666666666666666,\"#ed7953\"],[0.7777777777777778,\"#fb9f3a\"],[0.8888888888888888,\"#fdca26\"],[1.0,\"#f0f921\"]],\"type\":\"heatmapgl\"}],\"heatmap\":[{\"colorbar\":{\"outlinewidth\":0,\"ticks\":\"\"},\"colorscale\":[[0.0,\"#0d0887\"],[0.1111111111111111,\"#46039f\"],[0.2222222222222222,\"#7201a8\"],[0.3333333333333333,\"#9c179e\"],[0.4444444444444444,\"#bd3786\"],[0.5555555555555556,\"#d8576b\"],[0.6666666666666666,\"#ed7953\"],[0.7777777777777778,\"#fb9f3a\"],[0.8888888888888888,\"#fdca26\"],[1.0,\"#f0f921\"]],\"type\":\"heatmap\"}],\"histogram2dcontour\":[{\"colorbar\":{\"outlinewidth\":0,\"ticks\":\"\"},\"colorscale\":[[0.0,\"#0d0887\"],[0.1111111111111111,\"#46039f\"],[0.2222222222222222,\"#7201a8\"],[0.3333333333333333,\"#9c179e\"],[0.4444444444444444,\"#bd3786\"],[0.5555555555555556,\"#d8576b\"],[0.6666666666666666,\"#ed7953\"],[0.7777777777777778,\"#fb9f3a\"],[0.8888888888888888,\"#fdca26\"],[1.0,\"#f0f921\"]],\"type\":\"histogram2dcontour\"}],\"histogram2d\":[{\"colorbar\":{\"outlinewidth\":0,\"ticks\":\"\"},\"colorscale\":[[0.0,\"#0d0887\"],[0.1111111111111111,\"#46039f\"],[0.2222222222222222,\"#7201a8\"],[0.3333333333333333,\"#9c179e\"],[0.4444444444444444,\"#bd3786\"],[0.5555555555555556,\"#d8576b\"],[0.6666666666666666,\"#ed7953\"],[0.7777777777777778,\"#fb9f3a\"],[0.8888888888888888,\"#fdca26\"],[1.0,\"#f0f921\"]],\"type\":\"histogram2d\"}],\"histogram\":[{\"marker\":{\"pattern\":{\"fillmode\":\"overlay\",\"size\":10,\"solidity\":0.2}},\"type\":\"histogram\"}],\"mesh3d\":[{\"colorbar\":{\"outlinewidth\":0,\"ticks\":\"\"},\"type\":\"mesh3d\"}],\"parcoords\":[{\"line\":{\"colorbar\":{\"outlinewidth\":0,\"ticks\":\"\"}},\"type\":\"parcoords\"}],\"pie\":[{\"automargin\":true,\"type\":\"pie\"}],\"scatter3d\":[{\"line\":{\"colorbar\":{\"outlinewidth\":0,\"ticks\":\"\"}},\"marker\":{\"colorbar\":{\"outlinewidth\":0,\"ticks\":\"\"}},\"type\":\"scatter3d\"}],\"scattercarpet\":[{\"marker\":{\"colorbar\":{\"outlinewidth\":0,\"ticks\":\"\"}},\"type\":\"scattercarpet\"}],\"scattergeo\":[{\"marker\":{\"colorbar\":{\"outlinewidth\":0,\"ticks\":\"\"}},\"type\":\"scattergeo\"}],\"scattergl\":[{\"marker\":{\"colorbar\":{\"outlinewidth\":0,\"ticks\":\"\"}},\"type\":\"scattergl\"}],\"scattermapbox\":[{\"marker\":{\"colorbar\":{\"outlinewidth\":0,\"ticks\":\"\"}},\"type\":\"scattermapbox\"}],\"scatterpolargl\":[{\"marker\":{\"colorbar\":{\"outlinewidth\":0,\"ticks\":\"\"}},\"type\":\"scatterpolargl\"}],\"scatterpolar\":[{\"marker\":{\"colorbar\":{\"outlinewidth\":0,\"ticks\":\"\"}},\"type\":\"scatterpolar\"}],\"scatter\":[{\"fillpattern\":{\"fillmode\":\"overlay\",\"size\":10,\"solidity\":0.2},\"type\":\"scatter\"}],\"scatterternary\":[{\"marker\":{\"colorbar\":{\"outlinewidth\":0,\"ticks\":\"\"}},\"type\":\"scatterternary\"}],\"surface\":[{\"colorbar\":{\"outlinewidth\":0,\"ticks\":\"\"},\"colorscale\":[[0.0,\"#0d0887\"],[0.1111111111111111,\"#46039f\"],[0.2222222222222222,\"#7201a8\"],[0.3333333333333333,\"#9c179e\"],[0.4444444444444444,\"#bd3786\"],[0.5555555555555556,\"#d8576b\"],[0.6666666666666666,\"#ed7953\"],[0.7777777777777778,\"#fb9f3a\"],[0.8888888888888888,\"#fdca26\"],[1.0,\"#f0f921\"]],\"type\":\"surface\"}],\"table\":[{\"cells\":{\"fill\":{\"color\":\"#EBF0F8\"},\"line\":{\"color\":\"white\"}},\"header\":{\"fill\":{\"color\":\"#C8D4E3\"},\"line\":{\"color\":\"white\"}},\"type\":\"table\"}]},\"layout\":{\"annotationdefaults\":{\"arrowcolor\":\"#2a3f5f\",\"arrowhead\":0,\"arrowwidth\":1},\"autotypenumbers\":\"strict\",\"coloraxis\":{\"colorbar\":{\"outlinewidth\":0,\"ticks\":\"\"}},\"colorscale\":{\"diverging\":[[0,\"#8e0152\"],[0.1,\"#c51b7d\"],[0.2,\"#de77ae\"],[0.3,\"#f1b6da\"],[0.4,\"#fde0ef\"],[0.5,\"#f7f7f7\"],[0.6,\"#e6f5d0\"],[0.7,\"#b8e186\"],[0.8,\"#7fbc41\"],[0.9,\"#4d9221\"],[1,\"#276419\"]],\"sequential\":[[0.0,\"#0d0887\"],[0.1111111111111111,\"#46039f\"],[0.2222222222222222,\"#7201a8\"],[0.3333333333333333,\"#9c179e\"],[0.4444444444444444,\"#bd3786\"],[0.5555555555555556,\"#d8576b\"],[0.6666666666666666,\"#ed7953\"],[0.7777777777777778,\"#fb9f3a\"],[0.8888888888888888,\"#fdca26\"],[1.0,\"#f0f921\"]],\"sequentialminus\":[[0.0,\"#0d0887\"],[0.1111111111111111,\"#46039f\"],[0.2222222222222222,\"#7201a8\"],[0.3333333333333333,\"#9c179e\"],[0.4444444444444444,\"#bd3786\"],[0.5555555555555556,\"#d8576b\"],[0.6666666666666666,\"#ed7953\"],[0.7777777777777778,\"#fb9f3a\"],[0.8888888888888888,\"#fdca26\"],[1.0,\"#f0f921\"]]},\"colorway\":[\"#636efa\",\"#EF553B\",\"#00cc96\",\"#ab63fa\",\"#FFA15A\",\"#19d3f3\",\"#FF6692\",\"#B6E880\",\"#FF97FF\",\"#FECB52\"],\"font\":{\"color\":\"#2a3f5f\"},\"geo\":{\"bgcolor\":\"white\",\"lakecolor\":\"white\",\"landcolor\":\"#E5ECF6\",\"showlakes\":true,\"showland\":true,\"subunitcolor\":\"white\"},\"hoverlabel\":{\"align\":\"left\"},\"hovermode\":\"closest\",\"mapbox\":{\"style\":\"light\"},\"paper_bgcolor\":\"white\",\"plot_bgcolor\":\"#E5ECF6\",\"polar\":{\"angularaxis\":{\"gridcolor\":\"white\",\"linecolor\":\"white\",\"ticks\":\"\"},\"bgcolor\":\"#E5ECF6\",\"radialaxis\":{\"gridcolor\":\"white\",\"linecolor\":\"white\",\"ticks\":\"\"}},\"scene\":{\"xaxis\":{\"backgroundcolor\":\"#E5ECF6\",\"gridcolor\":\"white\",\"gridwidth\":2,\"linecolor\":\"white\",\"showbackground\":true,\"ticks\":\"\",\"zerolinecolor\":\"white\"},\"yaxis\":{\"backgroundcolor\":\"#E5ECF6\",\"gridcolor\":\"white\",\"gridwidth\":2,\"linecolor\":\"white\",\"showbackground\":true,\"ticks\":\"\",\"zerolinecolor\":\"white\"},\"zaxis\":{\"backgroundcolor\":\"#E5ECF6\",\"gridcolor\":\"white\",\"gridwidth\":2,\"linecolor\":\"white\",\"showbackground\":true,\"ticks\":\"\",\"zerolinecolor\":\"white\"}},\"shapedefaults\":{\"line\":{\"color\":\"#2a3f5f\"}},\"ternary\":{\"aaxis\":{\"gridcolor\":\"white\",\"linecolor\":\"white\",\"ticks\":\"\"},\"baxis\":{\"gridcolor\":\"white\",\"linecolor\":\"white\",\"ticks\":\"\"},\"bgcolor\":\"#E5ECF6\",\"caxis\":{\"gridcolor\":\"white\",\"linecolor\":\"white\",\"ticks\":\"\"}},\"title\":{\"x\":0.05},\"xaxis\":{\"automargin\":true,\"gridcolor\":\"white\",\"linecolor\":\"white\",\"ticks\":\"\",\"title\":{\"standoff\":15},\"zerolinecolor\":\"white\",\"zerolinewidth\":2},\"yaxis\":{\"automargin\":true,\"gridcolor\":\"white\",\"linecolor\":\"white\",\"ticks\":\"\",\"title\":{\"standoff\":15},\"zerolinecolor\":\"white\",\"zerolinewidth\":2}}},\"title\":{\"font\":{\"color\":\"#4D5663\"}},\"xaxis\":{\"gridcolor\":\"#E1E5ED\",\"showgrid\":true,\"tickfont\":{\"color\":\"#4D5663\"},\"title\":{\"font\":{\"color\":\"#4D5663\"},\"text\":\"\"},\"zerolinecolor\":\"#E1E5ED\"},\"yaxis\":{\"gridcolor\":\"#E1E5ED\",\"showgrid\":true,\"tickfont\":{\"color\":\"#4D5663\"},\"title\":{\"font\":{\"color\":\"#4D5663\"},\"text\":\"\"},\"zerolinecolor\":\"#E1E5ED\"}},                        {\"showLink\": true, \"linkText\": \"Export to plot.ly\", \"plotlyServerURL\": \"https://plot.ly\", \"responsive\": true}                    ).then(function(){\n",
       "                            \n",
       "var gd = document.getElementById('5379872a-afa5-45bc-9221-d0433406b21f');\n",
       "var x = new MutationObserver(function (mutations, observer) {{\n",
       "        var display = window.getComputedStyle(gd).display;\n",
       "        if (!display || display === 'none') {{\n",
       "            console.log([gd, 'removed!']);\n",
       "            Plotly.purge(gd);\n",
       "            observer.disconnect();\n",
       "        }}\n",
       "}});\n",
       "\n",
       "// Listen for the removal of the full notebook cells\n",
       "var notebookContainer = gd.closest('#notebook-container');\n",
       "if (notebookContainer) {{\n",
       "    x.observe(notebookContainer, {childList: true});\n",
       "}}\n",
       "\n",
       "// Listen for the clearing of the current output cell\n",
       "var outputEl = gd.closest('.output');\n",
       "if (outputEl) {{\n",
       "    x.observe(outputEl, {childList: true});\n",
       "}}\n",
       "\n",
       "                        })                };                });            </script>        </div>"
      ]
     },
     "metadata": {},
     "output_type": "display_data"
    }
   ],
   "source": [
    "df3 = pd.DataFrame({'x':[1,2,3,4,5],'y':[10,20,30,20,10],'z':[5,4,3,2,1]})\n",
    "df3.iplot(kind='surface',colorscale='rdylbu')"
   ]
  },
  {
   "cell_type": "markdown",
   "metadata": {},
   "source": [
    "## Spread"
   ]
  },
  {
   "cell_type": "code",
   "execution_count": 15,
   "metadata": {},
   "outputs": [
    {
     "name": "stderr",
     "output_type": "stream",
     "text": [
      "C:\\Users\\Mohini Ruhela\\anaconda3\\lib\\site-packages\\cufflinks\\plotlytools.py:849: FutureWarning:\n",
      "\n",
      "The pandas.np module is deprecated and will be removed from pandas in a future version. Import numpy directly instead.\n",
      "\n",
      "C:\\Users\\Mohini Ruhela\\anaconda3\\lib\\site-packages\\cufflinks\\plotlytools.py:850: FutureWarning:\n",
      "\n",
      "The pandas.np module is deprecated and will be removed from pandas in a future version. Import numpy directly instead.\n",
      "\n"
     ]
    },
    {
     "data": {
      "application/vnd.plotly.v1+json": {
       "config": {
        "linkText": "Export to plot.ly",
        "plotlyServerURL": "https://plot.ly",
        "showLink": true
       },
       "data": [
        {
         "line": {
          "color": "rgba(255, 153, 51, 1.0)",
          "dash": "solid",
          "shape": "linear",
          "width": 1.3
         },
         "mode": "lines",
         "name": "A",
         "text": "",
         "type": "scatter",
         "x": [
          0,
          1,
          2,
          3,
          4,
          5,
          6,
          7,
          8,
          9,
          10,
          11,
          12,
          13,
          14,
          15,
          16,
          17,
          18,
          19,
          20,
          21,
          22,
          23,
          24,
          25,
          26,
          27,
          28,
          29,
          30,
          31,
          32,
          33,
          34,
          35,
          36,
          37,
          38,
          39,
          40,
          41,
          42,
          43,
          44,
          45,
          46,
          47,
          48,
          49,
          50,
          51,
          52,
          53,
          54,
          55,
          56,
          57,
          58,
          59,
          60,
          61,
          62,
          63,
          64,
          65,
          66,
          67,
          68,
          69,
          70,
          71,
          72,
          73,
          74,
          75,
          76,
          77,
          78,
          79,
          80,
          81,
          82,
          83,
          84,
          85,
          86,
          87,
          88,
          89,
          90,
          91,
          92,
          93,
          94,
          95,
          96,
          97,
          98,
          99
         ],
         "y": [
          0.7079539021387217,
          -0.3783360900626558,
          0.8853180692065072,
          -0.9504446640592793,
          0.7226901789495682,
          0.9224382830904682,
          -1.106872373910298,
          -0.015512022601375831,
          -0.353185219997632,
          -1.6252717315486631,
          0.4379603431868372,
          -0.11202513204380407,
          -0.7774845199649303,
          -0.26404541257831904,
          1.7102975633384212,
          -0.618713812499301,
          0.12136353643424155,
          0.6458853926055258,
          0.3638258900788119,
          -0.7880221412791935,
          -0.061057152377792016,
          -1.4778008859699494,
          1.1870405477533919,
          -0.6048071947816758,
          0.07659232155588042,
          -0.15398130019507927,
          -0.36958333297065243,
          -0.9429809974689437,
          1.2305906665884294,
          -0.7959745429934965,
          -0.663281905003923,
          1.128362854729977,
          0.06415331933472061,
          -0.414839892068916,
          -1.3831532645195648,
          0.21399615389790222,
          0.43851694110182127,
          -0.4114009446497051,
          -0.3590980120744632,
          0.31201045815652223,
          -0.6634245849642328,
          0.7605528409235844,
          1.6068366897250939,
          0.273627723502373,
          -2.415782175331679,
          0.27033613277072394,
          -0.9372303352805079,
          -0.21038126785679548,
          -0.38618843428375854,
          1.487158644526282,
          1.2554315225588815,
          -0.618467760407867,
          -0.2987896850122946,
          1.666550161990266,
          -1.7014225673818364,
          -1.7418267036671515,
          -1.3832861553605915,
          0.5974236309246336,
          -0.44748732187681123,
          -0.2414535273223089,
          -0.3922456354520554,
          0.6240503922946212,
          -1.1446643412933704,
          3.0615893659439553,
          0.3213619292459653,
          -0.5180451015628634,
          -0.6663773615483357,
          -0.19494309232888837,
          0.4276932112345201,
          0.022091112323968924,
          -0.14442648374683745,
          0.7374385052891811,
          -0.6767684582551838,
          -0.14567377114486724,
          0.8037493806021632,
          -0.3001960688208521,
          2.0798140337654707,
          -0.2998140918327669,
          0.9325838464870018,
          1.80447023263451,
          0.058338735256817424,
          -0.18149754453367886,
          -0.6734820397467258,
          0.02879337648116921,
          -1.046693259350123,
          0.7348611862262173,
          -0.3096788977047204,
          0.9466045425894998,
          -0.5505270504726302,
          0.04573512621679498,
          2.3164513548805004,
          0.83936668723141,
          1.1409441716454916,
          -2.4982650892817837,
          0.7211867800358712,
          -0.6991293006245523,
          0.5251033671763228,
          1.391545946085124,
          -0.5865873066567011,
          1.3714225184623456
         ]
        },
        {
         "line": {
          "color": "rgba(55, 128, 191, 1.0)",
          "dash": "solid",
          "shape": "linear",
          "width": 1.3
         },
         "mode": "lines",
         "name": "B",
         "text": "",
         "type": "scatter",
         "x": [
          0,
          1,
          2,
          3,
          4,
          5,
          6,
          7,
          8,
          9,
          10,
          11,
          12,
          13,
          14,
          15,
          16,
          17,
          18,
          19,
          20,
          21,
          22,
          23,
          24,
          25,
          26,
          27,
          28,
          29,
          30,
          31,
          32,
          33,
          34,
          35,
          36,
          37,
          38,
          39,
          40,
          41,
          42,
          43,
          44,
          45,
          46,
          47,
          48,
          49,
          50,
          51,
          52,
          53,
          54,
          55,
          56,
          57,
          58,
          59,
          60,
          61,
          62,
          63,
          64,
          65,
          66,
          67,
          68,
          69,
          70,
          71,
          72,
          73,
          74,
          75,
          76,
          77,
          78,
          79,
          80,
          81,
          82,
          83,
          84,
          85,
          86,
          87,
          88,
          89,
          90,
          91,
          92,
          93,
          94,
          95,
          96,
          97,
          98,
          99
         ],
         "y": [
          0.13394584907567797,
          0.3879153265974429,
          -1.081481377423818,
          -0.24257147490927927,
          0.6454428756967521,
          0.9401443587964466,
          2.5443723124109896,
          -0.5918877531367807,
          0.5890569357834406,
          -0.814947995877355,
          -0.7305825948722581,
          1.1337331488996365,
          1.0504696105263363,
          0.5763859371801988,
          -0.697838112457501,
          -0.08208933003275574,
          -0.46178166108633467,
          -2.145738916473379,
          -0.830745986190214,
          0.6893633943869126,
          0.35902097452331505,
          0.09774310681059924,
          0.20815141104425233,
          0.33651036189190514,
          -0.3140974849551735,
          0.5118944152086332,
          -0.06948373723134914,
          0.4919985394877427,
          -0.46065848159580786,
          0.5384267925771766,
          0.02341032519984315,
          -0.28589435223142334,
          -0.23197753674200575,
          0.2108812073893951,
          0.7067447312268775,
          -0.061418659983730424,
          -0.8990785008586909,
          -0.5131739184457484,
          -0.3848750071650614,
          -0.6922519866549306,
          2.0218685506277967,
          0.9264143884674638,
          -0.2072472701213451,
          0.3272140258435058,
          -0.07644410431037132,
          -2.1530053141107635,
          0.1435065461309672,
          -0.4548392800761151,
          1.0218995489701463,
          1.8399929587701267,
          0.9582161447828299,
          -0.02525140285503517,
          0.6065418459764039,
          1.176592280057126,
          0.6966793603330663,
          -0.3225944077629017,
          0.05842342423158832,
          0.09438393670777477,
          0.9513555676012616,
          0.40260905248701456,
          -0.08406317167444576,
          1.2784482188078998,
          -1.2879427148628142,
          0.6175517189180135,
          -0.2224695502715256,
          0.33720074125190036,
          -0.15281272521416195,
          0.5201156847996458,
          1.177590444167989,
          -0.2689748870647838,
          1.265220873174324,
          2.9365354260876,
          1.4441809862857622,
          -2.1877702795672693,
          0.20837178474318227,
          0.39724384258536805,
          -0.3904530076814792,
          -0.9636530207146263,
          0.11001896281701239,
          0.18322824150561065,
          1.4605365576244245,
          0.2771608180778642,
          1.2537600257324881,
          0.7899949950161395,
          0.7554751869176336,
          0.43556657629043993,
          -0.9768266678432241,
          -1.3895601738886645,
          0.42494164448829674,
          -0.7087903247234564,
          0.6702014124044041,
          1.2838557969419582,
          -1.1343866915065046,
          -1.1627274402838177,
          -0.08897126049235626,
          -0.22655298182377334,
          -0.5204868023437481,
          0.7846852182745306,
          1.4067845224163147,
          0.4181597212708602
         ]
        },
        {
         "connectgaps": false,
         "fill": "tozeroy",
         "line": {
          "color": "green",
          "dash": "solid",
          "shape": "linear",
          "width": 0.5
         },
         "mode": "lines",
         "name": "Spread",
         "showlegend": false,
         "type": "scatter",
         "x": [
          0,
          1,
          2,
          3,
          4,
          5,
          6,
          7,
          8,
          9,
          10,
          11,
          12,
          13,
          14,
          15,
          16,
          17,
          18,
          19,
          20,
          21,
          22,
          23,
          24,
          25,
          26,
          27,
          28,
          29,
          30,
          31,
          32,
          33,
          34,
          35,
          36,
          37,
          38,
          39,
          40,
          41,
          42,
          43,
          44,
          45,
          46,
          47,
          48,
          49,
          50,
          51,
          52,
          53,
          54,
          55,
          56,
          57,
          58,
          59,
          60,
          61,
          62,
          63,
          64,
          65,
          66,
          67,
          68,
          69,
          70,
          71,
          72,
          73,
          74,
          75,
          76,
          77,
          78,
          79,
          80,
          81,
          82,
          83,
          84,
          85,
          86,
          87,
          88,
          89,
          90,
          91,
          92,
          93,
          94,
          95,
          96,
          97,
          98,
          99
         ],
         "xaxis": "x2",
         "y": [
          0.5740080530630437,
          "",
          1.9667994466303251,
          "",
          0.07724730325281615,
          "",
          "",
          0.5763757305354048,
          "",
          "",
          1.1685429380590953,
          "",
          "",
          "",
          2.408135675795922,
          "",
          0.5831451975205763,
          2.791624309078905,
          1.1945718762690258,
          "",
          "",
          "",
          0.9788891367091395,
          "",
          0.3906898065110539,
          "",
          "",
          "",
          1.6912491481842373,
          "",
          "",
          1.4142572069614006,
          0.29613085607672635,
          "",
          "",
          0.27541481388163264,
          1.337595441960512,
          0.10177297379604333,
          0.02577699509059822,
          1.0042624448114528,
          "",
          "",
          1.8140839598464389,
          "",
          "",
          2.4233414468814876,
          "",
          0.24445801221931965,
          "",
          "",
          0.29721537777605156,
          "",
          "",
          0.48995788193314005,
          "",
          "",
          "",
          0.5030396942168588,
          "",
          "",
          "",
          "",
          0.14327837356944384,
          2.444037647025942,
          0.5438314795174909,
          "",
          "",
          "",
          "",
          0.2910659993887527,
          "",
          "",
          "",
          2.042096508422402,
          0.5953775958589809,
          "",
          2.47026704144695,
          0.6638389288818594,
          0.8225648836699894,
          1.6212419911288993,
          "",
          "",
          "",
          "",
          "",
          0.2992946099357774,
          0.6671477701385038,
          2.336164716478164,
          "",
          0.7545254509402514,
          1.6462499424760964,
          "",
          2.2753308631519964,
          "",
          0.8101580405282275,
          "",
          1.0455901695200709,
          0.6068607278105934,
          "",
          0.9532627971914854
         ],
         "yaxis": "y2"
        },
        {
         "connectgaps": false,
         "fill": "tozeroy",
         "line": {
          "color": "red",
          "dash": "solid",
          "shape": "linear",
          "width": 0.5
         },
         "mode": "lines",
         "name": "Spread",
         "showlegend": false,
         "type": "scatter",
         "x": [
          0,
          1,
          2,
          3,
          4,
          5,
          6,
          7,
          8,
          9,
          10,
          11,
          12,
          13,
          14,
          15,
          16,
          17,
          18,
          19,
          20,
          21,
          22,
          23,
          24,
          25,
          26,
          27,
          28,
          29,
          30,
          31,
          32,
          33,
          34,
          35,
          36,
          37,
          38,
          39,
          40,
          41,
          42,
          43,
          44,
          45,
          46,
          47,
          48,
          49,
          50,
          51,
          52,
          53,
          54,
          55,
          56,
          57,
          58,
          59,
          60,
          61,
          62,
          63,
          64,
          65,
          66,
          67,
          68,
          69,
          70,
          71,
          72,
          73,
          74,
          75,
          76,
          77,
          78,
          79,
          80,
          81,
          82,
          83,
          84,
          85,
          86,
          87,
          88,
          89,
          90,
          91,
          92,
          93,
          94,
          95,
          96,
          97,
          98,
          99
         ],
         "xaxis": "x2",
         "y": [
          "",
          -0.7662514166600987,
          "",
          -0.7078731891500001,
          "",
          -0.017706075705978486,
          -3.6512446863212875,
          "",
          -0.9422421557810727,
          -0.8103237356713081,
          "",
          -1.2457582809434407,
          -1.8279541304912665,
          -0.8404313497585179,
          "",
          -0.5366244824665453,
          "",
          "",
          "",
          -1.477385535666106,
          -0.4200781269011071,
          -1.5755439927805486,
          "",
          -0.941317556673581,
          "",
          -0.6658757154037125,
          -0.3000995957393033,
          -1.4349795369566865,
          "",
          -1.3344013355706732,
          -0.6866922302037661,
          "",
          "",
          -0.6257210994583111,
          -2.0898979957464423,
          "",
          "",
          "",
          "",
          "",
          -2.6852931355920298,
          -0.16586154754387938,
          "",
          -0.05358630234113276,
          -2.3393380710213076,
          "",
          -1.080736881411475,
          "",
          -1.4080879832539048,
          -0.3528343142438446,
          "",
          -0.5932163575528319,
          -0.9053315309886985,
          "",
          -2.3981019277149027,
          -1.4192322959042498,
          -1.44170957959218,
          "",
          -1.398842889478073,
          -0.6440625798093235,
          -0.3081824637776096,
          -0.6543978265132786,
          "",
          "",
          "",
          -0.8552458428147638,
          -0.5135646363341737,
          -0.7150587771285342,
          -0.7498972329334689,
          "",
          -1.4096473569211614,
          -2.199096920798419,
          -2.120949444540946,
          "",
          "",
          -0.6974399114062202,
          "",
          "",
          "",
          "",
          -1.402197822367607,
          -0.458658362611543,
          -1.927242065479214,
          -0.7612016185349703,
          -1.8021684462677565,
          "",
          "",
          "",
          -0.9754686949609269,
          "",
          "",
          -0.4444891097105482,
          "",
          -1.335537648997966,
          "",
          -0.4725763188007789,
          "",
          "",
          -1.9933718290730158,
          ""
         ],
         "yaxis": "y2"
        }
       ],
       "layout": {
        "hovermode": "x",
        "legend": {
         "bgcolor": "#F5F6F9",
         "font": {
          "color": "#4D5663"
         }
        },
        "paper_bgcolor": "#F5F6F9",
        "plot_bgcolor": "#F5F6F9",
        "template": {
         "data": {
          "bar": [
           {
            "error_x": {
             "color": "#2a3f5f"
            },
            "error_y": {
             "color": "#2a3f5f"
            },
            "marker": {
             "line": {
              "color": "#E5ECF6",
              "width": 0.5
             },
             "pattern": {
              "fillmode": "overlay",
              "size": 10,
              "solidity": 0.2
             }
            },
            "type": "bar"
           }
          ],
          "barpolar": [
           {
            "marker": {
             "line": {
              "color": "#E5ECF6",
              "width": 0.5
             },
             "pattern": {
              "fillmode": "overlay",
              "size": 10,
              "solidity": 0.2
             }
            },
            "type": "barpolar"
           }
          ],
          "carpet": [
           {
            "aaxis": {
             "endlinecolor": "#2a3f5f",
             "gridcolor": "white",
             "linecolor": "white",
             "minorgridcolor": "white",
             "startlinecolor": "#2a3f5f"
            },
            "baxis": {
             "endlinecolor": "#2a3f5f",
             "gridcolor": "white",
             "linecolor": "white",
             "minorgridcolor": "white",
             "startlinecolor": "#2a3f5f"
            },
            "type": "carpet"
           }
          ],
          "choropleth": [
           {
            "colorbar": {
             "outlinewidth": 0,
             "ticks": ""
            },
            "type": "choropleth"
           }
          ],
          "contour": [
           {
            "colorbar": {
             "outlinewidth": 0,
             "ticks": ""
            },
            "colorscale": [
             [
              0,
              "#0d0887"
             ],
             [
              0.1111111111111111,
              "#46039f"
             ],
             [
              0.2222222222222222,
              "#7201a8"
             ],
             [
              0.3333333333333333,
              "#9c179e"
             ],
             [
              0.4444444444444444,
              "#bd3786"
             ],
             [
              0.5555555555555556,
              "#d8576b"
             ],
             [
              0.6666666666666666,
              "#ed7953"
             ],
             [
              0.7777777777777778,
              "#fb9f3a"
             ],
             [
              0.8888888888888888,
              "#fdca26"
             ],
             [
              1,
              "#f0f921"
             ]
            ],
            "type": "contour"
           }
          ],
          "contourcarpet": [
           {
            "colorbar": {
             "outlinewidth": 0,
             "ticks": ""
            },
            "type": "contourcarpet"
           }
          ],
          "heatmap": [
           {
            "colorbar": {
             "outlinewidth": 0,
             "ticks": ""
            },
            "colorscale": [
             [
              0,
              "#0d0887"
             ],
             [
              0.1111111111111111,
              "#46039f"
             ],
             [
              0.2222222222222222,
              "#7201a8"
             ],
             [
              0.3333333333333333,
              "#9c179e"
             ],
             [
              0.4444444444444444,
              "#bd3786"
             ],
             [
              0.5555555555555556,
              "#d8576b"
             ],
             [
              0.6666666666666666,
              "#ed7953"
             ],
             [
              0.7777777777777778,
              "#fb9f3a"
             ],
             [
              0.8888888888888888,
              "#fdca26"
             ],
             [
              1,
              "#f0f921"
             ]
            ],
            "type": "heatmap"
           }
          ],
          "heatmapgl": [
           {
            "colorbar": {
             "outlinewidth": 0,
             "ticks": ""
            },
            "colorscale": [
             [
              0,
              "#0d0887"
             ],
             [
              0.1111111111111111,
              "#46039f"
             ],
             [
              0.2222222222222222,
              "#7201a8"
             ],
             [
              0.3333333333333333,
              "#9c179e"
             ],
             [
              0.4444444444444444,
              "#bd3786"
             ],
             [
              0.5555555555555556,
              "#d8576b"
             ],
             [
              0.6666666666666666,
              "#ed7953"
             ],
             [
              0.7777777777777778,
              "#fb9f3a"
             ],
             [
              0.8888888888888888,
              "#fdca26"
             ],
             [
              1,
              "#f0f921"
             ]
            ],
            "type": "heatmapgl"
           }
          ],
          "histogram": [
           {
            "marker": {
             "pattern": {
              "fillmode": "overlay",
              "size": 10,
              "solidity": 0.2
             }
            },
            "type": "histogram"
           }
          ],
          "histogram2d": [
           {
            "colorbar": {
             "outlinewidth": 0,
             "ticks": ""
            },
            "colorscale": [
             [
              0,
              "#0d0887"
             ],
             [
              0.1111111111111111,
              "#46039f"
             ],
             [
              0.2222222222222222,
              "#7201a8"
             ],
             [
              0.3333333333333333,
              "#9c179e"
             ],
             [
              0.4444444444444444,
              "#bd3786"
             ],
             [
              0.5555555555555556,
              "#d8576b"
             ],
             [
              0.6666666666666666,
              "#ed7953"
             ],
             [
              0.7777777777777778,
              "#fb9f3a"
             ],
             [
              0.8888888888888888,
              "#fdca26"
             ],
             [
              1,
              "#f0f921"
             ]
            ],
            "type": "histogram2d"
           }
          ],
          "histogram2dcontour": [
           {
            "colorbar": {
             "outlinewidth": 0,
             "ticks": ""
            },
            "colorscale": [
             [
              0,
              "#0d0887"
             ],
             [
              0.1111111111111111,
              "#46039f"
             ],
             [
              0.2222222222222222,
              "#7201a8"
             ],
             [
              0.3333333333333333,
              "#9c179e"
             ],
             [
              0.4444444444444444,
              "#bd3786"
             ],
             [
              0.5555555555555556,
              "#d8576b"
             ],
             [
              0.6666666666666666,
              "#ed7953"
             ],
             [
              0.7777777777777778,
              "#fb9f3a"
             ],
             [
              0.8888888888888888,
              "#fdca26"
             ],
             [
              1,
              "#f0f921"
             ]
            ],
            "type": "histogram2dcontour"
           }
          ],
          "mesh3d": [
           {
            "colorbar": {
             "outlinewidth": 0,
             "ticks": ""
            },
            "type": "mesh3d"
           }
          ],
          "parcoords": [
           {
            "line": {
             "colorbar": {
              "outlinewidth": 0,
              "ticks": ""
             }
            },
            "type": "parcoords"
           }
          ],
          "pie": [
           {
            "automargin": true,
            "type": "pie"
           }
          ],
          "scatter": [
           {
            "fillpattern": {
             "fillmode": "overlay",
             "size": 10,
             "solidity": 0.2
            },
            "type": "scatter"
           }
          ],
          "scatter3d": [
           {
            "line": {
             "colorbar": {
              "outlinewidth": 0,
              "ticks": ""
             }
            },
            "marker": {
             "colorbar": {
              "outlinewidth": 0,
              "ticks": ""
             }
            },
            "type": "scatter3d"
           }
          ],
          "scattercarpet": [
           {
            "marker": {
             "colorbar": {
              "outlinewidth": 0,
              "ticks": ""
             }
            },
            "type": "scattercarpet"
           }
          ],
          "scattergeo": [
           {
            "marker": {
             "colorbar": {
              "outlinewidth": 0,
              "ticks": ""
             }
            },
            "type": "scattergeo"
           }
          ],
          "scattergl": [
           {
            "marker": {
             "colorbar": {
              "outlinewidth": 0,
              "ticks": ""
             }
            },
            "type": "scattergl"
           }
          ],
          "scattermapbox": [
           {
            "marker": {
             "colorbar": {
              "outlinewidth": 0,
              "ticks": ""
             }
            },
            "type": "scattermapbox"
           }
          ],
          "scatterpolar": [
           {
            "marker": {
             "colorbar": {
              "outlinewidth": 0,
              "ticks": ""
             }
            },
            "type": "scatterpolar"
           }
          ],
          "scatterpolargl": [
           {
            "marker": {
             "colorbar": {
              "outlinewidth": 0,
              "ticks": ""
             }
            },
            "type": "scatterpolargl"
           }
          ],
          "scatterternary": [
           {
            "marker": {
             "colorbar": {
              "outlinewidth": 0,
              "ticks": ""
             }
            },
            "type": "scatterternary"
           }
          ],
          "surface": [
           {
            "colorbar": {
             "outlinewidth": 0,
             "ticks": ""
            },
            "colorscale": [
             [
              0,
              "#0d0887"
             ],
             [
              0.1111111111111111,
              "#46039f"
             ],
             [
              0.2222222222222222,
              "#7201a8"
             ],
             [
              0.3333333333333333,
              "#9c179e"
             ],
             [
              0.4444444444444444,
              "#bd3786"
             ],
             [
              0.5555555555555556,
              "#d8576b"
             ],
             [
              0.6666666666666666,
              "#ed7953"
             ],
             [
              0.7777777777777778,
              "#fb9f3a"
             ],
             [
              0.8888888888888888,
              "#fdca26"
             ],
             [
              1,
              "#f0f921"
             ]
            ],
            "type": "surface"
           }
          ],
          "table": [
           {
            "cells": {
             "fill": {
              "color": "#EBF0F8"
             },
             "line": {
              "color": "white"
             }
            },
            "header": {
             "fill": {
              "color": "#C8D4E3"
             },
             "line": {
              "color": "white"
             }
            },
            "type": "table"
           }
          ]
         },
         "layout": {
          "annotationdefaults": {
           "arrowcolor": "#2a3f5f",
           "arrowhead": 0,
           "arrowwidth": 1
          },
          "autotypenumbers": "strict",
          "coloraxis": {
           "colorbar": {
            "outlinewidth": 0,
            "ticks": ""
           }
          },
          "colorscale": {
           "diverging": [
            [
             0,
             "#8e0152"
            ],
            [
             0.1,
             "#c51b7d"
            ],
            [
             0.2,
             "#de77ae"
            ],
            [
             0.3,
             "#f1b6da"
            ],
            [
             0.4,
             "#fde0ef"
            ],
            [
             0.5,
             "#f7f7f7"
            ],
            [
             0.6,
             "#e6f5d0"
            ],
            [
             0.7,
             "#b8e186"
            ],
            [
             0.8,
             "#7fbc41"
            ],
            [
             0.9,
             "#4d9221"
            ],
            [
             1,
             "#276419"
            ]
           ],
           "sequential": [
            [
             0,
             "#0d0887"
            ],
            [
             0.1111111111111111,
             "#46039f"
            ],
            [
             0.2222222222222222,
             "#7201a8"
            ],
            [
             0.3333333333333333,
             "#9c179e"
            ],
            [
             0.4444444444444444,
             "#bd3786"
            ],
            [
             0.5555555555555556,
             "#d8576b"
            ],
            [
             0.6666666666666666,
             "#ed7953"
            ],
            [
             0.7777777777777778,
             "#fb9f3a"
            ],
            [
             0.8888888888888888,
             "#fdca26"
            ],
            [
             1,
             "#f0f921"
            ]
           ],
           "sequentialminus": [
            [
             0,
             "#0d0887"
            ],
            [
             0.1111111111111111,
             "#46039f"
            ],
            [
             0.2222222222222222,
             "#7201a8"
            ],
            [
             0.3333333333333333,
             "#9c179e"
            ],
            [
             0.4444444444444444,
             "#bd3786"
            ],
            [
             0.5555555555555556,
             "#d8576b"
            ],
            [
             0.6666666666666666,
             "#ed7953"
            ],
            [
             0.7777777777777778,
             "#fb9f3a"
            ],
            [
             0.8888888888888888,
             "#fdca26"
            ],
            [
             1,
             "#f0f921"
            ]
           ]
          },
          "colorway": [
           "#636efa",
           "#EF553B",
           "#00cc96",
           "#ab63fa",
           "#FFA15A",
           "#19d3f3",
           "#FF6692",
           "#B6E880",
           "#FF97FF",
           "#FECB52"
          ],
          "font": {
           "color": "#2a3f5f"
          },
          "geo": {
           "bgcolor": "white",
           "lakecolor": "white",
           "landcolor": "#E5ECF6",
           "showlakes": true,
           "showland": true,
           "subunitcolor": "white"
          },
          "hoverlabel": {
           "align": "left"
          },
          "hovermode": "closest",
          "mapbox": {
           "style": "light"
          },
          "paper_bgcolor": "white",
          "plot_bgcolor": "#E5ECF6",
          "polar": {
           "angularaxis": {
            "gridcolor": "white",
            "linecolor": "white",
            "ticks": ""
           },
           "bgcolor": "#E5ECF6",
           "radialaxis": {
            "gridcolor": "white",
            "linecolor": "white",
            "ticks": ""
           }
          },
          "scene": {
           "xaxis": {
            "backgroundcolor": "#E5ECF6",
            "gridcolor": "white",
            "gridwidth": 2,
            "linecolor": "white",
            "showbackground": true,
            "ticks": "",
            "zerolinecolor": "white"
           },
           "yaxis": {
            "backgroundcolor": "#E5ECF6",
            "gridcolor": "white",
            "gridwidth": 2,
            "linecolor": "white",
            "showbackground": true,
            "ticks": "",
            "zerolinecolor": "white"
           },
           "zaxis": {
            "backgroundcolor": "#E5ECF6",
            "gridcolor": "white",
            "gridwidth": 2,
            "linecolor": "white",
            "showbackground": true,
            "ticks": "",
            "zerolinecolor": "white"
           }
          },
          "shapedefaults": {
           "line": {
            "color": "#2a3f5f"
           }
          },
          "ternary": {
           "aaxis": {
            "gridcolor": "white",
            "linecolor": "white",
            "ticks": ""
           },
           "baxis": {
            "gridcolor": "white",
            "linecolor": "white",
            "ticks": ""
           },
           "bgcolor": "#E5ECF6",
           "caxis": {
            "gridcolor": "white",
            "linecolor": "white",
            "ticks": ""
           }
          },
          "title": {
           "x": 0.05
          },
          "xaxis": {
           "automargin": true,
           "gridcolor": "white",
           "linecolor": "white",
           "ticks": "",
           "title": {
            "standoff": 15
           },
           "zerolinecolor": "white",
           "zerolinewidth": 2
          },
          "yaxis": {
           "automargin": true,
           "gridcolor": "white",
           "linecolor": "white",
           "ticks": "",
           "title": {
            "standoff": 15
           },
           "zerolinecolor": "white",
           "zerolinewidth": 2
          }
         }
        },
        "title": {
         "font": {
          "color": "#4D5663"
         }
        },
        "xaxis": {
         "gridcolor": "#E1E5ED",
         "showgrid": true,
         "tickfont": {
          "color": "#4D5663"
         },
         "title": {
          "font": {
           "color": "#4D5663"
          },
          "text": ""
         },
         "zerolinecolor": "#E1E5ED"
        },
        "xaxis2": {
         "anchor": "y2",
         "gridcolor": "#E1E5ED",
         "showgrid": true,
         "showticklabels": false,
         "tickfont": {
          "color": "#4D5663"
         },
         "title": {
          "font": {
           "color": "#4D5663"
          },
          "text": ""
         },
         "zerolinecolor": "#E1E5ED"
        },
        "yaxis": {
         "domain": [
          0.3,
          1
         ],
         "gridcolor": "#E1E5ED",
         "showgrid": true,
         "tickfont": {
          "color": "#4D5663"
         },
         "title": {
          "font": {
           "color": "#4D5663"
          },
          "text": ""
         },
         "zerolinecolor": "#E1E5ED"
        },
        "yaxis2": {
         "domain": [
          0,
          0.25
         ],
         "gridcolor": "#E1E5ED",
         "showgrid": true,
         "tickfont": {
          "color": "#4D5663"
         },
         "title": {
          "font": {
           "color": "#4D5663"
          },
          "text": "Spread"
         },
         "zerolinecolor": "#E1E5ED"
        }
       }
      },
      "text/html": [
       "<div>                            <div id=\"30f67184-102e-46b8-8137-e7e0daf3c822\" class=\"plotly-graph-div\" style=\"height:525px; width:100%;\"></div>            <script type=\"text/javascript\">                require([\"plotly\"], function(Plotly) {                    window.PLOTLYENV=window.PLOTLYENV || {};\n",
       "                    window.PLOTLYENV.BASE_URL='https://plot.ly';                                    if (document.getElementById(\"30f67184-102e-46b8-8137-e7e0daf3c822\")) {                    Plotly.newPlot(                        \"30f67184-102e-46b8-8137-e7e0daf3c822\",                        [{\"line\":{\"color\":\"rgba(255, 153, 51, 1.0)\",\"dash\":\"solid\",\"shape\":\"linear\",\"width\":1.3},\"mode\":\"lines\",\"name\":\"A\",\"text\":\"\",\"x\":[0,1,2,3,4,5,6,7,8,9,10,11,12,13,14,15,16,17,18,19,20,21,22,23,24,25,26,27,28,29,30,31,32,33,34,35,36,37,38,39,40,41,42,43,44,45,46,47,48,49,50,51,52,53,54,55,56,57,58,59,60,61,62,63,64,65,66,67,68,69,70,71,72,73,74,75,76,77,78,79,80,81,82,83,84,85,86,87,88,89,90,91,92,93,94,95,96,97,98,99],\"y\":[0.7079539021387217,-0.3783360900626558,0.8853180692065072,-0.9504446640592793,0.7226901789495682,0.9224382830904682,-1.106872373910298,-0.015512022601375831,-0.353185219997632,-1.6252717315486631,0.4379603431868372,-0.11202513204380407,-0.7774845199649303,-0.26404541257831904,1.7102975633384212,-0.618713812499301,0.12136353643424155,0.6458853926055258,0.3638258900788119,-0.7880221412791935,-0.061057152377792016,-1.4778008859699494,1.1870405477533919,-0.6048071947816758,0.07659232155588042,-0.15398130019507927,-0.36958333297065243,-0.9429809974689437,1.2305906665884294,-0.7959745429934965,-0.663281905003923,1.128362854729977,0.06415331933472061,-0.414839892068916,-1.3831532645195648,0.21399615389790222,0.43851694110182127,-0.4114009446497051,-0.3590980120744632,0.31201045815652223,-0.6634245849642328,0.7605528409235844,1.6068366897250939,0.273627723502373,-2.415782175331679,0.27033613277072394,-0.9372303352805079,-0.21038126785679548,-0.38618843428375854,1.487158644526282,1.2554315225588815,-0.618467760407867,-0.2987896850122946,1.666550161990266,-1.7014225673818364,-1.7418267036671515,-1.3832861553605915,0.5974236309246336,-0.44748732187681123,-0.2414535273223089,-0.3922456354520554,0.6240503922946212,-1.1446643412933704,3.0615893659439553,0.3213619292459653,-0.5180451015628634,-0.6663773615483357,-0.19494309232888837,0.4276932112345201,0.022091112323968924,-0.14442648374683745,0.7374385052891811,-0.6767684582551838,-0.14567377114486724,0.8037493806021632,-0.3001960688208521,2.0798140337654707,-0.2998140918327669,0.9325838464870018,1.80447023263451,0.058338735256817424,-0.18149754453367886,-0.6734820397467258,0.02879337648116921,-1.046693259350123,0.7348611862262173,-0.3096788977047204,0.9466045425894998,-0.5505270504726302,0.04573512621679498,2.3164513548805004,0.83936668723141,1.1409441716454916,-2.4982650892817837,0.7211867800358712,-0.6991293006245523,0.5251033671763228,1.391545946085124,-0.5865873066567011,1.3714225184623456],\"type\":\"scatter\"},{\"line\":{\"color\":\"rgba(55, 128, 191, 1.0)\",\"dash\":\"solid\",\"shape\":\"linear\",\"width\":1.3},\"mode\":\"lines\",\"name\":\"B\",\"text\":\"\",\"x\":[0,1,2,3,4,5,6,7,8,9,10,11,12,13,14,15,16,17,18,19,20,21,22,23,24,25,26,27,28,29,30,31,32,33,34,35,36,37,38,39,40,41,42,43,44,45,46,47,48,49,50,51,52,53,54,55,56,57,58,59,60,61,62,63,64,65,66,67,68,69,70,71,72,73,74,75,76,77,78,79,80,81,82,83,84,85,86,87,88,89,90,91,92,93,94,95,96,97,98,99],\"y\":[0.13394584907567797,0.3879153265974429,-1.081481377423818,-0.24257147490927927,0.6454428756967521,0.9401443587964466,2.5443723124109896,-0.5918877531367807,0.5890569357834406,-0.814947995877355,-0.7305825948722581,1.1337331488996365,1.0504696105263363,0.5763859371801988,-0.697838112457501,-0.08208933003275574,-0.46178166108633467,-2.145738916473379,-0.830745986190214,0.6893633943869126,0.35902097452331505,0.09774310681059924,0.20815141104425233,0.33651036189190514,-0.3140974849551735,0.5118944152086332,-0.06948373723134914,0.4919985394877427,-0.46065848159580786,0.5384267925771766,0.02341032519984315,-0.28589435223142334,-0.23197753674200575,0.2108812073893951,0.7067447312268775,-0.061418659983730424,-0.8990785008586909,-0.5131739184457484,-0.3848750071650614,-0.6922519866549306,2.0218685506277967,0.9264143884674638,-0.2072472701213451,0.3272140258435058,-0.07644410431037132,-2.1530053141107635,0.1435065461309672,-0.4548392800761151,1.0218995489701463,1.8399929587701267,0.9582161447828299,-0.02525140285503517,0.6065418459764039,1.176592280057126,0.6966793603330663,-0.3225944077629017,0.05842342423158832,0.09438393670777477,0.9513555676012616,0.40260905248701456,-0.08406317167444576,1.2784482188078998,-1.2879427148628142,0.6175517189180135,-0.2224695502715256,0.33720074125190036,-0.15281272521416195,0.5201156847996458,1.177590444167989,-0.2689748870647838,1.265220873174324,2.9365354260876,1.4441809862857622,-2.1877702795672693,0.20837178474318227,0.39724384258536805,-0.3904530076814792,-0.9636530207146263,0.11001896281701239,0.18322824150561065,1.4605365576244245,0.2771608180778642,1.2537600257324881,0.7899949950161395,0.7554751869176336,0.43556657629043993,-0.9768266678432241,-1.3895601738886645,0.42494164448829674,-0.7087903247234564,0.6702014124044041,1.2838557969419582,-1.1343866915065046,-1.1627274402838177,-0.08897126049235626,-0.22655298182377334,-0.5204868023437481,0.7846852182745306,1.4067845224163147,0.4181597212708602],\"type\":\"scatter\"},{\"connectgaps\":false,\"fill\":\"tozeroy\",\"line\":{\"color\":\"green\",\"dash\":\"solid\",\"shape\":\"linear\",\"width\":0.5},\"mode\":\"lines\",\"name\":\"Spread\",\"showlegend\":false,\"x\":[0,1,2,3,4,5,6,7,8,9,10,11,12,13,14,15,16,17,18,19,20,21,22,23,24,25,26,27,28,29,30,31,32,33,34,35,36,37,38,39,40,41,42,43,44,45,46,47,48,49,50,51,52,53,54,55,56,57,58,59,60,61,62,63,64,65,66,67,68,69,70,71,72,73,74,75,76,77,78,79,80,81,82,83,84,85,86,87,88,89,90,91,92,93,94,95,96,97,98,99],\"xaxis\":\"x2\",\"y\":[0.5740080530630437,\"\",1.9667994466303251,\"\",0.07724730325281615,\"\",\"\",0.5763757305354048,\"\",\"\",1.1685429380590953,\"\",\"\",\"\",2.408135675795922,\"\",0.5831451975205763,2.791624309078905,1.1945718762690258,\"\",\"\",\"\",0.9788891367091395,\"\",0.3906898065110539,\"\",\"\",\"\",1.6912491481842373,\"\",\"\",1.4142572069614006,0.29613085607672635,\"\",\"\",0.27541481388163264,1.337595441960512,0.10177297379604333,0.02577699509059822,1.0042624448114528,\"\",\"\",1.8140839598464389,\"\",\"\",2.4233414468814876,\"\",0.24445801221931965,\"\",\"\",0.29721537777605156,\"\",\"\",0.48995788193314005,\"\",\"\",\"\",0.5030396942168588,\"\",\"\",\"\",\"\",0.14327837356944384,2.444037647025942,0.5438314795174909,\"\",\"\",\"\",\"\",0.2910659993887527,\"\",\"\",\"\",2.042096508422402,0.5953775958589809,\"\",2.47026704144695,0.6638389288818594,0.8225648836699894,1.6212419911288993,\"\",\"\",\"\",\"\",\"\",0.2992946099357774,0.6671477701385038,2.336164716478164,\"\",0.7545254509402514,1.6462499424760964,\"\",2.2753308631519964,\"\",0.8101580405282275,\"\",1.0455901695200709,0.6068607278105934,\"\",0.9532627971914854],\"yaxis\":\"y2\",\"type\":\"scatter\"},{\"connectgaps\":false,\"fill\":\"tozeroy\",\"line\":{\"color\":\"red\",\"dash\":\"solid\",\"shape\":\"linear\",\"width\":0.5},\"mode\":\"lines\",\"name\":\"Spread\",\"showlegend\":false,\"x\":[0,1,2,3,4,5,6,7,8,9,10,11,12,13,14,15,16,17,18,19,20,21,22,23,24,25,26,27,28,29,30,31,32,33,34,35,36,37,38,39,40,41,42,43,44,45,46,47,48,49,50,51,52,53,54,55,56,57,58,59,60,61,62,63,64,65,66,67,68,69,70,71,72,73,74,75,76,77,78,79,80,81,82,83,84,85,86,87,88,89,90,91,92,93,94,95,96,97,98,99],\"xaxis\":\"x2\",\"y\":[\"\",-0.7662514166600987,\"\",-0.7078731891500001,\"\",-0.017706075705978486,-3.6512446863212875,\"\",-0.9422421557810727,-0.8103237356713081,\"\",-1.2457582809434407,-1.8279541304912665,-0.8404313497585179,\"\",-0.5366244824665453,\"\",\"\",\"\",-1.477385535666106,-0.4200781269011071,-1.5755439927805486,\"\",-0.941317556673581,\"\",-0.6658757154037125,-0.3000995957393033,-1.4349795369566865,\"\",-1.3344013355706732,-0.6866922302037661,\"\",\"\",-0.6257210994583111,-2.0898979957464423,\"\",\"\",\"\",\"\",\"\",-2.6852931355920298,-0.16586154754387938,\"\",-0.05358630234113276,-2.3393380710213076,\"\",-1.080736881411475,\"\",-1.4080879832539048,-0.3528343142438446,\"\",-0.5932163575528319,-0.9053315309886985,\"\",-2.3981019277149027,-1.4192322959042498,-1.44170957959218,\"\",-1.398842889478073,-0.6440625798093235,-0.3081824637776096,-0.6543978265132786,\"\",\"\",\"\",-0.8552458428147638,-0.5135646363341737,-0.7150587771285342,-0.7498972329334689,\"\",-1.4096473569211614,-2.199096920798419,-2.120949444540946,\"\",\"\",-0.6974399114062202,\"\",\"\",\"\",\"\",-1.402197822367607,-0.458658362611543,-1.927242065479214,-0.7612016185349703,-1.8021684462677565,\"\",\"\",\"\",-0.9754686949609269,\"\",\"\",-0.4444891097105482,\"\",-1.335537648997966,\"\",-0.4725763188007789,\"\",\"\",-1.9933718290730158,\"\"],\"yaxis\":\"y2\",\"type\":\"scatter\"}],                        {\"hovermode\":\"x\",\"legend\":{\"bgcolor\":\"#F5F6F9\",\"font\":{\"color\":\"#4D5663\"}},\"paper_bgcolor\":\"#F5F6F9\",\"plot_bgcolor\":\"#F5F6F9\",\"template\":{\"data\":{\"barpolar\":[{\"marker\":{\"line\":{\"color\":\"#E5ECF6\",\"width\":0.5},\"pattern\":{\"fillmode\":\"overlay\",\"size\":10,\"solidity\":0.2}},\"type\":\"barpolar\"}],\"bar\":[{\"error_x\":{\"color\":\"#2a3f5f\"},\"error_y\":{\"color\":\"#2a3f5f\"},\"marker\":{\"line\":{\"color\":\"#E5ECF6\",\"width\":0.5},\"pattern\":{\"fillmode\":\"overlay\",\"size\":10,\"solidity\":0.2}},\"type\":\"bar\"}],\"carpet\":[{\"aaxis\":{\"endlinecolor\":\"#2a3f5f\",\"gridcolor\":\"white\",\"linecolor\":\"white\",\"minorgridcolor\":\"white\",\"startlinecolor\":\"#2a3f5f\"},\"baxis\":{\"endlinecolor\":\"#2a3f5f\",\"gridcolor\":\"white\",\"linecolor\":\"white\",\"minorgridcolor\":\"white\",\"startlinecolor\":\"#2a3f5f\"},\"type\":\"carpet\"}],\"choropleth\":[{\"colorbar\":{\"outlinewidth\":0,\"ticks\":\"\"},\"type\":\"choropleth\"}],\"contourcarpet\":[{\"colorbar\":{\"outlinewidth\":0,\"ticks\":\"\"},\"type\":\"contourcarpet\"}],\"contour\":[{\"colorbar\":{\"outlinewidth\":0,\"ticks\":\"\"},\"colorscale\":[[0.0,\"#0d0887\"],[0.1111111111111111,\"#46039f\"],[0.2222222222222222,\"#7201a8\"],[0.3333333333333333,\"#9c179e\"],[0.4444444444444444,\"#bd3786\"],[0.5555555555555556,\"#d8576b\"],[0.6666666666666666,\"#ed7953\"],[0.7777777777777778,\"#fb9f3a\"],[0.8888888888888888,\"#fdca26\"],[1.0,\"#f0f921\"]],\"type\":\"contour\"}],\"heatmapgl\":[{\"colorbar\":{\"outlinewidth\":0,\"ticks\":\"\"},\"colorscale\":[[0.0,\"#0d0887\"],[0.1111111111111111,\"#46039f\"],[0.2222222222222222,\"#7201a8\"],[0.3333333333333333,\"#9c179e\"],[0.4444444444444444,\"#bd3786\"],[0.5555555555555556,\"#d8576b\"],[0.6666666666666666,\"#ed7953\"],[0.7777777777777778,\"#fb9f3a\"],[0.8888888888888888,\"#fdca26\"],[1.0,\"#f0f921\"]],\"type\":\"heatmapgl\"}],\"heatmap\":[{\"colorbar\":{\"outlinewidth\":0,\"ticks\":\"\"},\"colorscale\":[[0.0,\"#0d0887\"],[0.1111111111111111,\"#46039f\"],[0.2222222222222222,\"#7201a8\"],[0.3333333333333333,\"#9c179e\"],[0.4444444444444444,\"#bd3786\"],[0.5555555555555556,\"#d8576b\"],[0.6666666666666666,\"#ed7953\"],[0.7777777777777778,\"#fb9f3a\"],[0.8888888888888888,\"#fdca26\"],[1.0,\"#f0f921\"]],\"type\":\"heatmap\"}],\"histogram2dcontour\":[{\"colorbar\":{\"outlinewidth\":0,\"ticks\":\"\"},\"colorscale\":[[0.0,\"#0d0887\"],[0.1111111111111111,\"#46039f\"],[0.2222222222222222,\"#7201a8\"],[0.3333333333333333,\"#9c179e\"],[0.4444444444444444,\"#bd3786\"],[0.5555555555555556,\"#d8576b\"],[0.6666666666666666,\"#ed7953\"],[0.7777777777777778,\"#fb9f3a\"],[0.8888888888888888,\"#fdca26\"],[1.0,\"#f0f921\"]],\"type\":\"histogram2dcontour\"}],\"histogram2d\":[{\"colorbar\":{\"outlinewidth\":0,\"ticks\":\"\"},\"colorscale\":[[0.0,\"#0d0887\"],[0.1111111111111111,\"#46039f\"],[0.2222222222222222,\"#7201a8\"],[0.3333333333333333,\"#9c179e\"],[0.4444444444444444,\"#bd3786\"],[0.5555555555555556,\"#d8576b\"],[0.6666666666666666,\"#ed7953\"],[0.7777777777777778,\"#fb9f3a\"],[0.8888888888888888,\"#fdca26\"],[1.0,\"#f0f921\"]],\"type\":\"histogram2d\"}],\"histogram\":[{\"marker\":{\"pattern\":{\"fillmode\":\"overlay\",\"size\":10,\"solidity\":0.2}},\"type\":\"histogram\"}],\"mesh3d\":[{\"colorbar\":{\"outlinewidth\":0,\"ticks\":\"\"},\"type\":\"mesh3d\"}],\"parcoords\":[{\"line\":{\"colorbar\":{\"outlinewidth\":0,\"ticks\":\"\"}},\"type\":\"parcoords\"}],\"pie\":[{\"automargin\":true,\"type\":\"pie\"}],\"scatter3d\":[{\"line\":{\"colorbar\":{\"outlinewidth\":0,\"ticks\":\"\"}},\"marker\":{\"colorbar\":{\"outlinewidth\":0,\"ticks\":\"\"}},\"type\":\"scatter3d\"}],\"scattercarpet\":[{\"marker\":{\"colorbar\":{\"outlinewidth\":0,\"ticks\":\"\"}},\"type\":\"scattercarpet\"}],\"scattergeo\":[{\"marker\":{\"colorbar\":{\"outlinewidth\":0,\"ticks\":\"\"}},\"type\":\"scattergeo\"}],\"scattergl\":[{\"marker\":{\"colorbar\":{\"outlinewidth\":0,\"ticks\":\"\"}},\"type\":\"scattergl\"}],\"scattermapbox\":[{\"marker\":{\"colorbar\":{\"outlinewidth\":0,\"ticks\":\"\"}},\"type\":\"scattermapbox\"}],\"scatterpolargl\":[{\"marker\":{\"colorbar\":{\"outlinewidth\":0,\"ticks\":\"\"}},\"type\":\"scatterpolargl\"}],\"scatterpolar\":[{\"marker\":{\"colorbar\":{\"outlinewidth\":0,\"ticks\":\"\"}},\"type\":\"scatterpolar\"}],\"scatter\":[{\"fillpattern\":{\"fillmode\":\"overlay\",\"size\":10,\"solidity\":0.2},\"type\":\"scatter\"}],\"scatterternary\":[{\"marker\":{\"colorbar\":{\"outlinewidth\":0,\"ticks\":\"\"}},\"type\":\"scatterternary\"}],\"surface\":[{\"colorbar\":{\"outlinewidth\":0,\"ticks\":\"\"},\"colorscale\":[[0.0,\"#0d0887\"],[0.1111111111111111,\"#46039f\"],[0.2222222222222222,\"#7201a8\"],[0.3333333333333333,\"#9c179e\"],[0.4444444444444444,\"#bd3786\"],[0.5555555555555556,\"#d8576b\"],[0.6666666666666666,\"#ed7953\"],[0.7777777777777778,\"#fb9f3a\"],[0.8888888888888888,\"#fdca26\"],[1.0,\"#f0f921\"]],\"type\":\"surface\"}],\"table\":[{\"cells\":{\"fill\":{\"color\":\"#EBF0F8\"},\"line\":{\"color\":\"white\"}},\"header\":{\"fill\":{\"color\":\"#C8D4E3\"},\"line\":{\"color\":\"white\"}},\"type\":\"table\"}]},\"layout\":{\"annotationdefaults\":{\"arrowcolor\":\"#2a3f5f\",\"arrowhead\":0,\"arrowwidth\":1},\"autotypenumbers\":\"strict\",\"coloraxis\":{\"colorbar\":{\"outlinewidth\":0,\"ticks\":\"\"}},\"colorscale\":{\"diverging\":[[0,\"#8e0152\"],[0.1,\"#c51b7d\"],[0.2,\"#de77ae\"],[0.3,\"#f1b6da\"],[0.4,\"#fde0ef\"],[0.5,\"#f7f7f7\"],[0.6,\"#e6f5d0\"],[0.7,\"#b8e186\"],[0.8,\"#7fbc41\"],[0.9,\"#4d9221\"],[1,\"#276419\"]],\"sequential\":[[0.0,\"#0d0887\"],[0.1111111111111111,\"#46039f\"],[0.2222222222222222,\"#7201a8\"],[0.3333333333333333,\"#9c179e\"],[0.4444444444444444,\"#bd3786\"],[0.5555555555555556,\"#d8576b\"],[0.6666666666666666,\"#ed7953\"],[0.7777777777777778,\"#fb9f3a\"],[0.8888888888888888,\"#fdca26\"],[1.0,\"#f0f921\"]],\"sequentialminus\":[[0.0,\"#0d0887\"],[0.1111111111111111,\"#46039f\"],[0.2222222222222222,\"#7201a8\"],[0.3333333333333333,\"#9c179e\"],[0.4444444444444444,\"#bd3786\"],[0.5555555555555556,\"#d8576b\"],[0.6666666666666666,\"#ed7953\"],[0.7777777777777778,\"#fb9f3a\"],[0.8888888888888888,\"#fdca26\"],[1.0,\"#f0f921\"]]},\"colorway\":[\"#636efa\",\"#EF553B\",\"#00cc96\",\"#ab63fa\",\"#FFA15A\",\"#19d3f3\",\"#FF6692\",\"#B6E880\",\"#FF97FF\",\"#FECB52\"],\"font\":{\"color\":\"#2a3f5f\"},\"geo\":{\"bgcolor\":\"white\",\"lakecolor\":\"white\",\"landcolor\":\"#E5ECF6\",\"showlakes\":true,\"showland\":true,\"subunitcolor\":\"white\"},\"hoverlabel\":{\"align\":\"left\"},\"hovermode\":\"closest\",\"mapbox\":{\"style\":\"light\"},\"paper_bgcolor\":\"white\",\"plot_bgcolor\":\"#E5ECF6\",\"polar\":{\"angularaxis\":{\"gridcolor\":\"white\",\"linecolor\":\"white\",\"ticks\":\"\"},\"bgcolor\":\"#E5ECF6\",\"radialaxis\":{\"gridcolor\":\"white\",\"linecolor\":\"white\",\"ticks\":\"\"}},\"scene\":{\"xaxis\":{\"backgroundcolor\":\"#E5ECF6\",\"gridcolor\":\"white\",\"gridwidth\":2,\"linecolor\":\"white\",\"showbackground\":true,\"ticks\":\"\",\"zerolinecolor\":\"white\"},\"yaxis\":{\"backgroundcolor\":\"#E5ECF6\",\"gridcolor\":\"white\",\"gridwidth\":2,\"linecolor\":\"white\",\"showbackground\":true,\"ticks\":\"\",\"zerolinecolor\":\"white\"},\"zaxis\":{\"backgroundcolor\":\"#E5ECF6\",\"gridcolor\":\"white\",\"gridwidth\":2,\"linecolor\":\"white\",\"showbackground\":true,\"ticks\":\"\",\"zerolinecolor\":\"white\"}},\"shapedefaults\":{\"line\":{\"color\":\"#2a3f5f\"}},\"ternary\":{\"aaxis\":{\"gridcolor\":\"white\",\"linecolor\":\"white\",\"ticks\":\"\"},\"baxis\":{\"gridcolor\":\"white\",\"linecolor\":\"white\",\"ticks\":\"\"},\"bgcolor\":\"#E5ECF6\",\"caxis\":{\"gridcolor\":\"white\",\"linecolor\":\"white\",\"ticks\":\"\"}},\"title\":{\"x\":0.05},\"xaxis\":{\"automargin\":true,\"gridcolor\":\"white\",\"linecolor\":\"white\",\"ticks\":\"\",\"title\":{\"standoff\":15},\"zerolinecolor\":\"white\",\"zerolinewidth\":2},\"yaxis\":{\"automargin\":true,\"gridcolor\":\"white\",\"linecolor\":\"white\",\"ticks\":\"\",\"title\":{\"standoff\":15},\"zerolinecolor\":\"white\",\"zerolinewidth\":2}}},\"title\":{\"font\":{\"color\":\"#4D5663\"}},\"xaxis\":{\"gridcolor\":\"#E1E5ED\",\"showgrid\":true,\"tickfont\":{\"color\":\"#4D5663\"},\"title\":{\"font\":{\"color\":\"#4D5663\"},\"text\":\"\"},\"zerolinecolor\":\"#E1E5ED\"},\"yaxis\":{\"domain\":[0.3,1],\"gridcolor\":\"#E1E5ED\",\"showgrid\":true,\"tickfont\":{\"color\":\"#4D5663\"},\"title\":{\"font\":{\"color\":\"#4D5663\"},\"text\":\"\"},\"zerolinecolor\":\"#E1E5ED\"},\"yaxis2\":{\"domain\":[0,0.25],\"gridcolor\":\"#E1E5ED\",\"showgrid\":true,\"tickfont\":{\"color\":\"#4D5663\"},\"title\":{\"font\":{\"color\":\"#4D5663\"},\"text\":\"Spread\"},\"zerolinecolor\":\"#E1E5ED\"},\"xaxis2\":{\"anchor\":\"y2\",\"gridcolor\":\"#E1E5ED\",\"showgrid\":true,\"showticklabels\":false,\"tickfont\":{\"color\":\"#4D5663\"},\"title\":{\"font\":{\"color\":\"#4D5663\"},\"text\":\"\"},\"zerolinecolor\":\"#E1E5ED\"}},                        {\"showLink\": true, \"linkText\": \"Export to plot.ly\", \"plotlyServerURL\": \"https://plot.ly\", \"responsive\": true}                    ).then(function(){\n",
       "                            \n",
       "var gd = document.getElementById('30f67184-102e-46b8-8137-e7e0daf3c822');\n",
       "var x = new MutationObserver(function (mutations, observer) {{\n",
       "        var display = window.getComputedStyle(gd).display;\n",
       "        if (!display || display === 'none') {{\n",
       "            console.log([gd, 'removed!']);\n",
       "            Plotly.purge(gd);\n",
       "            observer.disconnect();\n",
       "        }}\n",
       "}});\n",
       "\n",
       "// Listen for the removal of the full notebook cells\n",
       "var notebookContainer = gd.closest('#notebook-container');\n",
       "if (notebookContainer) {{\n",
       "    x.observe(notebookContainer, {childList: true});\n",
       "}}\n",
       "\n",
       "// Listen for the clearing of the current output cell\n",
       "var outputEl = gd.closest('.output');\n",
       "if (outputEl) {{\n",
       "    x.observe(outputEl, {childList: true});\n",
       "}}\n",
       "\n",
       "                        })                };                });            </script>        </div>"
      ]
     },
     "metadata": {},
     "output_type": "display_data"
    }
   ],
   "source": [
    "df[['A','B']].iplot(kind='spread')"
   ]
  },
  {
   "cell_type": "markdown",
   "metadata": {},
   "source": [
    "## histogram"
   ]
  },
  {
   "cell_type": "code",
   "execution_count": 16,
   "metadata": {},
   "outputs": [
    {
     "data": {
      "application/vnd.plotly.v1+json": {
       "config": {
        "linkText": "Export to plot.ly",
        "plotlyServerURL": "https://plot.ly",
        "showLink": true
       },
       "data": [
        {
         "histfunc": "count",
         "histnorm": "",
         "marker": {
          "color": "rgba(255, 153, 51, 1.0)",
          "line": {
           "color": "#4D5663",
           "width": 1.3
          }
         },
         "name": "A",
         "nbinsx": 25,
         "opacity": 0.8,
         "orientation": "v",
         "type": "histogram",
         "x": [
          0.7079539021387217,
          -0.3783360900626558,
          0.8853180692065072,
          -0.9504446640592793,
          0.7226901789495682,
          0.9224382830904682,
          -1.106872373910298,
          -0.015512022601375831,
          -0.353185219997632,
          -1.6252717315486631,
          0.4379603431868372,
          -0.11202513204380407,
          -0.7774845199649303,
          -0.26404541257831904,
          1.7102975633384212,
          -0.618713812499301,
          0.12136353643424155,
          0.6458853926055258,
          0.3638258900788119,
          -0.7880221412791935,
          -0.061057152377792016,
          -1.4778008859699494,
          1.1870405477533919,
          -0.6048071947816758,
          0.07659232155588042,
          -0.15398130019507927,
          -0.36958333297065243,
          -0.9429809974689437,
          1.2305906665884294,
          -0.7959745429934965,
          -0.663281905003923,
          1.128362854729977,
          0.06415331933472061,
          -0.414839892068916,
          -1.3831532645195648,
          0.21399615389790222,
          0.43851694110182127,
          -0.4114009446497051,
          -0.3590980120744632,
          0.31201045815652223,
          -0.6634245849642328,
          0.7605528409235844,
          1.6068366897250939,
          0.273627723502373,
          -2.415782175331679,
          0.27033613277072394,
          -0.9372303352805079,
          -0.21038126785679548,
          -0.38618843428375854,
          1.487158644526282,
          1.2554315225588815,
          -0.618467760407867,
          -0.2987896850122946,
          1.666550161990266,
          -1.7014225673818364,
          -1.7418267036671515,
          -1.3832861553605915,
          0.5974236309246336,
          -0.44748732187681123,
          -0.2414535273223089,
          -0.3922456354520554,
          0.6240503922946212,
          -1.1446643412933704,
          3.0615893659439553,
          0.3213619292459653,
          -0.5180451015628634,
          -0.6663773615483357,
          -0.19494309232888837,
          0.4276932112345201,
          0.022091112323968924,
          -0.14442648374683745,
          0.7374385052891811,
          -0.6767684582551838,
          -0.14567377114486724,
          0.8037493806021632,
          -0.3001960688208521,
          2.0798140337654707,
          -0.2998140918327669,
          0.9325838464870018,
          1.80447023263451,
          0.058338735256817424,
          -0.18149754453367886,
          -0.6734820397467258,
          0.02879337648116921,
          -1.046693259350123,
          0.7348611862262173,
          -0.3096788977047204,
          0.9466045425894998,
          -0.5505270504726302,
          0.04573512621679498,
          2.3164513548805004,
          0.83936668723141,
          1.1409441716454916,
          -2.4982650892817837,
          0.7211867800358712,
          -0.6991293006245523,
          0.5251033671763228,
          1.391545946085124,
          -0.5865873066567011,
          1.3714225184623456
         ]
        }
       ],
       "layout": {
        "barmode": "overlay",
        "legend": {
         "bgcolor": "#F5F6F9",
         "font": {
          "color": "#4D5663"
         }
        },
        "paper_bgcolor": "#F5F6F9",
        "plot_bgcolor": "#F5F6F9",
        "template": {
         "data": {
          "bar": [
           {
            "error_x": {
             "color": "#2a3f5f"
            },
            "error_y": {
             "color": "#2a3f5f"
            },
            "marker": {
             "line": {
              "color": "#E5ECF6",
              "width": 0.5
             },
             "pattern": {
              "fillmode": "overlay",
              "size": 10,
              "solidity": 0.2
             }
            },
            "type": "bar"
           }
          ],
          "barpolar": [
           {
            "marker": {
             "line": {
              "color": "#E5ECF6",
              "width": 0.5
             },
             "pattern": {
              "fillmode": "overlay",
              "size": 10,
              "solidity": 0.2
             }
            },
            "type": "barpolar"
           }
          ],
          "carpet": [
           {
            "aaxis": {
             "endlinecolor": "#2a3f5f",
             "gridcolor": "white",
             "linecolor": "white",
             "minorgridcolor": "white",
             "startlinecolor": "#2a3f5f"
            },
            "baxis": {
             "endlinecolor": "#2a3f5f",
             "gridcolor": "white",
             "linecolor": "white",
             "minorgridcolor": "white",
             "startlinecolor": "#2a3f5f"
            },
            "type": "carpet"
           }
          ],
          "choropleth": [
           {
            "colorbar": {
             "outlinewidth": 0,
             "ticks": ""
            },
            "type": "choropleth"
           }
          ],
          "contour": [
           {
            "colorbar": {
             "outlinewidth": 0,
             "ticks": ""
            },
            "colorscale": [
             [
              0,
              "#0d0887"
             ],
             [
              0.1111111111111111,
              "#46039f"
             ],
             [
              0.2222222222222222,
              "#7201a8"
             ],
             [
              0.3333333333333333,
              "#9c179e"
             ],
             [
              0.4444444444444444,
              "#bd3786"
             ],
             [
              0.5555555555555556,
              "#d8576b"
             ],
             [
              0.6666666666666666,
              "#ed7953"
             ],
             [
              0.7777777777777778,
              "#fb9f3a"
             ],
             [
              0.8888888888888888,
              "#fdca26"
             ],
             [
              1,
              "#f0f921"
             ]
            ],
            "type": "contour"
           }
          ],
          "contourcarpet": [
           {
            "colorbar": {
             "outlinewidth": 0,
             "ticks": ""
            },
            "type": "contourcarpet"
           }
          ],
          "heatmap": [
           {
            "colorbar": {
             "outlinewidth": 0,
             "ticks": ""
            },
            "colorscale": [
             [
              0,
              "#0d0887"
             ],
             [
              0.1111111111111111,
              "#46039f"
             ],
             [
              0.2222222222222222,
              "#7201a8"
             ],
             [
              0.3333333333333333,
              "#9c179e"
             ],
             [
              0.4444444444444444,
              "#bd3786"
             ],
             [
              0.5555555555555556,
              "#d8576b"
             ],
             [
              0.6666666666666666,
              "#ed7953"
             ],
             [
              0.7777777777777778,
              "#fb9f3a"
             ],
             [
              0.8888888888888888,
              "#fdca26"
             ],
             [
              1,
              "#f0f921"
             ]
            ],
            "type": "heatmap"
           }
          ],
          "heatmapgl": [
           {
            "colorbar": {
             "outlinewidth": 0,
             "ticks": ""
            },
            "colorscale": [
             [
              0,
              "#0d0887"
             ],
             [
              0.1111111111111111,
              "#46039f"
             ],
             [
              0.2222222222222222,
              "#7201a8"
             ],
             [
              0.3333333333333333,
              "#9c179e"
             ],
             [
              0.4444444444444444,
              "#bd3786"
             ],
             [
              0.5555555555555556,
              "#d8576b"
             ],
             [
              0.6666666666666666,
              "#ed7953"
             ],
             [
              0.7777777777777778,
              "#fb9f3a"
             ],
             [
              0.8888888888888888,
              "#fdca26"
             ],
             [
              1,
              "#f0f921"
             ]
            ],
            "type": "heatmapgl"
           }
          ],
          "histogram": [
           {
            "marker": {
             "pattern": {
              "fillmode": "overlay",
              "size": 10,
              "solidity": 0.2
             }
            },
            "type": "histogram"
           }
          ],
          "histogram2d": [
           {
            "colorbar": {
             "outlinewidth": 0,
             "ticks": ""
            },
            "colorscale": [
             [
              0,
              "#0d0887"
             ],
             [
              0.1111111111111111,
              "#46039f"
             ],
             [
              0.2222222222222222,
              "#7201a8"
             ],
             [
              0.3333333333333333,
              "#9c179e"
             ],
             [
              0.4444444444444444,
              "#bd3786"
             ],
             [
              0.5555555555555556,
              "#d8576b"
             ],
             [
              0.6666666666666666,
              "#ed7953"
             ],
             [
              0.7777777777777778,
              "#fb9f3a"
             ],
             [
              0.8888888888888888,
              "#fdca26"
             ],
             [
              1,
              "#f0f921"
             ]
            ],
            "type": "histogram2d"
           }
          ],
          "histogram2dcontour": [
           {
            "colorbar": {
             "outlinewidth": 0,
             "ticks": ""
            },
            "colorscale": [
             [
              0,
              "#0d0887"
             ],
             [
              0.1111111111111111,
              "#46039f"
             ],
             [
              0.2222222222222222,
              "#7201a8"
             ],
             [
              0.3333333333333333,
              "#9c179e"
             ],
             [
              0.4444444444444444,
              "#bd3786"
             ],
             [
              0.5555555555555556,
              "#d8576b"
             ],
             [
              0.6666666666666666,
              "#ed7953"
             ],
             [
              0.7777777777777778,
              "#fb9f3a"
             ],
             [
              0.8888888888888888,
              "#fdca26"
             ],
             [
              1,
              "#f0f921"
             ]
            ],
            "type": "histogram2dcontour"
           }
          ],
          "mesh3d": [
           {
            "colorbar": {
             "outlinewidth": 0,
             "ticks": ""
            },
            "type": "mesh3d"
           }
          ],
          "parcoords": [
           {
            "line": {
             "colorbar": {
              "outlinewidth": 0,
              "ticks": ""
             }
            },
            "type": "parcoords"
           }
          ],
          "pie": [
           {
            "automargin": true,
            "type": "pie"
           }
          ],
          "scatter": [
           {
            "fillpattern": {
             "fillmode": "overlay",
             "size": 10,
             "solidity": 0.2
            },
            "type": "scatter"
           }
          ],
          "scatter3d": [
           {
            "line": {
             "colorbar": {
              "outlinewidth": 0,
              "ticks": ""
             }
            },
            "marker": {
             "colorbar": {
              "outlinewidth": 0,
              "ticks": ""
             }
            },
            "type": "scatter3d"
           }
          ],
          "scattercarpet": [
           {
            "marker": {
             "colorbar": {
              "outlinewidth": 0,
              "ticks": ""
             }
            },
            "type": "scattercarpet"
           }
          ],
          "scattergeo": [
           {
            "marker": {
             "colorbar": {
              "outlinewidth": 0,
              "ticks": ""
             }
            },
            "type": "scattergeo"
           }
          ],
          "scattergl": [
           {
            "marker": {
             "colorbar": {
              "outlinewidth": 0,
              "ticks": ""
             }
            },
            "type": "scattergl"
           }
          ],
          "scattermapbox": [
           {
            "marker": {
             "colorbar": {
              "outlinewidth": 0,
              "ticks": ""
             }
            },
            "type": "scattermapbox"
           }
          ],
          "scatterpolar": [
           {
            "marker": {
             "colorbar": {
              "outlinewidth": 0,
              "ticks": ""
             }
            },
            "type": "scatterpolar"
           }
          ],
          "scatterpolargl": [
           {
            "marker": {
             "colorbar": {
              "outlinewidth": 0,
              "ticks": ""
             }
            },
            "type": "scatterpolargl"
           }
          ],
          "scatterternary": [
           {
            "marker": {
             "colorbar": {
              "outlinewidth": 0,
              "ticks": ""
             }
            },
            "type": "scatterternary"
           }
          ],
          "surface": [
           {
            "colorbar": {
             "outlinewidth": 0,
             "ticks": ""
            },
            "colorscale": [
             [
              0,
              "#0d0887"
             ],
             [
              0.1111111111111111,
              "#46039f"
             ],
             [
              0.2222222222222222,
              "#7201a8"
             ],
             [
              0.3333333333333333,
              "#9c179e"
             ],
             [
              0.4444444444444444,
              "#bd3786"
             ],
             [
              0.5555555555555556,
              "#d8576b"
             ],
             [
              0.6666666666666666,
              "#ed7953"
             ],
             [
              0.7777777777777778,
              "#fb9f3a"
             ],
             [
              0.8888888888888888,
              "#fdca26"
             ],
             [
              1,
              "#f0f921"
             ]
            ],
            "type": "surface"
           }
          ],
          "table": [
           {
            "cells": {
             "fill": {
              "color": "#EBF0F8"
             },
             "line": {
              "color": "white"
             }
            },
            "header": {
             "fill": {
              "color": "#C8D4E3"
             },
             "line": {
              "color": "white"
             }
            },
            "type": "table"
           }
          ]
         },
         "layout": {
          "annotationdefaults": {
           "arrowcolor": "#2a3f5f",
           "arrowhead": 0,
           "arrowwidth": 1
          },
          "autotypenumbers": "strict",
          "coloraxis": {
           "colorbar": {
            "outlinewidth": 0,
            "ticks": ""
           }
          },
          "colorscale": {
           "diverging": [
            [
             0,
             "#8e0152"
            ],
            [
             0.1,
             "#c51b7d"
            ],
            [
             0.2,
             "#de77ae"
            ],
            [
             0.3,
             "#f1b6da"
            ],
            [
             0.4,
             "#fde0ef"
            ],
            [
             0.5,
             "#f7f7f7"
            ],
            [
             0.6,
             "#e6f5d0"
            ],
            [
             0.7,
             "#b8e186"
            ],
            [
             0.8,
             "#7fbc41"
            ],
            [
             0.9,
             "#4d9221"
            ],
            [
             1,
             "#276419"
            ]
           ],
           "sequential": [
            [
             0,
             "#0d0887"
            ],
            [
             0.1111111111111111,
             "#46039f"
            ],
            [
             0.2222222222222222,
             "#7201a8"
            ],
            [
             0.3333333333333333,
             "#9c179e"
            ],
            [
             0.4444444444444444,
             "#bd3786"
            ],
            [
             0.5555555555555556,
             "#d8576b"
            ],
            [
             0.6666666666666666,
             "#ed7953"
            ],
            [
             0.7777777777777778,
             "#fb9f3a"
            ],
            [
             0.8888888888888888,
             "#fdca26"
            ],
            [
             1,
             "#f0f921"
            ]
           ],
           "sequentialminus": [
            [
             0,
             "#0d0887"
            ],
            [
             0.1111111111111111,
             "#46039f"
            ],
            [
             0.2222222222222222,
             "#7201a8"
            ],
            [
             0.3333333333333333,
             "#9c179e"
            ],
            [
             0.4444444444444444,
             "#bd3786"
            ],
            [
             0.5555555555555556,
             "#d8576b"
            ],
            [
             0.6666666666666666,
             "#ed7953"
            ],
            [
             0.7777777777777778,
             "#fb9f3a"
            ],
            [
             0.8888888888888888,
             "#fdca26"
            ],
            [
             1,
             "#f0f921"
            ]
           ]
          },
          "colorway": [
           "#636efa",
           "#EF553B",
           "#00cc96",
           "#ab63fa",
           "#FFA15A",
           "#19d3f3",
           "#FF6692",
           "#B6E880",
           "#FF97FF",
           "#FECB52"
          ],
          "font": {
           "color": "#2a3f5f"
          },
          "geo": {
           "bgcolor": "white",
           "lakecolor": "white",
           "landcolor": "#E5ECF6",
           "showlakes": true,
           "showland": true,
           "subunitcolor": "white"
          },
          "hoverlabel": {
           "align": "left"
          },
          "hovermode": "closest",
          "mapbox": {
           "style": "light"
          },
          "paper_bgcolor": "white",
          "plot_bgcolor": "#E5ECF6",
          "polar": {
           "angularaxis": {
            "gridcolor": "white",
            "linecolor": "white",
            "ticks": ""
           },
           "bgcolor": "#E5ECF6",
           "radialaxis": {
            "gridcolor": "white",
            "linecolor": "white",
            "ticks": ""
           }
          },
          "scene": {
           "xaxis": {
            "backgroundcolor": "#E5ECF6",
            "gridcolor": "white",
            "gridwidth": 2,
            "linecolor": "white",
            "showbackground": true,
            "ticks": "",
            "zerolinecolor": "white"
           },
           "yaxis": {
            "backgroundcolor": "#E5ECF6",
            "gridcolor": "white",
            "gridwidth": 2,
            "linecolor": "white",
            "showbackground": true,
            "ticks": "",
            "zerolinecolor": "white"
           },
           "zaxis": {
            "backgroundcolor": "#E5ECF6",
            "gridcolor": "white",
            "gridwidth": 2,
            "linecolor": "white",
            "showbackground": true,
            "ticks": "",
            "zerolinecolor": "white"
           }
          },
          "shapedefaults": {
           "line": {
            "color": "#2a3f5f"
           }
          },
          "ternary": {
           "aaxis": {
            "gridcolor": "white",
            "linecolor": "white",
            "ticks": ""
           },
           "baxis": {
            "gridcolor": "white",
            "linecolor": "white",
            "ticks": ""
           },
           "bgcolor": "#E5ECF6",
           "caxis": {
            "gridcolor": "white",
            "linecolor": "white",
            "ticks": ""
           }
          },
          "title": {
           "x": 0.05
          },
          "xaxis": {
           "automargin": true,
           "gridcolor": "white",
           "linecolor": "white",
           "ticks": "",
           "title": {
            "standoff": 15
           },
           "zerolinecolor": "white",
           "zerolinewidth": 2
          },
          "yaxis": {
           "automargin": true,
           "gridcolor": "white",
           "linecolor": "white",
           "ticks": "",
           "title": {
            "standoff": 15
           },
           "zerolinecolor": "white",
           "zerolinewidth": 2
          }
         }
        },
        "title": {
         "font": {
          "color": "#4D5663"
         }
        },
        "xaxis": {
         "gridcolor": "#E1E5ED",
         "showgrid": true,
         "tickfont": {
          "color": "#4D5663"
         },
         "title": {
          "font": {
           "color": "#4D5663"
          },
          "text": ""
         },
         "zerolinecolor": "#E1E5ED"
        },
        "yaxis": {
         "gridcolor": "#E1E5ED",
         "showgrid": true,
         "tickfont": {
          "color": "#4D5663"
         },
         "title": {
          "font": {
           "color": "#4D5663"
          },
          "text": ""
         },
         "zerolinecolor": "#E1E5ED"
        }
       }
      },
      "text/html": [
       "<div>                            <div id=\"8f2bce63-3ddc-4c60-a4bd-8db88d9bdaa3\" class=\"plotly-graph-div\" style=\"height:525px; width:100%;\"></div>            <script type=\"text/javascript\">                require([\"plotly\"], function(Plotly) {                    window.PLOTLYENV=window.PLOTLYENV || {};\n",
       "                    window.PLOTLYENV.BASE_URL='https://plot.ly';                                    if (document.getElementById(\"8f2bce63-3ddc-4c60-a4bd-8db88d9bdaa3\")) {                    Plotly.newPlot(                        \"8f2bce63-3ddc-4c60-a4bd-8db88d9bdaa3\",                        [{\"histfunc\":\"count\",\"histnorm\":\"\",\"marker\":{\"color\":\"rgba(255, 153, 51, 1.0)\",\"line\":{\"color\":\"#4D5663\",\"width\":1.3}},\"name\":\"A\",\"nbinsx\":25,\"opacity\":0.8,\"orientation\":\"v\",\"x\":[0.7079539021387217,-0.3783360900626558,0.8853180692065072,-0.9504446640592793,0.7226901789495682,0.9224382830904682,-1.106872373910298,-0.015512022601375831,-0.353185219997632,-1.6252717315486631,0.4379603431868372,-0.11202513204380407,-0.7774845199649303,-0.26404541257831904,1.7102975633384212,-0.618713812499301,0.12136353643424155,0.6458853926055258,0.3638258900788119,-0.7880221412791935,-0.061057152377792016,-1.4778008859699494,1.1870405477533919,-0.6048071947816758,0.07659232155588042,-0.15398130019507927,-0.36958333297065243,-0.9429809974689437,1.2305906665884294,-0.7959745429934965,-0.663281905003923,1.128362854729977,0.06415331933472061,-0.414839892068916,-1.3831532645195648,0.21399615389790222,0.43851694110182127,-0.4114009446497051,-0.3590980120744632,0.31201045815652223,-0.6634245849642328,0.7605528409235844,1.6068366897250939,0.273627723502373,-2.415782175331679,0.27033613277072394,-0.9372303352805079,-0.21038126785679548,-0.38618843428375854,1.487158644526282,1.2554315225588815,-0.618467760407867,-0.2987896850122946,1.666550161990266,-1.7014225673818364,-1.7418267036671515,-1.3832861553605915,0.5974236309246336,-0.44748732187681123,-0.2414535273223089,-0.3922456354520554,0.6240503922946212,-1.1446643412933704,3.0615893659439553,0.3213619292459653,-0.5180451015628634,-0.6663773615483357,-0.19494309232888837,0.4276932112345201,0.022091112323968924,-0.14442648374683745,0.7374385052891811,-0.6767684582551838,-0.14567377114486724,0.8037493806021632,-0.3001960688208521,2.0798140337654707,-0.2998140918327669,0.9325838464870018,1.80447023263451,0.058338735256817424,-0.18149754453367886,-0.6734820397467258,0.02879337648116921,-1.046693259350123,0.7348611862262173,-0.3096788977047204,0.9466045425894998,-0.5505270504726302,0.04573512621679498,2.3164513548805004,0.83936668723141,1.1409441716454916,-2.4982650892817837,0.7211867800358712,-0.6991293006245523,0.5251033671763228,1.391545946085124,-0.5865873066567011,1.3714225184623456],\"type\":\"histogram\"}],                        {\"barmode\":\"overlay\",\"legend\":{\"bgcolor\":\"#F5F6F9\",\"font\":{\"color\":\"#4D5663\"}},\"paper_bgcolor\":\"#F5F6F9\",\"plot_bgcolor\":\"#F5F6F9\",\"template\":{\"data\":{\"barpolar\":[{\"marker\":{\"line\":{\"color\":\"#E5ECF6\",\"width\":0.5},\"pattern\":{\"fillmode\":\"overlay\",\"size\":10,\"solidity\":0.2}},\"type\":\"barpolar\"}],\"bar\":[{\"error_x\":{\"color\":\"#2a3f5f\"},\"error_y\":{\"color\":\"#2a3f5f\"},\"marker\":{\"line\":{\"color\":\"#E5ECF6\",\"width\":0.5},\"pattern\":{\"fillmode\":\"overlay\",\"size\":10,\"solidity\":0.2}},\"type\":\"bar\"}],\"carpet\":[{\"aaxis\":{\"endlinecolor\":\"#2a3f5f\",\"gridcolor\":\"white\",\"linecolor\":\"white\",\"minorgridcolor\":\"white\",\"startlinecolor\":\"#2a3f5f\"},\"baxis\":{\"endlinecolor\":\"#2a3f5f\",\"gridcolor\":\"white\",\"linecolor\":\"white\",\"minorgridcolor\":\"white\",\"startlinecolor\":\"#2a3f5f\"},\"type\":\"carpet\"}],\"choropleth\":[{\"colorbar\":{\"outlinewidth\":0,\"ticks\":\"\"},\"type\":\"choropleth\"}],\"contourcarpet\":[{\"colorbar\":{\"outlinewidth\":0,\"ticks\":\"\"},\"type\":\"contourcarpet\"}],\"contour\":[{\"colorbar\":{\"outlinewidth\":0,\"ticks\":\"\"},\"colorscale\":[[0.0,\"#0d0887\"],[0.1111111111111111,\"#46039f\"],[0.2222222222222222,\"#7201a8\"],[0.3333333333333333,\"#9c179e\"],[0.4444444444444444,\"#bd3786\"],[0.5555555555555556,\"#d8576b\"],[0.6666666666666666,\"#ed7953\"],[0.7777777777777778,\"#fb9f3a\"],[0.8888888888888888,\"#fdca26\"],[1.0,\"#f0f921\"]],\"type\":\"contour\"}],\"heatmapgl\":[{\"colorbar\":{\"outlinewidth\":0,\"ticks\":\"\"},\"colorscale\":[[0.0,\"#0d0887\"],[0.1111111111111111,\"#46039f\"],[0.2222222222222222,\"#7201a8\"],[0.3333333333333333,\"#9c179e\"],[0.4444444444444444,\"#bd3786\"],[0.5555555555555556,\"#d8576b\"],[0.6666666666666666,\"#ed7953\"],[0.7777777777777778,\"#fb9f3a\"],[0.8888888888888888,\"#fdca26\"],[1.0,\"#f0f921\"]],\"type\":\"heatmapgl\"}],\"heatmap\":[{\"colorbar\":{\"outlinewidth\":0,\"ticks\":\"\"},\"colorscale\":[[0.0,\"#0d0887\"],[0.1111111111111111,\"#46039f\"],[0.2222222222222222,\"#7201a8\"],[0.3333333333333333,\"#9c179e\"],[0.4444444444444444,\"#bd3786\"],[0.5555555555555556,\"#d8576b\"],[0.6666666666666666,\"#ed7953\"],[0.7777777777777778,\"#fb9f3a\"],[0.8888888888888888,\"#fdca26\"],[1.0,\"#f0f921\"]],\"type\":\"heatmap\"}],\"histogram2dcontour\":[{\"colorbar\":{\"outlinewidth\":0,\"ticks\":\"\"},\"colorscale\":[[0.0,\"#0d0887\"],[0.1111111111111111,\"#46039f\"],[0.2222222222222222,\"#7201a8\"],[0.3333333333333333,\"#9c179e\"],[0.4444444444444444,\"#bd3786\"],[0.5555555555555556,\"#d8576b\"],[0.6666666666666666,\"#ed7953\"],[0.7777777777777778,\"#fb9f3a\"],[0.8888888888888888,\"#fdca26\"],[1.0,\"#f0f921\"]],\"type\":\"histogram2dcontour\"}],\"histogram2d\":[{\"colorbar\":{\"outlinewidth\":0,\"ticks\":\"\"},\"colorscale\":[[0.0,\"#0d0887\"],[0.1111111111111111,\"#46039f\"],[0.2222222222222222,\"#7201a8\"],[0.3333333333333333,\"#9c179e\"],[0.4444444444444444,\"#bd3786\"],[0.5555555555555556,\"#d8576b\"],[0.6666666666666666,\"#ed7953\"],[0.7777777777777778,\"#fb9f3a\"],[0.8888888888888888,\"#fdca26\"],[1.0,\"#f0f921\"]],\"type\":\"histogram2d\"}],\"histogram\":[{\"marker\":{\"pattern\":{\"fillmode\":\"overlay\",\"size\":10,\"solidity\":0.2}},\"type\":\"histogram\"}],\"mesh3d\":[{\"colorbar\":{\"outlinewidth\":0,\"ticks\":\"\"},\"type\":\"mesh3d\"}],\"parcoords\":[{\"line\":{\"colorbar\":{\"outlinewidth\":0,\"ticks\":\"\"}},\"type\":\"parcoords\"}],\"pie\":[{\"automargin\":true,\"type\":\"pie\"}],\"scatter3d\":[{\"line\":{\"colorbar\":{\"outlinewidth\":0,\"ticks\":\"\"}},\"marker\":{\"colorbar\":{\"outlinewidth\":0,\"ticks\":\"\"}},\"type\":\"scatter3d\"}],\"scattercarpet\":[{\"marker\":{\"colorbar\":{\"outlinewidth\":0,\"ticks\":\"\"}},\"type\":\"scattercarpet\"}],\"scattergeo\":[{\"marker\":{\"colorbar\":{\"outlinewidth\":0,\"ticks\":\"\"}},\"type\":\"scattergeo\"}],\"scattergl\":[{\"marker\":{\"colorbar\":{\"outlinewidth\":0,\"ticks\":\"\"}},\"type\":\"scattergl\"}],\"scattermapbox\":[{\"marker\":{\"colorbar\":{\"outlinewidth\":0,\"ticks\":\"\"}},\"type\":\"scattermapbox\"}],\"scatterpolargl\":[{\"marker\":{\"colorbar\":{\"outlinewidth\":0,\"ticks\":\"\"}},\"type\":\"scatterpolargl\"}],\"scatterpolar\":[{\"marker\":{\"colorbar\":{\"outlinewidth\":0,\"ticks\":\"\"}},\"type\":\"scatterpolar\"}],\"scatter\":[{\"fillpattern\":{\"fillmode\":\"overlay\",\"size\":10,\"solidity\":0.2},\"type\":\"scatter\"}],\"scatterternary\":[{\"marker\":{\"colorbar\":{\"outlinewidth\":0,\"ticks\":\"\"}},\"type\":\"scatterternary\"}],\"surface\":[{\"colorbar\":{\"outlinewidth\":0,\"ticks\":\"\"},\"colorscale\":[[0.0,\"#0d0887\"],[0.1111111111111111,\"#46039f\"],[0.2222222222222222,\"#7201a8\"],[0.3333333333333333,\"#9c179e\"],[0.4444444444444444,\"#bd3786\"],[0.5555555555555556,\"#d8576b\"],[0.6666666666666666,\"#ed7953\"],[0.7777777777777778,\"#fb9f3a\"],[0.8888888888888888,\"#fdca26\"],[1.0,\"#f0f921\"]],\"type\":\"surface\"}],\"table\":[{\"cells\":{\"fill\":{\"color\":\"#EBF0F8\"},\"line\":{\"color\":\"white\"}},\"header\":{\"fill\":{\"color\":\"#C8D4E3\"},\"line\":{\"color\":\"white\"}},\"type\":\"table\"}]},\"layout\":{\"annotationdefaults\":{\"arrowcolor\":\"#2a3f5f\",\"arrowhead\":0,\"arrowwidth\":1},\"autotypenumbers\":\"strict\",\"coloraxis\":{\"colorbar\":{\"outlinewidth\":0,\"ticks\":\"\"}},\"colorscale\":{\"diverging\":[[0,\"#8e0152\"],[0.1,\"#c51b7d\"],[0.2,\"#de77ae\"],[0.3,\"#f1b6da\"],[0.4,\"#fde0ef\"],[0.5,\"#f7f7f7\"],[0.6,\"#e6f5d0\"],[0.7,\"#b8e186\"],[0.8,\"#7fbc41\"],[0.9,\"#4d9221\"],[1,\"#276419\"]],\"sequential\":[[0.0,\"#0d0887\"],[0.1111111111111111,\"#46039f\"],[0.2222222222222222,\"#7201a8\"],[0.3333333333333333,\"#9c179e\"],[0.4444444444444444,\"#bd3786\"],[0.5555555555555556,\"#d8576b\"],[0.6666666666666666,\"#ed7953\"],[0.7777777777777778,\"#fb9f3a\"],[0.8888888888888888,\"#fdca26\"],[1.0,\"#f0f921\"]],\"sequentialminus\":[[0.0,\"#0d0887\"],[0.1111111111111111,\"#46039f\"],[0.2222222222222222,\"#7201a8\"],[0.3333333333333333,\"#9c179e\"],[0.4444444444444444,\"#bd3786\"],[0.5555555555555556,\"#d8576b\"],[0.6666666666666666,\"#ed7953\"],[0.7777777777777778,\"#fb9f3a\"],[0.8888888888888888,\"#fdca26\"],[1.0,\"#f0f921\"]]},\"colorway\":[\"#636efa\",\"#EF553B\",\"#00cc96\",\"#ab63fa\",\"#FFA15A\",\"#19d3f3\",\"#FF6692\",\"#B6E880\",\"#FF97FF\",\"#FECB52\"],\"font\":{\"color\":\"#2a3f5f\"},\"geo\":{\"bgcolor\":\"white\",\"lakecolor\":\"white\",\"landcolor\":\"#E5ECF6\",\"showlakes\":true,\"showland\":true,\"subunitcolor\":\"white\"},\"hoverlabel\":{\"align\":\"left\"},\"hovermode\":\"closest\",\"mapbox\":{\"style\":\"light\"},\"paper_bgcolor\":\"white\",\"plot_bgcolor\":\"#E5ECF6\",\"polar\":{\"angularaxis\":{\"gridcolor\":\"white\",\"linecolor\":\"white\",\"ticks\":\"\"},\"bgcolor\":\"#E5ECF6\",\"radialaxis\":{\"gridcolor\":\"white\",\"linecolor\":\"white\",\"ticks\":\"\"}},\"scene\":{\"xaxis\":{\"backgroundcolor\":\"#E5ECF6\",\"gridcolor\":\"white\",\"gridwidth\":2,\"linecolor\":\"white\",\"showbackground\":true,\"ticks\":\"\",\"zerolinecolor\":\"white\"},\"yaxis\":{\"backgroundcolor\":\"#E5ECF6\",\"gridcolor\":\"white\",\"gridwidth\":2,\"linecolor\":\"white\",\"showbackground\":true,\"ticks\":\"\",\"zerolinecolor\":\"white\"},\"zaxis\":{\"backgroundcolor\":\"#E5ECF6\",\"gridcolor\":\"white\",\"gridwidth\":2,\"linecolor\":\"white\",\"showbackground\":true,\"ticks\":\"\",\"zerolinecolor\":\"white\"}},\"shapedefaults\":{\"line\":{\"color\":\"#2a3f5f\"}},\"ternary\":{\"aaxis\":{\"gridcolor\":\"white\",\"linecolor\":\"white\",\"ticks\":\"\"},\"baxis\":{\"gridcolor\":\"white\",\"linecolor\":\"white\",\"ticks\":\"\"},\"bgcolor\":\"#E5ECF6\",\"caxis\":{\"gridcolor\":\"white\",\"linecolor\":\"white\",\"ticks\":\"\"}},\"title\":{\"x\":0.05},\"xaxis\":{\"automargin\":true,\"gridcolor\":\"white\",\"linecolor\":\"white\",\"ticks\":\"\",\"title\":{\"standoff\":15},\"zerolinecolor\":\"white\",\"zerolinewidth\":2},\"yaxis\":{\"automargin\":true,\"gridcolor\":\"white\",\"linecolor\":\"white\",\"ticks\":\"\",\"title\":{\"standoff\":15},\"zerolinecolor\":\"white\",\"zerolinewidth\":2}}},\"title\":{\"font\":{\"color\":\"#4D5663\"}},\"xaxis\":{\"gridcolor\":\"#E1E5ED\",\"showgrid\":true,\"tickfont\":{\"color\":\"#4D5663\"},\"title\":{\"font\":{\"color\":\"#4D5663\"},\"text\":\"\"},\"zerolinecolor\":\"#E1E5ED\"},\"yaxis\":{\"gridcolor\":\"#E1E5ED\",\"showgrid\":true,\"tickfont\":{\"color\":\"#4D5663\"},\"title\":{\"font\":{\"color\":\"#4D5663\"},\"text\":\"\"},\"zerolinecolor\":\"#E1E5ED\"}},                        {\"showLink\": true, \"linkText\": \"Export to plot.ly\", \"plotlyServerURL\": \"https://plot.ly\", \"responsive\": true}                    ).then(function(){\n",
       "                            \n",
       "var gd = document.getElementById('8f2bce63-3ddc-4c60-a4bd-8db88d9bdaa3');\n",
       "var x = new MutationObserver(function (mutations, observer) {{\n",
       "        var display = window.getComputedStyle(gd).display;\n",
       "        if (!display || display === 'none') {{\n",
       "            console.log([gd, 'removed!']);\n",
       "            Plotly.purge(gd);\n",
       "            observer.disconnect();\n",
       "        }}\n",
       "}});\n",
       "\n",
       "// Listen for the removal of the full notebook cells\n",
       "var notebookContainer = gd.closest('#notebook-container');\n",
       "if (notebookContainer) {{\n",
       "    x.observe(notebookContainer, {childList: true});\n",
       "}}\n",
       "\n",
       "// Listen for the clearing of the current output cell\n",
       "var outputEl = gd.closest('.output');\n",
       "if (outputEl) {{\n",
       "    x.observe(outputEl, {childList: true});\n",
       "}}\n",
       "\n",
       "                        })                };                });            </script>        </div>"
      ]
     },
     "metadata": {},
     "output_type": "display_data"
    }
   ],
   "source": [
    "df['A'].iplot(kind='hist',bins=25)"
   ]
  },
  {
   "cell_type": "code",
   "execution_count": 17,
   "metadata": {},
   "outputs": [
    {
     "data": {
      "application/vnd.plotly.v1+json": {
       "config": {
        "linkText": "Export to plot.ly",
        "plotlyServerURL": "https://plot.ly",
        "showLink": true
       },
       "data": [
        {
         "marker": {
          "color": [
           "rgb(255, 153, 51)",
           "rgb(55, 128, 191)",
           "rgb(50, 171, 96)",
           "rgb(128, 0, 128)",
           "rgb(219, 64, 82)",
           "rgb(0, 128, 128)",
           "rgb(255, 255, 51)",
           "rgb(128, 128, 0)",
           "rgb(251, 128, 114)",
           "rgb(128, 177, 211)"
          ],
          "line": {
           "width": 1.3
          },
          "size": [
           88,
           59,
           79,
           77,
           25,
           14,
           96,
           47,
           75,
           36,
           77,
           109,
           84,
           12,
           79,
           76,
           71,
           52,
           70,
           60,
           73,
           74,
           32,
           63,
           75,
           102,
           58,
           98,
           68,
           76,
           59,
           65,
           59,
           50,
           76,
           71,
           77,
           46,
           72,
           59,
           112,
           81,
           83,
           105,
           44,
           72,
           73,
           97,
           90,
           58,
           89,
           74,
           78,
           64,
           106,
           94,
           74,
           38,
           82,
           72,
           56,
           46,
           46,
           59,
           76,
           35,
           88,
           51,
           79,
           92,
           87,
           77,
           82,
           69,
           69,
           45,
           71,
           73,
           100,
           69,
           41,
           88,
           52,
           50,
           92,
           61,
           42,
           31,
           86,
           52,
           44,
           78,
           69,
           57,
           62,
           46,
           97,
           94,
           66,
           78
          ],
          "symbol": "circle"
         },
         "mode": "markers",
         "text": "",
         "type": "scatter",
         "x": [
          0.7079539021387217,
          -0.3783360900626558,
          0.8853180692065072,
          -0.9504446640592793,
          0.7226901789495682,
          0.9224382830904682,
          -1.106872373910298,
          -0.015512022601375831,
          -0.353185219997632,
          -1.6252717315486631,
          0.4379603431868372,
          -0.11202513204380407,
          -0.7774845199649303,
          -0.26404541257831904,
          1.7102975633384212,
          -0.618713812499301,
          0.12136353643424155,
          0.6458853926055258,
          0.3638258900788119,
          -0.7880221412791935,
          -0.061057152377792016,
          -1.4778008859699494,
          1.1870405477533919,
          -0.6048071947816758,
          0.07659232155588042,
          -0.15398130019507927,
          -0.36958333297065243,
          -0.9429809974689437,
          1.2305906665884294,
          -0.7959745429934965,
          -0.663281905003923,
          1.128362854729977,
          0.06415331933472061,
          -0.414839892068916,
          -1.3831532645195648,
          0.21399615389790222,
          0.43851694110182127,
          -0.4114009446497051,
          -0.3590980120744632,
          0.31201045815652223,
          -0.6634245849642328,
          0.7605528409235844,
          1.6068366897250939,
          0.273627723502373,
          -2.415782175331679,
          0.27033613277072394,
          -0.9372303352805079,
          -0.21038126785679548,
          -0.38618843428375854,
          1.487158644526282,
          1.2554315225588815,
          -0.618467760407867,
          -0.2987896850122946,
          1.666550161990266,
          -1.7014225673818364,
          -1.7418267036671515,
          -1.3832861553605915,
          0.5974236309246336,
          -0.44748732187681123,
          -0.2414535273223089,
          -0.3922456354520554,
          0.6240503922946212,
          -1.1446643412933704,
          3.0615893659439553,
          0.3213619292459653,
          -0.5180451015628634,
          -0.6663773615483357,
          -0.19494309232888837,
          0.4276932112345201,
          0.022091112323968924,
          -0.14442648374683745,
          0.7374385052891811,
          -0.6767684582551838,
          -0.14567377114486724,
          0.8037493806021632,
          -0.3001960688208521,
          2.0798140337654707,
          -0.2998140918327669,
          0.9325838464870018,
          1.80447023263451,
          0.058338735256817424,
          -0.18149754453367886,
          -0.6734820397467258,
          0.02879337648116921,
          -1.046693259350123,
          0.7348611862262173,
          -0.3096788977047204,
          0.9466045425894998,
          -0.5505270504726302,
          0.04573512621679498,
          2.3164513548805004,
          0.83936668723141,
          1.1409441716454916,
          -2.4982650892817837,
          0.7211867800358712,
          -0.6991293006245523,
          0.5251033671763228,
          1.391545946085124,
          -0.5865873066567011,
          1.3714225184623456
         ],
         "y": [
          0.13394584907567797,
          0.3879153265974429,
          -1.081481377423818,
          -0.24257147490927927,
          0.6454428756967521,
          0.9401443587964466,
          2.5443723124109896,
          -0.5918877531367807,
          0.5890569357834406,
          -0.814947995877355,
          -0.7305825948722581,
          1.1337331488996365,
          1.0504696105263363,
          0.5763859371801988,
          -0.697838112457501,
          -0.08208933003275574,
          -0.46178166108633467,
          -2.145738916473379,
          -0.830745986190214,
          0.6893633943869126,
          0.35902097452331505,
          0.09774310681059924,
          0.20815141104425233,
          0.33651036189190514,
          -0.3140974849551735,
          0.5118944152086332,
          -0.06948373723134914,
          0.4919985394877427,
          -0.46065848159580786,
          0.5384267925771766,
          0.02341032519984315,
          -0.28589435223142334,
          -0.23197753674200575,
          0.2108812073893951,
          0.7067447312268775,
          -0.061418659983730424,
          -0.8990785008586909,
          -0.5131739184457484,
          -0.3848750071650614,
          -0.6922519866549306,
          2.0218685506277967,
          0.9264143884674638,
          -0.2072472701213451,
          0.3272140258435058,
          -0.07644410431037132,
          -2.1530053141107635,
          0.1435065461309672,
          -0.4548392800761151,
          1.0218995489701463,
          1.8399929587701267,
          0.9582161447828299,
          -0.02525140285503517,
          0.6065418459764039,
          1.176592280057126,
          0.6966793603330663,
          -0.3225944077629017,
          0.05842342423158832,
          0.09438393670777477,
          0.9513555676012616,
          0.40260905248701456,
          -0.08406317167444576,
          1.2784482188078998,
          -1.2879427148628142,
          0.6175517189180135,
          -0.2224695502715256,
          0.33720074125190036,
          -0.15281272521416195,
          0.5201156847996458,
          1.177590444167989,
          -0.2689748870647838,
          1.265220873174324,
          2.9365354260876,
          1.4441809862857622,
          -2.1877702795672693,
          0.20837178474318227,
          0.39724384258536805,
          -0.3904530076814792,
          -0.9636530207146263,
          0.11001896281701239,
          0.18322824150561065,
          1.4605365576244245,
          0.2771608180778642,
          1.2537600257324881,
          0.7899949950161395,
          0.7554751869176336,
          0.43556657629043993,
          -0.9768266678432241,
          -1.3895601738886645,
          0.42494164448829674,
          -0.7087903247234564,
          0.6702014124044041,
          1.2838557969419582,
          -1.1343866915065046,
          -1.1627274402838177,
          -0.08897126049235626,
          -0.22655298182377334,
          -0.5204868023437481,
          0.7846852182745306,
          1.4067845224163147,
          0.4181597212708602
         ]
        }
       ],
       "layout": {
        "legend": {
         "bgcolor": "#F5F6F9",
         "font": {
          "color": "#4D5663"
         }
        },
        "paper_bgcolor": "#F5F6F9",
        "plot_bgcolor": "#F5F6F9",
        "template": {
         "data": {
          "bar": [
           {
            "error_x": {
             "color": "#2a3f5f"
            },
            "error_y": {
             "color": "#2a3f5f"
            },
            "marker": {
             "line": {
              "color": "#E5ECF6",
              "width": 0.5
             },
             "pattern": {
              "fillmode": "overlay",
              "size": 10,
              "solidity": 0.2
             }
            },
            "type": "bar"
           }
          ],
          "barpolar": [
           {
            "marker": {
             "line": {
              "color": "#E5ECF6",
              "width": 0.5
             },
             "pattern": {
              "fillmode": "overlay",
              "size": 10,
              "solidity": 0.2
             }
            },
            "type": "barpolar"
           }
          ],
          "carpet": [
           {
            "aaxis": {
             "endlinecolor": "#2a3f5f",
             "gridcolor": "white",
             "linecolor": "white",
             "minorgridcolor": "white",
             "startlinecolor": "#2a3f5f"
            },
            "baxis": {
             "endlinecolor": "#2a3f5f",
             "gridcolor": "white",
             "linecolor": "white",
             "minorgridcolor": "white",
             "startlinecolor": "#2a3f5f"
            },
            "type": "carpet"
           }
          ],
          "choropleth": [
           {
            "colorbar": {
             "outlinewidth": 0,
             "ticks": ""
            },
            "type": "choropleth"
           }
          ],
          "contour": [
           {
            "colorbar": {
             "outlinewidth": 0,
             "ticks": ""
            },
            "colorscale": [
             [
              0,
              "#0d0887"
             ],
             [
              0.1111111111111111,
              "#46039f"
             ],
             [
              0.2222222222222222,
              "#7201a8"
             ],
             [
              0.3333333333333333,
              "#9c179e"
             ],
             [
              0.4444444444444444,
              "#bd3786"
             ],
             [
              0.5555555555555556,
              "#d8576b"
             ],
             [
              0.6666666666666666,
              "#ed7953"
             ],
             [
              0.7777777777777778,
              "#fb9f3a"
             ],
             [
              0.8888888888888888,
              "#fdca26"
             ],
             [
              1,
              "#f0f921"
             ]
            ],
            "type": "contour"
           }
          ],
          "contourcarpet": [
           {
            "colorbar": {
             "outlinewidth": 0,
             "ticks": ""
            },
            "type": "contourcarpet"
           }
          ],
          "heatmap": [
           {
            "colorbar": {
             "outlinewidth": 0,
             "ticks": ""
            },
            "colorscale": [
             [
              0,
              "#0d0887"
             ],
             [
              0.1111111111111111,
              "#46039f"
             ],
             [
              0.2222222222222222,
              "#7201a8"
             ],
             [
              0.3333333333333333,
              "#9c179e"
             ],
             [
              0.4444444444444444,
              "#bd3786"
             ],
             [
              0.5555555555555556,
              "#d8576b"
             ],
             [
              0.6666666666666666,
              "#ed7953"
             ],
             [
              0.7777777777777778,
              "#fb9f3a"
             ],
             [
              0.8888888888888888,
              "#fdca26"
             ],
             [
              1,
              "#f0f921"
             ]
            ],
            "type": "heatmap"
           }
          ],
          "heatmapgl": [
           {
            "colorbar": {
             "outlinewidth": 0,
             "ticks": ""
            },
            "colorscale": [
             [
              0,
              "#0d0887"
             ],
             [
              0.1111111111111111,
              "#46039f"
             ],
             [
              0.2222222222222222,
              "#7201a8"
             ],
             [
              0.3333333333333333,
              "#9c179e"
             ],
             [
              0.4444444444444444,
              "#bd3786"
             ],
             [
              0.5555555555555556,
              "#d8576b"
             ],
             [
              0.6666666666666666,
              "#ed7953"
             ],
             [
              0.7777777777777778,
              "#fb9f3a"
             ],
             [
              0.8888888888888888,
              "#fdca26"
             ],
             [
              1,
              "#f0f921"
             ]
            ],
            "type": "heatmapgl"
           }
          ],
          "histogram": [
           {
            "marker": {
             "pattern": {
              "fillmode": "overlay",
              "size": 10,
              "solidity": 0.2
             }
            },
            "type": "histogram"
           }
          ],
          "histogram2d": [
           {
            "colorbar": {
             "outlinewidth": 0,
             "ticks": ""
            },
            "colorscale": [
             [
              0,
              "#0d0887"
             ],
             [
              0.1111111111111111,
              "#46039f"
             ],
             [
              0.2222222222222222,
              "#7201a8"
             ],
             [
              0.3333333333333333,
              "#9c179e"
             ],
             [
              0.4444444444444444,
              "#bd3786"
             ],
             [
              0.5555555555555556,
              "#d8576b"
             ],
             [
              0.6666666666666666,
              "#ed7953"
             ],
             [
              0.7777777777777778,
              "#fb9f3a"
             ],
             [
              0.8888888888888888,
              "#fdca26"
             ],
             [
              1,
              "#f0f921"
             ]
            ],
            "type": "histogram2d"
           }
          ],
          "histogram2dcontour": [
           {
            "colorbar": {
             "outlinewidth": 0,
             "ticks": ""
            },
            "colorscale": [
             [
              0,
              "#0d0887"
             ],
             [
              0.1111111111111111,
              "#46039f"
             ],
             [
              0.2222222222222222,
              "#7201a8"
             ],
             [
              0.3333333333333333,
              "#9c179e"
             ],
             [
              0.4444444444444444,
              "#bd3786"
             ],
             [
              0.5555555555555556,
              "#d8576b"
             ],
             [
              0.6666666666666666,
              "#ed7953"
             ],
             [
              0.7777777777777778,
              "#fb9f3a"
             ],
             [
              0.8888888888888888,
              "#fdca26"
             ],
             [
              1,
              "#f0f921"
             ]
            ],
            "type": "histogram2dcontour"
           }
          ],
          "mesh3d": [
           {
            "colorbar": {
             "outlinewidth": 0,
             "ticks": ""
            },
            "type": "mesh3d"
           }
          ],
          "parcoords": [
           {
            "line": {
             "colorbar": {
              "outlinewidth": 0,
              "ticks": ""
             }
            },
            "type": "parcoords"
           }
          ],
          "pie": [
           {
            "automargin": true,
            "type": "pie"
           }
          ],
          "scatter": [
           {
            "fillpattern": {
             "fillmode": "overlay",
             "size": 10,
             "solidity": 0.2
            },
            "type": "scatter"
           }
          ],
          "scatter3d": [
           {
            "line": {
             "colorbar": {
              "outlinewidth": 0,
              "ticks": ""
             }
            },
            "marker": {
             "colorbar": {
              "outlinewidth": 0,
              "ticks": ""
             }
            },
            "type": "scatter3d"
           }
          ],
          "scattercarpet": [
           {
            "marker": {
             "colorbar": {
              "outlinewidth": 0,
              "ticks": ""
             }
            },
            "type": "scattercarpet"
           }
          ],
          "scattergeo": [
           {
            "marker": {
             "colorbar": {
              "outlinewidth": 0,
              "ticks": ""
             }
            },
            "type": "scattergeo"
           }
          ],
          "scattergl": [
           {
            "marker": {
             "colorbar": {
              "outlinewidth": 0,
              "ticks": ""
             }
            },
            "type": "scattergl"
           }
          ],
          "scattermapbox": [
           {
            "marker": {
             "colorbar": {
              "outlinewidth": 0,
              "ticks": ""
             }
            },
            "type": "scattermapbox"
           }
          ],
          "scatterpolar": [
           {
            "marker": {
             "colorbar": {
              "outlinewidth": 0,
              "ticks": ""
             }
            },
            "type": "scatterpolar"
           }
          ],
          "scatterpolargl": [
           {
            "marker": {
             "colorbar": {
              "outlinewidth": 0,
              "ticks": ""
             }
            },
            "type": "scatterpolargl"
           }
          ],
          "scatterternary": [
           {
            "marker": {
             "colorbar": {
              "outlinewidth": 0,
              "ticks": ""
             }
            },
            "type": "scatterternary"
           }
          ],
          "surface": [
           {
            "colorbar": {
             "outlinewidth": 0,
             "ticks": ""
            },
            "colorscale": [
             [
              0,
              "#0d0887"
             ],
             [
              0.1111111111111111,
              "#46039f"
             ],
             [
              0.2222222222222222,
              "#7201a8"
             ],
             [
              0.3333333333333333,
              "#9c179e"
             ],
             [
              0.4444444444444444,
              "#bd3786"
             ],
             [
              0.5555555555555556,
              "#d8576b"
             ],
             [
              0.6666666666666666,
              "#ed7953"
             ],
             [
              0.7777777777777778,
              "#fb9f3a"
             ],
             [
              0.8888888888888888,
              "#fdca26"
             ],
             [
              1,
              "#f0f921"
             ]
            ],
            "type": "surface"
           }
          ],
          "table": [
           {
            "cells": {
             "fill": {
              "color": "#EBF0F8"
             },
             "line": {
              "color": "white"
             }
            },
            "header": {
             "fill": {
              "color": "#C8D4E3"
             },
             "line": {
              "color": "white"
             }
            },
            "type": "table"
           }
          ]
         },
         "layout": {
          "annotationdefaults": {
           "arrowcolor": "#2a3f5f",
           "arrowhead": 0,
           "arrowwidth": 1
          },
          "autotypenumbers": "strict",
          "coloraxis": {
           "colorbar": {
            "outlinewidth": 0,
            "ticks": ""
           }
          },
          "colorscale": {
           "diverging": [
            [
             0,
             "#8e0152"
            ],
            [
             0.1,
             "#c51b7d"
            ],
            [
             0.2,
             "#de77ae"
            ],
            [
             0.3,
             "#f1b6da"
            ],
            [
             0.4,
             "#fde0ef"
            ],
            [
             0.5,
             "#f7f7f7"
            ],
            [
             0.6,
             "#e6f5d0"
            ],
            [
             0.7,
             "#b8e186"
            ],
            [
             0.8,
             "#7fbc41"
            ],
            [
             0.9,
             "#4d9221"
            ],
            [
             1,
             "#276419"
            ]
           ],
           "sequential": [
            [
             0,
             "#0d0887"
            ],
            [
             0.1111111111111111,
             "#46039f"
            ],
            [
             0.2222222222222222,
             "#7201a8"
            ],
            [
             0.3333333333333333,
             "#9c179e"
            ],
            [
             0.4444444444444444,
             "#bd3786"
            ],
            [
             0.5555555555555556,
             "#d8576b"
            ],
            [
             0.6666666666666666,
             "#ed7953"
            ],
            [
             0.7777777777777778,
             "#fb9f3a"
            ],
            [
             0.8888888888888888,
             "#fdca26"
            ],
            [
             1,
             "#f0f921"
            ]
           ],
           "sequentialminus": [
            [
             0,
             "#0d0887"
            ],
            [
             0.1111111111111111,
             "#46039f"
            ],
            [
             0.2222222222222222,
             "#7201a8"
            ],
            [
             0.3333333333333333,
             "#9c179e"
            ],
            [
             0.4444444444444444,
             "#bd3786"
            ],
            [
             0.5555555555555556,
             "#d8576b"
            ],
            [
             0.6666666666666666,
             "#ed7953"
            ],
            [
             0.7777777777777778,
             "#fb9f3a"
            ],
            [
             0.8888888888888888,
             "#fdca26"
            ],
            [
             1,
             "#f0f921"
            ]
           ]
          },
          "colorway": [
           "#636efa",
           "#EF553B",
           "#00cc96",
           "#ab63fa",
           "#FFA15A",
           "#19d3f3",
           "#FF6692",
           "#B6E880",
           "#FF97FF",
           "#FECB52"
          ],
          "font": {
           "color": "#2a3f5f"
          },
          "geo": {
           "bgcolor": "white",
           "lakecolor": "white",
           "landcolor": "#E5ECF6",
           "showlakes": true,
           "showland": true,
           "subunitcolor": "white"
          },
          "hoverlabel": {
           "align": "left"
          },
          "hovermode": "closest",
          "mapbox": {
           "style": "light"
          },
          "paper_bgcolor": "white",
          "plot_bgcolor": "#E5ECF6",
          "polar": {
           "angularaxis": {
            "gridcolor": "white",
            "linecolor": "white",
            "ticks": ""
           },
           "bgcolor": "#E5ECF6",
           "radialaxis": {
            "gridcolor": "white",
            "linecolor": "white",
            "ticks": ""
           }
          },
          "scene": {
           "xaxis": {
            "backgroundcolor": "#E5ECF6",
            "gridcolor": "white",
            "gridwidth": 2,
            "linecolor": "white",
            "showbackground": true,
            "ticks": "",
            "zerolinecolor": "white"
           },
           "yaxis": {
            "backgroundcolor": "#E5ECF6",
            "gridcolor": "white",
            "gridwidth": 2,
            "linecolor": "white",
            "showbackground": true,
            "ticks": "",
            "zerolinecolor": "white"
           },
           "zaxis": {
            "backgroundcolor": "#E5ECF6",
            "gridcolor": "white",
            "gridwidth": 2,
            "linecolor": "white",
            "showbackground": true,
            "ticks": "",
            "zerolinecolor": "white"
           }
          },
          "shapedefaults": {
           "line": {
            "color": "#2a3f5f"
           }
          },
          "ternary": {
           "aaxis": {
            "gridcolor": "white",
            "linecolor": "white",
            "ticks": ""
           },
           "baxis": {
            "gridcolor": "white",
            "linecolor": "white",
            "ticks": ""
           },
           "bgcolor": "#E5ECF6",
           "caxis": {
            "gridcolor": "white",
            "linecolor": "white",
            "ticks": ""
           }
          },
          "title": {
           "x": 0.05
          },
          "xaxis": {
           "automargin": true,
           "gridcolor": "white",
           "linecolor": "white",
           "ticks": "",
           "title": {
            "standoff": 15
           },
           "zerolinecolor": "white",
           "zerolinewidth": 2
          },
          "yaxis": {
           "automargin": true,
           "gridcolor": "white",
           "linecolor": "white",
           "ticks": "",
           "title": {
            "standoff": 15
           },
           "zerolinecolor": "white",
           "zerolinewidth": 2
          }
         }
        },
        "title": {
         "font": {
          "color": "#4D5663"
         }
        },
        "xaxis": {
         "gridcolor": "#E1E5ED",
         "showgrid": true,
         "tickfont": {
          "color": "#4D5663"
         },
         "title": {
          "font": {
           "color": "#4D5663"
          },
          "text": ""
         },
         "zerolinecolor": "#E1E5ED"
        },
        "yaxis": {
         "gridcolor": "#E1E5ED",
         "showgrid": true,
         "tickfont": {
          "color": "#4D5663"
         },
         "title": {
          "font": {
           "color": "#4D5663"
          },
          "text": ""
         },
         "zerolinecolor": "#E1E5ED"
        }
       }
      },
      "text/html": [
       "<div>                            <div id=\"c9361d6c-e3d3-4e5b-afe8-1fac35f1f46d\" class=\"plotly-graph-div\" style=\"height:525px; width:100%;\"></div>            <script type=\"text/javascript\">                require([\"plotly\"], function(Plotly) {                    window.PLOTLYENV=window.PLOTLYENV || {};\n",
       "                    window.PLOTLYENV.BASE_URL='https://plot.ly';                                    if (document.getElementById(\"c9361d6c-e3d3-4e5b-afe8-1fac35f1f46d\")) {                    Plotly.newPlot(                        \"c9361d6c-e3d3-4e5b-afe8-1fac35f1f46d\",                        [{\"marker\":{\"color\":[\"rgb(255, 153, 51)\",\"rgb(55, 128, 191)\",\"rgb(50, 171, 96)\",\"rgb(128, 0, 128)\",\"rgb(219, 64, 82)\",\"rgb(0, 128, 128)\",\"rgb(255, 255, 51)\",\"rgb(128, 128, 0)\",\"rgb(251, 128, 114)\",\"rgb(128, 177, 211)\"],\"line\":{\"width\":1.3},\"size\":[88,59,79,77,25,14,96,47,75,36,77,109,84,12,79,76,71,52,70,60,73,74,32,63,75,102,58,98,68,76,59,65,59,50,76,71,77,46,72,59,112,81,83,105,44,72,73,97,90,58,89,74,78,64,106,94,74,38,82,72,56,46,46,59,76,35,88,51,79,92,87,77,82,69,69,45,71,73,100,69,41,88,52,50,92,61,42,31,86,52,44,78,69,57,62,46,97,94,66,78],\"symbol\":\"circle\"},\"mode\":\"markers\",\"text\":\"\",\"x\":[0.7079539021387217,-0.3783360900626558,0.8853180692065072,-0.9504446640592793,0.7226901789495682,0.9224382830904682,-1.106872373910298,-0.015512022601375831,-0.353185219997632,-1.6252717315486631,0.4379603431868372,-0.11202513204380407,-0.7774845199649303,-0.26404541257831904,1.7102975633384212,-0.618713812499301,0.12136353643424155,0.6458853926055258,0.3638258900788119,-0.7880221412791935,-0.061057152377792016,-1.4778008859699494,1.1870405477533919,-0.6048071947816758,0.07659232155588042,-0.15398130019507927,-0.36958333297065243,-0.9429809974689437,1.2305906665884294,-0.7959745429934965,-0.663281905003923,1.128362854729977,0.06415331933472061,-0.414839892068916,-1.3831532645195648,0.21399615389790222,0.43851694110182127,-0.4114009446497051,-0.3590980120744632,0.31201045815652223,-0.6634245849642328,0.7605528409235844,1.6068366897250939,0.273627723502373,-2.415782175331679,0.27033613277072394,-0.9372303352805079,-0.21038126785679548,-0.38618843428375854,1.487158644526282,1.2554315225588815,-0.618467760407867,-0.2987896850122946,1.666550161990266,-1.7014225673818364,-1.7418267036671515,-1.3832861553605915,0.5974236309246336,-0.44748732187681123,-0.2414535273223089,-0.3922456354520554,0.6240503922946212,-1.1446643412933704,3.0615893659439553,0.3213619292459653,-0.5180451015628634,-0.6663773615483357,-0.19494309232888837,0.4276932112345201,0.022091112323968924,-0.14442648374683745,0.7374385052891811,-0.6767684582551838,-0.14567377114486724,0.8037493806021632,-0.3001960688208521,2.0798140337654707,-0.2998140918327669,0.9325838464870018,1.80447023263451,0.058338735256817424,-0.18149754453367886,-0.6734820397467258,0.02879337648116921,-1.046693259350123,0.7348611862262173,-0.3096788977047204,0.9466045425894998,-0.5505270504726302,0.04573512621679498,2.3164513548805004,0.83936668723141,1.1409441716454916,-2.4982650892817837,0.7211867800358712,-0.6991293006245523,0.5251033671763228,1.391545946085124,-0.5865873066567011,1.3714225184623456],\"y\":[0.13394584907567797,0.3879153265974429,-1.081481377423818,-0.24257147490927927,0.6454428756967521,0.9401443587964466,2.5443723124109896,-0.5918877531367807,0.5890569357834406,-0.814947995877355,-0.7305825948722581,1.1337331488996365,1.0504696105263363,0.5763859371801988,-0.697838112457501,-0.08208933003275574,-0.46178166108633467,-2.145738916473379,-0.830745986190214,0.6893633943869126,0.35902097452331505,0.09774310681059924,0.20815141104425233,0.33651036189190514,-0.3140974849551735,0.5118944152086332,-0.06948373723134914,0.4919985394877427,-0.46065848159580786,0.5384267925771766,0.02341032519984315,-0.28589435223142334,-0.23197753674200575,0.2108812073893951,0.7067447312268775,-0.061418659983730424,-0.8990785008586909,-0.5131739184457484,-0.3848750071650614,-0.6922519866549306,2.0218685506277967,0.9264143884674638,-0.2072472701213451,0.3272140258435058,-0.07644410431037132,-2.1530053141107635,0.1435065461309672,-0.4548392800761151,1.0218995489701463,1.8399929587701267,0.9582161447828299,-0.02525140285503517,0.6065418459764039,1.176592280057126,0.6966793603330663,-0.3225944077629017,0.05842342423158832,0.09438393670777477,0.9513555676012616,0.40260905248701456,-0.08406317167444576,1.2784482188078998,-1.2879427148628142,0.6175517189180135,-0.2224695502715256,0.33720074125190036,-0.15281272521416195,0.5201156847996458,1.177590444167989,-0.2689748870647838,1.265220873174324,2.9365354260876,1.4441809862857622,-2.1877702795672693,0.20837178474318227,0.39724384258536805,-0.3904530076814792,-0.9636530207146263,0.11001896281701239,0.18322824150561065,1.4605365576244245,0.2771608180778642,1.2537600257324881,0.7899949950161395,0.7554751869176336,0.43556657629043993,-0.9768266678432241,-1.3895601738886645,0.42494164448829674,-0.7087903247234564,0.6702014124044041,1.2838557969419582,-1.1343866915065046,-1.1627274402838177,-0.08897126049235626,-0.22655298182377334,-0.5204868023437481,0.7846852182745306,1.4067845224163147,0.4181597212708602],\"type\":\"scatter\"}],                        {\"legend\":{\"bgcolor\":\"#F5F6F9\",\"font\":{\"color\":\"#4D5663\"}},\"paper_bgcolor\":\"#F5F6F9\",\"plot_bgcolor\":\"#F5F6F9\",\"template\":{\"data\":{\"barpolar\":[{\"marker\":{\"line\":{\"color\":\"#E5ECF6\",\"width\":0.5},\"pattern\":{\"fillmode\":\"overlay\",\"size\":10,\"solidity\":0.2}},\"type\":\"barpolar\"}],\"bar\":[{\"error_x\":{\"color\":\"#2a3f5f\"},\"error_y\":{\"color\":\"#2a3f5f\"},\"marker\":{\"line\":{\"color\":\"#E5ECF6\",\"width\":0.5},\"pattern\":{\"fillmode\":\"overlay\",\"size\":10,\"solidity\":0.2}},\"type\":\"bar\"}],\"carpet\":[{\"aaxis\":{\"endlinecolor\":\"#2a3f5f\",\"gridcolor\":\"white\",\"linecolor\":\"white\",\"minorgridcolor\":\"white\",\"startlinecolor\":\"#2a3f5f\"},\"baxis\":{\"endlinecolor\":\"#2a3f5f\",\"gridcolor\":\"white\",\"linecolor\":\"white\",\"minorgridcolor\":\"white\",\"startlinecolor\":\"#2a3f5f\"},\"type\":\"carpet\"}],\"choropleth\":[{\"colorbar\":{\"outlinewidth\":0,\"ticks\":\"\"},\"type\":\"choropleth\"}],\"contourcarpet\":[{\"colorbar\":{\"outlinewidth\":0,\"ticks\":\"\"},\"type\":\"contourcarpet\"}],\"contour\":[{\"colorbar\":{\"outlinewidth\":0,\"ticks\":\"\"},\"colorscale\":[[0.0,\"#0d0887\"],[0.1111111111111111,\"#46039f\"],[0.2222222222222222,\"#7201a8\"],[0.3333333333333333,\"#9c179e\"],[0.4444444444444444,\"#bd3786\"],[0.5555555555555556,\"#d8576b\"],[0.6666666666666666,\"#ed7953\"],[0.7777777777777778,\"#fb9f3a\"],[0.8888888888888888,\"#fdca26\"],[1.0,\"#f0f921\"]],\"type\":\"contour\"}],\"heatmapgl\":[{\"colorbar\":{\"outlinewidth\":0,\"ticks\":\"\"},\"colorscale\":[[0.0,\"#0d0887\"],[0.1111111111111111,\"#46039f\"],[0.2222222222222222,\"#7201a8\"],[0.3333333333333333,\"#9c179e\"],[0.4444444444444444,\"#bd3786\"],[0.5555555555555556,\"#d8576b\"],[0.6666666666666666,\"#ed7953\"],[0.7777777777777778,\"#fb9f3a\"],[0.8888888888888888,\"#fdca26\"],[1.0,\"#f0f921\"]],\"type\":\"heatmapgl\"}],\"heatmap\":[{\"colorbar\":{\"outlinewidth\":0,\"ticks\":\"\"},\"colorscale\":[[0.0,\"#0d0887\"],[0.1111111111111111,\"#46039f\"],[0.2222222222222222,\"#7201a8\"],[0.3333333333333333,\"#9c179e\"],[0.4444444444444444,\"#bd3786\"],[0.5555555555555556,\"#d8576b\"],[0.6666666666666666,\"#ed7953\"],[0.7777777777777778,\"#fb9f3a\"],[0.8888888888888888,\"#fdca26\"],[1.0,\"#f0f921\"]],\"type\":\"heatmap\"}],\"histogram2dcontour\":[{\"colorbar\":{\"outlinewidth\":0,\"ticks\":\"\"},\"colorscale\":[[0.0,\"#0d0887\"],[0.1111111111111111,\"#46039f\"],[0.2222222222222222,\"#7201a8\"],[0.3333333333333333,\"#9c179e\"],[0.4444444444444444,\"#bd3786\"],[0.5555555555555556,\"#d8576b\"],[0.6666666666666666,\"#ed7953\"],[0.7777777777777778,\"#fb9f3a\"],[0.8888888888888888,\"#fdca26\"],[1.0,\"#f0f921\"]],\"type\":\"histogram2dcontour\"}],\"histogram2d\":[{\"colorbar\":{\"outlinewidth\":0,\"ticks\":\"\"},\"colorscale\":[[0.0,\"#0d0887\"],[0.1111111111111111,\"#46039f\"],[0.2222222222222222,\"#7201a8\"],[0.3333333333333333,\"#9c179e\"],[0.4444444444444444,\"#bd3786\"],[0.5555555555555556,\"#d8576b\"],[0.6666666666666666,\"#ed7953\"],[0.7777777777777778,\"#fb9f3a\"],[0.8888888888888888,\"#fdca26\"],[1.0,\"#f0f921\"]],\"type\":\"histogram2d\"}],\"histogram\":[{\"marker\":{\"pattern\":{\"fillmode\":\"overlay\",\"size\":10,\"solidity\":0.2}},\"type\":\"histogram\"}],\"mesh3d\":[{\"colorbar\":{\"outlinewidth\":0,\"ticks\":\"\"},\"type\":\"mesh3d\"}],\"parcoords\":[{\"line\":{\"colorbar\":{\"outlinewidth\":0,\"ticks\":\"\"}},\"type\":\"parcoords\"}],\"pie\":[{\"automargin\":true,\"type\":\"pie\"}],\"scatter3d\":[{\"line\":{\"colorbar\":{\"outlinewidth\":0,\"ticks\":\"\"}},\"marker\":{\"colorbar\":{\"outlinewidth\":0,\"ticks\":\"\"}},\"type\":\"scatter3d\"}],\"scattercarpet\":[{\"marker\":{\"colorbar\":{\"outlinewidth\":0,\"ticks\":\"\"}},\"type\":\"scattercarpet\"}],\"scattergeo\":[{\"marker\":{\"colorbar\":{\"outlinewidth\":0,\"ticks\":\"\"}},\"type\":\"scattergeo\"}],\"scattergl\":[{\"marker\":{\"colorbar\":{\"outlinewidth\":0,\"ticks\":\"\"}},\"type\":\"scattergl\"}],\"scattermapbox\":[{\"marker\":{\"colorbar\":{\"outlinewidth\":0,\"ticks\":\"\"}},\"type\":\"scattermapbox\"}],\"scatterpolargl\":[{\"marker\":{\"colorbar\":{\"outlinewidth\":0,\"ticks\":\"\"}},\"type\":\"scatterpolargl\"}],\"scatterpolar\":[{\"marker\":{\"colorbar\":{\"outlinewidth\":0,\"ticks\":\"\"}},\"type\":\"scatterpolar\"}],\"scatter\":[{\"fillpattern\":{\"fillmode\":\"overlay\",\"size\":10,\"solidity\":0.2},\"type\":\"scatter\"}],\"scatterternary\":[{\"marker\":{\"colorbar\":{\"outlinewidth\":0,\"ticks\":\"\"}},\"type\":\"scatterternary\"}],\"surface\":[{\"colorbar\":{\"outlinewidth\":0,\"ticks\":\"\"},\"colorscale\":[[0.0,\"#0d0887\"],[0.1111111111111111,\"#46039f\"],[0.2222222222222222,\"#7201a8\"],[0.3333333333333333,\"#9c179e\"],[0.4444444444444444,\"#bd3786\"],[0.5555555555555556,\"#d8576b\"],[0.6666666666666666,\"#ed7953\"],[0.7777777777777778,\"#fb9f3a\"],[0.8888888888888888,\"#fdca26\"],[1.0,\"#f0f921\"]],\"type\":\"surface\"}],\"table\":[{\"cells\":{\"fill\":{\"color\":\"#EBF0F8\"},\"line\":{\"color\":\"white\"}},\"header\":{\"fill\":{\"color\":\"#C8D4E3\"},\"line\":{\"color\":\"white\"}},\"type\":\"table\"}]},\"layout\":{\"annotationdefaults\":{\"arrowcolor\":\"#2a3f5f\",\"arrowhead\":0,\"arrowwidth\":1},\"autotypenumbers\":\"strict\",\"coloraxis\":{\"colorbar\":{\"outlinewidth\":0,\"ticks\":\"\"}},\"colorscale\":{\"diverging\":[[0,\"#8e0152\"],[0.1,\"#c51b7d\"],[0.2,\"#de77ae\"],[0.3,\"#f1b6da\"],[0.4,\"#fde0ef\"],[0.5,\"#f7f7f7\"],[0.6,\"#e6f5d0\"],[0.7,\"#b8e186\"],[0.8,\"#7fbc41\"],[0.9,\"#4d9221\"],[1,\"#276419\"]],\"sequential\":[[0.0,\"#0d0887\"],[0.1111111111111111,\"#46039f\"],[0.2222222222222222,\"#7201a8\"],[0.3333333333333333,\"#9c179e\"],[0.4444444444444444,\"#bd3786\"],[0.5555555555555556,\"#d8576b\"],[0.6666666666666666,\"#ed7953\"],[0.7777777777777778,\"#fb9f3a\"],[0.8888888888888888,\"#fdca26\"],[1.0,\"#f0f921\"]],\"sequentialminus\":[[0.0,\"#0d0887\"],[0.1111111111111111,\"#46039f\"],[0.2222222222222222,\"#7201a8\"],[0.3333333333333333,\"#9c179e\"],[0.4444444444444444,\"#bd3786\"],[0.5555555555555556,\"#d8576b\"],[0.6666666666666666,\"#ed7953\"],[0.7777777777777778,\"#fb9f3a\"],[0.8888888888888888,\"#fdca26\"],[1.0,\"#f0f921\"]]},\"colorway\":[\"#636efa\",\"#EF553B\",\"#00cc96\",\"#ab63fa\",\"#FFA15A\",\"#19d3f3\",\"#FF6692\",\"#B6E880\",\"#FF97FF\",\"#FECB52\"],\"font\":{\"color\":\"#2a3f5f\"},\"geo\":{\"bgcolor\":\"white\",\"lakecolor\":\"white\",\"landcolor\":\"#E5ECF6\",\"showlakes\":true,\"showland\":true,\"subunitcolor\":\"white\"},\"hoverlabel\":{\"align\":\"left\"},\"hovermode\":\"closest\",\"mapbox\":{\"style\":\"light\"},\"paper_bgcolor\":\"white\",\"plot_bgcolor\":\"#E5ECF6\",\"polar\":{\"angularaxis\":{\"gridcolor\":\"white\",\"linecolor\":\"white\",\"ticks\":\"\"},\"bgcolor\":\"#E5ECF6\",\"radialaxis\":{\"gridcolor\":\"white\",\"linecolor\":\"white\",\"ticks\":\"\"}},\"scene\":{\"xaxis\":{\"backgroundcolor\":\"#E5ECF6\",\"gridcolor\":\"white\",\"gridwidth\":2,\"linecolor\":\"white\",\"showbackground\":true,\"ticks\":\"\",\"zerolinecolor\":\"white\"},\"yaxis\":{\"backgroundcolor\":\"#E5ECF6\",\"gridcolor\":\"white\",\"gridwidth\":2,\"linecolor\":\"white\",\"showbackground\":true,\"ticks\":\"\",\"zerolinecolor\":\"white\"},\"zaxis\":{\"backgroundcolor\":\"#E5ECF6\",\"gridcolor\":\"white\",\"gridwidth\":2,\"linecolor\":\"white\",\"showbackground\":true,\"ticks\":\"\",\"zerolinecolor\":\"white\"}},\"shapedefaults\":{\"line\":{\"color\":\"#2a3f5f\"}},\"ternary\":{\"aaxis\":{\"gridcolor\":\"white\",\"linecolor\":\"white\",\"ticks\":\"\"},\"baxis\":{\"gridcolor\":\"white\",\"linecolor\":\"white\",\"ticks\":\"\"},\"bgcolor\":\"#E5ECF6\",\"caxis\":{\"gridcolor\":\"white\",\"linecolor\":\"white\",\"ticks\":\"\"}},\"title\":{\"x\":0.05},\"xaxis\":{\"automargin\":true,\"gridcolor\":\"white\",\"linecolor\":\"white\",\"ticks\":\"\",\"title\":{\"standoff\":15},\"zerolinecolor\":\"white\",\"zerolinewidth\":2},\"yaxis\":{\"automargin\":true,\"gridcolor\":\"white\",\"linecolor\":\"white\",\"ticks\":\"\",\"title\":{\"standoff\":15},\"zerolinecolor\":\"white\",\"zerolinewidth\":2}}},\"title\":{\"font\":{\"color\":\"#4D5663\"}},\"xaxis\":{\"gridcolor\":\"#E1E5ED\",\"showgrid\":true,\"tickfont\":{\"color\":\"#4D5663\"},\"title\":{\"font\":{\"color\":\"#4D5663\"},\"text\":\"\"},\"zerolinecolor\":\"#E1E5ED\"},\"yaxis\":{\"gridcolor\":\"#E1E5ED\",\"showgrid\":true,\"tickfont\":{\"color\":\"#4D5663\"},\"title\":{\"font\":{\"color\":\"#4D5663\"},\"text\":\"\"},\"zerolinecolor\":\"#E1E5ED\"}},                        {\"showLink\": true, \"linkText\": \"Export to plot.ly\", \"plotlyServerURL\": \"https://plot.ly\", \"responsive\": true}                    ).then(function(){\n",
       "                            \n",
       "var gd = document.getElementById('c9361d6c-e3d3-4e5b-afe8-1fac35f1f46d');\n",
       "var x = new MutationObserver(function (mutations, observer) {{\n",
       "        var display = window.getComputedStyle(gd).display;\n",
       "        if (!display || display === 'none') {{\n",
       "            console.log([gd, 'removed!']);\n",
       "            Plotly.purge(gd);\n",
       "            observer.disconnect();\n",
       "        }}\n",
       "}});\n",
       "\n",
       "// Listen for the removal of the full notebook cells\n",
       "var notebookContainer = gd.closest('#notebook-container');\n",
       "if (notebookContainer) {{\n",
       "    x.observe(notebookContainer, {childList: true});\n",
       "}}\n",
       "\n",
       "// Listen for the clearing of the current output cell\n",
       "var outputEl = gd.closest('.output');\n",
       "if (outputEl) {{\n",
       "    x.observe(outputEl, {childList: true});\n",
       "}}\n",
       "\n",
       "                        })                };                });            </script>        </div>"
      ]
     },
     "metadata": {},
     "output_type": "display_data"
    }
   ],
   "source": [
    "df.iplot(kind='bubble',x='A',y='B',size='C')"
   ]
  },
  {
   "cell_type": "markdown",
   "metadata": {},
   "source": [
    "## scatter_matrix()\n",
    "\n",
    "Similar to sns.pairplot()"
   ]
  },
  {
   "cell_type": "code",
   "execution_count": 18,
   "metadata": {},
   "outputs": [
    {
     "data": {
      "application/vnd.plotly.v1+json": {
       "config": {
        "linkText": "Export to plot.ly",
        "plotlyServerURL": "https://plot.ly",
        "showLink": true
       },
       "data": [
        {
         "histfunc": "count",
         "histnorm": "",
         "marker": {
          "color": "rgba(255, 153, 51, 1.0)",
          "line": {
           "color": "#4D5663",
           "width": 1.3
          }
         },
         "name": "A",
         "nbinsx": 10,
         "opacity": 0.8,
         "orientation": "v",
         "type": "histogram",
         "x": [
          0.7079539021387217,
          -0.3783360900626558,
          0.8853180692065072,
          -0.9504446640592793,
          0.7226901789495682,
          0.9224382830904682,
          -1.106872373910298,
          -0.015512022601375831,
          -0.353185219997632,
          -1.6252717315486631,
          0.4379603431868372,
          -0.11202513204380407,
          -0.7774845199649303,
          -0.26404541257831904,
          1.7102975633384212,
          -0.618713812499301,
          0.12136353643424155,
          0.6458853926055258,
          0.3638258900788119,
          -0.7880221412791935,
          -0.061057152377792016,
          -1.4778008859699494,
          1.1870405477533919,
          -0.6048071947816758,
          0.07659232155588042,
          -0.15398130019507927,
          -0.36958333297065243,
          -0.9429809974689437,
          1.2305906665884294,
          -0.7959745429934965,
          -0.663281905003923,
          1.128362854729977,
          0.06415331933472061,
          -0.414839892068916,
          -1.3831532645195648,
          0.21399615389790222,
          0.43851694110182127,
          -0.4114009446497051,
          -0.3590980120744632,
          0.31201045815652223,
          -0.6634245849642328,
          0.7605528409235844,
          1.6068366897250939,
          0.273627723502373,
          -2.415782175331679,
          0.27033613277072394,
          -0.9372303352805079,
          -0.21038126785679548,
          -0.38618843428375854,
          1.487158644526282,
          1.2554315225588815,
          -0.618467760407867,
          -0.2987896850122946,
          1.666550161990266,
          -1.7014225673818364,
          -1.7418267036671515,
          -1.3832861553605915,
          0.5974236309246336,
          -0.44748732187681123,
          -0.2414535273223089,
          -0.3922456354520554,
          0.6240503922946212,
          -1.1446643412933704,
          3.0615893659439553,
          0.3213619292459653,
          -0.5180451015628634,
          -0.6663773615483357,
          -0.19494309232888837,
          0.4276932112345201,
          0.022091112323968924,
          -0.14442648374683745,
          0.7374385052891811,
          -0.6767684582551838,
          -0.14567377114486724,
          0.8037493806021632,
          -0.3001960688208521,
          2.0798140337654707,
          -0.2998140918327669,
          0.9325838464870018,
          1.80447023263451,
          0.058338735256817424,
          -0.18149754453367886,
          -0.6734820397467258,
          0.02879337648116921,
          -1.046693259350123,
          0.7348611862262173,
          -0.3096788977047204,
          0.9466045425894998,
          -0.5505270504726302,
          0.04573512621679498,
          2.3164513548805004,
          0.83936668723141,
          1.1409441716454916,
          -2.4982650892817837,
          0.7211867800358712,
          -0.6991293006245523,
          0.5251033671763228,
          1.391545946085124,
          -0.5865873066567011,
          1.3714225184623456
         ],
         "xaxis": "x",
         "yaxis": "y"
        },
        {
         "line": {
          "color": "rgba(128, 128, 128, 1.0)",
          "dash": "solid",
          "shape": "linear",
          "width": 1.3
         },
         "marker": {
          "size": 2,
          "symbol": "circle"
         },
         "mode": "markers",
         "name": "A",
         "text": "",
         "type": "scatter",
         "x": [
          0.13394584907567797,
          0.3879153265974429,
          -1.081481377423818,
          -0.24257147490927927,
          0.6454428756967521,
          0.9401443587964466,
          2.5443723124109896,
          -0.5918877531367807,
          0.5890569357834406,
          -0.814947995877355,
          -0.7305825948722581,
          1.1337331488996365,
          1.0504696105263363,
          0.5763859371801988,
          -0.697838112457501,
          -0.08208933003275574,
          -0.46178166108633467,
          -2.145738916473379,
          -0.830745986190214,
          0.6893633943869126,
          0.35902097452331505,
          0.09774310681059924,
          0.20815141104425233,
          0.33651036189190514,
          -0.3140974849551735,
          0.5118944152086332,
          -0.06948373723134914,
          0.4919985394877427,
          -0.46065848159580786,
          0.5384267925771766,
          0.02341032519984315,
          -0.28589435223142334,
          -0.23197753674200575,
          0.2108812073893951,
          0.7067447312268775,
          -0.061418659983730424,
          -0.8990785008586909,
          -0.5131739184457484,
          -0.3848750071650614,
          -0.6922519866549306,
          2.0218685506277967,
          0.9264143884674638,
          -0.2072472701213451,
          0.3272140258435058,
          -0.07644410431037132,
          -2.1530053141107635,
          0.1435065461309672,
          -0.4548392800761151,
          1.0218995489701463,
          1.8399929587701267,
          0.9582161447828299,
          -0.02525140285503517,
          0.6065418459764039,
          1.176592280057126,
          0.6966793603330663,
          -0.3225944077629017,
          0.05842342423158832,
          0.09438393670777477,
          0.9513555676012616,
          0.40260905248701456,
          -0.08406317167444576,
          1.2784482188078998,
          -1.2879427148628142,
          0.6175517189180135,
          -0.2224695502715256,
          0.33720074125190036,
          -0.15281272521416195,
          0.5201156847996458,
          1.177590444167989,
          -0.2689748870647838,
          1.265220873174324,
          2.9365354260876,
          1.4441809862857622,
          -2.1877702795672693,
          0.20837178474318227,
          0.39724384258536805,
          -0.3904530076814792,
          -0.9636530207146263,
          0.11001896281701239,
          0.18322824150561065,
          1.4605365576244245,
          0.2771608180778642,
          1.2537600257324881,
          0.7899949950161395,
          0.7554751869176336,
          0.43556657629043993,
          -0.9768266678432241,
          -1.3895601738886645,
          0.42494164448829674,
          -0.7087903247234564,
          0.6702014124044041,
          1.2838557969419582,
          -1.1343866915065046,
          -1.1627274402838177,
          -0.08897126049235626,
          -0.22655298182377334,
          -0.5204868023437481,
          0.7846852182745306,
          1.4067845224163147,
          0.4181597212708602
         ],
         "xaxis": "x2",
         "y": [
          0.7079539021387217,
          -0.3783360900626558,
          0.8853180692065072,
          -0.9504446640592793,
          0.7226901789495682,
          0.9224382830904682,
          -1.106872373910298,
          -0.015512022601375831,
          -0.353185219997632,
          -1.6252717315486631,
          0.4379603431868372,
          -0.11202513204380407,
          -0.7774845199649303,
          -0.26404541257831904,
          1.7102975633384212,
          -0.618713812499301,
          0.12136353643424155,
          0.6458853926055258,
          0.3638258900788119,
          -0.7880221412791935,
          -0.061057152377792016,
          -1.4778008859699494,
          1.1870405477533919,
          -0.6048071947816758,
          0.07659232155588042,
          -0.15398130019507927,
          -0.36958333297065243,
          -0.9429809974689437,
          1.2305906665884294,
          -0.7959745429934965,
          -0.663281905003923,
          1.128362854729977,
          0.06415331933472061,
          -0.414839892068916,
          -1.3831532645195648,
          0.21399615389790222,
          0.43851694110182127,
          -0.4114009446497051,
          -0.3590980120744632,
          0.31201045815652223,
          -0.6634245849642328,
          0.7605528409235844,
          1.6068366897250939,
          0.273627723502373,
          -2.415782175331679,
          0.27033613277072394,
          -0.9372303352805079,
          -0.21038126785679548,
          -0.38618843428375854,
          1.487158644526282,
          1.2554315225588815,
          -0.618467760407867,
          -0.2987896850122946,
          1.666550161990266,
          -1.7014225673818364,
          -1.7418267036671515,
          -1.3832861553605915,
          0.5974236309246336,
          -0.44748732187681123,
          -0.2414535273223089,
          -0.3922456354520554,
          0.6240503922946212,
          -1.1446643412933704,
          3.0615893659439553,
          0.3213619292459653,
          -0.5180451015628634,
          -0.6663773615483357,
          -0.19494309232888837,
          0.4276932112345201,
          0.022091112323968924,
          -0.14442648374683745,
          0.7374385052891811,
          -0.6767684582551838,
          -0.14567377114486724,
          0.8037493806021632,
          -0.3001960688208521,
          2.0798140337654707,
          -0.2998140918327669,
          0.9325838464870018,
          1.80447023263451,
          0.058338735256817424,
          -0.18149754453367886,
          -0.6734820397467258,
          0.02879337648116921,
          -1.046693259350123,
          0.7348611862262173,
          -0.3096788977047204,
          0.9466045425894998,
          -0.5505270504726302,
          0.04573512621679498,
          2.3164513548805004,
          0.83936668723141,
          1.1409441716454916,
          -2.4982650892817837,
          0.7211867800358712,
          -0.6991293006245523,
          0.5251033671763228,
          1.391545946085124,
          -0.5865873066567011,
          1.3714225184623456
         ],
         "yaxis": "y2"
        },
        {
         "line": {
          "color": "rgba(128, 128, 128, 1.0)",
          "dash": "solid",
          "shape": "linear",
          "width": 1.3
         },
         "marker": {
          "size": 2,
          "symbol": "circle"
         },
         "mode": "markers",
         "name": "A",
         "text": "",
         "type": "scatter",
         "x": [
          0.9544388332900968,
          -0.424283667999744,
          0.5344067996801082,
          0.4446976921913389,
          -2.0946753922597856,
          -2.6352303152411816,
          1.3553640815461017,
          -1.0086332911432925,
          0.3463043135866738,
          -1.5833974639534012,
          0.4290614466117463,
          1.954956323343894,
          0.7439774351633861,
          -2.7493119789735196,
          0.5099082557954903,
          0.3547596111803849,
          0.14313147123969847,
          -0.8087711632296254,
          0.08345326443533112,
          -0.3834734014912079,
          0.24594049130118634,
          0.2786280104684821,
          -1.7416143682290075,
          -0.2659267981073192,
          0.31770129963053756,
          1.6617575869201693,
          -0.4723055945097514,
          1.436103280920271,
          0.009914970298162448,
          0.39931996580080253,
          -0.45801422505694706,
          -0.15383284274757975,
          -0.43836465261431073,
          -0.8923335138912839,
          0.4018328497961101,
          0.12140093434727962,
          0.4514107932426172,
          -1.0867016374406038,
          0.17142193912628317,
          -0.4335119287318956,
          2.100403794271881,
          0.6239533610141301,
          0.7055190045529518,
          1.8036629815220069,
          -1.1547301499507638,
          0.1900311783664892,
          0.22092014925160713,
          1.3989593028132228,
          1.0504968729911623,
          -0.513364292705173,
          1.0255562771608107,
          0.2624572033889872,
          0.4566232823726221,
          -0.19079000115757536,
          1.8462813298577203,
          1.251607726468402,
          0.2980606315525532,
          -1.4544411450701082,
          0.663567397191952,
          0.19123793238329748,
          -0.5815918107889682,
          -1.0939691931508027,
          -1.0624470467612068,
          -0.46109933286267474,
          0.38979593028191295,
          -1.597140237894351,
          0.9605071497671269,
          -0.8494466830561063,
          0.5230153647595339,
          1.1508085324800563,
          0.903364008149754,
          0.4480843627438729,
          0.6632758543571257,
          0.023803658875025047,
          0.02319874950136764,
          -1.125526139617164,
          0.12419022634453221,
          0.23730776159929173,
          1.5489899689154762,
          0.03130958451229701,
          -1.2965618584179228,
          0.9819753675192283,
          -0.7964035536391842,
          -0.8581021076919145,
          1.1749231007199057,
          -0.3669008152070355,
          -1.2907881145028595,
          -1.790325529056441,
          0.865208915053357,
          -0.7865752952458198,
          -1.1598886176496148,
          0.46819249833938253,
          0.058867885744585874,
          -0.5303826334876658,
          -0.31976631347573486,
          -1.0645352803801837,
          1.3835637290031737,
          1.2455672502492108,
          -0.08667009671414692,
          0.48831235634911707
         ],
         "xaxis": "x3",
         "y": [
          0.7079539021387217,
          -0.3783360900626558,
          0.8853180692065072,
          -0.9504446640592793,
          0.7226901789495682,
          0.9224382830904682,
          -1.106872373910298,
          -0.015512022601375831,
          -0.353185219997632,
          -1.6252717315486631,
          0.4379603431868372,
          -0.11202513204380407,
          -0.7774845199649303,
          -0.26404541257831904,
          1.7102975633384212,
          -0.618713812499301,
          0.12136353643424155,
          0.6458853926055258,
          0.3638258900788119,
          -0.7880221412791935,
          -0.061057152377792016,
          -1.4778008859699494,
          1.1870405477533919,
          -0.6048071947816758,
          0.07659232155588042,
          -0.15398130019507927,
          -0.36958333297065243,
          -0.9429809974689437,
          1.2305906665884294,
          -0.7959745429934965,
          -0.663281905003923,
          1.128362854729977,
          0.06415331933472061,
          -0.414839892068916,
          -1.3831532645195648,
          0.21399615389790222,
          0.43851694110182127,
          -0.4114009446497051,
          -0.3590980120744632,
          0.31201045815652223,
          -0.6634245849642328,
          0.7605528409235844,
          1.6068366897250939,
          0.273627723502373,
          -2.415782175331679,
          0.27033613277072394,
          -0.9372303352805079,
          -0.21038126785679548,
          -0.38618843428375854,
          1.487158644526282,
          1.2554315225588815,
          -0.618467760407867,
          -0.2987896850122946,
          1.666550161990266,
          -1.7014225673818364,
          -1.7418267036671515,
          -1.3832861553605915,
          0.5974236309246336,
          -0.44748732187681123,
          -0.2414535273223089,
          -0.3922456354520554,
          0.6240503922946212,
          -1.1446643412933704,
          3.0615893659439553,
          0.3213619292459653,
          -0.5180451015628634,
          -0.6663773615483357,
          -0.19494309232888837,
          0.4276932112345201,
          0.022091112323968924,
          -0.14442648374683745,
          0.7374385052891811,
          -0.6767684582551838,
          -0.14567377114486724,
          0.8037493806021632,
          -0.3001960688208521,
          2.0798140337654707,
          -0.2998140918327669,
          0.9325838464870018,
          1.80447023263451,
          0.058338735256817424,
          -0.18149754453367886,
          -0.6734820397467258,
          0.02879337648116921,
          -1.046693259350123,
          0.7348611862262173,
          -0.3096788977047204,
          0.9466045425894998,
          -0.5505270504726302,
          0.04573512621679498,
          2.3164513548805004,
          0.83936668723141,
          1.1409441716454916,
          -2.4982650892817837,
          0.7211867800358712,
          -0.6991293006245523,
          0.5251033671763228,
          1.391545946085124,
          -0.5865873066567011,
          1.3714225184623456
         ],
         "yaxis": "y3"
        },
        {
         "line": {
          "color": "rgba(128, 128, 128, 1.0)",
          "dash": "solid",
          "shape": "linear",
          "width": 1.3
         },
         "marker": {
          "size": 2,
          "symbol": "circle"
         },
         "mode": "markers",
         "name": "A",
         "text": "",
         "type": "scatter",
         "x": [
          0.0028966318541667375,
          -0.37256044786306486,
          0.5465001925835189,
          -0.7356023347243454,
          0.680449633921941,
          0.9349389467150292,
          -0.674846779770036,
          0.18787791926237893,
          0.6986327751015071,
          -0.7858734747323144,
          0.8456498382216053,
          -0.6635883725464942,
          -1.2351417929634139,
          0.8146540586469663,
          -0.6205025026218609,
          -0.7133278026151951,
          1.3917389381256131,
          0.021635337049237036,
          0.6400006811374448,
          -0.3325713572001876,
          0.004078352490983123,
          -0.4266099668296702,
          1.2651636919708535,
          1.1225511446351406,
          -0.9081482892306695,
          0.542103761054079,
          -0.6937355198133868,
          0.3293477234360022,
          -1.563402072277211,
          -0.9493432661539069,
          1.9359834972400098,
          0.10934538504869766,
          -1.8262488047477234,
          1.5619273346468168,
          -1.4654657935564543,
          -1.5122514951766852,
          0.5782756437825113,
          0.2791743575456333,
          -0.5462309905287872,
          -0.6957116955164216,
          -1.5872659719310778,
          -0.39314868025006194,
          -1.1010871200049415,
          -0.06833394412756601,
          -0.17544545189857072,
          -0.2591737126286258,
          -0.21030106282353597,
          -0.06915638948763411,
          0.8305217754573968,
          0.24287909558830198,
          -0.904504007355387,
          -0.04089608984752918,
          0.6084749198972826,
          -0.5313281489763707,
          0.4394400209179841,
          -1.5443508641206696,
          -0.019887010016447035,
          -0.971986960468257,
          -0.6976847820195744,
          -0.6036156027322129,
          -0.40947587407572256,
          0.754517492312806,
          -0.42330851925586005,
          -0.2545668633668377,
          1.764871477912864,
          -0.07127859764789808,
          -0.42928306329171556,
          0.30545530672413473,
          -0.015280046834923223,
          1.164260906077144,
          0.48837236287797225,
          -1.2631731938889572,
          0.5338188895360726,
          1.4849394806760563,
          -0.43905860011321335,
          -0.1603182103708747,
          0.5513989953591896,
          0.1647489859566107,
          -0.19975523906922127,
          1.0383547246648683,
          0.02036897643463616,
          -1.2666864343441102,
          1.3853439259794993,
          -1.1568211198789184,
          -1.0591336404756195,
          -1.4829009659380807,
          -0.6575349885122139,
          0.6710201314163354,
          0.4113732272144532,
          -1.6911394161248332,
          0.08957247648877317,
          1.8305547256931156,
          -1.3675750052379576,
          -0.5101905909175083,
          0.06598666574641024,
          -0.9824571184877936,
          -0.34510898227098513,
          -0.2416695907298087,
          1.3358362566385846,
          0.6967897049923447
         ],
         "xaxis": "x4",
         "y": [
          0.7079539021387217,
          -0.3783360900626558,
          0.8853180692065072,
          -0.9504446640592793,
          0.7226901789495682,
          0.9224382830904682,
          -1.106872373910298,
          -0.015512022601375831,
          -0.353185219997632,
          -1.6252717315486631,
          0.4379603431868372,
          -0.11202513204380407,
          -0.7774845199649303,
          -0.26404541257831904,
          1.7102975633384212,
          -0.618713812499301,
          0.12136353643424155,
          0.6458853926055258,
          0.3638258900788119,
          -0.7880221412791935,
          -0.061057152377792016,
          -1.4778008859699494,
          1.1870405477533919,
          -0.6048071947816758,
          0.07659232155588042,
          -0.15398130019507927,
          -0.36958333297065243,
          -0.9429809974689437,
          1.2305906665884294,
          -0.7959745429934965,
          -0.663281905003923,
          1.128362854729977,
          0.06415331933472061,
          -0.414839892068916,
          -1.3831532645195648,
          0.21399615389790222,
          0.43851694110182127,
          -0.4114009446497051,
          -0.3590980120744632,
          0.31201045815652223,
          -0.6634245849642328,
          0.7605528409235844,
          1.6068366897250939,
          0.273627723502373,
          -2.415782175331679,
          0.27033613277072394,
          -0.9372303352805079,
          -0.21038126785679548,
          -0.38618843428375854,
          1.487158644526282,
          1.2554315225588815,
          -0.618467760407867,
          -0.2987896850122946,
          1.666550161990266,
          -1.7014225673818364,
          -1.7418267036671515,
          -1.3832861553605915,
          0.5974236309246336,
          -0.44748732187681123,
          -0.2414535273223089,
          -0.3922456354520554,
          0.6240503922946212,
          -1.1446643412933704,
          3.0615893659439553,
          0.3213619292459653,
          -0.5180451015628634,
          -0.6663773615483357,
          -0.19494309232888837,
          0.4276932112345201,
          0.022091112323968924,
          -0.14442648374683745,
          0.7374385052891811,
          -0.6767684582551838,
          -0.14567377114486724,
          0.8037493806021632,
          -0.3001960688208521,
          2.0798140337654707,
          -0.2998140918327669,
          0.9325838464870018,
          1.80447023263451,
          0.058338735256817424,
          -0.18149754453367886,
          -0.6734820397467258,
          0.02879337648116921,
          -1.046693259350123,
          0.7348611862262173,
          -0.3096788977047204,
          0.9466045425894998,
          -0.5505270504726302,
          0.04573512621679498,
          2.3164513548805004,
          0.83936668723141,
          1.1409441716454916,
          -2.4982650892817837,
          0.7211867800358712,
          -0.6991293006245523,
          0.5251033671763228,
          1.391545946085124,
          -0.5865873066567011,
          1.3714225184623456
         ],
         "yaxis": "y4"
        },
        {
         "line": {
          "color": "rgba(128, 128, 128, 1.0)",
          "dash": "solid",
          "shape": "linear",
          "width": 1.3
         },
         "marker": {
          "size": 2,
          "symbol": "circle"
         },
         "mode": "markers",
         "name": "B",
         "text": "",
         "type": "scatter",
         "x": [
          0.7079539021387217,
          -0.3783360900626558,
          0.8853180692065072,
          -0.9504446640592793,
          0.7226901789495682,
          0.9224382830904682,
          -1.106872373910298,
          -0.015512022601375831,
          -0.353185219997632,
          -1.6252717315486631,
          0.4379603431868372,
          -0.11202513204380407,
          -0.7774845199649303,
          -0.26404541257831904,
          1.7102975633384212,
          -0.618713812499301,
          0.12136353643424155,
          0.6458853926055258,
          0.3638258900788119,
          -0.7880221412791935,
          -0.061057152377792016,
          -1.4778008859699494,
          1.1870405477533919,
          -0.6048071947816758,
          0.07659232155588042,
          -0.15398130019507927,
          -0.36958333297065243,
          -0.9429809974689437,
          1.2305906665884294,
          -0.7959745429934965,
          -0.663281905003923,
          1.128362854729977,
          0.06415331933472061,
          -0.414839892068916,
          -1.3831532645195648,
          0.21399615389790222,
          0.43851694110182127,
          -0.4114009446497051,
          -0.3590980120744632,
          0.31201045815652223,
          -0.6634245849642328,
          0.7605528409235844,
          1.6068366897250939,
          0.273627723502373,
          -2.415782175331679,
          0.27033613277072394,
          -0.9372303352805079,
          -0.21038126785679548,
          -0.38618843428375854,
          1.487158644526282,
          1.2554315225588815,
          -0.618467760407867,
          -0.2987896850122946,
          1.666550161990266,
          -1.7014225673818364,
          -1.7418267036671515,
          -1.3832861553605915,
          0.5974236309246336,
          -0.44748732187681123,
          -0.2414535273223089,
          -0.3922456354520554,
          0.6240503922946212,
          -1.1446643412933704,
          3.0615893659439553,
          0.3213619292459653,
          -0.5180451015628634,
          -0.6663773615483357,
          -0.19494309232888837,
          0.4276932112345201,
          0.022091112323968924,
          -0.14442648374683745,
          0.7374385052891811,
          -0.6767684582551838,
          -0.14567377114486724,
          0.8037493806021632,
          -0.3001960688208521,
          2.0798140337654707,
          -0.2998140918327669,
          0.9325838464870018,
          1.80447023263451,
          0.058338735256817424,
          -0.18149754453367886,
          -0.6734820397467258,
          0.02879337648116921,
          -1.046693259350123,
          0.7348611862262173,
          -0.3096788977047204,
          0.9466045425894998,
          -0.5505270504726302,
          0.04573512621679498,
          2.3164513548805004,
          0.83936668723141,
          1.1409441716454916,
          -2.4982650892817837,
          0.7211867800358712,
          -0.6991293006245523,
          0.5251033671763228,
          1.391545946085124,
          -0.5865873066567011,
          1.3714225184623456
         ],
         "xaxis": "x5",
         "y": [
          0.13394584907567797,
          0.3879153265974429,
          -1.081481377423818,
          -0.24257147490927927,
          0.6454428756967521,
          0.9401443587964466,
          2.5443723124109896,
          -0.5918877531367807,
          0.5890569357834406,
          -0.814947995877355,
          -0.7305825948722581,
          1.1337331488996365,
          1.0504696105263363,
          0.5763859371801988,
          -0.697838112457501,
          -0.08208933003275574,
          -0.46178166108633467,
          -2.145738916473379,
          -0.830745986190214,
          0.6893633943869126,
          0.35902097452331505,
          0.09774310681059924,
          0.20815141104425233,
          0.33651036189190514,
          -0.3140974849551735,
          0.5118944152086332,
          -0.06948373723134914,
          0.4919985394877427,
          -0.46065848159580786,
          0.5384267925771766,
          0.02341032519984315,
          -0.28589435223142334,
          -0.23197753674200575,
          0.2108812073893951,
          0.7067447312268775,
          -0.061418659983730424,
          -0.8990785008586909,
          -0.5131739184457484,
          -0.3848750071650614,
          -0.6922519866549306,
          2.0218685506277967,
          0.9264143884674638,
          -0.2072472701213451,
          0.3272140258435058,
          -0.07644410431037132,
          -2.1530053141107635,
          0.1435065461309672,
          -0.4548392800761151,
          1.0218995489701463,
          1.8399929587701267,
          0.9582161447828299,
          -0.02525140285503517,
          0.6065418459764039,
          1.176592280057126,
          0.6966793603330663,
          -0.3225944077629017,
          0.05842342423158832,
          0.09438393670777477,
          0.9513555676012616,
          0.40260905248701456,
          -0.08406317167444576,
          1.2784482188078998,
          -1.2879427148628142,
          0.6175517189180135,
          -0.2224695502715256,
          0.33720074125190036,
          -0.15281272521416195,
          0.5201156847996458,
          1.177590444167989,
          -0.2689748870647838,
          1.265220873174324,
          2.9365354260876,
          1.4441809862857622,
          -2.1877702795672693,
          0.20837178474318227,
          0.39724384258536805,
          -0.3904530076814792,
          -0.9636530207146263,
          0.11001896281701239,
          0.18322824150561065,
          1.4605365576244245,
          0.2771608180778642,
          1.2537600257324881,
          0.7899949950161395,
          0.7554751869176336,
          0.43556657629043993,
          -0.9768266678432241,
          -1.3895601738886645,
          0.42494164448829674,
          -0.7087903247234564,
          0.6702014124044041,
          1.2838557969419582,
          -1.1343866915065046,
          -1.1627274402838177,
          -0.08897126049235626,
          -0.22655298182377334,
          -0.5204868023437481,
          0.7846852182745306,
          1.4067845224163147,
          0.4181597212708602
         ],
         "yaxis": "y5"
        },
        {
         "histfunc": "count",
         "histnorm": "",
         "marker": {
          "color": "rgba(55, 128, 191, 1.0)",
          "line": {
           "color": "#4D5663",
           "width": 1.3
          }
         },
         "name": "B",
         "nbinsx": 10,
         "opacity": 0.8,
         "orientation": "v",
         "type": "histogram",
         "x": [
          0.13394584907567797,
          0.3879153265974429,
          -1.081481377423818,
          -0.24257147490927927,
          0.6454428756967521,
          0.9401443587964466,
          2.5443723124109896,
          -0.5918877531367807,
          0.5890569357834406,
          -0.814947995877355,
          -0.7305825948722581,
          1.1337331488996365,
          1.0504696105263363,
          0.5763859371801988,
          -0.697838112457501,
          -0.08208933003275574,
          -0.46178166108633467,
          -2.145738916473379,
          -0.830745986190214,
          0.6893633943869126,
          0.35902097452331505,
          0.09774310681059924,
          0.20815141104425233,
          0.33651036189190514,
          -0.3140974849551735,
          0.5118944152086332,
          -0.06948373723134914,
          0.4919985394877427,
          -0.46065848159580786,
          0.5384267925771766,
          0.02341032519984315,
          -0.28589435223142334,
          -0.23197753674200575,
          0.2108812073893951,
          0.7067447312268775,
          -0.061418659983730424,
          -0.8990785008586909,
          -0.5131739184457484,
          -0.3848750071650614,
          -0.6922519866549306,
          2.0218685506277967,
          0.9264143884674638,
          -0.2072472701213451,
          0.3272140258435058,
          -0.07644410431037132,
          -2.1530053141107635,
          0.1435065461309672,
          -0.4548392800761151,
          1.0218995489701463,
          1.8399929587701267,
          0.9582161447828299,
          -0.02525140285503517,
          0.6065418459764039,
          1.176592280057126,
          0.6966793603330663,
          -0.3225944077629017,
          0.05842342423158832,
          0.09438393670777477,
          0.9513555676012616,
          0.40260905248701456,
          -0.08406317167444576,
          1.2784482188078998,
          -1.2879427148628142,
          0.6175517189180135,
          -0.2224695502715256,
          0.33720074125190036,
          -0.15281272521416195,
          0.5201156847996458,
          1.177590444167989,
          -0.2689748870647838,
          1.265220873174324,
          2.9365354260876,
          1.4441809862857622,
          -2.1877702795672693,
          0.20837178474318227,
          0.39724384258536805,
          -0.3904530076814792,
          -0.9636530207146263,
          0.11001896281701239,
          0.18322824150561065,
          1.4605365576244245,
          0.2771608180778642,
          1.2537600257324881,
          0.7899949950161395,
          0.7554751869176336,
          0.43556657629043993,
          -0.9768266678432241,
          -1.3895601738886645,
          0.42494164448829674,
          -0.7087903247234564,
          0.6702014124044041,
          1.2838557969419582,
          -1.1343866915065046,
          -1.1627274402838177,
          -0.08897126049235626,
          -0.22655298182377334,
          -0.5204868023437481,
          0.7846852182745306,
          1.4067845224163147,
          0.4181597212708602
         ],
         "xaxis": "x6",
         "yaxis": "y6"
        },
        {
         "line": {
          "color": "rgba(128, 128, 128, 1.0)",
          "dash": "solid",
          "shape": "linear",
          "width": 1.3
         },
         "marker": {
          "size": 2,
          "symbol": "circle"
         },
         "mode": "markers",
         "name": "B",
         "text": "",
         "type": "scatter",
         "x": [
          0.9544388332900968,
          -0.424283667999744,
          0.5344067996801082,
          0.4446976921913389,
          -2.0946753922597856,
          -2.6352303152411816,
          1.3553640815461017,
          -1.0086332911432925,
          0.3463043135866738,
          -1.5833974639534012,
          0.4290614466117463,
          1.954956323343894,
          0.7439774351633861,
          -2.7493119789735196,
          0.5099082557954903,
          0.3547596111803849,
          0.14313147123969847,
          -0.8087711632296254,
          0.08345326443533112,
          -0.3834734014912079,
          0.24594049130118634,
          0.2786280104684821,
          -1.7416143682290075,
          -0.2659267981073192,
          0.31770129963053756,
          1.6617575869201693,
          -0.4723055945097514,
          1.436103280920271,
          0.009914970298162448,
          0.39931996580080253,
          -0.45801422505694706,
          -0.15383284274757975,
          -0.43836465261431073,
          -0.8923335138912839,
          0.4018328497961101,
          0.12140093434727962,
          0.4514107932426172,
          -1.0867016374406038,
          0.17142193912628317,
          -0.4335119287318956,
          2.100403794271881,
          0.6239533610141301,
          0.7055190045529518,
          1.8036629815220069,
          -1.1547301499507638,
          0.1900311783664892,
          0.22092014925160713,
          1.3989593028132228,
          1.0504968729911623,
          -0.513364292705173,
          1.0255562771608107,
          0.2624572033889872,
          0.4566232823726221,
          -0.19079000115757536,
          1.8462813298577203,
          1.251607726468402,
          0.2980606315525532,
          -1.4544411450701082,
          0.663567397191952,
          0.19123793238329748,
          -0.5815918107889682,
          -1.0939691931508027,
          -1.0624470467612068,
          -0.46109933286267474,
          0.38979593028191295,
          -1.597140237894351,
          0.9605071497671269,
          -0.8494466830561063,
          0.5230153647595339,
          1.1508085324800563,
          0.903364008149754,
          0.4480843627438729,
          0.6632758543571257,
          0.023803658875025047,
          0.02319874950136764,
          -1.125526139617164,
          0.12419022634453221,
          0.23730776159929173,
          1.5489899689154762,
          0.03130958451229701,
          -1.2965618584179228,
          0.9819753675192283,
          -0.7964035536391842,
          -0.8581021076919145,
          1.1749231007199057,
          -0.3669008152070355,
          -1.2907881145028595,
          -1.790325529056441,
          0.865208915053357,
          -0.7865752952458198,
          -1.1598886176496148,
          0.46819249833938253,
          0.058867885744585874,
          -0.5303826334876658,
          -0.31976631347573486,
          -1.0645352803801837,
          1.3835637290031737,
          1.2455672502492108,
          -0.08667009671414692,
          0.48831235634911707
         ],
         "xaxis": "x7",
         "y": [
          0.13394584907567797,
          0.3879153265974429,
          -1.081481377423818,
          -0.24257147490927927,
          0.6454428756967521,
          0.9401443587964466,
          2.5443723124109896,
          -0.5918877531367807,
          0.5890569357834406,
          -0.814947995877355,
          -0.7305825948722581,
          1.1337331488996365,
          1.0504696105263363,
          0.5763859371801988,
          -0.697838112457501,
          -0.08208933003275574,
          -0.46178166108633467,
          -2.145738916473379,
          -0.830745986190214,
          0.6893633943869126,
          0.35902097452331505,
          0.09774310681059924,
          0.20815141104425233,
          0.33651036189190514,
          -0.3140974849551735,
          0.5118944152086332,
          -0.06948373723134914,
          0.4919985394877427,
          -0.46065848159580786,
          0.5384267925771766,
          0.02341032519984315,
          -0.28589435223142334,
          -0.23197753674200575,
          0.2108812073893951,
          0.7067447312268775,
          -0.061418659983730424,
          -0.8990785008586909,
          -0.5131739184457484,
          -0.3848750071650614,
          -0.6922519866549306,
          2.0218685506277967,
          0.9264143884674638,
          -0.2072472701213451,
          0.3272140258435058,
          -0.07644410431037132,
          -2.1530053141107635,
          0.1435065461309672,
          -0.4548392800761151,
          1.0218995489701463,
          1.8399929587701267,
          0.9582161447828299,
          -0.02525140285503517,
          0.6065418459764039,
          1.176592280057126,
          0.6966793603330663,
          -0.3225944077629017,
          0.05842342423158832,
          0.09438393670777477,
          0.9513555676012616,
          0.40260905248701456,
          -0.08406317167444576,
          1.2784482188078998,
          -1.2879427148628142,
          0.6175517189180135,
          -0.2224695502715256,
          0.33720074125190036,
          -0.15281272521416195,
          0.5201156847996458,
          1.177590444167989,
          -0.2689748870647838,
          1.265220873174324,
          2.9365354260876,
          1.4441809862857622,
          -2.1877702795672693,
          0.20837178474318227,
          0.39724384258536805,
          -0.3904530076814792,
          -0.9636530207146263,
          0.11001896281701239,
          0.18322824150561065,
          1.4605365576244245,
          0.2771608180778642,
          1.2537600257324881,
          0.7899949950161395,
          0.7554751869176336,
          0.43556657629043993,
          -0.9768266678432241,
          -1.3895601738886645,
          0.42494164448829674,
          -0.7087903247234564,
          0.6702014124044041,
          1.2838557969419582,
          -1.1343866915065046,
          -1.1627274402838177,
          -0.08897126049235626,
          -0.22655298182377334,
          -0.5204868023437481,
          0.7846852182745306,
          1.4067845224163147,
          0.4181597212708602
         ],
         "yaxis": "y7"
        },
        {
         "line": {
          "color": "rgba(128, 128, 128, 1.0)",
          "dash": "solid",
          "shape": "linear",
          "width": 1.3
         },
         "marker": {
          "size": 2,
          "symbol": "circle"
         },
         "mode": "markers",
         "name": "B",
         "text": "",
         "type": "scatter",
         "x": [
          0.0028966318541667375,
          -0.37256044786306486,
          0.5465001925835189,
          -0.7356023347243454,
          0.680449633921941,
          0.9349389467150292,
          -0.674846779770036,
          0.18787791926237893,
          0.6986327751015071,
          -0.7858734747323144,
          0.8456498382216053,
          -0.6635883725464942,
          -1.2351417929634139,
          0.8146540586469663,
          -0.6205025026218609,
          -0.7133278026151951,
          1.3917389381256131,
          0.021635337049237036,
          0.6400006811374448,
          -0.3325713572001876,
          0.004078352490983123,
          -0.4266099668296702,
          1.2651636919708535,
          1.1225511446351406,
          -0.9081482892306695,
          0.542103761054079,
          -0.6937355198133868,
          0.3293477234360022,
          -1.563402072277211,
          -0.9493432661539069,
          1.9359834972400098,
          0.10934538504869766,
          -1.8262488047477234,
          1.5619273346468168,
          -1.4654657935564543,
          -1.5122514951766852,
          0.5782756437825113,
          0.2791743575456333,
          -0.5462309905287872,
          -0.6957116955164216,
          -1.5872659719310778,
          -0.39314868025006194,
          -1.1010871200049415,
          -0.06833394412756601,
          -0.17544545189857072,
          -0.2591737126286258,
          -0.21030106282353597,
          -0.06915638948763411,
          0.8305217754573968,
          0.24287909558830198,
          -0.904504007355387,
          -0.04089608984752918,
          0.6084749198972826,
          -0.5313281489763707,
          0.4394400209179841,
          -1.5443508641206696,
          -0.019887010016447035,
          -0.971986960468257,
          -0.6976847820195744,
          -0.6036156027322129,
          -0.40947587407572256,
          0.754517492312806,
          -0.42330851925586005,
          -0.2545668633668377,
          1.764871477912864,
          -0.07127859764789808,
          -0.42928306329171556,
          0.30545530672413473,
          -0.015280046834923223,
          1.164260906077144,
          0.48837236287797225,
          -1.2631731938889572,
          0.5338188895360726,
          1.4849394806760563,
          -0.43905860011321335,
          -0.1603182103708747,
          0.5513989953591896,
          0.1647489859566107,
          -0.19975523906922127,
          1.0383547246648683,
          0.02036897643463616,
          -1.2666864343441102,
          1.3853439259794993,
          -1.1568211198789184,
          -1.0591336404756195,
          -1.4829009659380807,
          -0.6575349885122139,
          0.6710201314163354,
          0.4113732272144532,
          -1.6911394161248332,
          0.08957247648877317,
          1.8305547256931156,
          -1.3675750052379576,
          -0.5101905909175083,
          0.06598666574641024,
          -0.9824571184877936,
          -0.34510898227098513,
          -0.2416695907298087,
          1.3358362566385846,
          0.6967897049923447
         ],
         "xaxis": "x8",
         "y": [
          0.13394584907567797,
          0.3879153265974429,
          -1.081481377423818,
          -0.24257147490927927,
          0.6454428756967521,
          0.9401443587964466,
          2.5443723124109896,
          -0.5918877531367807,
          0.5890569357834406,
          -0.814947995877355,
          -0.7305825948722581,
          1.1337331488996365,
          1.0504696105263363,
          0.5763859371801988,
          -0.697838112457501,
          -0.08208933003275574,
          -0.46178166108633467,
          -2.145738916473379,
          -0.830745986190214,
          0.6893633943869126,
          0.35902097452331505,
          0.09774310681059924,
          0.20815141104425233,
          0.33651036189190514,
          -0.3140974849551735,
          0.5118944152086332,
          -0.06948373723134914,
          0.4919985394877427,
          -0.46065848159580786,
          0.5384267925771766,
          0.02341032519984315,
          -0.28589435223142334,
          -0.23197753674200575,
          0.2108812073893951,
          0.7067447312268775,
          -0.061418659983730424,
          -0.8990785008586909,
          -0.5131739184457484,
          -0.3848750071650614,
          -0.6922519866549306,
          2.0218685506277967,
          0.9264143884674638,
          -0.2072472701213451,
          0.3272140258435058,
          -0.07644410431037132,
          -2.1530053141107635,
          0.1435065461309672,
          -0.4548392800761151,
          1.0218995489701463,
          1.8399929587701267,
          0.9582161447828299,
          -0.02525140285503517,
          0.6065418459764039,
          1.176592280057126,
          0.6966793603330663,
          -0.3225944077629017,
          0.05842342423158832,
          0.09438393670777477,
          0.9513555676012616,
          0.40260905248701456,
          -0.08406317167444576,
          1.2784482188078998,
          -1.2879427148628142,
          0.6175517189180135,
          -0.2224695502715256,
          0.33720074125190036,
          -0.15281272521416195,
          0.5201156847996458,
          1.177590444167989,
          -0.2689748870647838,
          1.265220873174324,
          2.9365354260876,
          1.4441809862857622,
          -2.1877702795672693,
          0.20837178474318227,
          0.39724384258536805,
          -0.3904530076814792,
          -0.9636530207146263,
          0.11001896281701239,
          0.18322824150561065,
          1.4605365576244245,
          0.2771608180778642,
          1.2537600257324881,
          0.7899949950161395,
          0.7554751869176336,
          0.43556657629043993,
          -0.9768266678432241,
          -1.3895601738886645,
          0.42494164448829674,
          -0.7087903247234564,
          0.6702014124044041,
          1.2838557969419582,
          -1.1343866915065046,
          -1.1627274402838177,
          -0.08897126049235626,
          -0.22655298182377334,
          -0.5204868023437481,
          0.7846852182745306,
          1.4067845224163147,
          0.4181597212708602
         ],
         "yaxis": "y8"
        },
        {
         "line": {
          "color": "rgba(128, 128, 128, 1.0)",
          "dash": "solid",
          "shape": "linear",
          "width": 1.3
         },
         "marker": {
          "size": 2,
          "symbol": "circle"
         },
         "mode": "markers",
         "name": "C",
         "text": "",
         "type": "scatter",
         "x": [
          0.7079539021387217,
          -0.3783360900626558,
          0.8853180692065072,
          -0.9504446640592793,
          0.7226901789495682,
          0.9224382830904682,
          -1.106872373910298,
          -0.015512022601375831,
          -0.353185219997632,
          -1.6252717315486631,
          0.4379603431868372,
          -0.11202513204380407,
          -0.7774845199649303,
          -0.26404541257831904,
          1.7102975633384212,
          -0.618713812499301,
          0.12136353643424155,
          0.6458853926055258,
          0.3638258900788119,
          -0.7880221412791935,
          -0.061057152377792016,
          -1.4778008859699494,
          1.1870405477533919,
          -0.6048071947816758,
          0.07659232155588042,
          -0.15398130019507927,
          -0.36958333297065243,
          -0.9429809974689437,
          1.2305906665884294,
          -0.7959745429934965,
          -0.663281905003923,
          1.128362854729977,
          0.06415331933472061,
          -0.414839892068916,
          -1.3831532645195648,
          0.21399615389790222,
          0.43851694110182127,
          -0.4114009446497051,
          -0.3590980120744632,
          0.31201045815652223,
          -0.6634245849642328,
          0.7605528409235844,
          1.6068366897250939,
          0.273627723502373,
          -2.415782175331679,
          0.27033613277072394,
          -0.9372303352805079,
          -0.21038126785679548,
          -0.38618843428375854,
          1.487158644526282,
          1.2554315225588815,
          -0.618467760407867,
          -0.2987896850122946,
          1.666550161990266,
          -1.7014225673818364,
          -1.7418267036671515,
          -1.3832861553605915,
          0.5974236309246336,
          -0.44748732187681123,
          -0.2414535273223089,
          -0.3922456354520554,
          0.6240503922946212,
          -1.1446643412933704,
          3.0615893659439553,
          0.3213619292459653,
          -0.5180451015628634,
          -0.6663773615483357,
          -0.19494309232888837,
          0.4276932112345201,
          0.022091112323968924,
          -0.14442648374683745,
          0.7374385052891811,
          -0.6767684582551838,
          -0.14567377114486724,
          0.8037493806021632,
          -0.3001960688208521,
          2.0798140337654707,
          -0.2998140918327669,
          0.9325838464870018,
          1.80447023263451,
          0.058338735256817424,
          -0.18149754453367886,
          -0.6734820397467258,
          0.02879337648116921,
          -1.046693259350123,
          0.7348611862262173,
          -0.3096788977047204,
          0.9466045425894998,
          -0.5505270504726302,
          0.04573512621679498,
          2.3164513548805004,
          0.83936668723141,
          1.1409441716454916,
          -2.4982650892817837,
          0.7211867800358712,
          -0.6991293006245523,
          0.5251033671763228,
          1.391545946085124,
          -0.5865873066567011,
          1.3714225184623456
         ],
         "xaxis": "x9",
         "y": [
          0.9544388332900968,
          -0.424283667999744,
          0.5344067996801082,
          0.4446976921913389,
          -2.0946753922597856,
          -2.6352303152411816,
          1.3553640815461017,
          -1.0086332911432925,
          0.3463043135866738,
          -1.5833974639534012,
          0.4290614466117463,
          1.954956323343894,
          0.7439774351633861,
          -2.7493119789735196,
          0.5099082557954903,
          0.3547596111803849,
          0.14313147123969847,
          -0.8087711632296254,
          0.08345326443533112,
          -0.3834734014912079,
          0.24594049130118634,
          0.2786280104684821,
          -1.7416143682290075,
          -0.2659267981073192,
          0.31770129963053756,
          1.6617575869201693,
          -0.4723055945097514,
          1.436103280920271,
          0.009914970298162448,
          0.39931996580080253,
          -0.45801422505694706,
          -0.15383284274757975,
          -0.43836465261431073,
          -0.8923335138912839,
          0.4018328497961101,
          0.12140093434727962,
          0.4514107932426172,
          -1.0867016374406038,
          0.17142193912628317,
          -0.4335119287318956,
          2.100403794271881,
          0.6239533610141301,
          0.7055190045529518,
          1.8036629815220069,
          -1.1547301499507638,
          0.1900311783664892,
          0.22092014925160713,
          1.3989593028132228,
          1.0504968729911623,
          -0.513364292705173,
          1.0255562771608107,
          0.2624572033889872,
          0.4566232823726221,
          -0.19079000115757536,
          1.8462813298577203,
          1.251607726468402,
          0.2980606315525532,
          -1.4544411450701082,
          0.663567397191952,
          0.19123793238329748,
          -0.5815918107889682,
          -1.0939691931508027,
          -1.0624470467612068,
          -0.46109933286267474,
          0.38979593028191295,
          -1.597140237894351,
          0.9605071497671269,
          -0.8494466830561063,
          0.5230153647595339,
          1.1508085324800563,
          0.903364008149754,
          0.4480843627438729,
          0.6632758543571257,
          0.023803658875025047,
          0.02319874950136764,
          -1.125526139617164,
          0.12419022634453221,
          0.23730776159929173,
          1.5489899689154762,
          0.03130958451229701,
          -1.2965618584179228,
          0.9819753675192283,
          -0.7964035536391842,
          -0.8581021076919145,
          1.1749231007199057,
          -0.3669008152070355,
          -1.2907881145028595,
          -1.790325529056441,
          0.865208915053357,
          -0.7865752952458198,
          -1.1598886176496148,
          0.46819249833938253,
          0.058867885744585874,
          -0.5303826334876658,
          -0.31976631347573486,
          -1.0645352803801837,
          1.3835637290031737,
          1.2455672502492108,
          -0.08667009671414692,
          0.48831235634911707
         ],
         "yaxis": "y9"
        },
        {
         "line": {
          "color": "rgba(128, 128, 128, 1.0)",
          "dash": "solid",
          "shape": "linear",
          "width": 1.3
         },
         "marker": {
          "size": 2,
          "symbol": "circle"
         },
         "mode": "markers",
         "name": "C",
         "text": "",
         "type": "scatter",
         "x": [
          0.13394584907567797,
          0.3879153265974429,
          -1.081481377423818,
          -0.24257147490927927,
          0.6454428756967521,
          0.9401443587964466,
          2.5443723124109896,
          -0.5918877531367807,
          0.5890569357834406,
          -0.814947995877355,
          -0.7305825948722581,
          1.1337331488996365,
          1.0504696105263363,
          0.5763859371801988,
          -0.697838112457501,
          -0.08208933003275574,
          -0.46178166108633467,
          -2.145738916473379,
          -0.830745986190214,
          0.6893633943869126,
          0.35902097452331505,
          0.09774310681059924,
          0.20815141104425233,
          0.33651036189190514,
          -0.3140974849551735,
          0.5118944152086332,
          -0.06948373723134914,
          0.4919985394877427,
          -0.46065848159580786,
          0.5384267925771766,
          0.02341032519984315,
          -0.28589435223142334,
          -0.23197753674200575,
          0.2108812073893951,
          0.7067447312268775,
          -0.061418659983730424,
          -0.8990785008586909,
          -0.5131739184457484,
          -0.3848750071650614,
          -0.6922519866549306,
          2.0218685506277967,
          0.9264143884674638,
          -0.2072472701213451,
          0.3272140258435058,
          -0.07644410431037132,
          -2.1530053141107635,
          0.1435065461309672,
          -0.4548392800761151,
          1.0218995489701463,
          1.8399929587701267,
          0.9582161447828299,
          -0.02525140285503517,
          0.6065418459764039,
          1.176592280057126,
          0.6966793603330663,
          -0.3225944077629017,
          0.05842342423158832,
          0.09438393670777477,
          0.9513555676012616,
          0.40260905248701456,
          -0.08406317167444576,
          1.2784482188078998,
          -1.2879427148628142,
          0.6175517189180135,
          -0.2224695502715256,
          0.33720074125190036,
          -0.15281272521416195,
          0.5201156847996458,
          1.177590444167989,
          -0.2689748870647838,
          1.265220873174324,
          2.9365354260876,
          1.4441809862857622,
          -2.1877702795672693,
          0.20837178474318227,
          0.39724384258536805,
          -0.3904530076814792,
          -0.9636530207146263,
          0.11001896281701239,
          0.18322824150561065,
          1.4605365576244245,
          0.2771608180778642,
          1.2537600257324881,
          0.7899949950161395,
          0.7554751869176336,
          0.43556657629043993,
          -0.9768266678432241,
          -1.3895601738886645,
          0.42494164448829674,
          -0.7087903247234564,
          0.6702014124044041,
          1.2838557969419582,
          -1.1343866915065046,
          -1.1627274402838177,
          -0.08897126049235626,
          -0.22655298182377334,
          -0.5204868023437481,
          0.7846852182745306,
          1.4067845224163147,
          0.4181597212708602
         ],
         "xaxis": "x10",
         "y": [
          0.9544388332900968,
          -0.424283667999744,
          0.5344067996801082,
          0.4446976921913389,
          -2.0946753922597856,
          -2.6352303152411816,
          1.3553640815461017,
          -1.0086332911432925,
          0.3463043135866738,
          -1.5833974639534012,
          0.4290614466117463,
          1.954956323343894,
          0.7439774351633861,
          -2.7493119789735196,
          0.5099082557954903,
          0.3547596111803849,
          0.14313147123969847,
          -0.8087711632296254,
          0.08345326443533112,
          -0.3834734014912079,
          0.24594049130118634,
          0.2786280104684821,
          -1.7416143682290075,
          -0.2659267981073192,
          0.31770129963053756,
          1.6617575869201693,
          -0.4723055945097514,
          1.436103280920271,
          0.009914970298162448,
          0.39931996580080253,
          -0.45801422505694706,
          -0.15383284274757975,
          -0.43836465261431073,
          -0.8923335138912839,
          0.4018328497961101,
          0.12140093434727962,
          0.4514107932426172,
          -1.0867016374406038,
          0.17142193912628317,
          -0.4335119287318956,
          2.100403794271881,
          0.6239533610141301,
          0.7055190045529518,
          1.8036629815220069,
          -1.1547301499507638,
          0.1900311783664892,
          0.22092014925160713,
          1.3989593028132228,
          1.0504968729911623,
          -0.513364292705173,
          1.0255562771608107,
          0.2624572033889872,
          0.4566232823726221,
          -0.19079000115757536,
          1.8462813298577203,
          1.251607726468402,
          0.2980606315525532,
          -1.4544411450701082,
          0.663567397191952,
          0.19123793238329748,
          -0.5815918107889682,
          -1.0939691931508027,
          -1.0624470467612068,
          -0.46109933286267474,
          0.38979593028191295,
          -1.597140237894351,
          0.9605071497671269,
          -0.8494466830561063,
          0.5230153647595339,
          1.1508085324800563,
          0.903364008149754,
          0.4480843627438729,
          0.6632758543571257,
          0.023803658875025047,
          0.02319874950136764,
          -1.125526139617164,
          0.12419022634453221,
          0.23730776159929173,
          1.5489899689154762,
          0.03130958451229701,
          -1.2965618584179228,
          0.9819753675192283,
          -0.7964035536391842,
          -0.8581021076919145,
          1.1749231007199057,
          -0.3669008152070355,
          -1.2907881145028595,
          -1.790325529056441,
          0.865208915053357,
          -0.7865752952458198,
          -1.1598886176496148,
          0.46819249833938253,
          0.058867885744585874,
          -0.5303826334876658,
          -0.31976631347573486,
          -1.0645352803801837,
          1.3835637290031737,
          1.2455672502492108,
          -0.08667009671414692,
          0.48831235634911707
         ],
         "yaxis": "y10"
        },
        {
         "histfunc": "count",
         "histnorm": "",
         "marker": {
          "color": "rgba(50, 171, 96, 1.0)",
          "line": {
           "color": "#4D5663",
           "width": 1.3
          }
         },
         "name": "C",
         "nbinsx": 10,
         "opacity": 0.8,
         "orientation": "v",
         "type": "histogram",
         "x": [
          0.9544388332900968,
          -0.424283667999744,
          0.5344067996801082,
          0.4446976921913389,
          -2.0946753922597856,
          -2.6352303152411816,
          1.3553640815461017,
          -1.0086332911432925,
          0.3463043135866738,
          -1.5833974639534012,
          0.4290614466117463,
          1.954956323343894,
          0.7439774351633861,
          -2.7493119789735196,
          0.5099082557954903,
          0.3547596111803849,
          0.14313147123969847,
          -0.8087711632296254,
          0.08345326443533112,
          -0.3834734014912079,
          0.24594049130118634,
          0.2786280104684821,
          -1.7416143682290075,
          -0.2659267981073192,
          0.31770129963053756,
          1.6617575869201693,
          -0.4723055945097514,
          1.436103280920271,
          0.009914970298162448,
          0.39931996580080253,
          -0.45801422505694706,
          -0.15383284274757975,
          -0.43836465261431073,
          -0.8923335138912839,
          0.4018328497961101,
          0.12140093434727962,
          0.4514107932426172,
          -1.0867016374406038,
          0.17142193912628317,
          -0.4335119287318956,
          2.100403794271881,
          0.6239533610141301,
          0.7055190045529518,
          1.8036629815220069,
          -1.1547301499507638,
          0.1900311783664892,
          0.22092014925160713,
          1.3989593028132228,
          1.0504968729911623,
          -0.513364292705173,
          1.0255562771608107,
          0.2624572033889872,
          0.4566232823726221,
          -0.19079000115757536,
          1.8462813298577203,
          1.251607726468402,
          0.2980606315525532,
          -1.4544411450701082,
          0.663567397191952,
          0.19123793238329748,
          -0.5815918107889682,
          -1.0939691931508027,
          -1.0624470467612068,
          -0.46109933286267474,
          0.38979593028191295,
          -1.597140237894351,
          0.9605071497671269,
          -0.8494466830561063,
          0.5230153647595339,
          1.1508085324800563,
          0.903364008149754,
          0.4480843627438729,
          0.6632758543571257,
          0.023803658875025047,
          0.02319874950136764,
          -1.125526139617164,
          0.12419022634453221,
          0.23730776159929173,
          1.5489899689154762,
          0.03130958451229701,
          -1.2965618584179228,
          0.9819753675192283,
          -0.7964035536391842,
          -0.8581021076919145,
          1.1749231007199057,
          -0.3669008152070355,
          -1.2907881145028595,
          -1.790325529056441,
          0.865208915053357,
          -0.7865752952458198,
          -1.1598886176496148,
          0.46819249833938253,
          0.058867885744585874,
          -0.5303826334876658,
          -0.31976631347573486,
          -1.0645352803801837,
          1.3835637290031737,
          1.2455672502492108,
          -0.08667009671414692,
          0.48831235634911707
         ],
         "xaxis": "x11",
         "yaxis": "y11"
        },
        {
         "line": {
          "color": "rgba(128, 128, 128, 1.0)",
          "dash": "solid",
          "shape": "linear",
          "width": 1.3
         },
         "marker": {
          "size": 2,
          "symbol": "circle"
         },
         "mode": "markers",
         "name": "C",
         "text": "",
         "type": "scatter",
         "x": [
          0.0028966318541667375,
          -0.37256044786306486,
          0.5465001925835189,
          -0.7356023347243454,
          0.680449633921941,
          0.9349389467150292,
          -0.674846779770036,
          0.18787791926237893,
          0.6986327751015071,
          -0.7858734747323144,
          0.8456498382216053,
          -0.6635883725464942,
          -1.2351417929634139,
          0.8146540586469663,
          -0.6205025026218609,
          -0.7133278026151951,
          1.3917389381256131,
          0.021635337049237036,
          0.6400006811374448,
          -0.3325713572001876,
          0.004078352490983123,
          -0.4266099668296702,
          1.2651636919708535,
          1.1225511446351406,
          -0.9081482892306695,
          0.542103761054079,
          -0.6937355198133868,
          0.3293477234360022,
          -1.563402072277211,
          -0.9493432661539069,
          1.9359834972400098,
          0.10934538504869766,
          -1.8262488047477234,
          1.5619273346468168,
          -1.4654657935564543,
          -1.5122514951766852,
          0.5782756437825113,
          0.2791743575456333,
          -0.5462309905287872,
          -0.6957116955164216,
          -1.5872659719310778,
          -0.39314868025006194,
          -1.1010871200049415,
          -0.06833394412756601,
          -0.17544545189857072,
          -0.2591737126286258,
          -0.21030106282353597,
          -0.06915638948763411,
          0.8305217754573968,
          0.24287909558830198,
          -0.904504007355387,
          -0.04089608984752918,
          0.6084749198972826,
          -0.5313281489763707,
          0.4394400209179841,
          -1.5443508641206696,
          -0.019887010016447035,
          -0.971986960468257,
          -0.6976847820195744,
          -0.6036156027322129,
          -0.40947587407572256,
          0.754517492312806,
          -0.42330851925586005,
          -0.2545668633668377,
          1.764871477912864,
          -0.07127859764789808,
          -0.42928306329171556,
          0.30545530672413473,
          -0.015280046834923223,
          1.164260906077144,
          0.48837236287797225,
          -1.2631731938889572,
          0.5338188895360726,
          1.4849394806760563,
          -0.43905860011321335,
          -0.1603182103708747,
          0.5513989953591896,
          0.1647489859566107,
          -0.19975523906922127,
          1.0383547246648683,
          0.02036897643463616,
          -1.2666864343441102,
          1.3853439259794993,
          -1.1568211198789184,
          -1.0591336404756195,
          -1.4829009659380807,
          -0.6575349885122139,
          0.6710201314163354,
          0.4113732272144532,
          -1.6911394161248332,
          0.08957247648877317,
          1.8305547256931156,
          -1.3675750052379576,
          -0.5101905909175083,
          0.06598666574641024,
          -0.9824571184877936,
          -0.34510898227098513,
          -0.2416695907298087,
          1.3358362566385846,
          0.6967897049923447
         ],
         "xaxis": "x12",
         "y": [
          0.9544388332900968,
          -0.424283667999744,
          0.5344067996801082,
          0.4446976921913389,
          -2.0946753922597856,
          -2.6352303152411816,
          1.3553640815461017,
          -1.0086332911432925,
          0.3463043135866738,
          -1.5833974639534012,
          0.4290614466117463,
          1.954956323343894,
          0.7439774351633861,
          -2.7493119789735196,
          0.5099082557954903,
          0.3547596111803849,
          0.14313147123969847,
          -0.8087711632296254,
          0.08345326443533112,
          -0.3834734014912079,
          0.24594049130118634,
          0.2786280104684821,
          -1.7416143682290075,
          -0.2659267981073192,
          0.31770129963053756,
          1.6617575869201693,
          -0.4723055945097514,
          1.436103280920271,
          0.009914970298162448,
          0.39931996580080253,
          -0.45801422505694706,
          -0.15383284274757975,
          -0.43836465261431073,
          -0.8923335138912839,
          0.4018328497961101,
          0.12140093434727962,
          0.4514107932426172,
          -1.0867016374406038,
          0.17142193912628317,
          -0.4335119287318956,
          2.100403794271881,
          0.6239533610141301,
          0.7055190045529518,
          1.8036629815220069,
          -1.1547301499507638,
          0.1900311783664892,
          0.22092014925160713,
          1.3989593028132228,
          1.0504968729911623,
          -0.513364292705173,
          1.0255562771608107,
          0.2624572033889872,
          0.4566232823726221,
          -0.19079000115757536,
          1.8462813298577203,
          1.251607726468402,
          0.2980606315525532,
          -1.4544411450701082,
          0.663567397191952,
          0.19123793238329748,
          -0.5815918107889682,
          -1.0939691931508027,
          -1.0624470467612068,
          -0.46109933286267474,
          0.38979593028191295,
          -1.597140237894351,
          0.9605071497671269,
          -0.8494466830561063,
          0.5230153647595339,
          1.1508085324800563,
          0.903364008149754,
          0.4480843627438729,
          0.6632758543571257,
          0.023803658875025047,
          0.02319874950136764,
          -1.125526139617164,
          0.12419022634453221,
          0.23730776159929173,
          1.5489899689154762,
          0.03130958451229701,
          -1.2965618584179228,
          0.9819753675192283,
          -0.7964035536391842,
          -0.8581021076919145,
          1.1749231007199057,
          -0.3669008152070355,
          -1.2907881145028595,
          -1.790325529056441,
          0.865208915053357,
          -0.7865752952458198,
          -1.1598886176496148,
          0.46819249833938253,
          0.058867885744585874,
          -0.5303826334876658,
          -0.31976631347573486,
          -1.0645352803801837,
          1.3835637290031737,
          1.2455672502492108,
          -0.08667009671414692,
          0.48831235634911707
         ],
         "yaxis": "y12"
        },
        {
         "line": {
          "color": "rgba(128, 128, 128, 1.0)",
          "dash": "solid",
          "shape": "linear",
          "width": 1.3
         },
         "marker": {
          "size": 2,
          "symbol": "circle"
         },
         "mode": "markers",
         "name": "D",
         "text": "",
         "type": "scatter",
         "x": [
          0.7079539021387217,
          -0.3783360900626558,
          0.8853180692065072,
          -0.9504446640592793,
          0.7226901789495682,
          0.9224382830904682,
          -1.106872373910298,
          -0.015512022601375831,
          -0.353185219997632,
          -1.6252717315486631,
          0.4379603431868372,
          -0.11202513204380407,
          -0.7774845199649303,
          -0.26404541257831904,
          1.7102975633384212,
          -0.618713812499301,
          0.12136353643424155,
          0.6458853926055258,
          0.3638258900788119,
          -0.7880221412791935,
          -0.061057152377792016,
          -1.4778008859699494,
          1.1870405477533919,
          -0.6048071947816758,
          0.07659232155588042,
          -0.15398130019507927,
          -0.36958333297065243,
          -0.9429809974689437,
          1.2305906665884294,
          -0.7959745429934965,
          -0.663281905003923,
          1.128362854729977,
          0.06415331933472061,
          -0.414839892068916,
          -1.3831532645195648,
          0.21399615389790222,
          0.43851694110182127,
          -0.4114009446497051,
          -0.3590980120744632,
          0.31201045815652223,
          -0.6634245849642328,
          0.7605528409235844,
          1.6068366897250939,
          0.273627723502373,
          -2.415782175331679,
          0.27033613277072394,
          -0.9372303352805079,
          -0.21038126785679548,
          -0.38618843428375854,
          1.487158644526282,
          1.2554315225588815,
          -0.618467760407867,
          -0.2987896850122946,
          1.666550161990266,
          -1.7014225673818364,
          -1.7418267036671515,
          -1.3832861553605915,
          0.5974236309246336,
          -0.44748732187681123,
          -0.2414535273223089,
          -0.3922456354520554,
          0.6240503922946212,
          -1.1446643412933704,
          3.0615893659439553,
          0.3213619292459653,
          -0.5180451015628634,
          -0.6663773615483357,
          -0.19494309232888837,
          0.4276932112345201,
          0.022091112323968924,
          -0.14442648374683745,
          0.7374385052891811,
          -0.6767684582551838,
          -0.14567377114486724,
          0.8037493806021632,
          -0.3001960688208521,
          2.0798140337654707,
          -0.2998140918327669,
          0.9325838464870018,
          1.80447023263451,
          0.058338735256817424,
          -0.18149754453367886,
          -0.6734820397467258,
          0.02879337648116921,
          -1.046693259350123,
          0.7348611862262173,
          -0.3096788977047204,
          0.9466045425894998,
          -0.5505270504726302,
          0.04573512621679498,
          2.3164513548805004,
          0.83936668723141,
          1.1409441716454916,
          -2.4982650892817837,
          0.7211867800358712,
          -0.6991293006245523,
          0.5251033671763228,
          1.391545946085124,
          -0.5865873066567011,
          1.3714225184623456
         ],
         "xaxis": "x13",
         "y": [
          0.0028966318541667375,
          -0.37256044786306486,
          0.5465001925835189,
          -0.7356023347243454,
          0.680449633921941,
          0.9349389467150292,
          -0.674846779770036,
          0.18787791926237893,
          0.6986327751015071,
          -0.7858734747323144,
          0.8456498382216053,
          -0.6635883725464942,
          -1.2351417929634139,
          0.8146540586469663,
          -0.6205025026218609,
          -0.7133278026151951,
          1.3917389381256131,
          0.021635337049237036,
          0.6400006811374448,
          -0.3325713572001876,
          0.004078352490983123,
          -0.4266099668296702,
          1.2651636919708535,
          1.1225511446351406,
          -0.9081482892306695,
          0.542103761054079,
          -0.6937355198133868,
          0.3293477234360022,
          -1.563402072277211,
          -0.9493432661539069,
          1.9359834972400098,
          0.10934538504869766,
          -1.8262488047477234,
          1.5619273346468168,
          -1.4654657935564543,
          -1.5122514951766852,
          0.5782756437825113,
          0.2791743575456333,
          -0.5462309905287872,
          -0.6957116955164216,
          -1.5872659719310778,
          -0.39314868025006194,
          -1.1010871200049415,
          -0.06833394412756601,
          -0.17544545189857072,
          -0.2591737126286258,
          -0.21030106282353597,
          -0.06915638948763411,
          0.8305217754573968,
          0.24287909558830198,
          -0.904504007355387,
          -0.04089608984752918,
          0.6084749198972826,
          -0.5313281489763707,
          0.4394400209179841,
          -1.5443508641206696,
          -0.019887010016447035,
          -0.971986960468257,
          -0.6976847820195744,
          -0.6036156027322129,
          -0.40947587407572256,
          0.754517492312806,
          -0.42330851925586005,
          -0.2545668633668377,
          1.764871477912864,
          -0.07127859764789808,
          -0.42928306329171556,
          0.30545530672413473,
          -0.015280046834923223,
          1.164260906077144,
          0.48837236287797225,
          -1.2631731938889572,
          0.5338188895360726,
          1.4849394806760563,
          -0.43905860011321335,
          -0.1603182103708747,
          0.5513989953591896,
          0.1647489859566107,
          -0.19975523906922127,
          1.0383547246648683,
          0.02036897643463616,
          -1.2666864343441102,
          1.3853439259794993,
          -1.1568211198789184,
          -1.0591336404756195,
          -1.4829009659380807,
          -0.6575349885122139,
          0.6710201314163354,
          0.4113732272144532,
          -1.6911394161248332,
          0.08957247648877317,
          1.8305547256931156,
          -1.3675750052379576,
          -0.5101905909175083,
          0.06598666574641024,
          -0.9824571184877936,
          -0.34510898227098513,
          -0.2416695907298087,
          1.3358362566385846,
          0.6967897049923447
         ],
         "yaxis": "y13"
        },
        {
         "line": {
          "color": "rgba(128, 128, 128, 1.0)",
          "dash": "solid",
          "shape": "linear",
          "width": 1.3
         },
         "marker": {
          "size": 2,
          "symbol": "circle"
         },
         "mode": "markers",
         "name": "D",
         "text": "",
         "type": "scatter",
         "x": [
          0.13394584907567797,
          0.3879153265974429,
          -1.081481377423818,
          -0.24257147490927927,
          0.6454428756967521,
          0.9401443587964466,
          2.5443723124109896,
          -0.5918877531367807,
          0.5890569357834406,
          -0.814947995877355,
          -0.7305825948722581,
          1.1337331488996365,
          1.0504696105263363,
          0.5763859371801988,
          -0.697838112457501,
          -0.08208933003275574,
          -0.46178166108633467,
          -2.145738916473379,
          -0.830745986190214,
          0.6893633943869126,
          0.35902097452331505,
          0.09774310681059924,
          0.20815141104425233,
          0.33651036189190514,
          -0.3140974849551735,
          0.5118944152086332,
          -0.06948373723134914,
          0.4919985394877427,
          -0.46065848159580786,
          0.5384267925771766,
          0.02341032519984315,
          -0.28589435223142334,
          -0.23197753674200575,
          0.2108812073893951,
          0.7067447312268775,
          -0.061418659983730424,
          -0.8990785008586909,
          -0.5131739184457484,
          -0.3848750071650614,
          -0.6922519866549306,
          2.0218685506277967,
          0.9264143884674638,
          -0.2072472701213451,
          0.3272140258435058,
          -0.07644410431037132,
          -2.1530053141107635,
          0.1435065461309672,
          -0.4548392800761151,
          1.0218995489701463,
          1.8399929587701267,
          0.9582161447828299,
          -0.02525140285503517,
          0.6065418459764039,
          1.176592280057126,
          0.6966793603330663,
          -0.3225944077629017,
          0.05842342423158832,
          0.09438393670777477,
          0.9513555676012616,
          0.40260905248701456,
          -0.08406317167444576,
          1.2784482188078998,
          -1.2879427148628142,
          0.6175517189180135,
          -0.2224695502715256,
          0.33720074125190036,
          -0.15281272521416195,
          0.5201156847996458,
          1.177590444167989,
          -0.2689748870647838,
          1.265220873174324,
          2.9365354260876,
          1.4441809862857622,
          -2.1877702795672693,
          0.20837178474318227,
          0.39724384258536805,
          -0.3904530076814792,
          -0.9636530207146263,
          0.11001896281701239,
          0.18322824150561065,
          1.4605365576244245,
          0.2771608180778642,
          1.2537600257324881,
          0.7899949950161395,
          0.7554751869176336,
          0.43556657629043993,
          -0.9768266678432241,
          -1.3895601738886645,
          0.42494164448829674,
          -0.7087903247234564,
          0.6702014124044041,
          1.2838557969419582,
          -1.1343866915065046,
          -1.1627274402838177,
          -0.08897126049235626,
          -0.22655298182377334,
          -0.5204868023437481,
          0.7846852182745306,
          1.4067845224163147,
          0.4181597212708602
         ],
         "xaxis": "x14",
         "y": [
          0.0028966318541667375,
          -0.37256044786306486,
          0.5465001925835189,
          -0.7356023347243454,
          0.680449633921941,
          0.9349389467150292,
          -0.674846779770036,
          0.18787791926237893,
          0.6986327751015071,
          -0.7858734747323144,
          0.8456498382216053,
          -0.6635883725464942,
          -1.2351417929634139,
          0.8146540586469663,
          -0.6205025026218609,
          -0.7133278026151951,
          1.3917389381256131,
          0.021635337049237036,
          0.6400006811374448,
          -0.3325713572001876,
          0.004078352490983123,
          -0.4266099668296702,
          1.2651636919708535,
          1.1225511446351406,
          -0.9081482892306695,
          0.542103761054079,
          -0.6937355198133868,
          0.3293477234360022,
          -1.563402072277211,
          -0.9493432661539069,
          1.9359834972400098,
          0.10934538504869766,
          -1.8262488047477234,
          1.5619273346468168,
          -1.4654657935564543,
          -1.5122514951766852,
          0.5782756437825113,
          0.2791743575456333,
          -0.5462309905287872,
          -0.6957116955164216,
          -1.5872659719310778,
          -0.39314868025006194,
          -1.1010871200049415,
          -0.06833394412756601,
          -0.17544545189857072,
          -0.2591737126286258,
          -0.21030106282353597,
          -0.06915638948763411,
          0.8305217754573968,
          0.24287909558830198,
          -0.904504007355387,
          -0.04089608984752918,
          0.6084749198972826,
          -0.5313281489763707,
          0.4394400209179841,
          -1.5443508641206696,
          -0.019887010016447035,
          -0.971986960468257,
          -0.6976847820195744,
          -0.6036156027322129,
          -0.40947587407572256,
          0.754517492312806,
          -0.42330851925586005,
          -0.2545668633668377,
          1.764871477912864,
          -0.07127859764789808,
          -0.42928306329171556,
          0.30545530672413473,
          -0.015280046834923223,
          1.164260906077144,
          0.48837236287797225,
          -1.2631731938889572,
          0.5338188895360726,
          1.4849394806760563,
          -0.43905860011321335,
          -0.1603182103708747,
          0.5513989953591896,
          0.1647489859566107,
          -0.19975523906922127,
          1.0383547246648683,
          0.02036897643463616,
          -1.2666864343441102,
          1.3853439259794993,
          -1.1568211198789184,
          -1.0591336404756195,
          -1.4829009659380807,
          -0.6575349885122139,
          0.6710201314163354,
          0.4113732272144532,
          -1.6911394161248332,
          0.08957247648877317,
          1.8305547256931156,
          -1.3675750052379576,
          -0.5101905909175083,
          0.06598666574641024,
          -0.9824571184877936,
          -0.34510898227098513,
          -0.2416695907298087,
          1.3358362566385846,
          0.6967897049923447
         ],
         "yaxis": "y14"
        },
        {
         "line": {
          "color": "rgba(128, 128, 128, 1.0)",
          "dash": "solid",
          "shape": "linear",
          "width": 1.3
         },
         "marker": {
          "size": 2,
          "symbol": "circle"
         },
         "mode": "markers",
         "name": "D",
         "text": "",
         "type": "scatter",
         "x": [
          0.9544388332900968,
          -0.424283667999744,
          0.5344067996801082,
          0.4446976921913389,
          -2.0946753922597856,
          -2.6352303152411816,
          1.3553640815461017,
          -1.0086332911432925,
          0.3463043135866738,
          -1.5833974639534012,
          0.4290614466117463,
          1.954956323343894,
          0.7439774351633861,
          -2.7493119789735196,
          0.5099082557954903,
          0.3547596111803849,
          0.14313147123969847,
          -0.8087711632296254,
          0.08345326443533112,
          -0.3834734014912079,
          0.24594049130118634,
          0.2786280104684821,
          -1.7416143682290075,
          -0.2659267981073192,
          0.31770129963053756,
          1.6617575869201693,
          -0.4723055945097514,
          1.436103280920271,
          0.009914970298162448,
          0.39931996580080253,
          -0.45801422505694706,
          -0.15383284274757975,
          -0.43836465261431073,
          -0.8923335138912839,
          0.4018328497961101,
          0.12140093434727962,
          0.4514107932426172,
          -1.0867016374406038,
          0.17142193912628317,
          -0.4335119287318956,
          2.100403794271881,
          0.6239533610141301,
          0.7055190045529518,
          1.8036629815220069,
          -1.1547301499507638,
          0.1900311783664892,
          0.22092014925160713,
          1.3989593028132228,
          1.0504968729911623,
          -0.513364292705173,
          1.0255562771608107,
          0.2624572033889872,
          0.4566232823726221,
          -0.19079000115757536,
          1.8462813298577203,
          1.251607726468402,
          0.2980606315525532,
          -1.4544411450701082,
          0.663567397191952,
          0.19123793238329748,
          -0.5815918107889682,
          -1.0939691931508027,
          -1.0624470467612068,
          -0.46109933286267474,
          0.38979593028191295,
          -1.597140237894351,
          0.9605071497671269,
          -0.8494466830561063,
          0.5230153647595339,
          1.1508085324800563,
          0.903364008149754,
          0.4480843627438729,
          0.6632758543571257,
          0.023803658875025047,
          0.02319874950136764,
          -1.125526139617164,
          0.12419022634453221,
          0.23730776159929173,
          1.5489899689154762,
          0.03130958451229701,
          -1.2965618584179228,
          0.9819753675192283,
          -0.7964035536391842,
          -0.8581021076919145,
          1.1749231007199057,
          -0.3669008152070355,
          -1.2907881145028595,
          -1.790325529056441,
          0.865208915053357,
          -0.7865752952458198,
          -1.1598886176496148,
          0.46819249833938253,
          0.058867885744585874,
          -0.5303826334876658,
          -0.31976631347573486,
          -1.0645352803801837,
          1.3835637290031737,
          1.2455672502492108,
          -0.08667009671414692,
          0.48831235634911707
         ],
         "xaxis": "x15",
         "y": [
          0.0028966318541667375,
          -0.37256044786306486,
          0.5465001925835189,
          -0.7356023347243454,
          0.680449633921941,
          0.9349389467150292,
          -0.674846779770036,
          0.18787791926237893,
          0.6986327751015071,
          -0.7858734747323144,
          0.8456498382216053,
          -0.6635883725464942,
          -1.2351417929634139,
          0.8146540586469663,
          -0.6205025026218609,
          -0.7133278026151951,
          1.3917389381256131,
          0.021635337049237036,
          0.6400006811374448,
          -0.3325713572001876,
          0.004078352490983123,
          -0.4266099668296702,
          1.2651636919708535,
          1.1225511446351406,
          -0.9081482892306695,
          0.542103761054079,
          -0.6937355198133868,
          0.3293477234360022,
          -1.563402072277211,
          -0.9493432661539069,
          1.9359834972400098,
          0.10934538504869766,
          -1.8262488047477234,
          1.5619273346468168,
          -1.4654657935564543,
          -1.5122514951766852,
          0.5782756437825113,
          0.2791743575456333,
          -0.5462309905287872,
          -0.6957116955164216,
          -1.5872659719310778,
          -0.39314868025006194,
          -1.1010871200049415,
          -0.06833394412756601,
          -0.17544545189857072,
          -0.2591737126286258,
          -0.21030106282353597,
          -0.06915638948763411,
          0.8305217754573968,
          0.24287909558830198,
          -0.904504007355387,
          -0.04089608984752918,
          0.6084749198972826,
          -0.5313281489763707,
          0.4394400209179841,
          -1.5443508641206696,
          -0.019887010016447035,
          -0.971986960468257,
          -0.6976847820195744,
          -0.6036156027322129,
          -0.40947587407572256,
          0.754517492312806,
          -0.42330851925586005,
          -0.2545668633668377,
          1.764871477912864,
          -0.07127859764789808,
          -0.42928306329171556,
          0.30545530672413473,
          -0.015280046834923223,
          1.164260906077144,
          0.48837236287797225,
          -1.2631731938889572,
          0.5338188895360726,
          1.4849394806760563,
          -0.43905860011321335,
          -0.1603182103708747,
          0.5513989953591896,
          0.1647489859566107,
          -0.19975523906922127,
          1.0383547246648683,
          0.02036897643463616,
          -1.2666864343441102,
          1.3853439259794993,
          -1.1568211198789184,
          -1.0591336404756195,
          -1.4829009659380807,
          -0.6575349885122139,
          0.6710201314163354,
          0.4113732272144532,
          -1.6911394161248332,
          0.08957247648877317,
          1.8305547256931156,
          -1.3675750052379576,
          -0.5101905909175083,
          0.06598666574641024,
          -0.9824571184877936,
          -0.34510898227098513,
          -0.2416695907298087,
          1.3358362566385846,
          0.6967897049923447
         ],
         "yaxis": "y15"
        },
        {
         "histfunc": "count",
         "histnorm": "",
         "marker": {
          "color": "rgba(128, 0, 128, 1.0)",
          "line": {
           "color": "#4D5663",
           "width": 1.3
          }
         },
         "name": "D",
         "nbinsx": 10,
         "opacity": 0.8,
         "orientation": "v",
         "type": "histogram",
         "x": [
          0.0028966318541667375,
          -0.37256044786306486,
          0.5465001925835189,
          -0.7356023347243454,
          0.680449633921941,
          0.9349389467150292,
          -0.674846779770036,
          0.18787791926237893,
          0.6986327751015071,
          -0.7858734747323144,
          0.8456498382216053,
          -0.6635883725464942,
          -1.2351417929634139,
          0.8146540586469663,
          -0.6205025026218609,
          -0.7133278026151951,
          1.3917389381256131,
          0.021635337049237036,
          0.6400006811374448,
          -0.3325713572001876,
          0.004078352490983123,
          -0.4266099668296702,
          1.2651636919708535,
          1.1225511446351406,
          -0.9081482892306695,
          0.542103761054079,
          -0.6937355198133868,
          0.3293477234360022,
          -1.563402072277211,
          -0.9493432661539069,
          1.9359834972400098,
          0.10934538504869766,
          -1.8262488047477234,
          1.5619273346468168,
          -1.4654657935564543,
          -1.5122514951766852,
          0.5782756437825113,
          0.2791743575456333,
          -0.5462309905287872,
          -0.6957116955164216,
          -1.5872659719310778,
          -0.39314868025006194,
          -1.1010871200049415,
          -0.06833394412756601,
          -0.17544545189857072,
          -0.2591737126286258,
          -0.21030106282353597,
          -0.06915638948763411,
          0.8305217754573968,
          0.24287909558830198,
          -0.904504007355387,
          -0.04089608984752918,
          0.6084749198972826,
          -0.5313281489763707,
          0.4394400209179841,
          -1.5443508641206696,
          -0.019887010016447035,
          -0.971986960468257,
          -0.6976847820195744,
          -0.6036156027322129,
          -0.40947587407572256,
          0.754517492312806,
          -0.42330851925586005,
          -0.2545668633668377,
          1.764871477912864,
          -0.07127859764789808,
          -0.42928306329171556,
          0.30545530672413473,
          -0.015280046834923223,
          1.164260906077144,
          0.48837236287797225,
          -1.2631731938889572,
          0.5338188895360726,
          1.4849394806760563,
          -0.43905860011321335,
          -0.1603182103708747,
          0.5513989953591896,
          0.1647489859566107,
          -0.19975523906922127,
          1.0383547246648683,
          0.02036897643463616,
          -1.2666864343441102,
          1.3853439259794993,
          -1.1568211198789184,
          -1.0591336404756195,
          -1.4829009659380807,
          -0.6575349885122139,
          0.6710201314163354,
          0.4113732272144532,
          -1.6911394161248332,
          0.08957247648877317,
          1.8305547256931156,
          -1.3675750052379576,
          -0.5101905909175083,
          0.06598666574641024,
          -0.9824571184877936,
          -0.34510898227098513,
          -0.2416695907298087,
          1.3358362566385846,
          0.6967897049923447
         ],
         "xaxis": "x16",
         "yaxis": "y16"
        }
       ],
       "layout": {
        "bargap": 0.02,
        "legend": {
         "bgcolor": "#F5F6F9",
         "font": {
          "color": "#4D5663"
         }
        },
        "paper_bgcolor": "#F5F6F9",
        "plot_bgcolor": "#F5F6F9",
        "showlegend": false,
        "template": {
         "data": {
          "bar": [
           {
            "error_x": {
             "color": "#2a3f5f"
            },
            "error_y": {
             "color": "#2a3f5f"
            },
            "marker": {
             "line": {
              "color": "#E5ECF6",
              "width": 0.5
             },
             "pattern": {
              "fillmode": "overlay",
              "size": 10,
              "solidity": 0.2
             }
            },
            "type": "bar"
           }
          ],
          "barpolar": [
           {
            "marker": {
             "line": {
              "color": "#E5ECF6",
              "width": 0.5
             },
             "pattern": {
              "fillmode": "overlay",
              "size": 10,
              "solidity": 0.2
             }
            },
            "type": "barpolar"
           }
          ],
          "carpet": [
           {
            "aaxis": {
             "endlinecolor": "#2a3f5f",
             "gridcolor": "white",
             "linecolor": "white",
             "minorgridcolor": "white",
             "startlinecolor": "#2a3f5f"
            },
            "baxis": {
             "endlinecolor": "#2a3f5f",
             "gridcolor": "white",
             "linecolor": "white",
             "minorgridcolor": "white",
             "startlinecolor": "#2a3f5f"
            },
            "type": "carpet"
           }
          ],
          "choropleth": [
           {
            "colorbar": {
             "outlinewidth": 0,
             "ticks": ""
            },
            "type": "choropleth"
           }
          ],
          "contour": [
           {
            "colorbar": {
             "outlinewidth": 0,
             "ticks": ""
            },
            "colorscale": [
             [
              0,
              "#0d0887"
             ],
             [
              0.1111111111111111,
              "#46039f"
             ],
             [
              0.2222222222222222,
              "#7201a8"
             ],
             [
              0.3333333333333333,
              "#9c179e"
             ],
             [
              0.4444444444444444,
              "#bd3786"
             ],
             [
              0.5555555555555556,
              "#d8576b"
             ],
             [
              0.6666666666666666,
              "#ed7953"
             ],
             [
              0.7777777777777778,
              "#fb9f3a"
             ],
             [
              0.8888888888888888,
              "#fdca26"
             ],
             [
              1,
              "#f0f921"
             ]
            ],
            "type": "contour"
           }
          ],
          "contourcarpet": [
           {
            "colorbar": {
             "outlinewidth": 0,
             "ticks": ""
            },
            "type": "contourcarpet"
           }
          ],
          "heatmap": [
           {
            "colorbar": {
             "outlinewidth": 0,
             "ticks": ""
            },
            "colorscale": [
             [
              0,
              "#0d0887"
             ],
             [
              0.1111111111111111,
              "#46039f"
             ],
             [
              0.2222222222222222,
              "#7201a8"
             ],
             [
              0.3333333333333333,
              "#9c179e"
             ],
             [
              0.4444444444444444,
              "#bd3786"
             ],
             [
              0.5555555555555556,
              "#d8576b"
             ],
             [
              0.6666666666666666,
              "#ed7953"
             ],
             [
              0.7777777777777778,
              "#fb9f3a"
             ],
             [
              0.8888888888888888,
              "#fdca26"
             ],
             [
              1,
              "#f0f921"
             ]
            ],
            "type": "heatmap"
           }
          ],
          "heatmapgl": [
           {
            "colorbar": {
             "outlinewidth": 0,
             "ticks": ""
            },
            "colorscale": [
             [
              0,
              "#0d0887"
             ],
             [
              0.1111111111111111,
              "#46039f"
             ],
             [
              0.2222222222222222,
              "#7201a8"
             ],
             [
              0.3333333333333333,
              "#9c179e"
             ],
             [
              0.4444444444444444,
              "#bd3786"
             ],
             [
              0.5555555555555556,
              "#d8576b"
             ],
             [
              0.6666666666666666,
              "#ed7953"
             ],
             [
              0.7777777777777778,
              "#fb9f3a"
             ],
             [
              0.8888888888888888,
              "#fdca26"
             ],
             [
              1,
              "#f0f921"
             ]
            ],
            "type": "heatmapgl"
           }
          ],
          "histogram": [
           {
            "marker": {
             "pattern": {
              "fillmode": "overlay",
              "size": 10,
              "solidity": 0.2
             }
            },
            "type": "histogram"
           }
          ],
          "histogram2d": [
           {
            "colorbar": {
             "outlinewidth": 0,
             "ticks": ""
            },
            "colorscale": [
             [
              0,
              "#0d0887"
             ],
             [
              0.1111111111111111,
              "#46039f"
             ],
             [
              0.2222222222222222,
              "#7201a8"
             ],
             [
              0.3333333333333333,
              "#9c179e"
             ],
             [
              0.4444444444444444,
              "#bd3786"
             ],
             [
              0.5555555555555556,
              "#d8576b"
             ],
             [
              0.6666666666666666,
              "#ed7953"
             ],
             [
              0.7777777777777778,
              "#fb9f3a"
             ],
             [
              0.8888888888888888,
              "#fdca26"
             ],
             [
              1,
              "#f0f921"
             ]
            ],
            "type": "histogram2d"
           }
          ],
          "histogram2dcontour": [
           {
            "colorbar": {
             "outlinewidth": 0,
             "ticks": ""
            },
            "colorscale": [
             [
              0,
              "#0d0887"
             ],
             [
              0.1111111111111111,
              "#46039f"
             ],
             [
              0.2222222222222222,
              "#7201a8"
             ],
             [
              0.3333333333333333,
              "#9c179e"
             ],
             [
              0.4444444444444444,
              "#bd3786"
             ],
             [
              0.5555555555555556,
              "#d8576b"
             ],
             [
              0.6666666666666666,
              "#ed7953"
             ],
             [
              0.7777777777777778,
              "#fb9f3a"
             ],
             [
              0.8888888888888888,
              "#fdca26"
             ],
             [
              1,
              "#f0f921"
             ]
            ],
            "type": "histogram2dcontour"
           }
          ],
          "mesh3d": [
           {
            "colorbar": {
             "outlinewidth": 0,
             "ticks": ""
            },
            "type": "mesh3d"
           }
          ],
          "parcoords": [
           {
            "line": {
             "colorbar": {
              "outlinewidth": 0,
              "ticks": ""
             }
            },
            "type": "parcoords"
           }
          ],
          "pie": [
           {
            "automargin": true,
            "type": "pie"
           }
          ],
          "scatter": [
           {
            "fillpattern": {
             "fillmode": "overlay",
             "size": 10,
             "solidity": 0.2
            },
            "type": "scatter"
           }
          ],
          "scatter3d": [
           {
            "line": {
             "colorbar": {
              "outlinewidth": 0,
              "ticks": ""
             }
            },
            "marker": {
             "colorbar": {
              "outlinewidth": 0,
              "ticks": ""
             }
            },
            "type": "scatter3d"
           }
          ],
          "scattercarpet": [
           {
            "marker": {
             "colorbar": {
              "outlinewidth": 0,
              "ticks": ""
             }
            },
            "type": "scattercarpet"
           }
          ],
          "scattergeo": [
           {
            "marker": {
             "colorbar": {
              "outlinewidth": 0,
              "ticks": ""
             }
            },
            "type": "scattergeo"
           }
          ],
          "scattergl": [
           {
            "marker": {
             "colorbar": {
              "outlinewidth": 0,
              "ticks": ""
             }
            },
            "type": "scattergl"
           }
          ],
          "scattermapbox": [
           {
            "marker": {
             "colorbar": {
              "outlinewidth": 0,
              "ticks": ""
             }
            },
            "type": "scattermapbox"
           }
          ],
          "scatterpolar": [
           {
            "marker": {
             "colorbar": {
              "outlinewidth": 0,
              "ticks": ""
             }
            },
            "type": "scatterpolar"
           }
          ],
          "scatterpolargl": [
           {
            "marker": {
             "colorbar": {
              "outlinewidth": 0,
              "ticks": ""
             }
            },
            "type": "scatterpolargl"
           }
          ],
          "scatterternary": [
           {
            "marker": {
             "colorbar": {
              "outlinewidth": 0,
              "ticks": ""
             }
            },
            "type": "scatterternary"
           }
          ],
          "surface": [
           {
            "colorbar": {
             "outlinewidth": 0,
             "ticks": ""
            },
            "colorscale": [
             [
              0,
              "#0d0887"
             ],
             [
              0.1111111111111111,
              "#46039f"
             ],
             [
              0.2222222222222222,
              "#7201a8"
             ],
             [
              0.3333333333333333,
              "#9c179e"
             ],
             [
              0.4444444444444444,
              "#bd3786"
             ],
             [
              0.5555555555555556,
              "#d8576b"
             ],
             [
              0.6666666666666666,
              "#ed7953"
             ],
             [
              0.7777777777777778,
              "#fb9f3a"
             ],
             [
              0.8888888888888888,
              "#fdca26"
             ],
             [
              1,
              "#f0f921"
             ]
            ],
            "type": "surface"
           }
          ],
          "table": [
           {
            "cells": {
             "fill": {
              "color": "#EBF0F8"
             },
             "line": {
              "color": "white"
             }
            },
            "header": {
             "fill": {
              "color": "#C8D4E3"
             },
             "line": {
              "color": "white"
             }
            },
            "type": "table"
           }
          ]
         },
         "layout": {
          "annotationdefaults": {
           "arrowcolor": "#2a3f5f",
           "arrowhead": 0,
           "arrowwidth": 1
          },
          "autotypenumbers": "strict",
          "coloraxis": {
           "colorbar": {
            "outlinewidth": 0,
            "ticks": ""
           }
          },
          "colorscale": {
           "diverging": [
            [
             0,
             "#8e0152"
            ],
            [
             0.1,
             "#c51b7d"
            ],
            [
             0.2,
             "#de77ae"
            ],
            [
             0.3,
             "#f1b6da"
            ],
            [
             0.4,
             "#fde0ef"
            ],
            [
             0.5,
             "#f7f7f7"
            ],
            [
             0.6,
             "#e6f5d0"
            ],
            [
             0.7,
             "#b8e186"
            ],
            [
             0.8,
             "#7fbc41"
            ],
            [
             0.9,
             "#4d9221"
            ],
            [
             1,
             "#276419"
            ]
           ],
           "sequential": [
            [
             0,
             "#0d0887"
            ],
            [
             0.1111111111111111,
             "#46039f"
            ],
            [
             0.2222222222222222,
             "#7201a8"
            ],
            [
             0.3333333333333333,
             "#9c179e"
            ],
            [
             0.4444444444444444,
             "#bd3786"
            ],
            [
             0.5555555555555556,
             "#d8576b"
            ],
            [
             0.6666666666666666,
             "#ed7953"
            ],
            [
             0.7777777777777778,
             "#fb9f3a"
            ],
            [
             0.8888888888888888,
             "#fdca26"
            ],
            [
             1,
             "#f0f921"
            ]
           ],
           "sequentialminus": [
            [
             0,
             "#0d0887"
            ],
            [
             0.1111111111111111,
             "#46039f"
            ],
            [
             0.2222222222222222,
             "#7201a8"
            ],
            [
             0.3333333333333333,
             "#9c179e"
            ],
            [
             0.4444444444444444,
             "#bd3786"
            ],
            [
             0.5555555555555556,
             "#d8576b"
            ],
            [
             0.6666666666666666,
             "#ed7953"
            ],
            [
             0.7777777777777778,
             "#fb9f3a"
            ],
            [
             0.8888888888888888,
             "#fdca26"
            ],
            [
             1,
             "#f0f921"
            ]
           ]
          },
          "colorway": [
           "#636efa",
           "#EF553B",
           "#00cc96",
           "#ab63fa",
           "#FFA15A",
           "#19d3f3",
           "#FF6692",
           "#B6E880",
           "#FF97FF",
           "#FECB52"
          ],
          "font": {
           "color": "#2a3f5f"
          },
          "geo": {
           "bgcolor": "white",
           "lakecolor": "white",
           "landcolor": "#E5ECF6",
           "showlakes": true,
           "showland": true,
           "subunitcolor": "white"
          },
          "hoverlabel": {
           "align": "left"
          },
          "hovermode": "closest",
          "mapbox": {
           "style": "light"
          },
          "paper_bgcolor": "white",
          "plot_bgcolor": "#E5ECF6",
          "polar": {
           "angularaxis": {
            "gridcolor": "white",
            "linecolor": "white",
            "ticks": ""
           },
           "bgcolor": "#E5ECF6",
           "radialaxis": {
            "gridcolor": "white",
            "linecolor": "white",
            "ticks": ""
           }
          },
          "scene": {
           "xaxis": {
            "backgroundcolor": "#E5ECF6",
            "gridcolor": "white",
            "gridwidth": 2,
            "linecolor": "white",
            "showbackground": true,
            "ticks": "",
            "zerolinecolor": "white"
           },
           "yaxis": {
            "backgroundcolor": "#E5ECF6",
            "gridcolor": "white",
            "gridwidth": 2,
            "linecolor": "white",
            "showbackground": true,
            "ticks": "",
            "zerolinecolor": "white"
           },
           "zaxis": {
            "backgroundcolor": "#E5ECF6",
            "gridcolor": "white",
            "gridwidth": 2,
            "linecolor": "white",
            "showbackground": true,
            "ticks": "",
            "zerolinecolor": "white"
           }
          },
          "shapedefaults": {
           "line": {
            "color": "#2a3f5f"
           }
          },
          "ternary": {
           "aaxis": {
            "gridcolor": "white",
            "linecolor": "white",
            "ticks": ""
           },
           "baxis": {
            "gridcolor": "white",
            "linecolor": "white",
            "ticks": ""
           },
           "bgcolor": "#E5ECF6",
           "caxis": {
            "gridcolor": "white",
            "linecolor": "white",
            "ticks": ""
           }
          },
          "title": {
           "x": 0.05
          },
          "xaxis": {
           "automargin": true,
           "gridcolor": "white",
           "linecolor": "white",
           "ticks": "",
           "title": {
            "standoff": 15
           },
           "zerolinecolor": "white",
           "zerolinewidth": 2
          },
          "yaxis": {
           "automargin": true,
           "gridcolor": "white",
           "linecolor": "white",
           "ticks": "",
           "title": {
            "standoff": 15
           },
           "zerolinecolor": "white",
           "zerolinewidth": 2
          }
         }
        },
        "title": {
         "font": {
          "color": "#4D5663"
         }
        },
        "xaxis": {
         "anchor": "y",
         "domain": [
          0,
          0.2125
         ],
         "gridcolor": "#E1E5ED",
         "showgrid": false,
         "tickfont": {
          "color": "#4D5663"
         },
         "title": {
          "font": {
           "color": "#4D5663"
          },
          "text": ""
         },
         "zerolinecolor": "#E1E5ED"
        },
        "xaxis10": {
         "anchor": "y10",
         "domain": [
          0.2625,
          0.475
         ],
         "gridcolor": "#E1E5ED",
         "showgrid": false,
         "tickfont": {
          "color": "#4D5663"
         },
         "title": {
          "font": {
           "color": "#4D5663"
          },
          "text": ""
         },
         "zerolinecolor": "#E1E5ED"
        },
        "xaxis11": {
         "anchor": "y11",
         "domain": [
          0.525,
          0.7375
         ],
         "gridcolor": "#E1E5ED",
         "showgrid": false,
         "tickfont": {
          "color": "#4D5663"
         },
         "title": {
          "font": {
           "color": "#4D5663"
          },
          "text": ""
         },
         "zerolinecolor": "#E1E5ED"
        },
        "xaxis12": {
         "anchor": "y12",
         "domain": [
          0.7875,
          1
         ],
         "gridcolor": "#E1E5ED",
         "showgrid": false,
         "tickfont": {
          "color": "#4D5663"
         },
         "title": {
          "font": {
           "color": "#4D5663"
          },
          "text": ""
         },
         "zerolinecolor": "#E1E5ED"
        },
        "xaxis13": {
         "anchor": "y13",
         "domain": [
          0,
          0.2125
         ],
         "gridcolor": "#E1E5ED",
         "showgrid": false,
         "tickfont": {
          "color": "#4D5663"
         },
         "title": {
          "font": {
           "color": "#4D5663"
          },
          "text": ""
         },
         "zerolinecolor": "#E1E5ED"
        },
        "xaxis14": {
         "anchor": "y14",
         "domain": [
          0.2625,
          0.475
         ],
         "gridcolor": "#E1E5ED",
         "showgrid": false,
         "tickfont": {
          "color": "#4D5663"
         },
         "title": {
          "font": {
           "color": "#4D5663"
          },
          "text": ""
         },
         "zerolinecolor": "#E1E5ED"
        },
        "xaxis15": {
         "anchor": "y15",
         "domain": [
          0.525,
          0.7375
         ],
         "gridcolor": "#E1E5ED",
         "showgrid": false,
         "tickfont": {
          "color": "#4D5663"
         },
         "title": {
          "font": {
           "color": "#4D5663"
          },
          "text": ""
         },
         "zerolinecolor": "#E1E5ED"
        },
        "xaxis16": {
         "anchor": "y16",
         "domain": [
          0.7875,
          1
         ],
         "gridcolor": "#E1E5ED",
         "showgrid": false,
         "tickfont": {
          "color": "#4D5663"
         },
         "title": {
          "font": {
           "color": "#4D5663"
          },
          "text": ""
         },
         "zerolinecolor": "#E1E5ED"
        },
        "xaxis2": {
         "anchor": "y2",
         "domain": [
          0.2625,
          0.475
         ],
         "gridcolor": "#E1E5ED",
         "showgrid": false,
         "tickfont": {
          "color": "#4D5663"
         },
         "title": {
          "font": {
           "color": "#4D5663"
          },
          "text": ""
         },
         "zerolinecolor": "#E1E5ED"
        },
        "xaxis3": {
         "anchor": "y3",
         "domain": [
          0.525,
          0.7375
         ],
         "gridcolor": "#E1E5ED",
         "showgrid": false,
         "tickfont": {
          "color": "#4D5663"
         },
         "title": {
          "font": {
           "color": "#4D5663"
          },
          "text": ""
         },
         "zerolinecolor": "#E1E5ED"
        },
        "xaxis4": {
         "anchor": "y4",
         "domain": [
          0.7875,
          1
         ],
         "gridcolor": "#E1E5ED",
         "showgrid": false,
         "tickfont": {
          "color": "#4D5663"
         },
         "title": {
          "font": {
           "color": "#4D5663"
          },
          "text": ""
         },
         "zerolinecolor": "#E1E5ED"
        },
        "xaxis5": {
         "anchor": "y5",
         "domain": [
          0,
          0.2125
         ],
         "gridcolor": "#E1E5ED",
         "showgrid": false,
         "tickfont": {
          "color": "#4D5663"
         },
         "title": {
          "font": {
           "color": "#4D5663"
          },
          "text": ""
         },
         "zerolinecolor": "#E1E5ED"
        },
        "xaxis6": {
         "anchor": "y6",
         "domain": [
          0.2625,
          0.475
         ],
         "gridcolor": "#E1E5ED",
         "showgrid": false,
         "tickfont": {
          "color": "#4D5663"
         },
         "title": {
          "font": {
           "color": "#4D5663"
          },
          "text": ""
         },
         "zerolinecolor": "#E1E5ED"
        },
        "xaxis7": {
         "anchor": "y7",
         "domain": [
          0.525,
          0.7375
         ],
         "gridcolor": "#E1E5ED",
         "showgrid": false,
         "tickfont": {
          "color": "#4D5663"
         },
         "title": {
          "font": {
           "color": "#4D5663"
          },
          "text": ""
         },
         "zerolinecolor": "#E1E5ED"
        },
        "xaxis8": {
         "anchor": "y8",
         "domain": [
          0.7875,
          1
         ],
         "gridcolor": "#E1E5ED",
         "showgrid": false,
         "tickfont": {
          "color": "#4D5663"
         },
         "title": {
          "font": {
           "color": "#4D5663"
          },
          "text": ""
         },
         "zerolinecolor": "#E1E5ED"
        },
        "xaxis9": {
         "anchor": "y9",
         "domain": [
          0,
          0.2125
         ],
         "gridcolor": "#E1E5ED",
         "showgrid": false,
         "tickfont": {
          "color": "#4D5663"
         },
         "title": {
          "font": {
           "color": "#4D5663"
          },
          "text": ""
         },
         "zerolinecolor": "#E1E5ED"
        },
        "yaxis": {
         "anchor": "x",
         "domain": [
          0.8025,
          1
         ],
         "gridcolor": "#E1E5ED",
         "showgrid": false,
         "tickfont": {
          "color": "#4D5663"
         },
         "title": {
          "font": {
           "color": "#4D5663"
          },
          "text": ""
         },
         "zerolinecolor": "#E1E5ED"
        },
        "yaxis10": {
         "anchor": "x10",
         "domain": [
          0.2675,
          0.465
         ],
         "gridcolor": "#E1E5ED",
         "showgrid": false,
         "tickfont": {
          "color": "#4D5663"
         },
         "title": {
          "font": {
           "color": "#4D5663"
          },
          "text": ""
         },
         "zerolinecolor": "#E1E5ED"
        },
        "yaxis11": {
         "anchor": "x11",
         "domain": [
          0.2675,
          0.465
         ],
         "gridcolor": "#E1E5ED",
         "showgrid": false,
         "tickfont": {
          "color": "#4D5663"
         },
         "title": {
          "font": {
           "color": "#4D5663"
          },
          "text": ""
         },
         "zerolinecolor": "#E1E5ED"
        },
        "yaxis12": {
         "anchor": "x12",
         "domain": [
          0.2675,
          0.465
         ],
         "gridcolor": "#E1E5ED",
         "showgrid": false,
         "tickfont": {
          "color": "#4D5663"
         },
         "title": {
          "font": {
           "color": "#4D5663"
          },
          "text": ""
         },
         "zerolinecolor": "#E1E5ED"
        },
        "yaxis13": {
         "anchor": "x13",
         "domain": [
          0,
          0.1975
         ],
         "gridcolor": "#E1E5ED",
         "showgrid": false,
         "tickfont": {
          "color": "#4D5663"
         },
         "title": {
          "font": {
           "color": "#4D5663"
          },
          "text": ""
         },
         "zerolinecolor": "#E1E5ED"
        },
        "yaxis14": {
         "anchor": "x14",
         "domain": [
          0,
          0.1975
         ],
         "gridcolor": "#E1E5ED",
         "showgrid": false,
         "tickfont": {
          "color": "#4D5663"
         },
         "title": {
          "font": {
           "color": "#4D5663"
          },
          "text": ""
         },
         "zerolinecolor": "#E1E5ED"
        },
        "yaxis15": {
         "anchor": "x15",
         "domain": [
          0,
          0.1975
         ],
         "gridcolor": "#E1E5ED",
         "showgrid": false,
         "tickfont": {
          "color": "#4D5663"
         },
         "title": {
          "font": {
           "color": "#4D5663"
          },
          "text": ""
         },
         "zerolinecolor": "#E1E5ED"
        },
        "yaxis16": {
         "anchor": "x16",
         "domain": [
          0,
          0.1975
         ],
         "gridcolor": "#E1E5ED",
         "showgrid": false,
         "tickfont": {
          "color": "#4D5663"
         },
         "title": {
          "font": {
           "color": "#4D5663"
          },
          "text": ""
         },
         "zerolinecolor": "#E1E5ED"
        },
        "yaxis2": {
         "anchor": "x2",
         "domain": [
          0.8025,
          1
         ],
         "gridcolor": "#E1E5ED",
         "showgrid": false,
         "tickfont": {
          "color": "#4D5663"
         },
         "title": {
          "font": {
           "color": "#4D5663"
          },
          "text": ""
         },
         "zerolinecolor": "#E1E5ED"
        },
        "yaxis3": {
         "anchor": "x3",
         "domain": [
          0.8025,
          1
         ],
         "gridcolor": "#E1E5ED",
         "showgrid": false,
         "tickfont": {
          "color": "#4D5663"
         },
         "title": {
          "font": {
           "color": "#4D5663"
          },
          "text": ""
         },
         "zerolinecolor": "#E1E5ED"
        },
        "yaxis4": {
         "anchor": "x4",
         "domain": [
          0.8025,
          1
         ],
         "gridcolor": "#E1E5ED",
         "showgrid": false,
         "tickfont": {
          "color": "#4D5663"
         },
         "title": {
          "font": {
           "color": "#4D5663"
          },
          "text": ""
         },
         "zerolinecolor": "#E1E5ED"
        },
        "yaxis5": {
         "anchor": "x5",
         "domain": [
          0.535,
          0.7325
         ],
         "gridcolor": "#E1E5ED",
         "showgrid": false,
         "tickfont": {
          "color": "#4D5663"
         },
         "title": {
          "font": {
           "color": "#4D5663"
          },
          "text": ""
         },
         "zerolinecolor": "#E1E5ED"
        },
        "yaxis6": {
         "anchor": "x6",
         "domain": [
          0.535,
          0.7325
         ],
         "gridcolor": "#E1E5ED",
         "showgrid": false,
         "tickfont": {
          "color": "#4D5663"
         },
         "title": {
          "font": {
           "color": "#4D5663"
          },
          "text": ""
         },
         "zerolinecolor": "#E1E5ED"
        },
        "yaxis7": {
         "anchor": "x7",
         "domain": [
          0.535,
          0.7325
         ],
         "gridcolor": "#E1E5ED",
         "showgrid": false,
         "tickfont": {
          "color": "#4D5663"
         },
         "title": {
          "font": {
           "color": "#4D5663"
          },
          "text": ""
         },
         "zerolinecolor": "#E1E5ED"
        },
        "yaxis8": {
         "anchor": "x8",
         "domain": [
          0.535,
          0.7325
         ],
         "gridcolor": "#E1E5ED",
         "showgrid": false,
         "tickfont": {
          "color": "#4D5663"
         },
         "title": {
          "font": {
           "color": "#4D5663"
          },
          "text": ""
         },
         "zerolinecolor": "#E1E5ED"
        },
        "yaxis9": {
         "anchor": "x9",
         "domain": [
          0.2675,
          0.465
         ],
         "gridcolor": "#E1E5ED",
         "showgrid": false,
         "tickfont": {
          "color": "#4D5663"
         },
         "title": {
          "font": {
           "color": "#4D5663"
          },
          "text": ""
         },
         "zerolinecolor": "#E1E5ED"
        }
       }
      },
      "text/html": [
       "<div>                            <div id=\"add90ee1-2722-4967-8c65-c6fa761fb410\" class=\"plotly-graph-div\" style=\"height:525px; width:100%;\"></div>            <script type=\"text/javascript\">                require([\"plotly\"], function(Plotly) {                    window.PLOTLYENV=window.PLOTLYENV || {};\n",
       "                    window.PLOTLYENV.BASE_URL='https://plot.ly';                                    if (document.getElementById(\"add90ee1-2722-4967-8c65-c6fa761fb410\")) {                    Plotly.newPlot(                        \"add90ee1-2722-4967-8c65-c6fa761fb410\",                        [{\"histfunc\":\"count\",\"histnorm\":\"\",\"marker\":{\"color\":\"rgba(255, 153, 51, 1.0)\",\"line\":{\"color\":\"#4D5663\",\"width\":1.3}},\"name\":\"A\",\"nbinsx\":10,\"opacity\":0.8,\"orientation\":\"v\",\"x\":[0.7079539021387217,-0.3783360900626558,0.8853180692065072,-0.9504446640592793,0.7226901789495682,0.9224382830904682,-1.106872373910298,-0.015512022601375831,-0.353185219997632,-1.6252717315486631,0.4379603431868372,-0.11202513204380407,-0.7774845199649303,-0.26404541257831904,1.7102975633384212,-0.618713812499301,0.12136353643424155,0.6458853926055258,0.3638258900788119,-0.7880221412791935,-0.061057152377792016,-1.4778008859699494,1.1870405477533919,-0.6048071947816758,0.07659232155588042,-0.15398130019507927,-0.36958333297065243,-0.9429809974689437,1.2305906665884294,-0.7959745429934965,-0.663281905003923,1.128362854729977,0.06415331933472061,-0.414839892068916,-1.3831532645195648,0.21399615389790222,0.43851694110182127,-0.4114009446497051,-0.3590980120744632,0.31201045815652223,-0.6634245849642328,0.7605528409235844,1.6068366897250939,0.273627723502373,-2.415782175331679,0.27033613277072394,-0.9372303352805079,-0.21038126785679548,-0.38618843428375854,1.487158644526282,1.2554315225588815,-0.618467760407867,-0.2987896850122946,1.666550161990266,-1.7014225673818364,-1.7418267036671515,-1.3832861553605915,0.5974236309246336,-0.44748732187681123,-0.2414535273223089,-0.3922456354520554,0.6240503922946212,-1.1446643412933704,3.0615893659439553,0.3213619292459653,-0.5180451015628634,-0.6663773615483357,-0.19494309232888837,0.4276932112345201,0.022091112323968924,-0.14442648374683745,0.7374385052891811,-0.6767684582551838,-0.14567377114486724,0.8037493806021632,-0.3001960688208521,2.0798140337654707,-0.2998140918327669,0.9325838464870018,1.80447023263451,0.058338735256817424,-0.18149754453367886,-0.6734820397467258,0.02879337648116921,-1.046693259350123,0.7348611862262173,-0.3096788977047204,0.9466045425894998,-0.5505270504726302,0.04573512621679498,2.3164513548805004,0.83936668723141,1.1409441716454916,-2.4982650892817837,0.7211867800358712,-0.6991293006245523,0.5251033671763228,1.391545946085124,-0.5865873066567011,1.3714225184623456],\"xaxis\":\"x\",\"yaxis\":\"y\",\"type\":\"histogram\"},{\"line\":{\"color\":\"rgba(128, 128, 128, 1.0)\",\"dash\":\"solid\",\"shape\":\"linear\",\"width\":1.3},\"marker\":{\"size\":2,\"symbol\":\"circle\"},\"mode\":\"markers\",\"name\":\"A\",\"text\":\"\",\"x\":[0.13394584907567797,0.3879153265974429,-1.081481377423818,-0.24257147490927927,0.6454428756967521,0.9401443587964466,2.5443723124109896,-0.5918877531367807,0.5890569357834406,-0.814947995877355,-0.7305825948722581,1.1337331488996365,1.0504696105263363,0.5763859371801988,-0.697838112457501,-0.08208933003275574,-0.46178166108633467,-2.145738916473379,-0.830745986190214,0.6893633943869126,0.35902097452331505,0.09774310681059924,0.20815141104425233,0.33651036189190514,-0.3140974849551735,0.5118944152086332,-0.06948373723134914,0.4919985394877427,-0.46065848159580786,0.5384267925771766,0.02341032519984315,-0.28589435223142334,-0.23197753674200575,0.2108812073893951,0.7067447312268775,-0.061418659983730424,-0.8990785008586909,-0.5131739184457484,-0.3848750071650614,-0.6922519866549306,2.0218685506277967,0.9264143884674638,-0.2072472701213451,0.3272140258435058,-0.07644410431037132,-2.1530053141107635,0.1435065461309672,-0.4548392800761151,1.0218995489701463,1.8399929587701267,0.9582161447828299,-0.02525140285503517,0.6065418459764039,1.176592280057126,0.6966793603330663,-0.3225944077629017,0.05842342423158832,0.09438393670777477,0.9513555676012616,0.40260905248701456,-0.08406317167444576,1.2784482188078998,-1.2879427148628142,0.6175517189180135,-0.2224695502715256,0.33720074125190036,-0.15281272521416195,0.5201156847996458,1.177590444167989,-0.2689748870647838,1.265220873174324,2.9365354260876,1.4441809862857622,-2.1877702795672693,0.20837178474318227,0.39724384258536805,-0.3904530076814792,-0.9636530207146263,0.11001896281701239,0.18322824150561065,1.4605365576244245,0.2771608180778642,1.2537600257324881,0.7899949950161395,0.7554751869176336,0.43556657629043993,-0.9768266678432241,-1.3895601738886645,0.42494164448829674,-0.7087903247234564,0.6702014124044041,1.2838557969419582,-1.1343866915065046,-1.1627274402838177,-0.08897126049235626,-0.22655298182377334,-0.5204868023437481,0.7846852182745306,1.4067845224163147,0.4181597212708602],\"xaxis\":\"x2\",\"y\":[0.7079539021387217,-0.3783360900626558,0.8853180692065072,-0.9504446640592793,0.7226901789495682,0.9224382830904682,-1.106872373910298,-0.015512022601375831,-0.353185219997632,-1.6252717315486631,0.4379603431868372,-0.11202513204380407,-0.7774845199649303,-0.26404541257831904,1.7102975633384212,-0.618713812499301,0.12136353643424155,0.6458853926055258,0.3638258900788119,-0.7880221412791935,-0.061057152377792016,-1.4778008859699494,1.1870405477533919,-0.6048071947816758,0.07659232155588042,-0.15398130019507927,-0.36958333297065243,-0.9429809974689437,1.2305906665884294,-0.7959745429934965,-0.663281905003923,1.128362854729977,0.06415331933472061,-0.414839892068916,-1.3831532645195648,0.21399615389790222,0.43851694110182127,-0.4114009446497051,-0.3590980120744632,0.31201045815652223,-0.6634245849642328,0.7605528409235844,1.6068366897250939,0.273627723502373,-2.415782175331679,0.27033613277072394,-0.9372303352805079,-0.21038126785679548,-0.38618843428375854,1.487158644526282,1.2554315225588815,-0.618467760407867,-0.2987896850122946,1.666550161990266,-1.7014225673818364,-1.7418267036671515,-1.3832861553605915,0.5974236309246336,-0.44748732187681123,-0.2414535273223089,-0.3922456354520554,0.6240503922946212,-1.1446643412933704,3.0615893659439553,0.3213619292459653,-0.5180451015628634,-0.6663773615483357,-0.19494309232888837,0.4276932112345201,0.022091112323968924,-0.14442648374683745,0.7374385052891811,-0.6767684582551838,-0.14567377114486724,0.8037493806021632,-0.3001960688208521,2.0798140337654707,-0.2998140918327669,0.9325838464870018,1.80447023263451,0.058338735256817424,-0.18149754453367886,-0.6734820397467258,0.02879337648116921,-1.046693259350123,0.7348611862262173,-0.3096788977047204,0.9466045425894998,-0.5505270504726302,0.04573512621679498,2.3164513548805004,0.83936668723141,1.1409441716454916,-2.4982650892817837,0.7211867800358712,-0.6991293006245523,0.5251033671763228,1.391545946085124,-0.5865873066567011,1.3714225184623456],\"yaxis\":\"y2\",\"type\":\"scatter\"},{\"line\":{\"color\":\"rgba(128, 128, 128, 1.0)\",\"dash\":\"solid\",\"shape\":\"linear\",\"width\":1.3},\"marker\":{\"size\":2,\"symbol\":\"circle\"},\"mode\":\"markers\",\"name\":\"A\",\"text\":\"\",\"x\":[0.9544388332900968,-0.424283667999744,0.5344067996801082,0.4446976921913389,-2.0946753922597856,-2.6352303152411816,1.3553640815461017,-1.0086332911432925,0.3463043135866738,-1.5833974639534012,0.4290614466117463,1.954956323343894,0.7439774351633861,-2.7493119789735196,0.5099082557954903,0.3547596111803849,0.14313147123969847,-0.8087711632296254,0.08345326443533112,-0.3834734014912079,0.24594049130118634,0.2786280104684821,-1.7416143682290075,-0.2659267981073192,0.31770129963053756,1.6617575869201693,-0.4723055945097514,1.436103280920271,0.009914970298162448,0.39931996580080253,-0.45801422505694706,-0.15383284274757975,-0.43836465261431073,-0.8923335138912839,0.4018328497961101,0.12140093434727962,0.4514107932426172,-1.0867016374406038,0.17142193912628317,-0.4335119287318956,2.100403794271881,0.6239533610141301,0.7055190045529518,1.8036629815220069,-1.1547301499507638,0.1900311783664892,0.22092014925160713,1.3989593028132228,1.0504968729911623,-0.513364292705173,1.0255562771608107,0.2624572033889872,0.4566232823726221,-0.19079000115757536,1.8462813298577203,1.251607726468402,0.2980606315525532,-1.4544411450701082,0.663567397191952,0.19123793238329748,-0.5815918107889682,-1.0939691931508027,-1.0624470467612068,-0.46109933286267474,0.38979593028191295,-1.597140237894351,0.9605071497671269,-0.8494466830561063,0.5230153647595339,1.1508085324800563,0.903364008149754,0.4480843627438729,0.6632758543571257,0.023803658875025047,0.02319874950136764,-1.125526139617164,0.12419022634453221,0.23730776159929173,1.5489899689154762,0.03130958451229701,-1.2965618584179228,0.9819753675192283,-0.7964035536391842,-0.8581021076919145,1.1749231007199057,-0.3669008152070355,-1.2907881145028595,-1.790325529056441,0.865208915053357,-0.7865752952458198,-1.1598886176496148,0.46819249833938253,0.058867885744585874,-0.5303826334876658,-0.31976631347573486,-1.0645352803801837,1.3835637290031737,1.2455672502492108,-0.08667009671414692,0.48831235634911707],\"xaxis\":\"x3\",\"y\":[0.7079539021387217,-0.3783360900626558,0.8853180692065072,-0.9504446640592793,0.7226901789495682,0.9224382830904682,-1.106872373910298,-0.015512022601375831,-0.353185219997632,-1.6252717315486631,0.4379603431868372,-0.11202513204380407,-0.7774845199649303,-0.26404541257831904,1.7102975633384212,-0.618713812499301,0.12136353643424155,0.6458853926055258,0.3638258900788119,-0.7880221412791935,-0.061057152377792016,-1.4778008859699494,1.1870405477533919,-0.6048071947816758,0.07659232155588042,-0.15398130019507927,-0.36958333297065243,-0.9429809974689437,1.2305906665884294,-0.7959745429934965,-0.663281905003923,1.128362854729977,0.06415331933472061,-0.414839892068916,-1.3831532645195648,0.21399615389790222,0.43851694110182127,-0.4114009446497051,-0.3590980120744632,0.31201045815652223,-0.6634245849642328,0.7605528409235844,1.6068366897250939,0.273627723502373,-2.415782175331679,0.27033613277072394,-0.9372303352805079,-0.21038126785679548,-0.38618843428375854,1.487158644526282,1.2554315225588815,-0.618467760407867,-0.2987896850122946,1.666550161990266,-1.7014225673818364,-1.7418267036671515,-1.3832861553605915,0.5974236309246336,-0.44748732187681123,-0.2414535273223089,-0.3922456354520554,0.6240503922946212,-1.1446643412933704,3.0615893659439553,0.3213619292459653,-0.5180451015628634,-0.6663773615483357,-0.19494309232888837,0.4276932112345201,0.022091112323968924,-0.14442648374683745,0.7374385052891811,-0.6767684582551838,-0.14567377114486724,0.8037493806021632,-0.3001960688208521,2.0798140337654707,-0.2998140918327669,0.9325838464870018,1.80447023263451,0.058338735256817424,-0.18149754453367886,-0.6734820397467258,0.02879337648116921,-1.046693259350123,0.7348611862262173,-0.3096788977047204,0.9466045425894998,-0.5505270504726302,0.04573512621679498,2.3164513548805004,0.83936668723141,1.1409441716454916,-2.4982650892817837,0.7211867800358712,-0.6991293006245523,0.5251033671763228,1.391545946085124,-0.5865873066567011,1.3714225184623456],\"yaxis\":\"y3\",\"type\":\"scatter\"},{\"line\":{\"color\":\"rgba(128, 128, 128, 1.0)\",\"dash\":\"solid\",\"shape\":\"linear\",\"width\":1.3},\"marker\":{\"size\":2,\"symbol\":\"circle\"},\"mode\":\"markers\",\"name\":\"A\",\"text\":\"\",\"x\":[0.0028966318541667375,-0.37256044786306486,0.5465001925835189,-0.7356023347243454,0.680449633921941,0.9349389467150292,-0.674846779770036,0.18787791926237893,0.6986327751015071,-0.7858734747323144,0.8456498382216053,-0.6635883725464942,-1.2351417929634139,0.8146540586469663,-0.6205025026218609,-0.7133278026151951,1.3917389381256131,0.021635337049237036,0.6400006811374448,-0.3325713572001876,0.004078352490983123,-0.4266099668296702,1.2651636919708535,1.1225511446351406,-0.9081482892306695,0.542103761054079,-0.6937355198133868,0.3293477234360022,-1.563402072277211,-0.9493432661539069,1.9359834972400098,0.10934538504869766,-1.8262488047477234,1.5619273346468168,-1.4654657935564543,-1.5122514951766852,0.5782756437825113,0.2791743575456333,-0.5462309905287872,-0.6957116955164216,-1.5872659719310778,-0.39314868025006194,-1.1010871200049415,-0.06833394412756601,-0.17544545189857072,-0.2591737126286258,-0.21030106282353597,-0.06915638948763411,0.8305217754573968,0.24287909558830198,-0.904504007355387,-0.04089608984752918,0.6084749198972826,-0.5313281489763707,0.4394400209179841,-1.5443508641206696,-0.019887010016447035,-0.971986960468257,-0.6976847820195744,-0.6036156027322129,-0.40947587407572256,0.754517492312806,-0.42330851925586005,-0.2545668633668377,1.764871477912864,-0.07127859764789808,-0.42928306329171556,0.30545530672413473,-0.015280046834923223,1.164260906077144,0.48837236287797225,-1.2631731938889572,0.5338188895360726,1.4849394806760563,-0.43905860011321335,-0.1603182103708747,0.5513989953591896,0.1647489859566107,-0.19975523906922127,1.0383547246648683,0.02036897643463616,-1.2666864343441102,1.3853439259794993,-1.1568211198789184,-1.0591336404756195,-1.4829009659380807,-0.6575349885122139,0.6710201314163354,0.4113732272144532,-1.6911394161248332,0.08957247648877317,1.8305547256931156,-1.3675750052379576,-0.5101905909175083,0.06598666574641024,-0.9824571184877936,-0.34510898227098513,-0.2416695907298087,1.3358362566385846,0.6967897049923447],\"xaxis\":\"x4\",\"y\":[0.7079539021387217,-0.3783360900626558,0.8853180692065072,-0.9504446640592793,0.7226901789495682,0.9224382830904682,-1.106872373910298,-0.015512022601375831,-0.353185219997632,-1.6252717315486631,0.4379603431868372,-0.11202513204380407,-0.7774845199649303,-0.26404541257831904,1.7102975633384212,-0.618713812499301,0.12136353643424155,0.6458853926055258,0.3638258900788119,-0.7880221412791935,-0.061057152377792016,-1.4778008859699494,1.1870405477533919,-0.6048071947816758,0.07659232155588042,-0.15398130019507927,-0.36958333297065243,-0.9429809974689437,1.2305906665884294,-0.7959745429934965,-0.663281905003923,1.128362854729977,0.06415331933472061,-0.414839892068916,-1.3831532645195648,0.21399615389790222,0.43851694110182127,-0.4114009446497051,-0.3590980120744632,0.31201045815652223,-0.6634245849642328,0.7605528409235844,1.6068366897250939,0.273627723502373,-2.415782175331679,0.27033613277072394,-0.9372303352805079,-0.21038126785679548,-0.38618843428375854,1.487158644526282,1.2554315225588815,-0.618467760407867,-0.2987896850122946,1.666550161990266,-1.7014225673818364,-1.7418267036671515,-1.3832861553605915,0.5974236309246336,-0.44748732187681123,-0.2414535273223089,-0.3922456354520554,0.6240503922946212,-1.1446643412933704,3.0615893659439553,0.3213619292459653,-0.5180451015628634,-0.6663773615483357,-0.19494309232888837,0.4276932112345201,0.022091112323968924,-0.14442648374683745,0.7374385052891811,-0.6767684582551838,-0.14567377114486724,0.8037493806021632,-0.3001960688208521,2.0798140337654707,-0.2998140918327669,0.9325838464870018,1.80447023263451,0.058338735256817424,-0.18149754453367886,-0.6734820397467258,0.02879337648116921,-1.046693259350123,0.7348611862262173,-0.3096788977047204,0.9466045425894998,-0.5505270504726302,0.04573512621679498,2.3164513548805004,0.83936668723141,1.1409441716454916,-2.4982650892817837,0.7211867800358712,-0.6991293006245523,0.5251033671763228,1.391545946085124,-0.5865873066567011,1.3714225184623456],\"yaxis\":\"y4\",\"type\":\"scatter\"},{\"line\":{\"color\":\"rgba(128, 128, 128, 1.0)\",\"dash\":\"solid\",\"shape\":\"linear\",\"width\":1.3},\"marker\":{\"size\":2,\"symbol\":\"circle\"},\"mode\":\"markers\",\"name\":\"B\",\"text\":\"\",\"x\":[0.7079539021387217,-0.3783360900626558,0.8853180692065072,-0.9504446640592793,0.7226901789495682,0.9224382830904682,-1.106872373910298,-0.015512022601375831,-0.353185219997632,-1.6252717315486631,0.4379603431868372,-0.11202513204380407,-0.7774845199649303,-0.26404541257831904,1.7102975633384212,-0.618713812499301,0.12136353643424155,0.6458853926055258,0.3638258900788119,-0.7880221412791935,-0.061057152377792016,-1.4778008859699494,1.1870405477533919,-0.6048071947816758,0.07659232155588042,-0.15398130019507927,-0.36958333297065243,-0.9429809974689437,1.2305906665884294,-0.7959745429934965,-0.663281905003923,1.128362854729977,0.06415331933472061,-0.414839892068916,-1.3831532645195648,0.21399615389790222,0.43851694110182127,-0.4114009446497051,-0.3590980120744632,0.31201045815652223,-0.6634245849642328,0.7605528409235844,1.6068366897250939,0.273627723502373,-2.415782175331679,0.27033613277072394,-0.9372303352805079,-0.21038126785679548,-0.38618843428375854,1.487158644526282,1.2554315225588815,-0.618467760407867,-0.2987896850122946,1.666550161990266,-1.7014225673818364,-1.7418267036671515,-1.3832861553605915,0.5974236309246336,-0.44748732187681123,-0.2414535273223089,-0.3922456354520554,0.6240503922946212,-1.1446643412933704,3.0615893659439553,0.3213619292459653,-0.5180451015628634,-0.6663773615483357,-0.19494309232888837,0.4276932112345201,0.022091112323968924,-0.14442648374683745,0.7374385052891811,-0.6767684582551838,-0.14567377114486724,0.8037493806021632,-0.3001960688208521,2.0798140337654707,-0.2998140918327669,0.9325838464870018,1.80447023263451,0.058338735256817424,-0.18149754453367886,-0.6734820397467258,0.02879337648116921,-1.046693259350123,0.7348611862262173,-0.3096788977047204,0.9466045425894998,-0.5505270504726302,0.04573512621679498,2.3164513548805004,0.83936668723141,1.1409441716454916,-2.4982650892817837,0.7211867800358712,-0.6991293006245523,0.5251033671763228,1.391545946085124,-0.5865873066567011,1.3714225184623456],\"xaxis\":\"x5\",\"y\":[0.13394584907567797,0.3879153265974429,-1.081481377423818,-0.24257147490927927,0.6454428756967521,0.9401443587964466,2.5443723124109896,-0.5918877531367807,0.5890569357834406,-0.814947995877355,-0.7305825948722581,1.1337331488996365,1.0504696105263363,0.5763859371801988,-0.697838112457501,-0.08208933003275574,-0.46178166108633467,-2.145738916473379,-0.830745986190214,0.6893633943869126,0.35902097452331505,0.09774310681059924,0.20815141104425233,0.33651036189190514,-0.3140974849551735,0.5118944152086332,-0.06948373723134914,0.4919985394877427,-0.46065848159580786,0.5384267925771766,0.02341032519984315,-0.28589435223142334,-0.23197753674200575,0.2108812073893951,0.7067447312268775,-0.061418659983730424,-0.8990785008586909,-0.5131739184457484,-0.3848750071650614,-0.6922519866549306,2.0218685506277967,0.9264143884674638,-0.2072472701213451,0.3272140258435058,-0.07644410431037132,-2.1530053141107635,0.1435065461309672,-0.4548392800761151,1.0218995489701463,1.8399929587701267,0.9582161447828299,-0.02525140285503517,0.6065418459764039,1.176592280057126,0.6966793603330663,-0.3225944077629017,0.05842342423158832,0.09438393670777477,0.9513555676012616,0.40260905248701456,-0.08406317167444576,1.2784482188078998,-1.2879427148628142,0.6175517189180135,-0.2224695502715256,0.33720074125190036,-0.15281272521416195,0.5201156847996458,1.177590444167989,-0.2689748870647838,1.265220873174324,2.9365354260876,1.4441809862857622,-2.1877702795672693,0.20837178474318227,0.39724384258536805,-0.3904530076814792,-0.9636530207146263,0.11001896281701239,0.18322824150561065,1.4605365576244245,0.2771608180778642,1.2537600257324881,0.7899949950161395,0.7554751869176336,0.43556657629043993,-0.9768266678432241,-1.3895601738886645,0.42494164448829674,-0.7087903247234564,0.6702014124044041,1.2838557969419582,-1.1343866915065046,-1.1627274402838177,-0.08897126049235626,-0.22655298182377334,-0.5204868023437481,0.7846852182745306,1.4067845224163147,0.4181597212708602],\"yaxis\":\"y5\",\"type\":\"scatter\"},{\"histfunc\":\"count\",\"histnorm\":\"\",\"marker\":{\"color\":\"rgba(55, 128, 191, 1.0)\",\"line\":{\"color\":\"#4D5663\",\"width\":1.3}},\"name\":\"B\",\"nbinsx\":10,\"opacity\":0.8,\"orientation\":\"v\",\"x\":[0.13394584907567797,0.3879153265974429,-1.081481377423818,-0.24257147490927927,0.6454428756967521,0.9401443587964466,2.5443723124109896,-0.5918877531367807,0.5890569357834406,-0.814947995877355,-0.7305825948722581,1.1337331488996365,1.0504696105263363,0.5763859371801988,-0.697838112457501,-0.08208933003275574,-0.46178166108633467,-2.145738916473379,-0.830745986190214,0.6893633943869126,0.35902097452331505,0.09774310681059924,0.20815141104425233,0.33651036189190514,-0.3140974849551735,0.5118944152086332,-0.06948373723134914,0.4919985394877427,-0.46065848159580786,0.5384267925771766,0.02341032519984315,-0.28589435223142334,-0.23197753674200575,0.2108812073893951,0.7067447312268775,-0.061418659983730424,-0.8990785008586909,-0.5131739184457484,-0.3848750071650614,-0.6922519866549306,2.0218685506277967,0.9264143884674638,-0.2072472701213451,0.3272140258435058,-0.07644410431037132,-2.1530053141107635,0.1435065461309672,-0.4548392800761151,1.0218995489701463,1.8399929587701267,0.9582161447828299,-0.02525140285503517,0.6065418459764039,1.176592280057126,0.6966793603330663,-0.3225944077629017,0.05842342423158832,0.09438393670777477,0.9513555676012616,0.40260905248701456,-0.08406317167444576,1.2784482188078998,-1.2879427148628142,0.6175517189180135,-0.2224695502715256,0.33720074125190036,-0.15281272521416195,0.5201156847996458,1.177590444167989,-0.2689748870647838,1.265220873174324,2.9365354260876,1.4441809862857622,-2.1877702795672693,0.20837178474318227,0.39724384258536805,-0.3904530076814792,-0.9636530207146263,0.11001896281701239,0.18322824150561065,1.4605365576244245,0.2771608180778642,1.2537600257324881,0.7899949950161395,0.7554751869176336,0.43556657629043993,-0.9768266678432241,-1.3895601738886645,0.42494164448829674,-0.7087903247234564,0.6702014124044041,1.2838557969419582,-1.1343866915065046,-1.1627274402838177,-0.08897126049235626,-0.22655298182377334,-0.5204868023437481,0.7846852182745306,1.4067845224163147,0.4181597212708602],\"xaxis\":\"x6\",\"yaxis\":\"y6\",\"type\":\"histogram\"},{\"line\":{\"color\":\"rgba(128, 128, 128, 1.0)\",\"dash\":\"solid\",\"shape\":\"linear\",\"width\":1.3},\"marker\":{\"size\":2,\"symbol\":\"circle\"},\"mode\":\"markers\",\"name\":\"B\",\"text\":\"\",\"x\":[0.9544388332900968,-0.424283667999744,0.5344067996801082,0.4446976921913389,-2.0946753922597856,-2.6352303152411816,1.3553640815461017,-1.0086332911432925,0.3463043135866738,-1.5833974639534012,0.4290614466117463,1.954956323343894,0.7439774351633861,-2.7493119789735196,0.5099082557954903,0.3547596111803849,0.14313147123969847,-0.8087711632296254,0.08345326443533112,-0.3834734014912079,0.24594049130118634,0.2786280104684821,-1.7416143682290075,-0.2659267981073192,0.31770129963053756,1.6617575869201693,-0.4723055945097514,1.436103280920271,0.009914970298162448,0.39931996580080253,-0.45801422505694706,-0.15383284274757975,-0.43836465261431073,-0.8923335138912839,0.4018328497961101,0.12140093434727962,0.4514107932426172,-1.0867016374406038,0.17142193912628317,-0.4335119287318956,2.100403794271881,0.6239533610141301,0.7055190045529518,1.8036629815220069,-1.1547301499507638,0.1900311783664892,0.22092014925160713,1.3989593028132228,1.0504968729911623,-0.513364292705173,1.0255562771608107,0.2624572033889872,0.4566232823726221,-0.19079000115757536,1.8462813298577203,1.251607726468402,0.2980606315525532,-1.4544411450701082,0.663567397191952,0.19123793238329748,-0.5815918107889682,-1.0939691931508027,-1.0624470467612068,-0.46109933286267474,0.38979593028191295,-1.597140237894351,0.9605071497671269,-0.8494466830561063,0.5230153647595339,1.1508085324800563,0.903364008149754,0.4480843627438729,0.6632758543571257,0.023803658875025047,0.02319874950136764,-1.125526139617164,0.12419022634453221,0.23730776159929173,1.5489899689154762,0.03130958451229701,-1.2965618584179228,0.9819753675192283,-0.7964035536391842,-0.8581021076919145,1.1749231007199057,-0.3669008152070355,-1.2907881145028595,-1.790325529056441,0.865208915053357,-0.7865752952458198,-1.1598886176496148,0.46819249833938253,0.058867885744585874,-0.5303826334876658,-0.31976631347573486,-1.0645352803801837,1.3835637290031737,1.2455672502492108,-0.08667009671414692,0.48831235634911707],\"xaxis\":\"x7\",\"y\":[0.13394584907567797,0.3879153265974429,-1.081481377423818,-0.24257147490927927,0.6454428756967521,0.9401443587964466,2.5443723124109896,-0.5918877531367807,0.5890569357834406,-0.814947995877355,-0.7305825948722581,1.1337331488996365,1.0504696105263363,0.5763859371801988,-0.697838112457501,-0.08208933003275574,-0.46178166108633467,-2.145738916473379,-0.830745986190214,0.6893633943869126,0.35902097452331505,0.09774310681059924,0.20815141104425233,0.33651036189190514,-0.3140974849551735,0.5118944152086332,-0.06948373723134914,0.4919985394877427,-0.46065848159580786,0.5384267925771766,0.02341032519984315,-0.28589435223142334,-0.23197753674200575,0.2108812073893951,0.7067447312268775,-0.061418659983730424,-0.8990785008586909,-0.5131739184457484,-0.3848750071650614,-0.6922519866549306,2.0218685506277967,0.9264143884674638,-0.2072472701213451,0.3272140258435058,-0.07644410431037132,-2.1530053141107635,0.1435065461309672,-0.4548392800761151,1.0218995489701463,1.8399929587701267,0.9582161447828299,-0.02525140285503517,0.6065418459764039,1.176592280057126,0.6966793603330663,-0.3225944077629017,0.05842342423158832,0.09438393670777477,0.9513555676012616,0.40260905248701456,-0.08406317167444576,1.2784482188078998,-1.2879427148628142,0.6175517189180135,-0.2224695502715256,0.33720074125190036,-0.15281272521416195,0.5201156847996458,1.177590444167989,-0.2689748870647838,1.265220873174324,2.9365354260876,1.4441809862857622,-2.1877702795672693,0.20837178474318227,0.39724384258536805,-0.3904530076814792,-0.9636530207146263,0.11001896281701239,0.18322824150561065,1.4605365576244245,0.2771608180778642,1.2537600257324881,0.7899949950161395,0.7554751869176336,0.43556657629043993,-0.9768266678432241,-1.3895601738886645,0.42494164448829674,-0.7087903247234564,0.6702014124044041,1.2838557969419582,-1.1343866915065046,-1.1627274402838177,-0.08897126049235626,-0.22655298182377334,-0.5204868023437481,0.7846852182745306,1.4067845224163147,0.4181597212708602],\"yaxis\":\"y7\",\"type\":\"scatter\"},{\"line\":{\"color\":\"rgba(128, 128, 128, 1.0)\",\"dash\":\"solid\",\"shape\":\"linear\",\"width\":1.3},\"marker\":{\"size\":2,\"symbol\":\"circle\"},\"mode\":\"markers\",\"name\":\"B\",\"text\":\"\",\"x\":[0.0028966318541667375,-0.37256044786306486,0.5465001925835189,-0.7356023347243454,0.680449633921941,0.9349389467150292,-0.674846779770036,0.18787791926237893,0.6986327751015071,-0.7858734747323144,0.8456498382216053,-0.6635883725464942,-1.2351417929634139,0.8146540586469663,-0.6205025026218609,-0.7133278026151951,1.3917389381256131,0.021635337049237036,0.6400006811374448,-0.3325713572001876,0.004078352490983123,-0.4266099668296702,1.2651636919708535,1.1225511446351406,-0.9081482892306695,0.542103761054079,-0.6937355198133868,0.3293477234360022,-1.563402072277211,-0.9493432661539069,1.9359834972400098,0.10934538504869766,-1.8262488047477234,1.5619273346468168,-1.4654657935564543,-1.5122514951766852,0.5782756437825113,0.2791743575456333,-0.5462309905287872,-0.6957116955164216,-1.5872659719310778,-0.39314868025006194,-1.1010871200049415,-0.06833394412756601,-0.17544545189857072,-0.2591737126286258,-0.21030106282353597,-0.06915638948763411,0.8305217754573968,0.24287909558830198,-0.904504007355387,-0.04089608984752918,0.6084749198972826,-0.5313281489763707,0.4394400209179841,-1.5443508641206696,-0.019887010016447035,-0.971986960468257,-0.6976847820195744,-0.6036156027322129,-0.40947587407572256,0.754517492312806,-0.42330851925586005,-0.2545668633668377,1.764871477912864,-0.07127859764789808,-0.42928306329171556,0.30545530672413473,-0.015280046834923223,1.164260906077144,0.48837236287797225,-1.2631731938889572,0.5338188895360726,1.4849394806760563,-0.43905860011321335,-0.1603182103708747,0.5513989953591896,0.1647489859566107,-0.19975523906922127,1.0383547246648683,0.02036897643463616,-1.2666864343441102,1.3853439259794993,-1.1568211198789184,-1.0591336404756195,-1.4829009659380807,-0.6575349885122139,0.6710201314163354,0.4113732272144532,-1.6911394161248332,0.08957247648877317,1.8305547256931156,-1.3675750052379576,-0.5101905909175083,0.06598666574641024,-0.9824571184877936,-0.34510898227098513,-0.2416695907298087,1.3358362566385846,0.6967897049923447],\"xaxis\":\"x8\",\"y\":[0.13394584907567797,0.3879153265974429,-1.081481377423818,-0.24257147490927927,0.6454428756967521,0.9401443587964466,2.5443723124109896,-0.5918877531367807,0.5890569357834406,-0.814947995877355,-0.7305825948722581,1.1337331488996365,1.0504696105263363,0.5763859371801988,-0.697838112457501,-0.08208933003275574,-0.46178166108633467,-2.145738916473379,-0.830745986190214,0.6893633943869126,0.35902097452331505,0.09774310681059924,0.20815141104425233,0.33651036189190514,-0.3140974849551735,0.5118944152086332,-0.06948373723134914,0.4919985394877427,-0.46065848159580786,0.5384267925771766,0.02341032519984315,-0.28589435223142334,-0.23197753674200575,0.2108812073893951,0.7067447312268775,-0.061418659983730424,-0.8990785008586909,-0.5131739184457484,-0.3848750071650614,-0.6922519866549306,2.0218685506277967,0.9264143884674638,-0.2072472701213451,0.3272140258435058,-0.07644410431037132,-2.1530053141107635,0.1435065461309672,-0.4548392800761151,1.0218995489701463,1.8399929587701267,0.9582161447828299,-0.02525140285503517,0.6065418459764039,1.176592280057126,0.6966793603330663,-0.3225944077629017,0.05842342423158832,0.09438393670777477,0.9513555676012616,0.40260905248701456,-0.08406317167444576,1.2784482188078998,-1.2879427148628142,0.6175517189180135,-0.2224695502715256,0.33720074125190036,-0.15281272521416195,0.5201156847996458,1.177590444167989,-0.2689748870647838,1.265220873174324,2.9365354260876,1.4441809862857622,-2.1877702795672693,0.20837178474318227,0.39724384258536805,-0.3904530076814792,-0.9636530207146263,0.11001896281701239,0.18322824150561065,1.4605365576244245,0.2771608180778642,1.2537600257324881,0.7899949950161395,0.7554751869176336,0.43556657629043993,-0.9768266678432241,-1.3895601738886645,0.42494164448829674,-0.7087903247234564,0.6702014124044041,1.2838557969419582,-1.1343866915065046,-1.1627274402838177,-0.08897126049235626,-0.22655298182377334,-0.5204868023437481,0.7846852182745306,1.4067845224163147,0.4181597212708602],\"yaxis\":\"y8\",\"type\":\"scatter\"},{\"line\":{\"color\":\"rgba(128, 128, 128, 1.0)\",\"dash\":\"solid\",\"shape\":\"linear\",\"width\":1.3},\"marker\":{\"size\":2,\"symbol\":\"circle\"},\"mode\":\"markers\",\"name\":\"C\",\"text\":\"\",\"x\":[0.7079539021387217,-0.3783360900626558,0.8853180692065072,-0.9504446640592793,0.7226901789495682,0.9224382830904682,-1.106872373910298,-0.015512022601375831,-0.353185219997632,-1.6252717315486631,0.4379603431868372,-0.11202513204380407,-0.7774845199649303,-0.26404541257831904,1.7102975633384212,-0.618713812499301,0.12136353643424155,0.6458853926055258,0.3638258900788119,-0.7880221412791935,-0.061057152377792016,-1.4778008859699494,1.1870405477533919,-0.6048071947816758,0.07659232155588042,-0.15398130019507927,-0.36958333297065243,-0.9429809974689437,1.2305906665884294,-0.7959745429934965,-0.663281905003923,1.128362854729977,0.06415331933472061,-0.414839892068916,-1.3831532645195648,0.21399615389790222,0.43851694110182127,-0.4114009446497051,-0.3590980120744632,0.31201045815652223,-0.6634245849642328,0.7605528409235844,1.6068366897250939,0.273627723502373,-2.415782175331679,0.27033613277072394,-0.9372303352805079,-0.21038126785679548,-0.38618843428375854,1.487158644526282,1.2554315225588815,-0.618467760407867,-0.2987896850122946,1.666550161990266,-1.7014225673818364,-1.7418267036671515,-1.3832861553605915,0.5974236309246336,-0.44748732187681123,-0.2414535273223089,-0.3922456354520554,0.6240503922946212,-1.1446643412933704,3.0615893659439553,0.3213619292459653,-0.5180451015628634,-0.6663773615483357,-0.19494309232888837,0.4276932112345201,0.022091112323968924,-0.14442648374683745,0.7374385052891811,-0.6767684582551838,-0.14567377114486724,0.8037493806021632,-0.3001960688208521,2.0798140337654707,-0.2998140918327669,0.9325838464870018,1.80447023263451,0.058338735256817424,-0.18149754453367886,-0.6734820397467258,0.02879337648116921,-1.046693259350123,0.7348611862262173,-0.3096788977047204,0.9466045425894998,-0.5505270504726302,0.04573512621679498,2.3164513548805004,0.83936668723141,1.1409441716454916,-2.4982650892817837,0.7211867800358712,-0.6991293006245523,0.5251033671763228,1.391545946085124,-0.5865873066567011,1.3714225184623456],\"xaxis\":\"x9\",\"y\":[0.9544388332900968,-0.424283667999744,0.5344067996801082,0.4446976921913389,-2.0946753922597856,-2.6352303152411816,1.3553640815461017,-1.0086332911432925,0.3463043135866738,-1.5833974639534012,0.4290614466117463,1.954956323343894,0.7439774351633861,-2.7493119789735196,0.5099082557954903,0.3547596111803849,0.14313147123969847,-0.8087711632296254,0.08345326443533112,-0.3834734014912079,0.24594049130118634,0.2786280104684821,-1.7416143682290075,-0.2659267981073192,0.31770129963053756,1.6617575869201693,-0.4723055945097514,1.436103280920271,0.009914970298162448,0.39931996580080253,-0.45801422505694706,-0.15383284274757975,-0.43836465261431073,-0.8923335138912839,0.4018328497961101,0.12140093434727962,0.4514107932426172,-1.0867016374406038,0.17142193912628317,-0.4335119287318956,2.100403794271881,0.6239533610141301,0.7055190045529518,1.8036629815220069,-1.1547301499507638,0.1900311783664892,0.22092014925160713,1.3989593028132228,1.0504968729911623,-0.513364292705173,1.0255562771608107,0.2624572033889872,0.4566232823726221,-0.19079000115757536,1.8462813298577203,1.251607726468402,0.2980606315525532,-1.4544411450701082,0.663567397191952,0.19123793238329748,-0.5815918107889682,-1.0939691931508027,-1.0624470467612068,-0.46109933286267474,0.38979593028191295,-1.597140237894351,0.9605071497671269,-0.8494466830561063,0.5230153647595339,1.1508085324800563,0.903364008149754,0.4480843627438729,0.6632758543571257,0.023803658875025047,0.02319874950136764,-1.125526139617164,0.12419022634453221,0.23730776159929173,1.5489899689154762,0.03130958451229701,-1.2965618584179228,0.9819753675192283,-0.7964035536391842,-0.8581021076919145,1.1749231007199057,-0.3669008152070355,-1.2907881145028595,-1.790325529056441,0.865208915053357,-0.7865752952458198,-1.1598886176496148,0.46819249833938253,0.058867885744585874,-0.5303826334876658,-0.31976631347573486,-1.0645352803801837,1.3835637290031737,1.2455672502492108,-0.08667009671414692,0.48831235634911707],\"yaxis\":\"y9\",\"type\":\"scatter\"},{\"line\":{\"color\":\"rgba(128, 128, 128, 1.0)\",\"dash\":\"solid\",\"shape\":\"linear\",\"width\":1.3},\"marker\":{\"size\":2,\"symbol\":\"circle\"},\"mode\":\"markers\",\"name\":\"C\",\"text\":\"\",\"x\":[0.13394584907567797,0.3879153265974429,-1.081481377423818,-0.24257147490927927,0.6454428756967521,0.9401443587964466,2.5443723124109896,-0.5918877531367807,0.5890569357834406,-0.814947995877355,-0.7305825948722581,1.1337331488996365,1.0504696105263363,0.5763859371801988,-0.697838112457501,-0.08208933003275574,-0.46178166108633467,-2.145738916473379,-0.830745986190214,0.6893633943869126,0.35902097452331505,0.09774310681059924,0.20815141104425233,0.33651036189190514,-0.3140974849551735,0.5118944152086332,-0.06948373723134914,0.4919985394877427,-0.46065848159580786,0.5384267925771766,0.02341032519984315,-0.28589435223142334,-0.23197753674200575,0.2108812073893951,0.7067447312268775,-0.061418659983730424,-0.8990785008586909,-0.5131739184457484,-0.3848750071650614,-0.6922519866549306,2.0218685506277967,0.9264143884674638,-0.2072472701213451,0.3272140258435058,-0.07644410431037132,-2.1530053141107635,0.1435065461309672,-0.4548392800761151,1.0218995489701463,1.8399929587701267,0.9582161447828299,-0.02525140285503517,0.6065418459764039,1.176592280057126,0.6966793603330663,-0.3225944077629017,0.05842342423158832,0.09438393670777477,0.9513555676012616,0.40260905248701456,-0.08406317167444576,1.2784482188078998,-1.2879427148628142,0.6175517189180135,-0.2224695502715256,0.33720074125190036,-0.15281272521416195,0.5201156847996458,1.177590444167989,-0.2689748870647838,1.265220873174324,2.9365354260876,1.4441809862857622,-2.1877702795672693,0.20837178474318227,0.39724384258536805,-0.3904530076814792,-0.9636530207146263,0.11001896281701239,0.18322824150561065,1.4605365576244245,0.2771608180778642,1.2537600257324881,0.7899949950161395,0.7554751869176336,0.43556657629043993,-0.9768266678432241,-1.3895601738886645,0.42494164448829674,-0.7087903247234564,0.6702014124044041,1.2838557969419582,-1.1343866915065046,-1.1627274402838177,-0.08897126049235626,-0.22655298182377334,-0.5204868023437481,0.7846852182745306,1.4067845224163147,0.4181597212708602],\"xaxis\":\"x10\",\"y\":[0.9544388332900968,-0.424283667999744,0.5344067996801082,0.4446976921913389,-2.0946753922597856,-2.6352303152411816,1.3553640815461017,-1.0086332911432925,0.3463043135866738,-1.5833974639534012,0.4290614466117463,1.954956323343894,0.7439774351633861,-2.7493119789735196,0.5099082557954903,0.3547596111803849,0.14313147123969847,-0.8087711632296254,0.08345326443533112,-0.3834734014912079,0.24594049130118634,0.2786280104684821,-1.7416143682290075,-0.2659267981073192,0.31770129963053756,1.6617575869201693,-0.4723055945097514,1.436103280920271,0.009914970298162448,0.39931996580080253,-0.45801422505694706,-0.15383284274757975,-0.43836465261431073,-0.8923335138912839,0.4018328497961101,0.12140093434727962,0.4514107932426172,-1.0867016374406038,0.17142193912628317,-0.4335119287318956,2.100403794271881,0.6239533610141301,0.7055190045529518,1.8036629815220069,-1.1547301499507638,0.1900311783664892,0.22092014925160713,1.3989593028132228,1.0504968729911623,-0.513364292705173,1.0255562771608107,0.2624572033889872,0.4566232823726221,-0.19079000115757536,1.8462813298577203,1.251607726468402,0.2980606315525532,-1.4544411450701082,0.663567397191952,0.19123793238329748,-0.5815918107889682,-1.0939691931508027,-1.0624470467612068,-0.46109933286267474,0.38979593028191295,-1.597140237894351,0.9605071497671269,-0.8494466830561063,0.5230153647595339,1.1508085324800563,0.903364008149754,0.4480843627438729,0.6632758543571257,0.023803658875025047,0.02319874950136764,-1.125526139617164,0.12419022634453221,0.23730776159929173,1.5489899689154762,0.03130958451229701,-1.2965618584179228,0.9819753675192283,-0.7964035536391842,-0.8581021076919145,1.1749231007199057,-0.3669008152070355,-1.2907881145028595,-1.790325529056441,0.865208915053357,-0.7865752952458198,-1.1598886176496148,0.46819249833938253,0.058867885744585874,-0.5303826334876658,-0.31976631347573486,-1.0645352803801837,1.3835637290031737,1.2455672502492108,-0.08667009671414692,0.48831235634911707],\"yaxis\":\"y10\",\"type\":\"scatter\"},{\"histfunc\":\"count\",\"histnorm\":\"\",\"marker\":{\"color\":\"rgba(50, 171, 96, 1.0)\",\"line\":{\"color\":\"#4D5663\",\"width\":1.3}},\"name\":\"C\",\"nbinsx\":10,\"opacity\":0.8,\"orientation\":\"v\",\"x\":[0.9544388332900968,-0.424283667999744,0.5344067996801082,0.4446976921913389,-2.0946753922597856,-2.6352303152411816,1.3553640815461017,-1.0086332911432925,0.3463043135866738,-1.5833974639534012,0.4290614466117463,1.954956323343894,0.7439774351633861,-2.7493119789735196,0.5099082557954903,0.3547596111803849,0.14313147123969847,-0.8087711632296254,0.08345326443533112,-0.3834734014912079,0.24594049130118634,0.2786280104684821,-1.7416143682290075,-0.2659267981073192,0.31770129963053756,1.6617575869201693,-0.4723055945097514,1.436103280920271,0.009914970298162448,0.39931996580080253,-0.45801422505694706,-0.15383284274757975,-0.43836465261431073,-0.8923335138912839,0.4018328497961101,0.12140093434727962,0.4514107932426172,-1.0867016374406038,0.17142193912628317,-0.4335119287318956,2.100403794271881,0.6239533610141301,0.7055190045529518,1.8036629815220069,-1.1547301499507638,0.1900311783664892,0.22092014925160713,1.3989593028132228,1.0504968729911623,-0.513364292705173,1.0255562771608107,0.2624572033889872,0.4566232823726221,-0.19079000115757536,1.8462813298577203,1.251607726468402,0.2980606315525532,-1.4544411450701082,0.663567397191952,0.19123793238329748,-0.5815918107889682,-1.0939691931508027,-1.0624470467612068,-0.46109933286267474,0.38979593028191295,-1.597140237894351,0.9605071497671269,-0.8494466830561063,0.5230153647595339,1.1508085324800563,0.903364008149754,0.4480843627438729,0.6632758543571257,0.023803658875025047,0.02319874950136764,-1.125526139617164,0.12419022634453221,0.23730776159929173,1.5489899689154762,0.03130958451229701,-1.2965618584179228,0.9819753675192283,-0.7964035536391842,-0.8581021076919145,1.1749231007199057,-0.3669008152070355,-1.2907881145028595,-1.790325529056441,0.865208915053357,-0.7865752952458198,-1.1598886176496148,0.46819249833938253,0.058867885744585874,-0.5303826334876658,-0.31976631347573486,-1.0645352803801837,1.3835637290031737,1.2455672502492108,-0.08667009671414692,0.48831235634911707],\"xaxis\":\"x11\",\"yaxis\":\"y11\",\"type\":\"histogram\"},{\"line\":{\"color\":\"rgba(128, 128, 128, 1.0)\",\"dash\":\"solid\",\"shape\":\"linear\",\"width\":1.3},\"marker\":{\"size\":2,\"symbol\":\"circle\"},\"mode\":\"markers\",\"name\":\"C\",\"text\":\"\",\"x\":[0.0028966318541667375,-0.37256044786306486,0.5465001925835189,-0.7356023347243454,0.680449633921941,0.9349389467150292,-0.674846779770036,0.18787791926237893,0.6986327751015071,-0.7858734747323144,0.8456498382216053,-0.6635883725464942,-1.2351417929634139,0.8146540586469663,-0.6205025026218609,-0.7133278026151951,1.3917389381256131,0.021635337049237036,0.6400006811374448,-0.3325713572001876,0.004078352490983123,-0.4266099668296702,1.2651636919708535,1.1225511446351406,-0.9081482892306695,0.542103761054079,-0.6937355198133868,0.3293477234360022,-1.563402072277211,-0.9493432661539069,1.9359834972400098,0.10934538504869766,-1.8262488047477234,1.5619273346468168,-1.4654657935564543,-1.5122514951766852,0.5782756437825113,0.2791743575456333,-0.5462309905287872,-0.6957116955164216,-1.5872659719310778,-0.39314868025006194,-1.1010871200049415,-0.06833394412756601,-0.17544545189857072,-0.2591737126286258,-0.21030106282353597,-0.06915638948763411,0.8305217754573968,0.24287909558830198,-0.904504007355387,-0.04089608984752918,0.6084749198972826,-0.5313281489763707,0.4394400209179841,-1.5443508641206696,-0.019887010016447035,-0.971986960468257,-0.6976847820195744,-0.6036156027322129,-0.40947587407572256,0.754517492312806,-0.42330851925586005,-0.2545668633668377,1.764871477912864,-0.07127859764789808,-0.42928306329171556,0.30545530672413473,-0.015280046834923223,1.164260906077144,0.48837236287797225,-1.2631731938889572,0.5338188895360726,1.4849394806760563,-0.43905860011321335,-0.1603182103708747,0.5513989953591896,0.1647489859566107,-0.19975523906922127,1.0383547246648683,0.02036897643463616,-1.2666864343441102,1.3853439259794993,-1.1568211198789184,-1.0591336404756195,-1.4829009659380807,-0.6575349885122139,0.6710201314163354,0.4113732272144532,-1.6911394161248332,0.08957247648877317,1.8305547256931156,-1.3675750052379576,-0.5101905909175083,0.06598666574641024,-0.9824571184877936,-0.34510898227098513,-0.2416695907298087,1.3358362566385846,0.6967897049923447],\"xaxis\":\"x12\",\"y\":[0.9544388332900968,-0.424283667999744,0.5344067996801082,0.4446976921913389,-2.0946753922597856,-2.6352303152411816,1.3553640815461017,-1.0086332911432925,0.3463043135866738,-1.5833974639534012,0.4290614466117463,1.954956323343894,0.7439774351633861,-2.7493119789735196,0.5099082557954903,0.3547596111803849,0.14313147123969847,-0.8087711632296254,0.08345326443533112,-0.3834734014912079,0.24594049130118634,0.2786280104684821,-1.7416143682290075,-0.2659267981073192,0.31770129963053756,1.6617575869201693,-0.4723055945097514,1.436103280920271,0.009914970298162448,0.39931996580080253,-0.45801422505694706,-0.15383284274757975,-0.43836465261431073,-0.8923335138912839,0.4018328497961101,0.12140093434727962,0.4514107932426172,-1.0867016374406038,0.17142193912628317,-0.4335119287318956,2.100403794271881,0.6239533610141301,0.7055190045529518,1.8036629815220069,-1.1547301499507638,0.1900311783664892,0.22092014925160713,1.3989593028132228,1.0504968729911623,-0.513364292705173,1.0255562771608107,0.2624572033889872,0.4566232823726221,-0.19079000115757536,1.8462813298577203,1.251607726468402,0.2980606315525532,-1.4544411450701082,0.663567397191952,0.19123793238329748,-0.5815918107889682,-1.0939691931508027,-1.0624470467612068,-0.46109933286267474,0.38979593028191295,-1.597140237894351,0.9605071497671269,-0.8494466830561063,0.5230153647595339,1.1508085324800563,0.903364008149754,0.4480843627438729,0.6632758543571257,0.023803658875025047,0.02319874950136764,-1.125526139617164,0.12419022634453221,0.23730776159929173,1.5489899689154762,0.03130958451229701,-1.2965618584179228,0.9819753675192283,-0.7964035536391842,-0.8581021076919145,1.1749231007199057,-0.3669008152070355,-1.2907881145028595,-1.790325529056441,0.865208915053357,-0.7865752952458198,-1.1598886176496148,0.46819249833938253,0.058867885744585874,-0.5303826334876658,-0.31976631347573486,-1.0645352803801837,1.3835637290031737,1.2455672502492108,-0.08667009671414692,0.48831235634911707],\"yaxis\":\"y12\",\"type\":\"scatter\"},{\"line\":{\"color\":\"rgba(128, 128, 128, 1.0)\",\"dash\":\"solid\",\"shape\":\"linear\",\"width\":1.3},\"marker\":{\"size\":2,\"symbol\":\"circle\"},\"mode\":\"markers\",\"name\":\"D\",\"text\":\"\",\"x\":[0.7079539021387217,-0.3783360900626558,0.8853180692065072,-0.9504446640592793,0.7226901789495682,0.9224382830904682,-1.106872373910298,-0.015512022601375831,-0.353185219997632,-1.6252717315486631,0.4379603431868372,-0.11202513204380407,-0.7774845199649303,-0.26404541257831904,1.7102975633384212,-0.618713812499301,0.12136353643424155,0.6458853926055258,0.3638258900788119,-0.7880221412791935,-0.061057152377792016,-1.4778008859699494,1.1870405477533919,-0.6048071947816758,0.07659232155588042,-0.15398130019507927,-0.36958333297065243,-0.9429809974689437,1.2305906665884294,-0.7959745429934965,-0.663281905003923,1.128362854729977,0.06415331933472061,-0.414839892068916,-1.3831532645195648,0.21399615389790222,0.43851694110182127,-0.4114009446497051,-0.3590980120744632,0.31201045815652223,-0.6634245849642328,0.7605528409235844,1.6068366897250939,0.273627723502373,-2.415782175331679,0.27033613277072394,-0.9372303352805079,-0.21038126785679548,-0.38618843428375854,1.487158644526282,1.2554315225588815,-0.618467760407867,-0.2987896850122946,1.666550161990266,-1.7014225673818364,-1.7418267036671515,-1.3832861553605915,0.5974236309246336,-0.44748732187681123,-0.2414535273223089,-0.3922456354520554,0.6240503922946212,-1.1446643412933704,3.0615893659439553,0.3213619292459653,-0.5180451015628634,-0.6663773615483357,-0.19494309232888837,0.4276932112345201,0.022091112323968924,-0.14442648374683745,0.7374385052891811,-0.6767684582551838,-0.14567377114486724,0.8037493806021632,-0.3001960688208521,2.0798140337654707,-0.2998140918327669,0.9325838464870018,1.80447023263451,0.058338735256817424,-0.18149754453367886,-0.6734820397467258,0.02879337648116921,-1.046693259350123,0.7348611862262173,-0.3096788977047204,0.9466045425894998,-0.5505270504726302,0.04573512621679498,2.3164513548805004,0.83936668723141,1.1409441716454916,-2.4982650892817837,0.7211867800358712,-0.6991293006245523,0.5251033671763228,1.391545946085124,-0.5865873066567011,1.3714225184623456],\"xaxis\":\"x13\",\"y\":[0.0028966318541667375,-0.37256044786306486,0.5465001925835189,-0.7356023347243454,0.680449633921941,0.9349389467150292,-0.674846779770036,0.18787791926237893,0.6986327751015071,-0.7858734747323144,0.8456498382216053,-0.6635883725464942,-1.2351417929634139,0.8146540586469663,-0.6205025026218609,-0.7133278026151951,1.3917389381256131,0.021635337049237036,0.6400006811374448,-0.3325713572001876,0.004078352490983123,-0.4266099668296702,1.2651636919708535,1.1225511446351406,-0.9081482892306695,0.542103761054079,-0.6937355198133868,0.3293477234360022,-1.563402072277211,-0.9493432661539069,1.9359834972400098,0.10934538504869766,-1.8262488047477234,1.5619273346468168,-1.4654657935564543,-1.5122514951766852,0.5782756437825113,0.2791743575456333,-0.5462309905287872,-0.6957116955164216,-1.5872659719310778,-0.39314868025006194,-1.1010871200049415,-0.06833394412756601,-0.17544545189857072,-0.2591737126286258,-0.21030106282353597,-0.06915638948763411,0.8305217754573968,0.24287909558830198,-0.904504007355387,-0.04089608984752918,0.6084749198972826,-0.5313281489763707,0.4394400209179841,-1.5443508641206696,-0.019887010016447035,-0.971986960468257,-0.6976847820195744,-0.6036156027322129,-0.40947587407572256,0.754517492312806,-0.42330851925586005,-0.2545668633668377,1.764871477912864,-0.07127859764789808,-0.42928306329171556,0.30545530672413473,-0.015280046834923223,1.164260906077144,0.48837236287797225,-1.2631731938889572,0.5338188895360726,1.4849394806760563,-0.43905860011321335,-0.1603182103708747,0.5513989953591896,0.1647489859566107,-0.19975523906922127,1.0383547246648683,0.02036897643463616,-1.2666864343441102,1.3853439259794993,-1.1568211198789184,-1.0591336404756195,-1.4829009659380807,-0.6575349885122139,0.6710201314163354,0.4113732272144532,-1.6911394161248332,0.08957247648877317,1.8305547256931156,-1.3675750052379576,-0.5101905909175083,0.06598666574641024,-0.9824571184877936,-0.34510898227098513,-0.2416695907298087,1.3358362566385846,0.6967897049923447],\"yaxis\":\"y13\",\"type\":\"scatter\"},{\"line\":{\"color\":\"rgba(128, 128, 128, 1.0)\",\"dash\":\"solid\",\"shape\":\"linear\",\"width\":1.3},\"marker\":{\"size\":2,\"symbol\":\"circle\"},\"mode\":\"markers\",\"name\":\"D\",\"text\":\"\",\"x\":[0.13394584907567797,0.3879153265974429,-1.081481377423818,-0.24257147490927927,0.6454428756967521,0.9401443587964466,2.5443723124109896,-0.5918877531367807,0.5890569357834406,-0.814947995877355,-0.7305825948722581,1.1337331488996365,1.0504696105263363,0.5763859371801988,-0.697838112457501,-0.08208933003275574,-0.46178166108633467,-2.145738916473379,-0.830745986190214,0.6893633943869126,0.35902097452331505,0.09774310681059924,0.20815141104425233,0.33651036189190514,-0.3140974849551735,0.5118944152086332,-0.06948373723134914,0.4919985394877427,-0.46065848159580786,0.5384267925771766,0.02341032519984315,-0.28589435223142334,-0.23197753674200575,0.2108812073893951,0.7067447312268775,-0.061418659983730424,-0.8990785008586909,-0.5131739184457484,-0.3848750071650614,-0.6922519866549306,2.0218685506277967,0.9264143884674638,-0.2072472701213451,0.3272140258435058,-0.07644410431037132,-2.1530053141107635,0.1435065461309672,-0.4548392800761151,1.0218995489701463,1.8399929587701267,0.9582161447828299,-0.02525140285503517,0.6065418459764039,1.176592280057126,0.6966793603330663,-0.3225944077629017,0.05842342423158832,0.09438393670777477,0.9513555676012616,0.40260905248701456,-0.08406317167444576,1.2784482188078998,-1.2879427148628142,0.6175517189180135,-0.2224695502715256,0.33720074125190036,-0.15281272521416195,0.5201156847996458,1.177590444167989,-0.2689748870647838,1.265220873174324,2.9365354260876,1.4441809862857622,-2.1877702795672693,0.20837178474318227,0.39724384258536805,-0.3904530076814792,-0.9636530207146263,0.11001896281701239,0.18322824150561065,1.4605365576244245,0.2771608180778642,1.2537600257324881,0.7899949950161395,0.7554751869176336,0.43556657629043993,-0.9768266678432241,-1.3895601738886645,0.42494164448829674,-0.7087903247234564,0.6702014124044041,1.2838557969419582,-1.1343866915065046,-1.1627274402838177,-0.08897126049235626,-0.22655298182377334,-0.5204868023437481,0.7846852182745306,1.4067845224163147,0.4181597212708602],\"xaxis\":\"x14\",\"y\":[0.0028966318541667375,-0.37256044786306486,0.5465001925835189,-0.7356023347243454,0.680449633921941,0.9349389467150292,-0.674846779770036,0.18787791926237893,0.6986327751015071,-0.7858734747323144,0.8456498382216053,-0.6635883725464942,-1.2351417929634139,0.8146540586469663,-0.6205025026218609,-0.7133278026151951,1.3917389381256131,0.021635337049237036,0.6400006811374448,-0.3325713572001876,0.004078352490983123,-0.4266099668296702,1.2651636919708535,1.1225511446351406,-0.9081482892306695,0.542103761054079,-0.6937355198133868,0.3293477234360022,-1.563402072277211,-0.9493432661539069,1.9359834972400098,0.10934538504869766,-1.8262488047477234,1.5619273346468168,-1.4654657935564543,-1.5122514951766852,0.5782756437825113,0.2791743575456333,-0.5462309905287872,-0.6957116955164216,-1.5872659719310778,-0.39314868025006194,-1.1010871200049415,-0.06833394412756601,-0.17544545189857072,-0.2591737126286258,-0.21030106282353597,-0.06915638948763411,0.8305217754573968,0.24287909558830198,-0.904504007355387,-0.04089608984752918,0.6084749198972826,-0.5313281489763707,0.4394400209179841,-1.5443508641206696,-0.019887010016447035,-0.971986960468257,-0.6976847820195744,-0.6036156027322129,-0.40947587407572256,0.754517492312806,-0.42330851925586005,-0.2545668633668377,1.764871477912864,-0.07127859764789808,-0.42928306329171556,0.30545530672413473,-0.015280046834923223,1.164260906077144,0.48837236287797225,-1.2631731938889572,0.5338188895360726,1.4849394806760563,-0.43905860011321335,-0.1603182103708747,0.5513989953591896,0.1647489859566107,-0.19975523906922127,1.0383547246648683,0.02036897643463616,-1.2666864343441102,1.3853439259794993,-1.1568211198789184,-1.0591336404756195,-1.4829009659380807,-0.6575349885122139,0.6710201314163354,0.4113732272144532,-1.6911394161248332,0.08957247648877317,1.8305547256931156,-1.3675750052379576,-0.5101905909175083,0.06598666574641024,-0.9824571184877936,-0.34510898227098513,-0.2416695907298087,1.3358362566385846,0.6967897049923447],\"yaxis\":\"y14\",\"type\":\"scatter\"},{\"line\":{\"color\":\"rgba(128, 128, 128, 1.0)\",\"dash\":\"solid\",\"shape\":\"linear\",\"width\":1.3},\"marker\":{\"size\":2,\"symbol\":\"circle\"},\"mode\":\"markers\",\"name\":\"D\",\"text\":\"\",\"x\":[0.9544388332900968,-0.424283667999744,0.5344067996801082,0.4446976921913389,-2.0946753922597856,-2.6352303152411816,1.3553640815461017,-1.0086332911432925,0.3463043135866738,-1.5833974639534012,0.4290614466117463,1.954956323343894,0.7439774351633861,-2.7493119789735196,0.5099082557954903,0.3547596111803849,0.14313147123969847,-0.8087711632296254,0.08345326443533112,-0.3834734014912079,0.24594049130118634,0.2786280104684821,-1.7416143682290075,-0.2659267981073192,0.31770129963053756,1.6617575869201693,-0.4723055945097514,1.436103280920271,0.009914970298162448,0.39931996580080253,-0.45801422505694706,-0.15383284274757975,-0.43836465261431073,-0.8923335138912839,0.4018328497961101,0.12140093434727962,0.4514107932426172,-1.0867016374406038,0.17142193912628317,-0.4335119287318956,2.100403794271881,0.6239533610141301,0.7055190045529518,1.8036629815220069,-1.1547301499507638,0.1900311783664892,0.22092014925160713,1.3989593028132228,1.0504968729911623,-0.513364292705173,1.0255562771608107,0.2624572033889872,0.4566232823726221,-0.19079000115757536,1.8462813298577203,1.251607726468402,0.2980606315525532,-1.4544411450701082,0.663567397191952,0.19123793238329748,-0.5815918107889682,-1.0939691931508027,-1.0624470467612068,-0.46109933286267474,0.38979593028191295,-1.597140237894351,0.9605071497671269,-0.8494466830561063,0.5230153647595339,1.1508085324800563,0.903364008149754,0.4480843627438729,0.6632758543571257,0.023803658875025047,0.02319874950136764,-1.125526139617164,0.12419022634453221,0.23730776159929173,1.5489899689154762,0.03130958451229701,-1.2965618584179228,0.9819753675192283,-0.7964035536391842,-0.8581021076919145,1.1749231007199057,-0.3669008152070355,-1.2907881145028595,-1.790325529056441,0.865208915053357,-0.7865752952458198,-1.1598886176496148,0.46819249833938253,0.058867885744585874,-0.5303826334876658,-0.31976631347573486,-1.0645352803801837,1.3835637290031737,1.2455672502492108,-0.08667009671414692,0.48831235634911707],\"xaxis\":\"x15\",\"y\":[0.0028966318541667375,-0.37256044786306486,0.5465001925835189,-0.7356023347243454,0.680449633921941,0.9349389467150292,-0.674846779770036,0.18787791926237893,0.6986327751015071,-0.7858734747323144,0.8456498382216053,-0.6635883725464942,-1.2351417929634139,0.8146540586469663,-0.6205025026218609,-0.7133278026151951,1.3917389381256131,0.021635337049237036,0.6400006811374448,-0.3325713572001876,0.004078352490983123,-0.4266099668296702,1.2651636919708535,1.1225511446351406,-0.9081482892306695,0.542103761054079,-0.6937355198133868,0.3293477234360022,-1.563402072277211,-0.9493432661539069,1.9359834972400098,0.10934538504869766,-1.8262488047477234,1.5619273346468168,-1.4654657935564543,-1.5122514951766852,0.5782756437825113,0.2791743575456333,-0.5462309905287872,-0.6957116955164216,-1.5872659719310778,-0.39314868025006194,-1.1010871200049415,-0.06833394412756601,-0.17544545189857072,-0.2591737126286258,-0.21030106282353597,-0.06915638948763411,0.8305217754573968,0.24287909558830198,-0.904504007355387,-0.04089608984752918,0.6084749198972826,-0.5313281489763707,0.4394400209179841,-1.5443508641206696,-0.019887010016447035,-0.971986960468257,-0.6976847820195744,-0.6036156027322129,-0.40947587407572256,0.754517492312806,-0.42330851925586005,-0.2545668633668377,1.764871477912864,-0.07127859764789808,-0.42928306329171556,0.30545530672413473,-0.015280046834923223,1.164260906077144,0.48837236287797225,-1.2631731938889572,0.5338188895360726,1.4849394806760563,-0.43905860011321335,-0.1603182103708747,0.5513989953591896,0.1647489859566107,-0.19975523906922127,1.0383547246648683,0.02036897643463616,-1.2666864343441102,1.3853439259794993,-1.1568211198789184,-1.0591336404756195,-1.4829009659380807,-0.6575349885122139,0.6710201314163354,0.4113732272144532,-1.6911394161248332,0.08957247648877317,1.8305547256931156,-1.3675750052379576,-0.5101905909175083,0.06598666574641024,-0.9824571184877936,-0.34510898227098513,-0.2416695907298087,1.3358362566385846,0.6967897049923447],\"yaxis\":\"y15\",\"type\":\"scatter\"},{\"histfunc\":\"count\",\"histnorm\":\"\",\"marker\":{\"color\":\"rgba(128, 0, 128, 1.0)\",\"line\":{\"color\":\"#4D5663\",\"width\":1.3}},\"name\":\"D\",\"nbinsx\":10,\"opacity\":0.8,\"orientation\":\"v\",\"x\":[0.0028966318541667375,-0.37256044786306486,0.5465001925835189,-0.7356023347243454,0.680449633921941,0.9349389467150292,-0.674846779770036,0.18787791926237893,0.6986327751015071,-0.7858734747323144,0.8456498382216053,-0.6635883725464942,-1.2351417929634139,0.8146540586469663,-0.6205025026218609,-0.7133278026151951,1.3917389381256131,0.021635337049237036,0.6400006811374448,-0.3325713572001876,0.004078352490983123,-0.4266099668296702,1.2651636919708535,1.1225511446351406,-0.9081482892306695,0.542103761054079,-0.6937355198133868,0.3293477234360022,-1.563402072277211,-0.9493432661539069,1.9359834972400098,0.10934538504869766,-1.8262488047477234,1.5619273346468168,-1.4654657935564543,-1.5122514951766852,0.5782756437825113,0.2791743575456333,-0.5462309905287872,-0.6957116955164216,-1.5872659719310778,-0.39314868025006194,-1.1010871200049415,-0.06833394412756601,-0.17544545189857072,-0.2591737126286258,-0.21030106282353597,-0.06915638948763411,0.8305217754573968,0.24287909558830198,-0.904504007355387,-0.04089608984752918,0.6084749198972826,-0.5313281489763707,0.4394400209179841,-1.5443508641206696,-0.019887010016447035,-0.971986960468257,-0.6976847820195744,-0.6036156027322129,-0.40947587407572256,0.754517492312806,-0.42330851925586005,-0.2545668633668377,1.764871477912864,-0.07127859764789808,-0.42928306329171556,0.30545530672413473,-0.015280046834923223,1.164260906077144,0.48837236287797225,-1.2631731938889572,0.5338188895360726,1.4849394806760563,-0.43905860011321335,-0.1603182103708747,0.5513989953591896,0.1647489859566107,-0.19975523906922127,1.0383547246648683,0.02036897643463616,-1.2666864343441102,1.3853439259794993,-1.1568211198789184,-1.0591336404756195,-1.4829009659380807,-0.6575349885122139,0.6710201314163354,0.4113732272144532,-1.6911394161248332,0.08957247648877317,1.8305547256931156,-1.3675750052379576,-0.5101905909175083,0.06598666574641024,-0.9824571184877936,-0.34510898227098513,-0.2416695907298087,1.3358362566385846,0.6967897049923447],\"xaxis\":\"x16\",\"yaxis\":\"y16\",\"type\":\"histogram\"}],                        {\"bargap\":0.02,\"legend\":{\"bgcolor\":\"#F5F6F9\",\"font\":{\"color\":\"#4D5663\"}},\"paper_bgcolor\":\"#F5F6F9\",\"plot_bgcolor\":\"#F5F6F9\",\"showlegend\":false,\"template\":{\"data\":{\"barpolar\":[{\"marker\":{\"line\":{\"color\":\"#E5ECF6\",\"width\":0.5},\"pattern\":{\"fillmode\":\"overlay\",\"size\":10,\"solidity\":0.2}},\"type\":\"barpolar\"}],\"bar\":[{\"error_x\":{\"color\":\"#2a3f5f\"},\"error_y\":{\"color\":\"#2a3f5f\"},\"marker\":{\"line\":{\"color\":\"#E5ECF6\",\"width\":0.5},\"pattern\":{\"fillmode\":\"overlay\",\"size\":10,\"solidity\":0.2}},\"type\":\"bar\"}],\"carpet\":[{\"aaxis\":{\"endlinecolor\":\"#2a3f5f\",\"gridcolor\":\"white\",\"linecolor\":\"white\",\"minorgridcolor\":\"white\",\"startlinecolor\":\"#2a3f5f\"},\"baxis\":{\"endlinecolor\":\"#2a3f5f\",\"gridcolor\":\"white\",\"linecolor\":\"white\",\"minorgridcolor\":\"white\",\"startlinecolor\":\"#2a3f5f\"},\"type\":\"carpet\"}],\"choropleth\":[{\"colorbar\":{\"outlinewidth\":0,\"ticks\":\"\"},\"type\":\"choropleth\"}],\"contourcarpet\":[{\"colorbar\":{\"outlinewidth\":0,\"ticks\":\"\"},\"type\":\"contourcarpet\"}],\"contour\":[{\"colorbar\":{\"outlinewidth\":0,\"ticks\":\"\"},\"colorscale\":[[0.0,\"#0d0887\"],[0.1111111111111111,\"#46039f\"],[0.2222222222222222,\"#7201a8\"],[0.3333333333333333,\"#9c179e\"],[0.4444444444444444,\"#bd3786\"],[0.5555555555555556,\"#d8576b\"],[0.6666666666666666,\"#ed7953\"],[0.7777777777777778,\"#fb9f3a\"],[0.8888888888888888,\"#fdca26\"],[1.0,\"#f0f921\"]],\"type\":\"contour\"}],\"heatmapgl\":[{\"colorbar\":{\"outlinewidth\":0,\"ticks\":\"\"},\"colorscale\":[[0.0,\"#0d0887\"],[0.1111111111111111,\"#46039f\"],[0.2222222222222222,\"#7201a8\"],[0.3333333333333333,\"#9c179e\"],[0.4444444444444444,\"#bd3786\"],[0.5555555555555556,\"#d8576b\"],[0.6666666666666666,\"#ed7953\"],[0.7777777777777778,\"#fb9f3a\"],[0.8888888888888888,\"#fdca26\"],[1.0,\"#f0f921\"]],\"type\":\"heatmapgl\"}],\"heatmap\":[{\"colorbar\":{\"outlinewidth\":0,\"ticks\":\"\"},\"colorscale\":[[0.0,\"#0d0887\"],[0.1111111111111111,\"#46039f\"],[0.2222222222222222,\"#7201a8\"],[0.3333333333333333,\"#9c179e\"],[0.4444444444444444,\"#bd3786\"],[0.5555555555555556,\"#d8576b\"],[0.6666666666666666,\"#ed7953\"],[0.7777777777777778,\"#fb9f3a\"],[0.8888888888888888,\"#fdca26\"],[1.0,\"#f0f921\"]],\"type\":\"heatmap\"}],\"histogram2dcontour\":[{\"colorbar\":{\"outlinewidth\":0,\"ticks\":\"\"},\"colorscale\":[[0.0,\"#0d0887\"],[0.1111111111111111,\"#46039f\"],[0.2222222222222222,\"#7201a8\"],[0.3333333333333333,\"#9c179e\"],[0.4444444444444444,\"#bd3786\"],[0.5555555555555556,\"#d8576b\"],[0.6666666666666666,\"#ed7953\"],[0.7777777777777778,\"#fb9f3a\"],[0.8888888888888888,\"#fdca26\"],[1.0,\"#f0f921\"]],\"type\":\"histogram2dcontour\"}],\"histogram2d\":[{\"colorbar\":{\"outlinewidth\":0,\"ticks\":\"\"},\"colorscale\":[[0.0,\"#0d0887\"],[0.1111111111111111,\"#46039f\"],[0.2222222222222222,\"#7201a8\"],[0.3333333333333333,\"#9c179e\"],[0.4444444444444444,\"#bd3786\"],[0.5555555555555556,\"#d8576b\"],[0.6666666666666666,\"#ed7953\"],[0.7777777777777778,\"#fb9f3a\"],[0.8888888888888888,\"#fdca26\"],[1.0,\"#f0f921\"]],\"type\":\"histogram2d\"}],\"histogram\":[{\"marker\":{\"pattern\":{\"fillmode\":\"overlay\",\"size\":10,\"solidity\":0.2}},\"type\":\"histogram\"}],\"mesh3d\":[{\"colorbar\":{\"outlinewidth\":0,\"ticks\":\"\"},\"type\":\"mesh3d\"}],\"parcoords\":[{\"line\":{\"colorbar\":{\"outlinewidth\":0,\"ticks\":\"\"}},\"type\":\"parcoords\"}],\"pie\":[{\"automargin\":true,\"type\":\"pie\"}],\"scatter3d\":[{\"line\":{\"colorbar\":{\"outlinewidth\":0,\"ticks\":\"\"}},\"marker\":{\"colorbar\":{\"outlinewidth\":0,\"ticks\":\"\"}},\"type\":\"scatter3d\"}],\"scattercarpet\":[{\"marker\":{\"colorbar\":{\"outlinewidth\":0,\"ticks\":\"\"}},\"type\":\"scattercarpet\"}],\"scattergeo\":[{\"marker\":{\"colorbar\":{\"outlinewidth\":0,\"ticks\":\"\"}},\"type\":\"scattergeo\"}],\"scattergl\":[{\"marker\":{\"colorbar\":{\"outlinewidth\":0,\"ticks\":\"\"}},\"type\":\"scattergl\"}],\"scattermapbox\":[{\"marker\":{\"colorbar\":{\"outlinewidth\":0,\"ticks\":\"\"}},\"type\":\"scattermapbox\"}],\"scatterpolargl\":[{\"marker\":{\"colorbar\":{\"outlinewidth\":0,\"ticks\":\"\"}},\"type\":\"scatterpolargl\"}],\"scatterpolar\":[{\"marker\":{\"colorbar\":{\"outlinewidth\":0,\"ticks\":\"\"}},\"type\":\"scatterpolar\"}],\"scatter\":[{\"fillpattern\":{\"fillmode\":\"overlay\",\"size\":10,\"solidity\":0.2},\"type\":\"scatter\"}],\"scatterternary\":[{\"marker\":{\"colorbar\":{\"outlinewidth\":0,\"ticks\":\"\"}},\"type\":\"scatterternary\"}],\"surface\":[{\"colorbar\":{\"outlinewidth\":0,\"ticks\":\"\"},\"colorscale\":[[0.0,\"#0d0887\"],[0.1111111111111111,\"#46039f\"],[0.2222222222222222,\"#7201a8\"],[0.3333333333333333,\"#9c179e\"],[0.4444444444444444,\"#bd3786\"],[0.5555555555555556,\"#d8576b\"],[0.6666666666666666,\"#ed7953\"],[0.7777777777777778,\"#fb9f3a\"],[0.8888888888888888,\"#fdca26\"],[1.0,\"#f0f921\"]],\"type\":\"surface\"}],\"table\":[{\"cells\":{\"fill\":{\"color\":\"#EBF0F8\"},\"line\":{\"color\":\"white\"}},\"header\":{\"fill\":{\"color\":\"#C8D4E3\"},\"line\":{\"color\":\"white\"}},\"type\":\"table\"}]},\"layout\":{\"annotationdefaults\":{\"arrowcolor\":\"#2a3f5f\",\"arrowhead\":0,\"arrowwidth\":1},\"autotypenumbers\":\"strict\",\"coloraxis\":{\"colorbar\":{\"outlinewidth\":0,\"ticks\":\"\"}},\"colorscale\":{\"diverging\":[[0,\"#8e0152\"],[0.1,\"#c51b7d\"],[0.2,\"#de77ae\"],[0.3,\"#f1b6da\"],[0.4,\"#fde0ef\"],[0.5,\"#f7f7f7\"],[0.6,\"#e6f5d0\"],[0.7,\"#b8e186\"],[0.8,\"#7fbc41\"],[0.9,\"#4d9221\"],[1,\"#276419\"]],\"sequential\":[[0.0,\"#0d0887\"],[0.1111111111111111,\"#46039f\"],[0.2222222222222222,\"#7201a8\"],[0.3333333333333333,\"#9c179e\"],[0.4444444444444444,\"#bd3786\"],[0.5555555555555556,\"#d8576b\"],[0.6666666666666666,\"#ed7953\"],[0.7777777777777778,\"#fb9f3a\"],[0.8888888888888888,\"#fdca26\"],[1.0,\"#f0f921\"]],\"sequentialminus\":[[0.0,\"#0d0887\"],[0.1111111111111111,\"#46039f\"],[0.2222222222222222,\"#7201a8\"],[0.3333333333333333,\"#9c179e\"],[0.4444444444444444,\"#bd3786\"],[0.5555555555555556,\"#d8576b\"],[0.6666666666666666,\"#ed7953\"],[0.7777777777777778,\"#fb9f3a\"],[0.8888888888888888,\"#fdca26\"],[1.0,\"#f0f921\"]]},\"colorway\":[\"#636efa\",\"#EF553B\",\"#00cc96\",\"#ab63fa\",\"#FFA15A\",\"#19d3f3\",\"#FF6692\",\"#B6E880\",\"#FF97FF\",\"#FECB52\"],\"font\":{\"color\":\"#2a3f5f\"},\"geo\":{\"bgcolor\":\"white\",\"lakecolor\":\"white\",\"landcolor\":\"#E5ECF6\",\"showlakes\":true,\"showland\":true,\"subunitcolor\":\"white\"},\"hoverlabel\":{\"align\":\"left\"},\"hovermode\":\"closest\",\"mapbox\":{\"style\":\"light\"},\"paper_bgcolor\":\"white\",\"plot_bgcolor\":\"#E5ECF6\",\"polar\":{\"angularaxis\":{\"gridcolor\":\"white\",\"linecolor\":\"white\",\"ticks\":\"\"},\"bgcolor\":\"#E5ECF6\",\"radialaxis\":{\"gridcolor\":\"white\",\"linecolor\":\"white\",\"ticks\":\"\"}},\"scene\":{\"xaxis\":{\"backgroundcolor\":\"#E5ECF6\",\"gridcolor\":\"white\",\"gridwidth\":2,\"linecolor\":\"white\",\"showbackground\":true,\"ticks\":\"\",\"zerolinecolor\":\"white\"},\"yaxis\":{\"backgroundcolor\":\"#E5ECF6\",\"gridcolor\":\"white\",\"gridwidth\":2,\"linecolor\":\"white\",\"showbackground\":true,\"ticks\":\"\",\"zerolinecolor\":\"white\"},\"zaxis\":{\"backgroundcolor\":\"#E5ECF6\",\"gridcolor\":\"white\",\"gridwidth\":2,\"linecolor\":\"white\",\"showbackground\":true,\"ticks\":\"\",\"zerolinecolor\":\"white\"}},\"shapedefaults\":{\"line\":{\"color\":\"#2a3f5f\"}},\"ternary\":{\"aaxis\":{\"gridcolor\":\"white\",\"linecolor\":\"white\",\"ticks\":\"\"},\"baxis\":{\"gridcolor\":\"white\",\"linecolor\":\"white\",\"ticks\":\"\"},\"bgcolor\":\"#E5ECF6\",\"caxis\":{\"gridcolor\":\"white\",\"linecolor\":\"white\",\"ticks\":\"\"}},\"title\":{\"x\":0.05},\"xaxis\":{\"automargin\":true,\"gridcolor\":\"white\",\"linecolor\":\"white\",\"ticks\":\"\",\"title\":{\"standoff\":15},\"zerolinecolor\":\"white\",\"zerolinewidth\":2},\"yaxis\":{\"automargin\":true,\"gridcolor\":\"white\",\"linecolor\":\"white\",\"ticks\":\"\",\"title\":{\"standoff\":15},\"zerolinecolor\":\"white\",\"zerolinewidth\":2}}},\"title\":{\"font\":{\"color\":\"#4D5663\"}},\"xaxis\":{\"anchor\":\"y\",\"domain\":[0.0,0.2125],\"gridcolor\":\"#E1E5ED\",\"showgrid\":false,\"tickfont\":{\"color\":\"#4D5663\"},\"title\":{\"font\":{\"color\":\"#4D5663\"},\"text\":\"\"},\"zerolinecolor\":\"#E1E5ED\"},\"yaxis\":{\"anchor\":\"x\",\"domain\":[0.8025,1.0],\"gridcolor\":\"#E1E5ED\",\"showgrid\":false,\"tickfont\":{\"color\":\"#4D5663\"},\"title\":{\"font\":{\"color\":\"#4D5663\"},\"text\":\"\"},\"zerolinecolor\":\"#E1E5ED\"},\"xaxis2\":{\"anchor\":\"y2\",\"domain\":[0.2625,0.475],\"gridcolor\":\"#E1E5ED\",\"showgrid\":false,\"tickfont\":{\"color\":\"#4D5663\"},\"title\":{\"font\":{\"color\":\"#4D5663\"},\"text\":\"\"},\"zerolinecolor\":\"#E1E5ED\"},\"yaxis2\":{\"anchor\":\"x2\",\"domain\":[0.8025,1.0],\"gridcolor\":\"#E1E5ED\",\"showgrid\":false,\"tickfont\":{\"color\":\"#4D5663\"},\"title\":{\"font\":{\"color\":\"#4D5663\"},\"text\":\"\"},\"zerolinecolor\":\"#E1E5ED\"},\"xaxis3\":{\"anchor\":\"y3\",\"domain\":[0.525,0.7375],\"gridcolor\":\"#E1E5ED\",\"showgrid\":false,\"tickfont\":{\"color\":\"#4D5663\"},\"title\":{\"font\":{\"color\":\"#4D5663\"},\"text\":\"\"},\"zerolinecolor\":\"#E1E5ED\"},\"yaxis3\":{\"anchor\":\"x3\",\"domain\":[0.8025,1.0],\"gridcolor\":\"#E1E5ED\",\"showgrid\":false,\"tickfont\":{\"color\":\"#4D5663\"},\"title\":{\"font\":{\"color\":\"#4D5663\"},\"text\":\"\"},\"zerolinecolor\":\"#E1E5ED\"},\"xaxis4\":{\"anchor\":\"y4\",\"domain\":[0.7875,1.0],\"gridcolor\":\"#E1E5ED\",\"showgrid\":false,\"tickfont\":{\"color\":\"#4D5663\"},\"title\":{\"font\":{\"color\":\"#4D5663\"},\"text\":\"\"},\"zerolinecolor\":\"#E1E5ED\"},\"yaxis4\":{\"anchor\":\"x4\",\"domain\":[0.8025,1.0],\"gridcolor\":\"#E1E5ED\",\"showgrid\":false,\"tickfont\":{\"color\":\"#4D5663\"},\"title\":{\"font\":{\"color\":\"#4D5663\"},\"text\":\"\"},\"zerolinecolor\":\"#E1E5ED\"},\"xaxis5\":{\"anchor\":\"y5\",\"domain\":[0.0,0.2125],\"gridcolor\":\"#E1E5ED\",\"showgrid\":false,\"tickfont\":{\"color\":\"#4D5663\"},\"title\":{\"font\":{\"color\":\"#4D5663\"},\"text\":\"\"},\"zerolinecolor\":\"#E1E5ED\"},\"yaxis5\":{\"anchor\":\"x5\",\"domain\":[0.535,0.7325],\"gridcolor\":\"#E1E5ED\",\"showgrid\":false,\"tickfont\":{\"color\":\"#4D5663\"},\"title\":{\"font\":{\"color\":\"#4D5663\"},\"text\":\"\"},\"zerolinecolor\":\"#E1E5ED\"},\"xaxis6\":{\"anchor\":\"y6\",\"domain\":[0.2625,0.475],\"gridcolor\":\"#E1E5ED\",\"showgrid\":false,\"tickfont\":{\"color\":\"#4D5663\"},\"title\":{\"font\":{\"color\":\"#4D5663\"},\"text\":\"\"},\"zerolinecolor\":\"#E1E5ED\"},\"yaxis6\":{\"anchor\":\"x6\",\"domain\":[0.535,0.7325],\"gridcolor\":\"#E1E5ED\",\"showgrid\":false,\"tickfont\":{\"color\":\"#4D5663\"},\"title\":{\"font\":{\"color\":\"#4D5663\"},\"text\":\"\"},\"zerolinecolor\":\"#E1E5ED\"},\"xaxis7\":{\"anchor\":\"y7\",\"domain\":[0.525,0.7375],\"gridcolor\":\"#E1E5ED\",\"showgrid\":false,\"tickfont\":{\"color\":\"#4D5663\"},\"title\":{\"font\":{\"color\":\"#4D5663\"},\"text\":\"\"},\"zerolinecolor\":\"#E1E5ED\"},\"yaxis7\":{\"anchor\":\"x7\",\"domain\":[0.535,0.7325],\"gridcolor\":\"#E1E5ED\",\"showgrid\":false,\"tickfont\":{\"color\":\"#4D5663\"},\"title\":{\"font\":{\"color\":\"#4D5663\"},\"text\":\"\"},\"zerolinecolor\":\"#E1E5ED\"},\"xaxis8\":{\"anchor\":\"y8\",\"domain\":[0.7875,1.0],\"gridcolor\":\"#E1E5ED\",\"showgrid\":false,\"tickfont\":{\"color\":\"#4D5663\"},\"title\":{\"font\":{\"color\":\"#4D5663\"},\"text\":\"\"},\"zerolinecolor\":\"#E1E5ED\"},\"yaxis8\":{\"anchor\":\"x8\",\"domain\":[0.535,0.7325],\"gridcolor\":\"#E1E5ED\",\"showgrid\":false,\"tickfont\":{\"color\":\"#4D5663\"},\"title\":{\"font\":{\"color\":\"#4D5663\"},\"text\":\"\"},\"zerolinecolor\":\"#E1E5ED\"},\"xaxis9\":{\"anchor\":\"y9\",\"domain\":[0.0,0.2125],\"gridcolor\":\"#E1E5ED\",\"showgrid\":false,\"tickfont\":{\"color\":\"#4D5663\"},\"title\":{\"font\":{\"color\":\"#4D5663\"},\"text\":\"\"},\"zerolinecolor\":\"#E1E5ED\"},\"yaxis9\":{\"anchor\":\"x9\",\"domain\":[0.2675,0.465],\"gridcolor\":\"#E1E5ED\",\"showgrid\":false,\"tickfont\":{\"color\":\"#4D5663\"},\"title\":{\"font\":{\"color\":\"#4D5663\"},\"text\":\"\"},\"zerolinecolor\":\"#E1E5ED\"},\"xaxis10\":{\"anchor\":\"y10\",\"domain\":[0.2625,0.475],\"gridcolor\":\"#E1E5ED\",\"showgrid\":false,\"tickfont\":{\"color\":\"#4D5663\"},\"title\":{\"font\":{\"color\":\"#4D5663\"},\"text\":\"\"},\"zerolinecolor\":\"#E1E5ED\"},\"yaxis10\":{\"anchor\":\"x10\",\"domain\":[0.2675,0.465],\"gridcolor\":\"#E1E5ED\",\"showgrid\":false,\"tickfont\":{\"color\":\"#4D5663\"},\"title\":{\"font\":{\"color\":\"#4D5663\"},\"text\":\"\"},\"zerolinecolor\":\"#E1E5ED\"},\"xaxis11\":{\"anchor\":\"y11\",\"domain\":[0.525,0.7375],\"gridcolor\":\"#E1E5ED\",\"showgrid\":false,\"tickfont\":{\"color\":\"#4D5663\"},\"title\":{\"font\":{\"color\":\"#4D5663\"},\"text\":\"\"},\"zerolinecolor\":\"#E1E5ED\"},\"yaxis11\":{\"anchor\":\"x11\",\"domain\":[0.2675,0.465],\"gridcolor\":\"#E1E5ED\",\"showgrid\":false,\"tickfont\":{\"color\":\"#4D5663\"},\"title\":{\"font\":{\"color\":\"#4D5663\"},\"text\":\"\"},\"zerolinecolor\":\"#E1E5ED\"},\"xaxis12\":{\"anchor\":\"y12\",\"domain\":[0.7875,1.0],\"gridcolor\":\"#E1E5ED\",\"showgrid\":false,\"tickfont\":{\"color\":\"#4D5663\"},\"title\":{\"font\":{\"color\":\"#4D5663\"},\"text\":\"\"},\"zerolinecolor\":\"#E1E5ED\"},\"yaxis12\":{\"anchor\":\"x12\",\"domain\":[0.2675,0.465],\"gridcolor\":\"#E1E5ED\",\"showgrid\":false,\"tickfont\":{\"color\":\"#4D5663\"},\"title\":{\"font\":{\"color\":\"#4D5663\"},\"text\":\"\"},\"zerolinecolor\":\"#E1E5ED\"},\"xaxis13\":{\"anchor\":\"y13\",\"domain\":[0.0,0.2125],\"gridcolor\":\"#E1E5ED\",\"showgrid\":false,\"tickfont\":{\"color\":\"#4D5663\"},\"title\":{\"font\":{\"color\":\"#4D5663\"},\"text\":\"\"},\"zerolinecolor\":\"#E1E5ED\"},\"yaxis13\":{\"anchor\":\"x13\",\"domain\":[0.0,0.1975],\"gridcolor\":\"#E1E5ED\",\"showgrid\":false,\"tickfont\":{\"color\":\"#4D5663\"},\"title\":{\"font\":{\"color\":\"#4D5663\"},\"text\":\"\"},\"zerolinecolor\":\"#E1E5ED\"},\"xaxis14\":{\"anchor\":\"y14\",\"domain\":[0.2625,0.475],\"gridcolor\":\"#E1E5ED\",\"showgrid\":false,\"tickfont\":{\"color\":\"#4D5663\"},\"title\":{\"font\":{\"color\":\"#4D5663\"},\"text\":\"\"},\"zerolinecolor\":\"#E1E5ED\"},\"yaxis14\":{\"anchor\":\"x14\",\"domain\":[0.0,0.1975],\"gridcolor\":\"#E1E5ED\",\"showgrid\":false,\"tickfont\":{\"color\":\"#4D5663\"},\"title\":{\"font\":{\"color\":\"#4D5663\"},\"text\":\"\"},\"zerolinecolor\":\"#E1E5ED\"},\"xaxis15\":{\"anchor\":\"y15\",\"domain\":[0.525,0.7375],\"gridcolor\":\"#E1E5ED\",\"showgrid\":false,\"tickfont\":{\"color\":\"#4D5663\"},\"title\":{\"font\":{\"color\":\"#4D5663\"},\"text\":\"\"},\"zerolinecolor\":\"#E1E5ED\"},\"yaxis15\":{\"anchor\":\"x15\",\"domain\":[0.0,0.1975],\"gridcolor\":\"#E1E5ED\",\"showgrid\":false,\"tickfont\":{\"color\":\"#4D5663\"},\"title\":{\"font\":{\"color\":\"#4D5663\"},\"text\":\"\"},\"zerolinecolor\":\"#E1E5ED\"},\"xaxis16\":{\"anchor\":\"y16\",\"domain\":[0.7875,1.0],\"gridcolor\":\"#E1E5ED\",\"showgrid\":false,\"tickfont\":{\"color\":\"#4D5663\"},\"title\":{\"font\":{\"color\":\"#4D5663\"},\"text\":\"\"},\"zerolinecolor\":\"#E1E5ED\"},\"yaxis16\":{\"anchor\":\"x16\",\"domain\":[0.0,0.1975],\"gridcolor\":\"#E1E5ED\",\"showgrid\":false,\"tickfont\":{\"color\":\"#4D5663\"},\"title\":{\"font\":{\"color\":\"#4D5663\"},\"text\":\"\"},\"zerolinecolor\":\"#E1E5ED\"}},                        {\"showLink\": true, \"linkText\": \"Export to plot.ly\", \"plotlyServerURL\": \"https://plot.ly\", \"responsive\": true}                    ).then(function(){\n",
       "                            \n",
       "var gd = document.getElementById('add90ee1-2722-4967-8c65-c6fa761fb410');\n",
       "var x = new MutationObserver(function (mutations, observer) {{\n",
       "        var display = window.getComputedStyle(gd).display;\n",
       "        if (!display || display === 'none') {{\n",
       "            console.log([gd, 'removed!']);\n",
       "            Plotly.purge(gd);\n",
       "            observer.disconnect();\n",
       "        }}\n",
       "}});\n",
       "\n",
       "// Listen for the removal of the full notebook cells\n",
       "var notebookContainer = gd.closest('#notebook-container');\n",
       "if (notebookContainer) {{\n",
       "    x.observe(notebookContainer, {childList: true});\n",
       "}}\n",
       "\n",
       "// Listen for the clearing of the current output cell\n",
       "var outputEl = gd.closest('.output');\n",
       "if (outputEl) {{\n",
       "    x.observe(outputEl, {childList: true});\n",
       "}}\n",
       "\n",
       "                        })                };                });            </script>        </div>"
      ]
     },
     "metadata": {},
     "output_type": "display_data"
    }
   ],
   "source": [
    "df.scatter_matrix()"
   ]
  },
  {
   "cell_type": "code",
   "execution_count": null,
   "metadata": {},
   "outputs": [],
   "source": []
  }
 ],
 "metadata": {
  "kernelspec": {
   "display_name": "Python 3 (ipykernel)",
   "language": "python",
   "name": "python3"
  },
  "language_info": {
   "codemirror_mode": {
    "name": "ipython",
    "version": 3
   },
   "file_extension": ".py",
   "mimetype": "text/x-python",
   "name": "python",
   "nbconvert_exporter": "python",
   "pygments_lexer": "ipython3",
   "version": "3.9.13"
  }
 },
 "nbformat": 4,
 "nbformat_minor": 1
}
